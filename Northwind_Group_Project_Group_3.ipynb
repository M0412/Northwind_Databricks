{
 "cells": [
  {
   "cell_type": "code",
   "execution_count": 0,
   "metadata": {
    "application/vnd.databricks.v1+cell": {
     "cellMetadata": {
      "byteLimit": 2048000,
      "rowLimit": 10000
     },
     "inputWidgets": {},
     "nuid": "f8cadc0e-dfcf-4afd-9024-e0122efbf552",
     "showTitle": false,
     "title": ""
    }
   },
   "outputs": [
    {
     "output_type": "stream",
     "name": "stdout",
     "output_type": "stream",
     "text": [
      "Out[1]: [FileInfo(path='dbfs:/FileStore/tables/northwind/categories.csv', name='categories.csv', size=2457, modificationTime=1698982474000),\n FileInfo(path='dbfs:/FileStore/tables/northwind/customers.csv', name='customers.csv', size=11521, modificationTime=1698982474000),\n FileInfo(path='dbfs:/FileStore/tables/northwind/employee_territories.csv', name='employee_territories.csv', size=403, modificationTime=1698982474000),\n FileInfo(path='dbfs:/FileStore/tables/northwind/employees.csv', name='employees.csv', size=6146, modificationTime=1698982474000),\n FileInfo(path='dbfs:/FileStore/tables/northwind/order_details.csv', name='order_details.csv', size=45142, modificationTime=1698982475000),\n FileInfo(path='dbfs:/FileStore/tables/northwind/orders.csv', name='orders.csv', size=130626, modificationTime=1698982475000),\n FileInfo(path='dbfs:/FileStore/tables/northwind/products.csv', name='products.csv', size=4413, modificationTime=1698982475000),\n FileInfo(path='dbfs:/FileStore/tables/northwind/regions.csv', name='regions.csv', size=197, modificationTime=1698982475000),\n FileInfo(path='dbfs:/FileStore/tables/northwind/shippers.csv', name='shippers.csv', size=126, modificationTime=1698982475000),\n FileInfo(path='dbfs:/FileStore/tables/northwind/suppliers.csv', name='suppliers.csv', size=4007, modificationTime=1698982475000),\n FileInfo(path='dbfs:/FileStore/tables/northwind/territories.csv', name='territories.csv', size=953, modificationTime=1698982475000)]"
     ]
    }
   ],
   "source": [
    "dbutils.fs.ls('FileStore/tables/northwind')"
   ]
  },
  {
   "cell_type": "code",
   "execution_count": 0,
   "metadata": {
    "application/vnd.databricks.v1+cell": {
     "cellMetadata": {
      "byteLimit": 2048000,
      "rowLimit": 10000
     },
     "inputWidgets": {},
     "nuid": "400380e4-d74d-4c09-a072-534491a3c77c",
     "showTitle": false,
     "title": ""
    }
   },
   "outputs": [],
   "source": [
    "file_links = {\n",
    "      \"categories\": \"s3://2u-data-curriculum-team/dataviz-classroom/v1.2/22-big-data/4/categories.csv\",\n",
    "      \"customers\": \"s3://2u-data-curriculum-team/dataviz-classroom/v1.2/22-big-data/4/customers.csv\",\n",
    "      \"employee_territories\": \"s3://2u-data-curriculum-team/dataviz-classroom/v1.2/22-big-data/4/employee-territories.csv\",\n",
    "      \"employees\": \"s3://2u-data-curriculum-team/dataviz-classroom/v1.2/22-big-data/4/employees.csv\",\n",
    "      \"order_details\": \"s3://2u-data-curriculum-team/dataviz-classroom/v1.2/22-big-data/4/order-details.csv\",\n",
    "      \"orders\": \"s3://2u-data-curriculum-team/dataviz-classroom/v1.2/22-big-data/4/orders.csv\",\n",
    "      \"products\": \"s3://2u-data-curriculum-team/dataviz-classroom/v1.2/22-big-data/4/products.csv\",\n",
    "      \"regions\": \"s3://2u-data-curriculum-team/dataviz-classroom/v1.2/22-big-data/4/regions.csv\",\n",
    "      \"shippers\": \"s3://2u-data-curriculum-team/dataviz-classroom/v1.2/22-big-data/4/shippers.csv\",\n",
    "      \"suppliers\": \"s3://2u-data-curriculum-team/dataviz-classroom/v1.2/22-big-data/4/suppliers.csv\",\n",
    "      \"territories\": \"s3://2u-data-curriculum-team/dataviz-classroom/v1.2/22-big-data/4/territories.csv\"\n",
    "  }"
   ]
  },
  {
   "cell_type": "code",
   "execution_count": 0,
   "metadata": {
    "application/vnd.databricks.v1+cell": {
     "cellMetadata": {
      "byteLimit": 2048000,
      "rowLimit": 10000
     },
     "inputWidgets": {},
     "nuid": "bd82bb99-1479-4d5c-be10-8c36df0f1d44",
     "showTitle": false,
     "title": ""
    }
   },
   "outputs": [],
   "source": [
    "#  Use a for loop to read in the CSV files using the provided links to create a Spark DataFrame for each file and then create temporary views of each DataFrame.\n",
    "\n",
    "for table_name, file_path in file_links.items():\n",
    "    df = spark.read.csv(file_path, inferSchema=True, header=True)\n",
    "    df.createOrReplaceTempView(table_name)"
   ]
  },
  {
   "cell_type": "code",
   "execution_count": 0,
   "metadata": {
    "application/vnd.databricks.v1+cell": {
     "cellMetadata": {
      "byteLimit": 2048000,
      "rowLimit": 10000
     },
     "inputWidgets": {},
     "nuid": "0d11313c-e710-40ef-9829-c82800e2e208",
     "showTitle": false,
     "title": ""
    }
   },
   "outputs": [
    {
     "output_type": "stream",
     "name": "stdout",
     "output_type": "stream",
     "text": [
      "Out[4]: [Table(name='categories', catalog=None, namespace=[], description=None, tableType='TEMPORARY', isTemporary=True),\n Table(name='customers', catalog=None, namespace=[], description=None, tableType='TEMPORARY', isTemporary=True),\n Table(name='employee_territories', catalog=None, namespace=[], description=None, tableType='TEMPORARY', isTemporary=True),\n Table(name='employees', catalog=None, namespace=[], description=None, tableType='TEMPORARY', isTemporary=True),\n Table(name='order_details', catalog=None, namespace=[], description=None, tableType='TEMPORARY', isTemporary=True),\n Table(name='orders', catalog=None, namespace=[], description=None, tableType='TEMPORARY', isTemporary=True),\n Table(name='products', catalog=None, namespace=[], description=None, tableType='TEMPORARY', isTemporary=True),\n Table(name='regions', catalog=None, namespace=[], description=None, tableType='TEMPORARY', isTemporary=True),\n Table(name='shippers', catalog=None, namespace=[], description=None, tableType='TEMPORARY', isTemporary=True),\n Table(name='suppliers', catalog=None, namespace=[], description=None, tableType='TEMPORARY', isTemporary=True),\n Table(name='territories', catalog=None, namespace=[], description=None, tableType='TEMPORARY', isTemporary=True)]"
     ]
    }
   ],
   "source": [
    "# List all the tables.\n",
    "spark.catalog.listTables()"
   ]
  },
  {
   "cell_type": "code",
   "execution_count": 0,
   "metadata": {
    "application/vnd.databricks.v1+cell": {
     "cellMetadata": {
      "byteLimit": 2048000,
      "implicitDf": true,
      "rowLimit": 10000
     },
     "inputWidgets": {},
     "nuid": "98d50c7d-59cd-438c-992d-46331938fff2",
     "showTitle": false,
     "title": ""
    }
   },
   "outputs": [
    {
     "output_type": "display_data",
     "data": {
      "text/html": [
       "<style scoped>\n",
       "  .table-result-container {\n",
       "    max-height: 300px;\n",
       "    overflow: auto;\n",
       "  }\n",
       "  table, th, td {\n",
       "    border: 1px solid black;\n",
       "    border-collapse: collapse;\n",
       "  }\n",
       "  th, td {\n",
       "    padding: 5px;\n",
       "  }\n",
       "  th {\n",
       "    text-align: left;\n",
       "  }\n",
       "</style><div class='table-result-container'><table class='table-result'><thead style='background-color: white'><tr><th>ShipCountry</th></tr></thead><tbody><tr><td>Sweden</td></tr><tr><td>Germany</td></tr><tr><td>France</td></tr><tr><td>Argentina</td></tr><tr><td>Belgium</td></tr><tr><td>Finland</td></tr><tr><td>Italy</td></tr><tr><td>Norway</td></tr><tr><td>Spain</td></tr><tr><td>Denmark</td></tr><tr><td>Ireland</td></tr><tr><td>Venezuela</td></tr><tr><td>USA</td></tr><tr><td>Mexico</td></tr><tr><td>UK</td></tr><tr><td>Switzerland</td></tr><tr><td>Canada</td></tr><tr><td>Brazil</td></tr><tr><td>Poland</td></tr><tr><td>Portugal</td></tr><tr><td>Austria</td></tr></tbody></table></div>"
      ]
     },
     "metadata": {
      "application/vnd.databricks.v1+output": {
       "addedWidgets": {},
       "aggData": [],
       "aggError": "",
       "aggOverflow": false,
       "aggSchema": [],
       "aggSeriesLimitReached": false,
       "aggType": "",
       "arguments": {},
       "columnCustomDisplayInfos": {},
       "data": [
        [
         "Sweden"
        ],
        [
         "Germany"
        ],
        [
         "France"
        ],
        [
         "Argentina"
        ],
        [
         "Belgium"
        ],
        [
         "Finland"
        ],
        [
         "Italy"
        ],
        [
         "Norway"
        ],
        [
         "Spain"
        ],
        [
         "Denmark"
        ],
        [
         "Ireland"
        ],
        [
         "Venezuela"
        ],
        [
         "USA"
        ],
        [
         "Mexico"
        ],
        [
         "UK"
        ],
        [
         "Switzerland"
        ],
        [
         "Canada"
        ],
        [
         "Brazil"
        ],
        [
         "Poland"
        ],
        [
         "Portugal"
        ],
        [
         "Austria"
        ]
       ],
       "datasetInfos": [],
       "dbfsResultPath": null,
       "isJsonSchema": true,
       "metadata": {},
       "overflow": false,
       "plotOptions": {
        "customPlotOptions": {},
        "displayType": "table",
        "pivotAggregation": null,
        "pivotColumns": null,
        "xColumns": null,
        "yColumns": null
       },
       "removedWidgets": [],
       "schema": [
        {
         "metadata": "{}",
         "name": "ShipCountry",
         "type": "\"string\""
        }
       ],
       "type": "table"
      }
     },
     "output_type": "display_data"
    }
   ],
   "source": [
    "%sql\n",
    "-- A list of all countries that orders have been shipped to\n",
    "select distinct(ShipCountry) from orders"
   ]
  },
  {
   "cell_type": "code",
   "execution_count": 0,
   "metadata": {
    "application/vnd.databricks.v1+cell": {
     "cellMetadata": {
      "byteLimit": 2048000,
      "implicitDf": true,
      "rowLimit": 10000
     },
     "inputWidgets": {},
     "nuid": "2d79ea43-4f74-41a2-94da-7c7f23293ebd",
     "showTitle": false,
     "title": ""
    }
   },
   "outputs": [
    {
     "output_type": "display_data",
     "data": {
      "text/html": [
       "<style scoped>\n",
       "  .table-result-container {\n",
       "    max-height: 300px;\n",
       "    overflow: auto;\n",
       "  }\n",
       "  table, th, td {\n",
       "    border: 1px solid black;\n",
       "    border-collapse: collapse;\n",
       "  }\n",
       "  th, td {\n",
       "    padding: 5px;\n",
       "  }\n",
       "  th {\n",
       "    text-align: left;\n",
       "  }\n",
       "</style><div class='table-result-container'><table class='table-result'><thead style='background-color: white'><tr><th>count(1)</th></tr></thead><tbody><tr><td>830</td></tr></tbody></table></div>"
      ]
     },
     "metadata": {
      "application/vnd.databricks.v1+output": {
       "addedWidgets": {},
       "aggData": [],
       "aggError": "",
       "aggOverflow": false,
       "aggSchema": [],
       "aggSeriesLimitReached": false,
       "aggType": "",
       "arguments": {},
       "columnCustomDisplayInfos": {},
       "data": [
        [
         830
        ]
       ],
       "datasetInfos": [],
       "dbfsResultPath": null,
       "isJsonSchema": true,
       "metadata": {},
       "overflow": false,
       "plotOptions": {
        "customPlotOptions": {},
        "displayType": "table",
        "pivotAggregation": null,
        "pivotColumns": null,
        "xColumns": null,
        "yColumns": null
       },
       "removedWidgets": [],
       "schema": [
        {
         "metadata": "{\"__autoGeneratedAlias\":\"true\"}",
         "name": "count(1)",
         "type": "\"long\""
        }
       ],
       "type": "table"
      }
     },
     "output_type": "display_data"
    }
   ],
   "source": [
    "%sql\n",
    "-- How many total orders have been placed?\n",
    "select count(*) from orders"
   ]
  },
  {
   "cell_type": "code",
   "execution_count": 0,
   "metadata": {
    "application/vnd.databricks.v1+cell": {
     "cellMetadata": {
      "byteLimit": 2048000,
      "implicitDf": true,
      "rowLimit": 10000
     },
     "inputWidgets": {},
     "nuid": "d7cd7a99-ee75-4754-a879-a034bb6b6865",
     "showTitle": false,
     "title": ""
    }
   },
   "outputs": [
    {
     "output_type": "display_data",
     "data": {
      "text/html": [
       "<style scoped>\n",
       "  .table-result-container {\n",
       "    max-height: 300px;\n",
       "    overflow: auto;\n",
       "  }\n",
       "  table, th, td {\n",
       "    border: 1px solid black;\n",
       "    border-collapse: collapse;\n",
       "  }\n",
       "  th, td {\n",
       "    padding: 5px;\n",
       "  }\n",
       "  th {\n",
       "    text-align: left;\n",
       "  }\n",
       "</style><div class='table-result-container'><table class='table-result'><thead style='background-color: white'><tr><th>ShipCountry</th><th>NumOrders</th></tr></thead><tbody><tr><td>Sweden</td><td>37</td></tr><tr><td>Germany</td><td>122</td></tr><tr><td>France</td><td>77</td></tr><tr><td>Argentina</td><td>16</td></tr><tr><td>Belgium</td><td>19</td></tr><tr><td>Finland</td><td>22</td></tr><tr><td>Italy</td><td>28</td></tr><tr><td>Norway</td><td>6</td></tr><tr><td>Spain</td><td>23</td></tr><tr><td>Denmark</td><td>18</td></tr><tr><td>Ireland</td><td>19</td></tr><tr><td>Venezuela</td><td>46</td></tr><tr><td>USA</td><td>122</td></tr><tr><td>Mexico</td><td>28</td></tr><tr><td>UK</td><td>56</td></tr><tr><td>Switzerland</td><td>18</td></tr><tr><td>Canada</td><td>30</td></tr><tr><td>Brazil</td><td>83</td></tr><tr><td>Poland</td><td>7</td></tr><tr><td>Portugal</td><td>13</td></tr><tr><td>Austria</td><td>40</td></tr></tbody></table></div>"
      ]
     },
     "metadata": {
      "application/vnd.databricks.v1+output": {
       "addedWidgets": {},
       "aggData": [],
       "aggError": "",
       "aggOverflow": false,
       "aggSchema": [],
       "aggSeriesLimitReached": false,
       "aggType": "",
       "arguments": {},
       "columnCustomDisplayInfos": {},
       "data": [
        [
         "Sweden",
         37
        ],
        [
         "Germany",
         122
        ],
        [
         "France",
         77
        ],
        [
         "Argentina",
         16
        ],
        [
         "Belgium",
         19
        ],
        [
         "Finland",
         22
        ],
        [
         "Italy",
         28
        ],
        [
         "Norway",
         6
        ],
        [
         "Spain",
         23
        ],
        [
         "Denmark",
         18
        ],
        [
         "Ireland",
         19
        ],
        [
         "Venezuela",
         46
        ],
        [
         "USA",
         122
        ],
        [
         "Mexico",
         28
        ],
        [
         "UK",
         56
        ],
        [
         "Switzerland",
         18
        ],
        [
         "Canada",
         30
        ],
        [
         "Brazil",
         83
        ],
        [
         "Poland",
         7
        ],
        [
         "Portugal",
         13
        ],
        [
         "Austria",
         40
        ]
       ],
       "datasetInfos": [],
       "dbfsResultPath": null,
       "isJsonSchema": true,
       "metadata": {},
       "overflow": false,
       "plotOptions": {
        "customPlotOptions": {},
        "displayType": "plotlyBar",
        "pivotAggregation": null,
        "pivotColumns": null,
        "xColumns": null,
        "yColumns": null
       },
       "removedWidgets": [],
       "schema": [
        {
         "metadata": "{}",
         "name": "ShipCountry",
         "type": "\"string\""
        },
        {
         "metadata": "{}",
         "name": "NumOrders",
         "type": "\"long\""
        }
       ],
       "type": "table"
      }
     },
     "output_type": "display_data"
    }
   ],
   "source": [
    "%sql\n",
    "-- How many orders have been shipped to each country?\n",
    "select ShipCountry, count(ShipCountry) as NumOrders from orders\n",
    "group by 1"
   ]
  },
  {
   "cell_type": "code",
   "execution_count": 0,
   "metadata": {
    "application/vnd.databricks.v1+cell": {
     "cellMetadata": {
      "byteLimit": 2048000,
      "implicitDf": true,
      "rowLimit": 10000
     },
     "inputWidgets": {},
     "nuid": "920b382a-0641-4bb8-a7d0-c85f41d20372",
     "showTitle": false,
     "title": ""
    }
   },
   "outputs": [
    {
     "output_type": "display_data",
     "data": {
      "text/html": [
       "<style scoped>\n",
       "  .table-result-container {\n",
       "    max-height: 300px;\n",
       "    overflow: auto;\n",
       "  }\n",
       "  table, th, td {\n",
       "    border: 1px solid black;\n",
       "    border-collapse: collapse;\n",
       "  }\n",
       "  th, td {\n",
       "    padding: 5px;\n",
       "  }\n",
       "  th {\n",
       "    text-align: left;\n",
       "  }\n",
       "</style><div class='table-result-container'><table class='table-result'><thead style='background-color: white'><tr><th>ProductID</th><th>ProductName</th><th>SupplierID</th><th>CategoryID</th><th>QuantityPerUnit</th><th>UnitPrice</th><th>UnitsInStock</th><th>UnitsOnOrder</th><th>ReorderLevel</th><th>Discontinued</th></tr></thead><tbody><tr><td>1</td><td>Chai</td><td>1</td><td>1</td><td>10 boxes x 20 bags</td><td>18.0</td><td>39</td><td>0</td><td>10</td><td>0</td></tr><tr><td>2</td><td>Chang</td><td>1</td><td>1</td><td>24 - 12 oz bottles</td><td>19.0</td><td>17</td><td>40</td><td>25</td><td>0</td></tr><tr><td>3</td><td>Aniseed Syrup</td><td>1</td><td>2</td><td>12 - 550 ml bottles</td><td>10.0</td><td>13</td><td>70</td><td>25</td><td>0</td></tr><tr><td>4</td><td>Chef Anton's Cajun Seasoning</td><td>2</td><td>2</td><td>48 - 6 oz jars</td><td>22.0</td><td>53</td><td>0</td><td>0</td><td>0</td></tr><tr><td>5</td><td>Chef Anton's Gumbo Mix</td><td>2</td><td>2</td><td>36 boxes</td><td>21.35</td><td>0</td><td>0</td><td>0</td><td>1</td></tr><tr><td>6</td><td>Grandma's Boysenberry Spread</td><td>3</td><td>2</td><td>12 - 8 oz jars</td><td>25.0</td><td>120</td><td>0</td><td>25</td><td>0</td></tr><tr><td>7</td><td>Uncle Bob's Organic Dried Pears</td><td>3</td><td>7</td><td>12 - 1 lb pkgs.</td><td>30.0</td><td>15</td><td>0</td><td>10</td><td>0</td></tr><tr><td>8</td><td>Northwoods Cranberry Sauce</td><td>3</td><td>2</td><td>12 - 12 oz jars</td><td>40.0</td><td>6</td><td>0</td><td>0</td><td>0</td></tr><tr><td>9</td><td>Mishi Kobe Niku</td><td>4</td><td>6</td><td>18 - 500 g pkgs.</td><td>97.0</td><td>29</td><td>0</td><td>0</td><td>1</td></tr><tr><td>10</td><td>Ikura</td><td>4</td><td>8</td><td>12 - 200 ml jars</td><td>31.0</td><td>31</td><td>0</td><td>0</td><td>0</td></tr><tr><td>11</td><td>Queso Cabrales</td><td>5</td><td>4</td><td>1 kg pkg.</td><td>21.0</td><td>22</td><td>30</td><td>30</td><td>0</td></tr><tr><td>12</td><td>Queso Manchego La Pastora</td><td>5</td><td>4</td><td>10 - 500 g pkgs.</td><td>38.0</td><td>86</td><td>0</td><td>0</td><td>0</td></tr><tr><td>13</td><td>Konbu</td><td>6</td><td>8</td><td>2 kg box</td><td>6.0</td><td>24</td><td>0</td><td>5</td><td>0</td></tr><tr><td>14</td><td>Tofu</td><td>6</td><td>7</td><td>40 - 100 g pkgs.</td><td>23.25</td><td>35</td><td>0</td><td>0</td><td>0</td></tr><tr><td>15</td><td>Genen Shouyu</td><td>6</td><td>2</td><td>24 - 250 ml bottles</td><td>15.5</td><td>39</td><td>0</td><td>5</td><td>0</td></tr><tr><td>16</td><td>Pavlova</td><td>7</td><td>3</td><td>32 - 500 g boxes</td><td>17.45</td><td>29</td><td>0</td><td>10</td><td>0</td></tr><tr><td>17</td><td>Alice Mutton</td><td>7</td><td>6</td><td>20 - 1 kg tins</td><td>39.0</td><td>0</td><td>0</td><td>0</td><td>1</td></tr><tr><td>18</td><td>Carnarvon Tigers</td><td>7</td><td>8</td><td>16 kg pkg.</td><td>62.5</td><td>42</td><td>0</td><td>0</td><td>0</td></tr><tr><td>19</td><td>Teatime Chocolate Biscuits</td><td>8</td><td>3</td><td>10 boxes x 12 pieces</td><td>9.2</td><td>25</td><td>0</td><td>5</td><td>0</td></tr><tr><td>20</td><td>Sir Rodney's Marmalade</td><td>8</td><td>3</td><td>30 gift boxes</td><td>81.0</td><td>40</td><td>0</td><td>0</td><td>0</td></tr><tr><td>21</td><td>Sir Rodney's Scones</td><td>8</td><td>3</td><td>24 pkgs. x 4 pieces</td><td>10.0</td><td>3</td><td>40</td><td>5</td><td>0</td></tr><tr><td>22</td><td>Gustaf's Knäckebröd</td><td>9</td><td>5</td><td>24 - 500 g pkgs.</td><td>21.0</td><td>104</td><td>0</td><td>25</td><td>0</td></tr><tr><td>23</td><td>Tunnbröd</td><td>9</td><td>5</td><td>12 - 250 g pkgs.</td><td>9.0</td><td>61</td><td>0</td><td>25</td><td>0</td></tr><tr><td>24</td><td>Guaraná Fantástica</td><td>10</td><td>1</td><td>12 - 355 ml cans</td><td>4.5</td><td>20</td><td>0</td><td>0</td><td>1</td></tr><tr><td>25</td><td>NuNuCa Nuß-Nougat-Creme</td><td>11</td><td>3</td><td>20 - 450 g glasses</td><td>14.0</td><td>76</td><td>0</td><td>30</td><td>0</td></tr><tr><td>26</td><td>Gumbär Gummibärchen</td><td>11</td><td>3</td><td>100 - 250 g bags</td><td>31.23</td><td>15</td><td>0</td><td>0</td><td>0</td></tr><tr><td>27</td><td>Schoggi Schokolade</td><td>11</td><td>3</td><td>100 - 100 g pieces</td><td>43.9</td><td>49</td><td>0</td><td>30</td><td>0</td></tr><tr><td>28</td><td>Rössle Sauerkraut</td><td>12</td><td>7</td><td>25 - 825 g cans</td><td>45.6</td><td>26</td><td>0</td><td>0</td><td>1</td></tr><tr><td>29</td><td>Thüringer Rostbratwurst</td><td>12</td><td>6</td><td>50 bags x 30 sausgs.</td><td>123.79</td><td>0</td><td>0</td><td>0</td><td>1</td></tr><tr><td>30</td><td>Nord-Ost Matjeshering</td><td>13</td><td>8</td><td>10 - 200 g glasses</td><td>25.89</td><td>10</td><td>0</td><td>15</td><td>0</td></tr><tr><td>31</td><td>Gorgonzola Telino</td><td>14</td><td>4</td><td>12 - 100 g pkgs</td><td>12.5</td><td>0</td><td>70</td><td>20</td><td>0</td></tr><tr><td>32</td><td>Mascarpone Fabioli</td><td>14</td><td>4</td><td>24 - 200 g pkgs.</td><td>32.0</td><td>9</td><td>40</td><td>25</td><td>0</td></tr><tr><td>33</td><td>Geitost</td><td>15</td><td>4</td><td>500 g</td><td>2.5</td><td>112</td><td>0</td><td>20</td><td>0</td></tr><tr><td>34</td><td>Sasquatch Ale</td><td>16</td><td>1</td><td>24 - 12 oz bottles</td><td>14.0</td><td>111</td><td>0</td><td>15</td><td>0</td></tr><tr><td>35</td><td>Steeleye Stout</td><td>16</td><td>1</td><td>24 - 12 oz bottles</td><td>18.0</td><td>20</td><td>0</td><td>15</td><td>0</td></tr><tr><td>36</td><td>Inlagd Sill</td><td>17</td><td>8</td><td>24 - 250 g  jars</td><td>19.0</td><td>112</td><td>0</td><td>20</td><td>0</td></tr><tr><td>37</td><td>Gravad lax</td><td>17</td><td>8</td><td>12 - 500 g pkgs.</td><td>26.0</td><td>11</td><td>50</td><td>25</td><td>0</td></tr><tr><td>38</td><td>Côte de Blaye</td><td>18</td><td>1</td><td>12 - 75 cl bottles</td><td>263.5</td><td>17</td><td>0</td><td>15</td><td>0</td></tr><tr><td>39</td><td>Chartreuse verte</td><td>18</td><td>1</td><td>750 cc per bottle</td><td>18.0</td><td>69</td><td>0</td><td>5</td><td>0</td></tr><tr><td>40</td><td>Boston Crab Meat</td><td>19</td><td>8</td><td>24 - 4 oz tins</td><td>18.4</td><td>123</td><td>0</td><td>30</td><td>0</td></tr><tr><td>41</td><td>Jack's New England Clam Chowder</td><td>19</td><td>8</td><td>12 - 12 oz cans</td><td>9.65</td><td>85</td><td>0</td><td>10</td><td>0</td></tr><tr><td>42</td><td>Singaporean Hokkien Fried Mee</td><td>20</td><td>5</td><td>32 - 1 kg pkgs.</td><td>14.0</td><td>26</td><td>0</td><td>0</td><td>1</td></tr><tr><td>43</td><td>Ipoh Coffee</td><td>20</td><td>1</td><td>16 - 500 g tins</td><td>46.0</td><td>17</td><td>10</td><td>25</td><td>0</td></tr><tr><td>44</td><td>Gula Malacca</td><td>20</td><td>2</td><td>20 - 2 kg bags</td><td>19.45</td><td>27</td><td>0</td><td>15</td><td>0</td></tr><tr><td>45</td><td>Rogede sild</td><td>21</td><td>8</td><td>1k pkg.</td><td>9.5</td><td>5</td><td>70</td><td>15</td><td>0</td></tr><tr><td>46</td><td>Spegesild</td><td>21</td><td>8</td><td>4 - 450 g glasses</td><td>12.0</td><td>95</td><td>0</td><td>0</td><td>0</td></tr><tr><td>47</td><td>Zaanse koeken</td><td>22</td><td>3</td><td>10 - 4 oz boxes</td><td>9.5</td><td>36</td><td>0</td><td>0</td><td>0</td></tr><tr><td>48</td><td>Chocolade</td><td>22</td><td>3</td><td>10 pkgs.</td><td>12.75</td><td>15</td><td>70</td><td>25</td><td>0</td></tr><tr><td>49</td><td>Maxilaku</td><td>23</td><td>3</td><td>24 - 50 g pkgs.</td><td>20.0</td><td>10</td><td>60</td><td>15</td><td>0</td></tr><tr><td>50</td><td>Valkoinen suklaa</td><td>23</td><td>3</td><td>12 - 100 g bars</td><td>16.25</td><td>65</td><td>0</td><td>30</td><td>0</td></tr><tr><td>51</td><td>Manjimup Dried Apples</td><td>24</td><td>7</td><td>50 - 300 g pkgs.</td><td>53.0</td><td>20</td><td>0</td><td>10</td><td>0</td></tr><tr><td>52</td><td>Filo Mix</td><td>24</td><td>5</td><td>16 - 2 kg boxes</td><td>7.0</td><td>38</td><td>0</td><td>25</td><td>0</td></tr><tr><td>53</td><td>Perth Pasties</td><td>24</td><td>6</td><td>48 pieces</td><td>32.8</td><td>0</td><td>0</td><td>0</td><td>1</td></tr><tr><td>54</td><td>Tourtière</td><td>25</td><td>6</td><td>16 pies</td><td>7.45</td><td>21</td><td>0</td><td>10</td><td>0</td></tr><tr><td>55</td><td>Pâté chinois</td><td>25</td><td>6</td><td>24 boxes x 2 pies</td><td>24.0</td><td>115</td><td>0</td><td>20</td><td>0</td></tr><tr><td>56</td><td>Gnocchi di nonna Alice</td><td>26</td><td>5</td><td>24 - 250 g pkgs.</td><td>38.0</td><td>21</td><td>10</td><td>30</td><td>0</td></tr><tr><td>57</td><td>Ravioli Angelo</td><td>26</td><td>5</td><td>24 - 250 g pkgs.</td><td>19.5</td><td>36</td><td>0</td><td>20</td><td>0</td></tr><tr><td>58</td><td>Escargots de Bourgogne</td><td>27</td><td>8</td><td>24 pieces</td><td>13.25</td><td>62</td><td>0</td><td>20</td><td>0</td></tr><tr><td>59</td><td>Raclette Courdavault</td><td>28</td><td>4</td><td>5 kg pkg.</td><td>55.0</td><td>79</td><td>0</td><td>0</td><td>0</td></tr><tr><td>60</td><td>Camembert Pierrot</td><td>28</td><td>4</td><td>15 - 300 g rounds</td><td>34.0</td><td>19</td><td>0</td><td>0</td><td>0</td></tr><tr><td>61</td><td>Sirop d'érable</td><td>29</td><td>2</td><td>24 - 500 ml bottles</td><td>28.5</td><td>113</td><td>0</td><td>25</td><td>0</td></tr><tr><td>62</td><td>Tarte au sucre</td><td>29</td><td>3</td><td>48 pies</td><td>49.3</td><td>17</td><td>0</td><td>0</td><td>0</td></tr><tr><td>63</td><td>Vegie-spread</td><td>7</td><td>2</td><td>15 - 625 g jars</td><td>43.9</td><td>24</td><td>0</td><td>5</td><td>0</td></tr><tr><td>64</td><td>Wimmers gute Semmelknödel</td><td>12</td><td>5</td><td>20 bags x 4 pieces</td><td>33.25</td><td>22</td><td>80</td><td>30</td><td>0</td></tr><tr><td>65</td><td>Louisiana Fiery Hot Pepper Sauce</td><td>2</td><td>2</td><td>32 - 8 oz bottles</td><td>21.05</td><td>76</td><td>0</td><td>0</td><td>0</td></tr><tr><td>66</td><td>Louisiana Hot Spiced Okra</td><td>2</td><td>2</td><td>24 - 8 oz jars</td><td>17.0</td><td>4</td><td>100</td><td>20</td><td>0</td></tr><tr><td>67</td><td>Laughing Lumberjack Lager</td><td>16</td><td>1</td><td>24 - 12 oz bottles</td><td>14.0</td><td>52</td><td>0</td><td>10</td><td>0</td></tr><tr><td>68</td><td>Scottish Longbreads</td><td>8</td><td>3</td><td>10 boxes x 8 pieces</td><td>12.5</td><td>6</td><td>10</td><td>15</td><td>0</td></tr><tr><td>69</td><td>Gudbrandsdalsost</td><td>15</td><td>4</td><td>10 kg pkg.</td><td>36.0</td><td>26</td><td>0</td><td>15</td><td>0</td></tr><tr><td>70</td><td>Outback Lager</td><td>7</td><td>1</td><td>24 - 355 ml bottles</td><td>15.0</td><td>15</td><td>10</td><td>30</td><td>0</td></tr><tr><td>71</td><td>Flotemysost</td><td>15</td><td>4</td><td>10 - 500 g pkgs.</td><td>21.5</td><td>26</td><td>0</td><td>0</td><td>0</td></tr><tr><td>72</td><td>Mozzarella di Giovanni</td><td>14</td><td>4</td><td>24 - 200 g pkgs.</td><td>34.8</td><td>14</td><td>0</td><td>0</td><td>0</td></tr><tr><td>73</td><td>Röd Kaviar</td><td>17</td><td>8</td><td>24 - 150 g jars</td><td>15.0</td><td>101</td><td>0</td><td>5</td><td>0</td></tr><tr><td>74</td><td>Longlife Tofu</td><td>4</td><td>7</td><td>5 kg pkg.</td><td>10.0</td><td>4</td><td>20</td><td>5</td><td>0</td></tr><tr><td>75</td><td>Rhönbräu Klosterbier</td><td>12</td><td>1</td><td>24 - 0.5 l bottles</td><td>7.75</td><td>125</td><td>0</td><td>25</td><td>0</td></tr><tr><td>76</td><td>Lakkalikööri</td><td>23</td><td>1</td><td>500 ml</td><td>18.0</td><td>57</td><td>0</td><td>20</td><td>0</td></tr><tr><td>77</td><td>Original Frankfurter grüne Soße</td><td>12</td><td>2</td><td>12 boxes</td><td>13.0</td><td>32</td><td>0</td><td>15</td><td>0</td></tr></tbody></table></div>"
      ]
     },
     "metadata": {
      "application/vnd.databricks.v1+output": {
       "addedWidgets": {},
       "aggData": [],
       "aggError": "",
       "aggOverflow": false,
       "aggSchema": [],
       "aggSeriesLimitReached": false,
       "aggType": "",
       "arguments": {},
       "columnCustomDisplayInfos": {},
       "data": [
        [
         1,
         "Chai",
         1,
         1,
         "10 boxes x 20 bags",
         18.0,
         39,
         0,
         10,
         0
        ],
        [
         2,
         "Chang",
         1,
         1,
         "24 - 12 oz bottles",
         19.0,
         17,
         40,
         25,
         0
        ],
        [
         3,
         "Aniseed Syrup",
         1,
         2,
         "12 - 550 ml bottles",
         10.0,
         13,
         70,
         25,
         0
        ],
        [
         4,
         "Chef Anton's Cajun Seasoning",
         2,
         2,
         "48 - 6 oz jars",
         22.0,
         53,
         0,
         0,
         0
        ],
        [
         5,
         "Chef Anton's Gumbo Mix",
         2,
         2,
         "36 boxes",
         21.35,
         0,
         0,
         0,
         1
        ],
        [
         6,
         "Grandma's Boysenberry Spread",
         3,
         2,
         "12 - 8 oz jars",
         25.0,
         120,
         0,
         25,
         0
        ],
        [
         7,
         "Uncle Bob's Organic Dried Pears",
         3,
         7,
         "12 - 1 lb pkgs.",
         30.0,
         15,
         0,
         10,
         0
        ],
        [
         8,
         "Northwoods Cranberry Sauce",
         3,
         2,
         "12 - 12 oz jars",
         40.0,
         6,
         0,
         0,
         0
        ],
        [
         9,
         "Mishi Kobe Niku",
         4,
         6,
         "18 - 500 g pkgs.",
         97.0,
         29,
         0,
         0,
         1
        ],
        [
         10,
         "Ikura",
         4,
         8,
         "12 - 200 ml jars",
         31.0,
         31,
         0,
         0,
         0
        ],
        [
         11,
         "Queso Cabrales",
         5,
         4,
         "1 kg pkg.",
         21.0,
         22,
         30,
         30,
         0
        ],
        [
         12,
         "Queso Manchego La Pastora",
         5,
         4,
         "10 - 500 g pkgs.",
         38.0,
         86,
         0,
         0,
         0
        ],
        [
         13,
         "Konbu",
         6,
         8,
         "2 kg box",
         6.0,
         24,
         0,
         5,
         0
        ],
        [
         14,
         "Tofu",
         6,
         7,
         "40 - 100 g pkgs.",
         23.25,
         35,
         0,
         0,
         0
        ],
        [
         15,
         "Genen Shouyu",
         6,
         2,
         "24 - 250 ml bottles",
         15.5,
         39,
         0,
         5,
         0
        ],
        [
         16,
         "Pavlova",
         7,
         3,
         "32 - 500 g boxes",
         17.45,
         29,
         0,
         10,
         0
        ],
        [
         17,
         "Alice Mutton",
         7,
         6,
         "20 - 1 kg tins",
         39.0,
         0,
         0,
         0,
         1
        ],
        [
         18,
         "Carnarvon Tigers",
         7,
         8,
         "16 kg pkg.",
         62.5,
         42,
         0,
         0,
         0
        ],
        [
         19,
         "Teatime Chocolate Biscuits",
         8,
         3,
         "10 boxes x 12 pieces",
         9.2,
         25,
         0,
         5,
         0
        ],
        [
         20,
         "Sir Rodney's Marmalade",
         8,
         3,
         "30 gift boxes",
         81.0,
         40,
         0,
         0,
         0
        ],
        [
         21,
         "Sir Rodney's Scones",
         8,
         3,
         "24 pkgs. x 4 pieces",
         10.0,
         3,
         40,
         5,
         0
        ],
        [
         22,
         "Gustaf's Knäckebröd",
         9,
         5,
         "24 - 500 g pkgs.",
         21.0,
         104,
         0,
         25,
         0
        ],
        [
         23,
         "Tunnbröd",
         9,
         5,
         "12 - 250 g pkgs.",
         9.0,
         61,
         0,
         25,
         0
        ],
        [
         24,
         "Guaraná Fantástica",
         10,
         1,
         "12 - 355 ml cans",
         4.5,
         20,
         0,
         0,
         1
        ],
        [
         25,
         "NuNuCa Nuß-Nougat-Creme",
         11,
         3,
         "20 - 450 g glasses",
         14.0,
         76,
         0,
         30,
         0
        ],
        [
         26,
         "Gumbär Gummibärchen",
         11,
         3,
         "100 - 250 g bags",
         31.23,
         15,
         0,
         0,
         0
        ],
        [
         27,
         "Schoggi Schokolade",
         11,
         3,
         "100 - 100 g pieces",
         43.9,
         49,
         0,
         30,
         0
        ],
        [
         28,
         "Rössle Sauerkraut",
         12,
         7,
         "25 - 825 g cans",
         45.6,
         26,
         0,
         0,
         1
        ],
        [
         29,
         "Thüringer Rostbratwurst",
         12,
         6,
         "50 bags x 30 sausgs.",
         123.79,
         0,
         0,
         0,
         1
        ],
        [
         30,
         "Nord-Ost Matjeshering",
         13,
         8,
         "10 - 200 g glasses",
         25.89,
         10,
         0,
         15,
         0
        ],
        [
         31,
         "Gorgonzola Telino",
         14,
         4,
         "12 - 100 g pkgs",
         12.5,
         0,
         70,
         20,
         0
        ],
        [
         32,
         "Mascarpone Fabioli",
         14,
         4,
         "24 - 200 g pkgs.",
         32.0,
         9,
         40,
         25,
         0
        ],
        [
         33,
         "Geitost",
         15,
         4,
         "500 g",
         2.5,
         112,
         0,
         20,
         0
        ],
        [
         34,
         "Sasquatch Ale",
         16,
         1,
         "24 - 12 oz bottles",
         14.0,
         111,
         0,
         15,
         0
        ],
        [
         35,
         "Steeleye Stout",
         16,
         1,
         "24 - 12 oz bottles",
         18.0,
         20,
         0,
         15,
         0
        ],
        [
         36,
         "Inlagd Sill",
         17,
         8,
         "24 - 250 g  jars",
         19.0,
         112,
         0,
         20,
         0
        ],
        [
         37,
         "Gravad lax",
         17,
         8,
         "12 - 500 g pkgs.",
         26.0,
         11,
         50,
         25,
         0
        ],
        [
         38,
         "Côte de Blaye",
         18,
         1,
         "12 - 75 cl bottles",
         263.5,
         17,
         0,
         15,
         0
        ],
        [
         39,
         "Chartreuse verte",
         18,
         1,
         "750 cc per bottle",
         18.0,
         69,
         0,
         5,
         0
        ],
        [
         40,
         "Boston Crab Meat",
         19,
         8,
         "24 - 4 oz tins",
         18.4,
         123,
         0,
         30,
         0
        ],
        [
         41,
         "Jack's New England Clam Chowder",
         19,
         8,
         "12 - 12 oz cans",
         9.65,
         85,
         0,
         10,
         0
        ],
        [
         42,
         "Singaporean Hokkien Fried Mee",
         20,
         5,
         "32 - 1 kg pkgs.",
         14.0,
         26,
         0,
         0,
         1
        ],
        [
         43,
         "Ipoh Coffee",
         20,
         1,
         "16 - 500 g tins",
         46.0,
         17,
         10,
         25,
         0
        ],
        [
         44,
         "Gula Malacca",
         20,
         2,
         "20 - 2 kg bags",
         19.45,
         27,
         0,
         15,
         0
        ],
        [
         45,
         "Rogede sild",
         21,
         8,
         "1k pkg.",
         9.5,
         5,
         70,
         15,
         0
        ],
        [
         46,
         "Spegesild",
         21,
         8,
         "4 - 450 g glasses",
         12.0,
         95,
         0,
         0,
         0
        ],
        [
         47,
         "Zaanse koeken",
         22,
         3,
         "10 - 4 oz boxes",
         9.5,
         36,
         0,
         0,
         0
        ],
        [
         48,
         "Chocolade",
         22,
         3,
         "10 pkgs.",
         12.75,
         15,
         70,
         25,
         0
        ],
        [
         49,
         "Maxilaku",
         23,
         3,
         "24 - 50 g pkgs.",
         20.0,
         10,
         60,
         15,
         0
        ],
        [
         50,
         "Valkoinen suklaa",
         23,
         3,
         "12 - 100 g bars",
         16.25,
         65,
         0,
         30,
         0
        ],
        [
         51,
         "Manjimup Dried Apples",
         24,
         7,
         "50 - 300 g pkgs.",
         53.0,
         20,
         0,
         10,
         0
        ],
        [
         52,
         "Filo Mix",
         24,
         5,
         "16 - 2 kg boxes",
         7.0,
         38,
         0,
         25,
         0
        ],
        [
         53,
         "Perth Pasties",
         24,
         6,
         "48 pieces",
         32.8,
         0,
         0,
         0,
         1
        ],
        [
         54,
         "Tourtière",
         25,
         6,
         "16 pies",
         7.45,
         21,
         0,
         10,
         0
        ],
        [
         55,
         "Pâté chinois",
         25,
         6,
         "24 boxes x 2 pies",
         24.0,
         115,
         0,
         20,
         0
        ],
        [
         56,
         "Gnocchi di nonna Alice",
         26,
         5,
         "24 - 250 g pkgs.",
         38.0,
         21,
         10,
         30,
         0
        ],
        [
         57,
         "Ravioli Angelo",
         26,
         5,
         "24 - 250 g pkgs.",
         19.5,
         36,
         0,
         20,
         0
        ],
        [
         58,
         "Escargots de Bourgogne",
         27,
         8,
         "24 pieces",
         13.25,
         62,
         0,
         20,
         0
        ],
        [
         59,
         "Raclette Courdavault",
         28,
         4,
         "5 kg pkg.",
         55.0,
         79,
         0,
         0,
         0
        ],
        [
         60,
         "Camembert Pierrot",
         28,
         4,
         "15 - 300 g rounds",
         34.0,
         19,
         0,
         0,
         0
        ],
        [
         61,
         "Sirop d'érable",
         29,
         2,
         "24 - 500 ml bottles",
         28.5,
         113,
         0,
         25,
         0
        ],
        [
         62,
         "Tarte au sucre",
         29,
         3,
         "48 pies",
         49.3,
         17,
         0,
         0,
         0
        ],
        [
         63,
         "Vegie-spread",
         7,
         2,
         "15 - 625 g jars",
         43.9,
         24,
         0,
         5,
         0
        ],
        [
         64,
         "Wimmers gute Semmelknödel",
         12,
         5,
         "20 bags x 4 pieces",
         33.25,
         22,
         80,
         30,
         0
        ],
        [
         65,
         "Louisiana Fiery Hot Pepper Sauce",
         2,
         2,
         "32 - 8 oz bottles",
         21.05,
         76,
         0,
         0,
         0
        ],
        [
         66,
         "Louisiana Hot Spiced Okra",
         2,
         2,
         "24 - 8 oz jars",
         17.0,
         4,
         100,
         20,
         0
        ],
        [
         67,
         "Laughing Lumberjack Lager",
         16,
         1,
         "24 - 12 oz bottles",
         14.0,
         52,
         0,
         10,
         0
        ],
        [
         68,
         "Scottish Longbreads",
         8,
         3,
         "10 boxes x 8 pieces",
         12.5,
         6,
         10,
         15,
         0
        ],
        [
         69,
         "Gudbrandsdalsost",
         15,
         4,
         "10 kg pkg.",
         36.0,
         26,
         0,
         15,
         0
        ],
        [
         70,
         "Outback Lager",
         7,
         1,
         "24 - 355 ml bottles",
         15.0,
         15,
         10,
         30,
         0
        ],
        [
         71,
         "Flotemysost",
         15,
         4,
         "10 - 500 g pkgs.",
         21.5,
         26,
         0,
         0,
         0
        ],
        [
         72,
         "Mozzarella di Giovanni",
         14,
         4,
         "24 - 200 g pkgs.",
         34.8,
         14,
         0,
         0,
         0
        ],
        [
         73,
         "Röd Kaviar",
         17,
         8,
         "24 - 150 g jars",
         15.0,
         101,
         0,
         5,
         0
        ],
        [
         74,
         "Longlife Tofu",
         4,
         7,
         "5 kg pkg.",
         10.0,
         4,
         20,
         5,
         0
        ],
        [
         75,
         "Rhönbräu Klosterbier",
         12,
         1,
         "24 - 0.5 l bottles",
         7.75,
         125,
         0,
         25,
         0
        ],
        [
         76,
         "Lakkalikööri",
         23,
         1,
         "500 ml",
         18.0,
         57,
         0,
         20,
         0
        ],
        [
         77,
         "Original Frankfurter grüne Soße",
         12,
         2,
         "12 boxes",
         13.0,
         32,
         0,
         15,
         0
        ]
       ],
       "datasetInfos": [],
       "dbfsResultPath": null,
       "isJsonSchema": true,
       "metadata": {},
       "overflow": false,
       "plotOptions": {
        "customPlotOptions": {},
        "displayType": "table",
        "pivotAggregation": null,
        "pivotColumns": null,
        "xColumns": null,
        "yColumns": null
       },
       "removedWidgets": [],
       "schema": [
        {
         "metadata": "{}",
         "name": "ProductID",
         "type": "\"integer\""
        },
        {
         "metadata": "{}",
         "name": "ProductName",
         "type": "\"string\""
        },
        {
         "metadata": "{}",
         "name": "SupplierID",
         "type": "\"integer\""
        },
        {
         "metadata": "{}",
         "name": "CategoryID",
         "type": "\"integer\""
        },
        {
         "metadata": "{}",
         "name": "QuantityPerUnit",
         "type": "\"string\""
        },
        {
         "metadata": "{}",
         "name": "UnitPrice",
         "type": "\"double\""
        },
        {
         "metadata": "{}",
         "name": "UnitsInStock",
         "type": "\"integer\""
        },
        {
         "metadata": "{}",
         "name": "UnitsOnOrder",
         "type": "\"integer\""
        },
        {
         "metadata": "{}",
         "name": "ReorderLevel",
         "type": "\"integer\""
        },
        {
         "metadata": "{}",
         "name": "Discontinued",
         "type": "\"integer\""
        }
       ],
       "type": "table"
      }
     },
     "output_type": "display_data"
    }
   ],
   "source": [
    "%sql\n",
    "\n",
    "select * from products"
   ]
  },
  {
   "cell_type": "code",
   "execution_count": 0,
   "metadata": {
    "application/vnd.databricks.v1+cell": {
     "cellMetadata": {
      "byteLimit": 2048000,
      "implicitDf": true,
      "rowLimit": 10000
     },
     "inputWidgets": {},
     "nuid": "b5ba8c5c-3ac0-4e15-b1c6-063deef194fe",
     "showTitle": false,
     "title": ""
    }
   },
   "outputs": [
    {
     "output_type": "display_data",
     "data": {
      "text/html": [
       "<style scoped>\n",
       "  .table-result-container {\n",
       "    max-height: 300px;\n",
       "    overflow: auto;\n",
       "  }\n",
       "  table, th, td {\n",
       "    border: 1px solid black;\n",
       "    border-collapse: collapse;\n",
       "  }\n",
       "  th, td {\n",
       "    padding: 5px;\n",
       "  }\n",
       "  th {\n",
       "    text-align: left;\n",
       "  }\n",
       "</style><div class='table-result-container'><table class='table-result'><thead style='background-color: white'><tr><th>ProductId</th><th>ProductName</th><th>CompanyName</th></tr></thead><tbody><tr><td>1</td><td>Chai</td><td>Exotic Liquids</td></tr><tr><td>2</td><td>Chang</td><td>Exotic Liquids</td></tr><tr><td>3</td><td>Aniseed Syrup</td><td>Exotic Liquids</td></tr><tr><td>4</td><td>Chef Anton's Cajun Seasoning</td><td>New Orleans Cajun Delights</td></tr><tr><td>5</td><td>Chef Anton's Gumbo Mix</td><td>New Orleans Cajun Delights</td></tr><tr><td>6</td><td>Grandma's Boysenberry Spread</td><td>Grandma Kelly's Homestead</td></tr><tr><td>7</td><td>Uncle Bob's Organic Dried Pears</td><td>Grandma Kelly's Homestead</td></tr><tr><td>8</td><td>Northwoods Cranberry Sauce</td><td>Grandma Kelly's Homestead</td></tr><tr><td>9</td><td>Mishi Kobe Niku</td><td>Tokyo Traders</td></tr><tr><td>10</td><td>Ikura</td><td>Tokyo Traders</td></tr><tr><td>11</td><td>Queso Cabrales</td><td>Cooperativa de Quesos 'Las Cabras'</td></tr><tr><td>12</td><td>Queso Manchego La Pastora</td><td>Cooperativa de Quesos 'Las Cabras'</td></tr><tr><td>13</td><td>Konbu</td><td>Mayumi's</td></tr><tr><td>14</td><td>Tofu</td><td>Mayumi's</td></tr><tr><td>15</td><td>Genen Shouyu</td><td>Mayumi's</td></tr><tr><td>16</td><td>Pavlova</td><td>Pavlova, Ltd.</td></tr><tr><td>17</td><td>Alice Mutton</td><td>Pavlova, Ltd.</td></tr><tr><td>18</td><td>Carnarvon Tigers</td><td>Pavlova, Ltd.</td></tr><tr><td>19</td><td>Teatime Chocolate Biscuits</td><td>Specialty Biscuits, Ltd.</td></tr><tr><td>20</td><td>Sir Rodney's Marmalade</td><td>Specialty Biscuits, Ltd.</td></tr><tr><td>21</td><td>Sir Rodney's Scones</td><td>Specialty Biscuits, Ltd.</td></tr><tr><td>22</td><td>Gustaf's Knäckebröd</td><td>PB Knäckebröd AB</td></tr><tr><td>23</td><td>Tunnbröd</td><td>PB Knäckebröd AB</td></tr><tr><td>24</td><td>Guaraná Fantástica</td><td>Refrescos Americanas LTDA</td></tr><tr><td>25</td><td>NuNuCa Nuß-Nougat-Creme</td><td>Heli Süßwaren GmbH & Co. KG</td></tr><tr><td>26</td><td>Gumbär Gummibärchen</td><td>Heli Süßwaren GmbH & Co. KG</td></tr><tr><td>27</td><td>Schoggi Schokolade</td><td>Heli Süßwaren GmbH & Co. KG</td></tr><tr><td>28</td><td>Rössle Sauerkraut</td><td>Plutzer Lebensmittelgroßmärkte AG</td></tr><tr><td>29</td><td>Thüringer Rostbratwurst</td><td>Plutzer Lebensmittelgroßmärkte AG</td></tr><tr><td>30</td><td>Nord-Ost Matjeshering</td><td>Nord-Ost-Fisch Handelsgesellschaft mbH</td></tr><tr><td>31</td><td>Gorgonzola Telino</td><td>Formaggi Fortini s.r.l.</td></tr><tr><td>32</td><td>Mascarpone Fabioli</td><td>Formaggi Fortini s.r.l.</td></tr><tr><td>33</td><td>Geitost</td><td>Norske Meierier</td></tr><tr><td>34</td><td>Sasquatch Ale</td><td>Bigfoot Breweries</td></tr><tr><td>35</td><td>Steeleye Stout</td><td>Bigfoot Breweries</td></tr><tr><td>36</td><td>Inlagd Sill</td><td>Svensk Sjöföda AB</td></tr><tr><td>37</td><td>Gravad lax</td><td>Svensk Sjöföda AB</td></tr><tr><td>38</td><td>Côte de Blaye</td><td>Aux joyeux ecclésiastiques</td></tr><tr><td>39</td><td>Chartreuse verte</td><td>Aux joyeux ecclésiastiques</td></tr><tr><td>40</td><td>Boston Crab Meat</td><td>New England Seafood Cannery</td></tr><tr><td>41</td><td>Jack's New England Clam Chowder</td><td>New England Seafood Cannery</td></tr><tr><td>42</td><td>Singaporean Hokkien Fried Mee</td><td>Leka Trading</td></tr><tr><td>43</td><td>Ipoh Coffee</td><td>Leka Trading</td></tr><tr><td>44</td><td>Gula Malacca</td><td>Leka Trading</td></tr><tr><td>45</td><td>Rogede sild</td><td>Lyngbysild</td></tr><tr><td>46</td><td>Spegesild</td><td>Lyngbysild</td></tr><tr><td>47</td><td>Zaanse koeken</td><td>Zaanse Snoepfabriek</td></tr><tr><td>48</td><td>Chocolade</td><td>Zaanse Snoepfabriek</td></tr><tr><td>49</td><td>Maxilaku</td><td>Karkki Oy</td></tr><tr><td>50</td><td>Valkoinen suklaa</td><td>Karkki Oy</td></tr><tr><td>51</td><td>Manjimup Dried Apples</td><td>G'day, Mate</td></tr><tr><td>52</td><td>Filo Mix</td><td>G'day, Mate</td></tr><tr><td>53</td><td>Perth Pasties</td><td>G'day, Mate</td></tr><tr><td>54</td><td>Tourtière</td><td>Ma Maison</td></tr><tr><td>55</td><td>Pâté chinois</td><td>Ma Maison</td></tr><tr><td>56</td><td>Gnocchi di nonna Alice</td><td>Pasta Buttini s.r.l.</td></tr><tr><td>57</td><td>Ravioli Angelo</td><td>Pasta Buttini s.r.l.</td></tr><tr><td>58</td><td>Escargots de Bourgogne</td><td>Escargots Nouveaux</td></tr><tr><td>59</td><td>Raclette Courdavault</td><td>Gai pâturage</td></tr><tr><td>60</td><td>Camembert Pierrot</td><td>Gai pâturage</td></tr><tr><td>61</td><td>Sirop d'érable</td><td>Forêts d'érables</td></tr><tr><td>62</td><td>Tarte au sucre</td><td>Forêts d'érables</td></tr><tr><td>63</td><td>Vegie-spread</td><td>Pavlova, Ltd.</td></tr><tr><td>64</td><td>Wimmers gute Semmelknödel</td><td>Plutzer Lebensmittelgroßmärkte AG</td></tr><tr><td>65</td><td>Louisiana Fiery Hot Pepper Sauce</td><td>New Orleans Cajun Delights</td></tr><tr><td>66</td><td>Louisiana Hot Spiced Okra</td><td>New Orleans Cajun Delights</td></tr><tr><td>67</td><td>Laughing Lumberjack Lager</td><td>Bigfoot Breweries</td></tr><tr><td>68</td><td>Scottish Longbreads</td><td>Specialty Biscuits, Ltd.</td></tr><tr><td>69</td><td>Gudbrandsdalsost</td><td>Norske Meierier</td></tr><tr><td>70</td><td>Outback Lager</td><td>Pavlova, Ltd.</td></tr><tr><td>71</td><td>Flotemysost</td><td>Norske Meierier</td></tr><tr><td>72</td><td>Mozzarella di Giovanni</td><td>Formaggi Fortini s.r.l.</td></tr><tr><td>73</td><td>Röd Kaviar</td><td>Svensk Sjöföda AB</td></tr><tr><td>74</td><td>Longlife Tofu</td><td>Tokyo Traders</td></tr><tr><td>75</td><td>Rhönbräu Klosterbier</td><td>Plutzer Lebensmittelgroßmärkte AG</td></tr><tr><td>76</td><td>Lakkalikööri</td><td>Karkki Oy</td></tr><tr><td>77</td><td>Original Frankfurter grüne Soße</td><td>Plutzer Lebensmittelgroßmärkte AG</td></tr></tbody></table></div>"
      ]
     },
     "metadata": {
      "application/vnd.databricks.v1+output": {
       "addedWidgets": {},
       "aggData": [],
       "aggError": "",
       "aggOverflow": false,
       "aggSchema": [],
       "aggSeriesLimitReached": false,
       "aggType": "",
       "arguments": {},
       "columnCustomDisplayInfos": {},
       "data": [
        [
         1,
         "Chai",
         "Exotic Liquids"
        ],
        [
         2,
         "Chang",
         "Exotic Liquids"
        ],
        [
         3,
         "Aniseed Syrup",
         "Exotic Liquids"
        ],
        [
         4,
         "Chef Anton's Cajun Seasoning",
         "New Orleans Cajun Delights"
        ],
        [
         5,
         "Chef Anton's Gumbo Mix",
         "New Orleans Cajun Delights"
        ],
        [
         6,
         "Grandma's Boysenberry Spread",
         "Grandma Kelly's Homestead"
        ],
        [
         7,
         "Uncle Bob's Organic Dried Pears",
         "Grandma Kelly's Homestead"
        ],
        [
         8,
         "Northwoods Cranberry Sauce",
         "Grandma Kelly's Homestead"
        ],
        [
         9,
         "Mishi Kobe Niku",
         "Tokyo Traders"
        ],
        [
         10,
         "Ikura",
         "Tokyo Traders"
        ],
        [
         11,
         "Queso Cabrales",
         "Cooperativa de Quesos 'Las Cabras'"
        ],
        [
         12,
         "Queso Manchego La Pastora",
         "Cooperativa de Quesos 'Las Cabras'"
        ],
        [
         13,
         "Konbu",
         "Mayumi's"
        ],
        [
         14,
         "Tofu",
         "Mayumi's"
        ],
        [
         15,
         "Genen Shouyu",
         "Mayumi's"
        ],
        [
         16,
         "Pavlova",
         "Pavlova, Ltd."
        ],
        [
         17,
         "Alice Mutton",
         "Pavlova, Ltd."
        ],
        [
         18,
         "Carnarvon Tigers",
         "Pavlova, Ltd."
        ],
        [
         19,
         "Teatime Chocolate Biscuits",
         "Specialty Biscuits, Ltd."
        ],
        [
         20,
         "Sir Rodney's Marmalade",
         "Specialty Biscuits, Ltd."
        ],
        [
         21,
         "Sir Rodney's Scones",
         "Specialty Biscuits, Ltd."
        ],
        [
         22,
         "Gustaf's Knäckebröd",
         "PB Knäckebröd AB"
        ],
        [
         23,
         "Tunnbröd",
         "PB Knäckebröd AB"
        ],
        [
         24,
         "Guaraná Fantástica",
         "Refrescos Americanas LTDA"
        ],
        [
         25,
         "NuNuCa Nuß-Nougat-Creme",
         "Heli Süßwaren GmbH & Co. KG"
        ],
        [
         26,
         "Gumbär Gummibärchen",
         "Heli Süßwaren GmbH & Co. KG"
        ],
        [
         27,
         "Schoggi Schokolade",
         "Heli Süßwaren GmbH & Co. KG"
        ],
        [
         28,
         "Rössle Sauerkraut",
         "Plutzer Lebensmittelgroßmärkte AG"
        ],
        [
         29,
         "Thüringer Rostbratwurst",
         "Plutzer Lebensmittelgroßmärkte AG"
        ],
        [
         30,
         "Nord-Ost Matjeshering",
         "Nord-Ost-Fisch Handelsgesellschaft mbH"
        ],
        [
         31,
         "Gorgonzola Telino",
         "Formaggi Fortini s.r.l."
        ],
        [
         32,
         "Mascarpone Fabioli",
         "Formaggi Fortini s.r.l."
        ],
        [
         33,
         "Geitost",
         "Norske Meierier"
        ],
        [
         34,
         "Sasquatch Ale",
         "Bigfoot Breweries"
        ],
        [
         35,
         "Steeleye Stout",
         "Bigfoot Breweries"
        ],
        [
         36,
         "Inlagd Sill",
         "Svensk Sjöföda AB"
        ],
        [
         37,
         "Gravad lax",
         "Svensk Sjöföda AB"
        ],
        [
         38,
         "Côte de Blaye",
         "Aux joyeux ecclésiastiques"
        ],
        [
         39,
         "Chartreuse verte",
         "Aux joyeux ecclésiastiques"
        ],
        [
         40,
         "Boston Crab Meat",
         "New England Seafood Cannery"
        ],
        [
         41,
         "Jack's New England Clam Chowder",
         "New England Seafood Cannery"
        ],
        [
         42,
         "Singaporean Hokkien Fried Mee",
         "Leka Trading"
        ],
        [
         43,
         "Ipoh Coffee",
         "Leka Trading"
        ],
        [
         44,
         "Gula Malacca",
         "Leka Trading"
        ],
        [
         45,
         "Rogede sild",
         "Lyngbysild"
        ],
        [
         46,
         "Spegesild",
         "Lyngbysild"
        ],
        [
         47,
         "Zaanse koeken",
         "Zaanse Snoepfabriek"
        ],
        [
         48,
         "Chocolade",
         "Zaanse Snoepfabriek"
        ],
        [
         49,
         "Maxilaku",
         "Karkki Oy"
        ],
        [
         50,
         "Valkoinen suklaa",
         "Karkki Oy"
        ],
        [
         51,
         "Manjimup Dried Apples",
         "G'day, Mate"
        ],
        [
         52,
         "Filo Mix",
         "G'day, Mate"
        ],
        [
         53,
         "Perth Pasties",
         "G'day, Mate"
        ],
        [
         54,
         "Tourtière",
         "Ma Maison"
        ],
        [
         55,
         "Pâté chinois",
         "Ma Maison"
        ],
        [
         56,
         "Gnocchi di nonna Alice",
         "Pasta Buttini s.r.l."
        ],
        [
         57,
         "Ravioli Angelo",
         "Pasta Buttini s.r.l."
        ],
        [
         58,
         "Escargots de Bourgogne",
         "Escargots Nouveaux"
        ],
        [
         59,
         "Raclette Courdavault",
         "Gai pâturage"
        ],
        [
         60,
         "Camembert Pierrot",
         "Gai pâturage"
        ],
        [
         61,
         "Sirop d'érable",
         "Forêts d'érables"
        ],
        [
         62,
         "Tarte au sucre",
         "Forêts d'érables"
        ],
        [
         63,
         "Vegie-spread",
         "Pavlova, Ltd."
        ],
        [
         64,
         "Wimmers gute Semmelknödel",
         "Plutzer Lebensmittelgroßmärkte AG"
        ],
        [
         65,
         "Louisiana Fiery Hot Pepper Sauce",
         "New Orleans Cajun Delights"
        ],
        [
         66,
         "Louisiana Hot Spiced Okra",
         "New Orleans Cajun Delights"
        ],
        [
         67,
         "Laughing Lumberjack Lager",
         "Bigfoot Breweries"
        ],
        [
         68,
         "Scottish Longbreads",
         "Specialty Biscuits, Ltd."
        ],
        [
         69,
         "Gudbrandsdalsost",
         "Norske Meierier"
        ],
        [
         70,
         "Outback Lager",
         "Pavlova, Ltd."
        ],
        [
         71,
         "Flotemysost",
         "Norske Meierier"
        ],
        [
         72,
         "Mozzarella di Giovanni",
         "Formaggi Fortini s.r.l."
        ],
        [
         73,
         "Röd Kaviar",
         "Svensk Sjöföda AB"
        ],
        [
         74,
         "Longlife Tofu",
         "Tokyo Traders"
        ],
        [
         75,
         "Rhönbräu Klosterbier",
         "Plutzer Lebensmittelgroßmärkte AG"
        ],
        [
         76,
         "Lakkalikööri",
         "Karkki Oy"
        ],
        [
         77,
         "Original Frankfurter grüne Soße",
         "Plutzer Lebensmittelgroßmärkte AG"
        ]
       ],
       "datasetInfos": [],
       "dbfsResultPath": null,
       "isJsonSchema": true,
       "metadata": {},
       "overflow": false,
       "plotOptions": {
        "customPlotOptions": {},
        "displayType": "table",
        "pivotAggregation": null,
        "pivotColumns": null,
        "xColumns": null,
        "yColumns": null
       },
       "removedWidgets": [],
       "schema": [
        {
         "metadata": "{}",
         "name": "ProductId",
         "type": "\"integer\""
        },
        {
         "metadata": "{}",
         "name": "ProductName",
         "type": "\"string\""
        },
        {
         "metadata": "{}",
         "name": "CompanyName",
         "type": "\"string\""
        }
       ],
       "type": "table"
      }
     },
     "output_type": "display_data"
    }
   ],
   "source": [
    "%sql\n",
    "-- For each product, list its product ID, product name, and the company name\n",
    "select p.ProductId, p.ProductName, s.CompanyName from products as p\n",
    "join suppliers as s on s.SupplierId = p.SupplierId"
   ]
  },
  {
   "cell_type": "code",
   "execution_count": 0,
   "metadata": {
    "application/vnd.databricks.v1+cell": {
     "cellMetadata": {
      "byteLimit": 2048000,
      "implicitDf": true,
      "rowLimit": 10000
     },
     "inputWidgets": {},
     "nuid": "94617223-ea6a-4f6a-afcc-41c9c5b2799d",
     "showTitle": false,
     "title": ""
    }
   },
   "outputs": [
    {
     "output_type": "display_data",
     "data": {
      "text/html": [
       "<style scoped>\n",
       "  .table-result-container {\n",
       "    max-height: 300px;\n",
       "    overflow: auto;\n",
       "  }\n",
       "  table, th, td {\n",
       "    border: 1px solid black;\n",
       "    border-collapse: collapse;\n",
       "  }\n",
       "  th, td {\n",
       "    padding: 5px;\n",
       "  }\n",
       "  th {\n",
       "    text-align: left;\n",
       "  }\n",
       "</style><div class='table-result-container'><table class='table-result'><thead style='background-color: white'><tr><th>CategoryName</th><th>ProductCount</th></tr></thead><tbody><tr><td>Confections</td><td>13</td></tr><tr><td>Condiments</td><td>12</td></tr><tr><td>Beverages</td><td>12</td></tr><tr><td>Seafood</td><td>12</td></tr><tr><td>Dairy Products</td><td>10</td></tr><tr><td>Grains/Cereals</td><td>7</td></tr><tr><td>Meat/Poultry</td><td>6</td></tr><tr><td>Produce</td><td>5</td></tr></tbody></table></div>"
      ]
     },
     "metadata": {
      "application/vnd.databricks.v1+output": {
       "addedWidgets": {},
       "aggData": [],
       "aggError": "",
       "aggOverflow": false,
       "aggSchema": [],
       "aggSeriesLimitReached": false,
       "aggType": "",
       "arguments": {},
       "columnCustomDisplayInfos": {},
       "data": [
        [
         "Confections",
         13
        ],
        [
         "Condiments",
         12
        ],
        [
         "Beverages",
         12
        ],
        [
         "Seafood",
         12
        ],
        [
         "Dairy Products",
         10
        ],
        [
         "Grains/Cereals",
         7
        ],
        [
         "Meat/Poultry",
         6
        ],
        [
         "Produce",
         5
        ]
       ],
       "datasetInfos": [],
       "dbfsResultPath": null,
       "isJsonSchema": true,
       "metadata": {},
       "overflow": false,
       "plotOptions": {
        "customPlotOptions": {},
        "displayType": "plotlyBar",
        "pivotAggregation": null,
        "pivotColumns": null,
        "xColumns": null,
        "yColumns": null
       },
       "removedWidgets": [],
       "schema": [
        {
         "metadata": "{}",
         "name": "CategoryName",
         "type": "\"string\""
        },
        {
         "metadata": "{}",
         "name": "ProductCount",
         "type": "\"long\""
        }
       ],
       "type": "table"
      }
     },
     "output_type": "display_data"
    }
   ],
   "source": [
    "%sql\n",
    "--How many products exist in each category?\n",
    "\n",
    "select CategoryName, count(ProductName) as ProductCount from categories as c\n",
    "join products as p on c.CategoryId=p.CategoryId\n",
    "group by 1\n",
    "order by 2 desc"
   ]
  },
  {
   "cell_type": "code",
   "execution_count": 0,
   "metadata": {
    "application/vnd.databricks.v1+cell": {
     "cellMetadata": {
      "byteLimit": 2048000,
      "implicitDf": true,
      "rowLimit": 10000
     },
     "inputWidgets": {},
     "nuid": "2d8ef517-61f2-4369-8709-996a378cacee",
     "showTitle": false,
     "title": ""
    }
   },
   "outputs": [
    {
     "output_type": "display_data",
     "data": {
      "text/html": [
       "<style scoped>\n",
       "  .table-result-container {\n",
       "    max-height: 300px;\n",
       "    overflow: auto;\n",
       "  }\n",
       "  table, th, td {\n",
       "    border: 1px solid black;\n",
       "    border-collapse: collapse;\n",
       "  }\n",
       "  th, td {\n",
       "    padding: 5px;\n",
       "  }\n",
       "  th {\n",
       "    text-align: left;\n",
       "  }\n",
       "</style><div class='table-result-container'><table class='table-result'><thead style='background-color: white'><tr><th>Country</th><th>NumberOfCustomers</th></tr></thead><tbody><tr><td>USA</td><td>13</td></tr><tr><td>Germany</td><td>11</td></tr><tr><td>France</td><td>11</td></tr><tr><td>Brazil</td><td>9</td></tr><tr><td>UK</td><td>7</td></tr></tbody></table></div>"
      ]
     },
     "metadata": {
      "application/vnd.databricks.v1+output": {
       "addedWidgets": {},
       "aggData": [],
       "aggError": "",
       "aggOverflow": false,
       "aggSchema": [],
       "aggSeriesLimitReached": false,
       "aggType": "",
       "arguments": {},
       "columnCustomDisplayInfos": {},
       "data": [
        [
         "USA",
         13
        ],
        [
         "Germany",
         11
        ],
        [
         "France",
         11
        ],
        [
         "Brazil",
         9
        ],
        [
         "UK",
         7
        ]
       ],
       "datasetInfos": [],
       "dbfsResultPath": null,
       "isJsonSchema": true,
       "metadata": {},
       "overflow": false,
       "plotOptions": {
        "customPlotOptions": {},
        "displayType": "plotlyBar",
        "pivotAggregation": null,
        "pivotColumns": null,
        "xColumns": null,
        "yColumns": null
       },
       "removedWidgets": [],
       "schema": [
        {
         "metadata": "{}",
         "name": "Country",
         "type": "\"string\""
        },
        {
         "metadata": "{}",
         "name": "NumberOfCustomers",
         "type": "\"long\""
        }
       ],
       "type": "table"
      }
     },
     "output_type": "display_data"
    }
   ],
   "source": [
    "%sql\n",
    "-- Which 5 countries have the most customers?\n",
    "select Country, count(*) as NumberOfCustomers from customers\n",
    "group by 1\n",
    "order by 2 desc\n",
    "limit 5"
   ]
  },
  {
   "cell_type": "code",
   "execution_count": 0,
   "metadata": {
    "application/vnd.databricks.v1+cell": {
     "cellMetadata": {
      "byteLimit": 2048000,
      "implicitDf": true,
      "rowLimit": 10000
     },
     "inputWidgets": {},
     "nuid": "df4489e4-999d-4c5d-83be-5e84718d63b2",
     "showTitle": false,
     "title": ""
    }
   },
   "outputs": [
    {
     "output_type": "display_data",
     "data": {
      "text/html": [
       "<style scoped>\n",
       "  .table-result-container {\n",
       "    max-height: 300px;\n",
       "    overflow: auto;\n",
       "  }\n",
       "  table, th, td {\n",
       "    border: 1px solid black;\n",
       "    border-collapse: collapse;\n",
       "  }\n",
       "  th, td {\n",
       "    padding: 5px;\n",
       "  }\n",
       "  th {\n",
       "    text-align: left;\n",
       "  }\n",
       "</style><div class='table-result-container'><table class='table-result'><thead style='background-color: white'><tr><th>ShipCountry</th><th>AverageFreight</th></tr></thead><tbody><tr><td>Austria</td><td>184.78750000000002</td></tr><tr><td>Ireland</td><td>145.01263157894738</td></tr><tr><td>USA</td><td>112.87942622950818</td></tr><tr><td>Germany</td><td>92.48590163934426</td></tr><tr><td>Sweden</td><td>87.50270270270272</td></tr></tbody></table></div>"
      ]
     },
     "metadata": {
      "application/vnd.databricks.v1+output": {
       "addedWidgets": {},
       "aggData": [],
       "aggError": "",
       "aggOverflow": false,
       "aggSchema": [],
       "aggSeriesLimitReached": false,
       "aggType": "",
       "arguments": {},
       "columnCustomDisplayInfos": {},
       "data": [
        [
         "Austria",
         184.78750000000002
        ],
        [
         "Ireland",
         145.01263157894738
        ],
        [
         "USA",
         112.87942622950818
        ],
        [
         "Germany",
         92.48590163934426
        ],
        [
         "Sweden",
         87.50270270270272
        ]
       ],
       "datasetInfos": [],
       "dbfsResultPath": null,
       "isJsonSchema": true,
       "metadata": {},
       "overflow": false,
       "plotOptions": {
        "customPlotOptions": {},
        "displayType": "plotlyBar",
        "pivotAggregation": null,
        "pivotColumns": null,
        "xColumns": null,
        "yColumns": null
       },
       "removedWidgets": [],
       "schema": [
        {
         "metadata": "{}",
         "name": "ShipCountry",
         "type": "\"string\""
        },
        {
         "metadata": "{}",
         "name": "AverageFreight",
         "type": "\"double\""
        }
       ],
       "type": "table"
      }
     },
     "output_type": "display_data"
    }
   ],
   "source": [
    "%sql\n",
    "-- Which 5 countries have the heaviest shipments, on average?\n",
    "select ShipCountry, Avg(Freight) as AverageFreight from orders\n",
    "group by 1\n",
    "order by 2 desc\n",
    "limit 5"
   ]
  },
  {
   "cell_type": "code",
   "execution_count": 0,
   "metadata": {
    "application/vnd.databricks.v1+cell": {
     "cellMetadata": {
      "byteLimit": 2048000,
      "implicitDf": true,
      "rowLimit": 10000
     },
     "inputWidgets": {},
     "nuid": "beb13d7b-b8fb-493c-9d0e-7fae8efe4529",
     "showTitle": false,
     "title": ""
    }
   },
   "outputs": [
    {
     "output_type": "display_data",
     "data": {
      "text/html": [
       "<style scoped>\n",
       "  .table-result-container {\n",
       "    max-height: 300px;\n",
       "    overflow: auto;\n",
       "  }\n",
       "  table, th, td {\n",
       "    border: 1px solid black;\n",
       "    border-collapse: collapse;\n",
       "  }\n",
       "  th, td {\n",
       "    padding: 5px;\n",
       "  }\n",
       "  th {\n",
       "    text-align: left;\n",
       "  }\n",
       "</style><div class='table-result-container'><table class='table-result'><thead style='background-color: white'><tr><th>CompanyName</th><th>ContactName</th><th>NumberOfOrders</th></tr></thead><tbody><tr><td>Save-a-lot Markets</td><td>Jose Pavarotti</td><td>31</td></tr><tr><td>Ernst Handel</td><td>Roland Mendel</td><td>30</td></tr><tr><td>QUICK-Stop</td><td>Horst Kloss</td><td>28</td></tr><tr><td>Hungry Owl All-Night Grocers</td><td>Patricia McKenna</td><td>19</td></tr><tr><td>Folk och fä HB</td><td>Maria Larsson</td><td>19</td></tr><tr><td>Rattlesnake Canyon Grocery</td><td>Paula Wilson</td><td>18</td></tr><tr><td>HILARION-Abastos</td><td>Carlos Hernández</td><td>18</td></tr><tr><td>Berglunds snabbköp</td><td>Christina Berglund</td><td>18</td></tr><tr><td>Bon app'</td><td>Laurence Lebihan</td><td>17</td></tr><tr><td>Frankenversand</td><td>Peter Franken</td><td>15</td></tr></tbody></table></div>"
      ]
     },
     "metadata": {
      "application/vnd.databricks.v1+output": {
       "addedWidgets": {},
       "aggData": [],
       "aggError": "",
       "aggOverflow": false,
       "aggSchema": [],
       "aggSeriesLimitReached": false,
       "aggType": "",
       "arguments": {},
       "columnCustomDisplayInfos": {},
       "data": [
        [
         "Save-a-lot Markets",
         "Jose Pavarotti",
         31
        ],
        [
         "Ernst Handel",
         "Roland Mendel",
         30
        ],
        [
         "QUICK-Stop",
         "Horst Kloss",
         28
        ],
        [
         "Hungry Owl All-Night Grocers",
         "Patricia McKenna",
         19
        ],
        [
         "Folk och fä HB",
         "Maria Larsson",
         19
        ],
        [
         "Rattlesnake Canyon Grocery",
         "Paula Wilson",
         18
        ],
        [
         "HILARION-Abastos",
         "Carlos Hernández",
         18
        ],
        [
         "Berglunds snabbköp",
         "Christina Berglund",
         18
        ],
        [
         "Bon app'",
         "Laurence Lebihan",
         17
        ],
        [
         "Frankenversand",
         "Peter Franken",
         15
        ]
       ],
       "datasetInfos": [],
       "dbfsResultPath": null,
       "isJsonSchema": true,
       "metadata": {},
       "overflow": false,
       "plotOptions": {
        "customPlotOptions": {},
        "displayType": "table",
        "pivotAggregation": null,
        "pivotColumns": null,
        "xColumns": null,
        "yColumns": null
       },
       "removedWidgets": [],
       "schema": [
        {
         "metadata": "{}",
         "name": "CompanyName",
         "type": "\"string\""
        },
        {
         "metadata": "{}",
         "name": "ContactName",
         "type": "\"string\""
        },
        {
         "metadata": "{}",
         "name": "NumberOfOrders",
         "type": "\"long\""
        }
       ],
       "type": "table"
      }
     },
     "output_type": "display_data"
    }
   ],
   "source": [
    "%sql\n",
    "-- Which 10 companies have placed the most orders?\n",
    "-- List the company contacts as well\n",
    "\n",
    "select CompanyName, ContactName, count(OrderId) as NumberOfOrders from orders as o\n",
    "join customers as c on o.CustomerId=c.CustomerId\n",
    "group by 1, 2\n",
    "order by 3 desc\n",
    "limit 10\n"
   ]
  },
  {
   "cell_type": "code",
   "execution_count": 0,
   "metadata": {
    "application/vnd.databricks.v1+cell": {
     "cellMetadata": {
      "byteLimit": 2048000,
      "implicitDf": true,
      "rowLimit": 10000
     },
     "inputWidgets": {},
     "nuid": "4175b3a5-5acc-4122-96cf-1f2a191226c0",
     "showTitle": false,
     "title": ""
    }
   },
   "outputs": [
    {
     "output_type": "display_data",
     "data": {
      "text/html": [
       "<style scoped>\n",
       "  .table-result-container {\n",
       "    max-height: 300px;\n",
       "    overflow: auto;\n",
       "  }\n",
       "  table, th, td {\n",
       "    border: 1px solid black;\n",
       "    border-collapse: collapse;\n",
       "  }\n",
       "  th, td {\n",
       "    padding: 5px;\n",
       "  }\n",
       "  th {\n",
       "    text-align: left;\n",
       "  }\n",
       "</style><div class='table-result-container'><table class='table-result'><thead style='background-color: white'><tr><th>OrderID</th><th>ProductID</th><th>UnitPrice</th><th>Quantity</th><th>Discount</th></tr></thead><tbody><tr><td>10250</td><td>51</td><td>42.4</td><td>35</td><td>0.15</td></tr><tr><td>10250</td><td>65</td><td>16.8</td><td>15</td><td>0.15</td></tr><tr><td>10251</td><td>22</td><td>16.8</td><td>6</td><td>0.05</td></tr><tr><td>10251</td><td>57</td><td>15.6</td><td>15</td><td>0.05</td></tr><tr><td>10252</td><td>20</td><td>64.8</td><td>40</td><td>0.05</td></tr><tr><td>10252</td><td>33</td><td>2.0</td><td>25</td><td>0.05</td></tr><tr><td>10254</td><td>24</td><td>3.6</td><td>15</td><td>0.15</td></tr><tr><td>10254</td><td>55</td><td>19.2</td><td>21</td><td>0.15</td></tr><tr><td>10258</td><td>2</td><td>15.2</td><td>50</td><td>0.2</td></tr><tr><td>10258</td><td>5</td><td>17.0</td><td>65</td><td>0.2</td></tr><tr><td>10258</td><td>32</td><td>25.6</td><td>6</td><td>0.2</td></tr><tr><td>10260</td><td>41</td><td>7.7</td><td>16</td><td>0.25</td></tr><tr><td>10260</td><td>62</td><td>39.4</td><td>15</td><td>0.25</td></tr><tr><td>10260</td><td>70</td><td>12.0</td><td>21</td><td>0.25</td></tr><tr><td>10262</td><td>5</td><td>17.0</td><td>12</td><td>0.2</td></tr><tr><td>10263</td><td>16</td><td>13.9</td><td>60</td><td>0.25</td></tr><tr><td>10263</td><td>30</td><td>20.7</td><td>60</td><td>0.25</td></tr><tr><td>10263</td><td>74</td><td>8.0</td><td>36</td><td>0.25</td></tr><tr><td>10264</td><td>41</td><td>7.7</td><td>25</td><td>0.15</td></tr><tr><td>10266</td><td>12</td><td>30.4</td><td>12</td><td>0.05</td></tr><tr><td>10267</td><td>59</td><td>44.0</td><td>70</td><td>0.15</td></tr><tr><td>10267</td><td>76</td><td>14.4</td><td>15</td><td>0.15</td></tr><tr><td>10269</td><td>33</td><td>2.0</td><td>60</td><td>0.05</td></tr><tr><td>10269</td><td>72</td><td>27.8</td><td>20</td><td>0.05</td></tr><tr><td>10273</td><td>10</td><td>24.8</td><td>24</td><td>0.05</td></tr><tr><td>10273</td><td>31</td><td>10.0</td><td>15</td><td>0.05</td></tr><tr><td>10273</td><td>40</td><td>14.7</td><td>60</td><td>0.05</td></tr><tr><td>10273</td><td>76</td><td>14.4</td><td>33</td><td>0.05</td></tr><tr><td>10275</td><td>24</td><td>3.6</td><td>12</td><td>0.05</td></tr><tr><td>10275</td><td>59</td><td>44.0</td><td>6</td><td>0.05</td></tr><tr><td>10279</td><td>17</td><td>31.2</td><td>15</td><td>0.25</td></tr><tr><td>10284</td><td>27</td><td>35.1</td><td>15</td><td>0.25</td></tr><tr><td>10284</td><td>60</td><td>27.2</td><td>20</td><td>0.25</td></tr><tr><td>10284</td><td>67</td><td>11.2</td><td>5</td><td>0.25</td></tr><tr><td>10285</td><td>1</td><td>14.4</td><td>45</td><td>0.2</td></tr><tr><td>10285</td><td>40</td><td>14.7</td><td>40</td><td>0.2</td></tr><tr><td>10285</td><td>53</td><td>26.2</td><td>36</td><td>0.2</td></tr><tr><td>10287</td><td>16</td><td>13.9</td><td>40</td><td>0.15</td></tr><tr><td>10287</td><td>46</td><td>9.6</td><td>15</td><td>0.15</td></tr><tr><td>10288</td><td>54</td><td>5.9</td><td>10</td><td>0.1</td></tr><tr><td>10288</td><td>68</td><td>10.0</td><td>3</td><td>0.1</td></tr><tr><td>10291</td><td>13</td><td>4.8</td><td>20</td><td>0.1</td></tr><tr><td>10291</td><td>44</td><td>15.5</td><td>24</td><td>0.1</td></tr><tr><td>10291</td><td>51</td><td>42.4</td><td>2</td><td>0.1</td></tr><tr><td>10298</td><td>36</td><td>15.2</td><td>40</td><td>0.25</td></tr><tr><td>10298</td><td>59</td><td>44.0</td><td>30</td><td>0.25</td></tr><tr><td>10303</td><td>40</td><td>14.7</td><td>40</td><td>0.1</td></tr><tr><td>10303</td><td>65</td><td>16.8</td><td>30</td><td>0.1</td></tr><tr><td>10303</td><td>68</td><td>10.0</td><td>15</td><td>0.1</td></tr><tr><td>10305</td><td>18</td><td>50.0</td><td>25</td><td>0.1</td></tr><tr><td>10305</td><td>29</td><td>99.0</td><td>25</td><td>0.1</td></tr><tr><td>10305</td><td>39</td><td>14.4</td><td>30</td><td>0.1</td></tr><tr><td>10314</td><td>32</td><td>25.6</td><td>40</td><td>0.1</td></tr><tr><td>10314</td><td>58</td><td>10.6</td><td>30</td><td>0.1</td></tr><tr><td>10314</td><td>62</td><td>39.4</td><td>25</td><td>0.1</td></tr><tr><td>10324</td><td>16</td><td>13.9</td><td>21</td><td>0.15</td></tr><tr><td>10324</td><td>35</td><td>14.4</td><td>70</td><td>0.15</td></tr><tr><td>10324</td><td>59</td><td>44.0</td><td>40</td><td>0.15</td></tr><tr><td>10324</td><td>63</td><td>35.1</td><td>80</td><td>0.15</td></tr><tr><td>10327</td><td>2</td><td>15.2</td><td>25</td><td>0.2</td></tr><tr><td>10327</td><td>11</td><td>16.8</td><td>50</td><td>0.2</td></tr><tr><td>10327</td><td>30</td><td>20.7</td><td>35</td><td>0.2</td></tr><tr><td>10327</td><td>58</td><td>10.6</td><td>30</td><td>0.2</td></tr><tr><td>10329</td><td>19</td><td>7.3</td><td>10</td><td>0.05</td></tr><tr><td>10329</td><td>30</td><td>20.7</td><td>8</td><td>0.05</td></tr><tr><td>10329</td><td>38</td><td>210.8</td><td>20</td><td>0.05</td></tr><tr><td>10329</td><td>56</td><td>30.4</td><td>12</td><td>0.05</td></tr><tr><td>10330</td><td>26</td><td>24.9</td><td>50</td><td>0.15</td></tr><tr><td>10330</td><td>72</td><td>27.8</td><td>25</td><td>0.15</td></tr><tr><td>10332</td><td>18</td><td>50.0</td><td>40</td><td>0.2</td></tr><tr><td>10332</td><td>42</td><td>11.2</td><td>10</td><td>0.2</td></tr><tr><td>10332</td><td>47</td><td>7.6</td><td>16</td><td>0.2</td></tr><tr><td>10333</td><td>21</td><td>8.0</td><td>10</td><td>0.1</td></tr><tr><td>10333</td><td>71</td><td>17.2</td><td>40</td><td>0.1</td></tr><tr><td>10335</td><td>2</td><td>15.2</td><td>7</td><td>0.2</td></tr><tr><td>10335</td><td>31</td><td>10.0</td><td>25</td><td>0.2</td></tr><tr><td>10335</td><td>32</td><td>25.6</td><td>6</td><td>0.2</td></tr><tr><td>10335</td><td>51</td><td>42.4</td><td>48</td><td>0.2</td></tr><tr><td>10336</td><td>4</td><td>17.6</td><td>18</td><td>0.1</td></tr><tr><td>10339</td><td>17</td><td>31.2</td><td>70</td><td>0.05</td></tr><tr><td>10340</td><td>18</td><td>50.0</td><td>20</td><td>0.05</td></tr><tr><td>10340</td><td>41</td><td>7.7</td><td>12</td><td>0.05</td></tr><tr><td>10340</td><td>43</td><td>36.8</td><td>40</td><td>0.05</td></tr><tr><td>10341</td><td>59</td><td>44.0</td><td>9</td><td>0.15</td></tr><tr><td>10342</td><td>2</td><td>15.2</td><td>24</td><td>0.2</td></tr><tr><td>10342</td><td>31</td><td>10.0</td><td>56</td><td>0.2</td></tr><tr><td>10342</td><td>36</td><td>15.2</td><td>40</td><td>0.2</td></tr><tr><td>10342</td><td>55</td><td>19.2</td><td>40</td><td>0.2</td></tr><tr><td>10343</td><td>68</td><td>10.0</td><td>4</td><td>0.05</td></tr><tr><td>10344</td><td>8</td><td>32.0</td><td>70</td><td>0.25</td></tr><tr><td>10346</td><td>17</td><td>31.2</td><td>36</td><td>0.1</td></tr><tr><td>10347</td><td>39</td><td>14.4</td><td>50</td><td>0.15</td></tr><tr><td>10347</td><td>75</td><td>6.2</td><td>6</td><td>0.15</td></tr><tr><td>10348</td><td>1</td><td>14.4</td><td>15</td><td>0.15</td></tr><tr><td>10350</td><td>50</td><td>13.0</td><td>15</td><td>0.1</td></tr><tr><td>10350</td><td>69</td><td>28.8</td><td>18</td><td>0.1</td></tr><tr><td>10351</td><td>38</td><td>210.8</td><td>20</td><td>0.05</td></tr><tr><td>10351</td><td>44</td><td>15.5</td><td>77</td><td>0.05</td></tr><tr><td>10351</td><td>65</td><td>16.8</td><td>10</td><td>0.05</td></tr><tr><td>10352</td><td>54</td><td>5.9</td><td>20</td><td>0.15</td></tr><tr><td>10353</td><td>11</td><td>16.8</td><td>12</td><td>0.2</td></tr><tr><td>10353</td><td>38</td><td>210.8</td><td>50</td><td>0.2</td></tr><tr><td>10357</td><td>10</td><td>24.8</td><td>30</td><td>0.2</td></tr><tr><td>10357</td><td>60</td><td>27.2</td><td>8</td><td>0.2</td></tr><tr><td>10358</td><td>24</td><td>3.6</td><td>10</td><td>0.05</td></tr><tr><td>10358</td><td>34</td><td>11.2</td><td>10</td><td>0.05</td></tr><tr><td>10358</td><td>36</td><td>15.2</td><td>20</td><td>0.05</td></tr><tr><td>10359</td><td>16</td><td>13.9</td><td>56</td><td>0.05</td></tr><tr><td>10359</td><td>31</td><td>10.0</td><td>70</td><td>0.05</td></tr><tr><td>10359</td><td>60</td><td>27.2</td><td>80</td><td>0.05</td></tr><tr><td>10361</td><td>39</td><td>14.4</td><td>54</td><td>0.1</td></tr><tr><td>10361</td><td>60</td><td>27.2</td><td>55</td><td>0.1</td></tr><tr><td>10368</td><td>21</td><td>8.0</td><td>5</td><td>0.1</td></tr><tr><td>10368</td><td>28</td><td>36.4</td><td>13</td><td>0.1</td></tr><tr><td>10368</td><td>64</td><td>26.6</td><td>35</td><td>0.1</td></tr><tr><td>10369</td><td>56</td><td>30.4</td><td>18</td><td>0.25</td></tr><tr><td>10370</td><td>1</td><td>14.4</td><td>15</td><td>0.15</td></tr><tr><td>10370</td><td>74</td><td>8.0</td><td>20</td><td>0.15</td></tr><tr><td>10371</td><td>36</td><td>15.2</td><td>6</td><td>0.2</td></tr><tr><td>10372</td><td>20</td><td>64.8</td><td>12</td><td>0.25</td></tr><tr><td>10372</td><td>38</td><td>210.8</td><td>40</td><td>0.25</td></tr><tr><td>10372</td><td>60</td><td>27.2</td><td>70</td><td>0.25</td></tr><tr><td>10372</td><td>72</td><td>27.8</td><td>42</td><td>0.25</td></tr><tr><td>10373</td><td>58</td><td>10.6</td><td>80</td><td>0.2</td></tr><tr><td>10373</td><td>71</td><td>17.2</td><td>50</td><td>0.2</td></tr><tr><td>10376</td><td>31</td><td>10.0</td><td>42</td><td>0.05</td></tr><tr><td>10377</td><td>28</td><td>36.4</td><td>20</td><td>0.15</td></tr><tr><td>10377</td><td>39</td><td>14.4</td><td>20</td><td>0.15</td></tr><tr><td>10379</td><td>41</td><td>7.7</td><td>8</td><td>0.1</td></tr><tr><td>10379</td><td>63</td><td>35.1</td><td>16</td><td>0.1</td></tr><tr><td>10379</td><td>65</td><td>16.8</td><td>20</td><td>0.1</td></tr><tr><td>10380</td><td>30</td><td>20.7</td><td>18</td><td>0.1</td></tr><tr><td>10380</td><td>53</td><td>26.2</td><td>20</td><td>0.1</td></tr><tr><td>10380</td><td>60</td><td>27.2</td><td>6</td><td>0.1</td></tr><tr><td>10385</td><td>7</td><td>24.0</td><td>10</td><td>0.2</td></tr><tr><td>10385</td><td>60</td><td>27.2</td><td>20</td><td>0.2</td></tr><tr><td>10385</td><td>68</td><td>10.0</td><td>8</td><td>0.2</td></tr><tr><td>10388</td><td>45</td><td>7.6</td><td>15</td><td>0.2</td></tr><tr><td>10388</td><td>52</td><td>5.6</td><td>20</td><td>0.2</td></tr><tr><td>10390</td><td>31</td><td>10.0</td><td>60</td><td>0.1</td></tr><tr><td>10390</td><td>35</td><td>14.4</td><td>40</td><td>0.1</td></tr><tr><td>10390</td><td>72</td><td>27.8</td><td>24</td><td>0.1</td></tr><tr><td>10393</td><td>2</td><td>15.2</td><td>25</td><td>0.25</td></tr><tr><td>10393</td><td>14</td><td>18.6</td><td>42</td><td>0.25</td></tr><tr><td>10393</td><td>25</td><td>11.2</td><td>7</td><td>0.25</td></tr><tr><td>10393</td><td>26</td><td>24.9</td><td>70</td><td>0.25</td></tr><tr><td>10395</td><td>46</td><td>9.6</td><td>28</td><td>0.1</td></tr><tr><td>10395</td><td>53</td><td>26.2</td><td>70</td><td>0.1</td></tr><tr><td>10397</td><td>21</td><td>8.0</td><td>10</td><td>0.15</td></tr><tr><td>10397</td><td>51</td><td>42.4</td><td>18</td><td>0.15</td></tr><tr><td>10398</td><td>55</td><td>19.2</td><td>120</td><td>0.1</td></tr><tr><td>10403</td><td>16</td><td>13.9</td><td>21</td><td>0.15</td></tr><tr><td>10403</td><td>48</td><td>10.2</td><td>70</td><td>0.15</td></tr><tr><td>10404</td><td>26</td><td>24.9</td><td>30</td><td>0.05</td></tr><tr><td>10404</td><td>42</td><td>11.2</td><td>40</td><td>0.05</td></tr><tr><td>10404</td><td>49</td><td>16.0</td><td>30</td><td>0.05</td></tr><tr><td>10406</td><td>21</td><td>8.0</td><td>30</td><td>0.1</td></tr><tr><td>10406</td><td>28</td><td>36.4</td><td>42</td><td>0.1</td></tr><tr><td>10406</td><td>36</td><td>15.2</td><td>5</td><td>0.1</td></tr><tr><td>10406</td><td>40</td><td>14.7</td><td>2</td><td>0.1</td></tr><tr><td>10411</td><td>41</td><td>7.7</td><td>25</td><td>0.2</td></tr><tr><td>10411</td><td>44</td><td>15.5</td><td>40</td><td>0.2</td></tr><tr><td>10411</td><td>59</td><td>44.0</td><td>9</td><td>0.2</td></tr><tr><td>10412</td><td>14</td><td>18.6</td><td>20</td><td>0.1</td></tr><tr><td>10414</td><td>19</td><td>7.3</td><td>18</td><td>0.05</td></tr><tr><td>10417</td><td>46</td><td>9.6</td><td>2</td><td>0.25</td></tr><tr><td>10417</td><td>68</td><td>10.0</td><td>36</td><td>0.25</td></tr><tr><td>10419</td><td>60</td><td>27.2</td><td>60</td><td>0.05</td></tr><tr><td>10419</td><td>69</td><td>28.8</td><td>20</td><td>0.05</td></tr><tr><td>10420</td><td>9</td><td>77.6</td><td>20</td><td>0.1</td></tr><tr><td>10420</td><td>13</td><td>4.8</td><td>2</td><td>0.1</td></tr><tr><td>10420</td><td>70</td><td>12.0</td><td>8</td><td>0.1</td></tr><tr><td>10420</td><td>73</td><td>12.0</td><td>20</td><td>0.1</td></tr><tr><td>10421</td><td>19</td><td>7.3</td><td>4</td><td>0.15</td></tr><tr><td>10421</td><td>53</td><td>26.2</td><td>15</td><td>0.15</td></tr><tr><td>10421</td><td>77</td><td>10.4</td><td>10</td><td>0.15</td></tr><tr><td>10424</td><td>35</td><td>14.4</td><td>60</td><td>0.2</td></tr><tr><td>10424</td><td>38</td><td>210.8</td><td>49</td><td>0.2</td></tr><tr><td>10424</td><td>68</td><td>10.0</td><td>30</td><td>0.2</td></tr><tr><td>10425</td><td>55</td><td>19.2</td><td>10</td><td>0.25</td></tr><tr><td>10425</td><td>76</td><td>14.4</td><td>20</td><td>0.25</td></tr><tr><td>10429</td><td>63</td><td>35.1</td><td>35</td><td>0.25</td></tr><tr><td>10430</td><td>17</td><td>31.2</td><td>45</td><td>0.2</td></tr><tr><td>10430</td><td>59</td><td>44.0</td><td>70</td><td>0.2</td></tr><tr><td>10431</td><td>17</td><td>31.2</td><td>50</td><td>0.25</td></tr><tr><td>10431</td><td>40</td><td>14.7</td><td>50</td><td>0.25</td></tr><tr><td>10431</td><td>47</td><td>7.6</td><td>30</td><td>0.25</td></tr><tr><td>10434</td><td>76</td><td>14.4</td><td>18</td><td>0.15</td></tr><tr><td>10436</td><td>56</td><td>30.4</td><td>40</td><td>0.1</td></tr><tr><td>10436</td><td>64</td><td>26.6</td><td>30</td><td>0.1</td></tr><tr><td>10436</td><td>75</td><td>6.2</td><td>24</td><td>0.1</td></tr><tr><td>10438</td><td>19</td><td>7.3</td><td>15</td><td>0.2</td></tr><tr><td>10438</td><td>34</td><td>11.2</td><td>20</td><td>0.2</td></tr><tr><td>10438</td><td>57</td><td>15.6</td><td>15</td><td>0.2</td></tr><tr><td>10440</td><td>2</td><td>15.2</td><td>45</td><td>0.15</td></tr><tr><td>10440</td><td>16</td><td>13.9</td><td>49</td><td>0.15</td></tr><tr><td>10440</td><td>29</td><td>99.0</td><td>24</td><td>0.15</td></tr><tr><td>10440</td><td>61</td><td>22.8</td><td>90</td><td>0.15</td></tr><tr><td>10443</td><td>11</td><td>16.8</td><td>6</td><td>0.2</td></tr><tr><td>10446</td><td>19</td><td>7.3</td><td>12</td><td>0.1</td></tr><tr><td>10446</td><td>24</td><td>3.6</td><td>20</td><td>0.1</td></tr><tr><td>10446</td><td>31</td><td>10.0</td><td>3</td><td>0.1</td></tr><tr><td>10446</td><td>52</td><td>5.6</td><td>15</td><td>0.1</td></tr><tr><td>10450</td><td>10</td><td>24.8</td><td>20</td><td>0.2</td></tr><tr><td>10450</td><td>54</td><td>5.9</td><td>6</td><td>0.2</td></tr><tr><td>10451</td><td>55</td><td>19.2</td><td>120</td><td>0.1</td></tr><tr><td>10451</td><td>64</td><td>26.6</td><td>35</td><td>0.1</td></tr><tr><td>10451</td><td>65</td><td>16.8</td><td>28</td><td>0.1</td></tr><tr><td>10451</td><td>77</td><td>10.4</td><td>55</td><td>0.1</td></tr><tr><td>10452</td><td>44</td><td>15.5</td><td>100</td><td>0.05</td></tr><tr><td>10453</td><td>48</td><td>10.2</td><td>15</td><td>0.1</td></tr><tr><td>10453</td><td>70</td><td>12.0</td><td>25</td><td>0.1</td></tr><tr><td>10454</td><td>16</td><td>13.9</td><td>20</td><td>0.2</td></tr><tr><td>10454</td><td>33</td><td>2.0</td><td>20</td><td>0.2</td></tr><tr><td>10454</td><td>46</td><td>9.6</td><td>10</td><td>0.2</td></tr><tr><td>10456</td><td>21</td><td>8.0</td><td>40</td><td>0.15</td></tr><tr><td>10456</td><td>49</td><td>16.0</td><td>21</td><td>0.15</td></tr><tr><td>10459</td><td>7</td><td>24.0</td><td>16</td><td>0.05</td></tr><tr><td>10459</td><td>46</td><td>9.6</td><td>20</td><td>0.05</td></tr><tr><td>10460</td><td>68</td><td>10.0</td><td>21</td><td>0.25</td></tr><tr><td>10460</td><td>75</td><td>6.2</td><td>4</td><td>0.25</td></tr><tr><td>10461</td><td>21</td><td>8.0</td><td>40</td><td>0.25</td></tr><tr><td>10461</td><td>30</td><td>20.7</td><td>28</td><td>0.25</td></tr><tr><td>10461</td><td>55</td><td>19.2</td><td>60</td><td>0.25</td></tr><tr><td>10464</td><td>4</td><td>17.6</td><td>16</td><td>0.2</td></tr><tr><td>10464</td><td>56</td><td>30.4</td><td>30</td><td>0.2</td></tr><tr><td>10465</td><td>29</td><td>99.0</td><td>18</td><td>0.1</td></tr><tr><td>10465</td><td>45</td><td>7.6</td><td>30</td><td>0.1</td></tr><tr><td>10469</td><td>2</td><td>15.2</td><td>40</td><td>0.15</td></tr><tr><td>10469</td><td>16</td><td>13.9</td><td>35</td><td>0.15</td></tr><tr><td>10469</td><td>44</td><td>15.5</td><td>2</td><td>0.15</td></tr><tr><td>10472</td><td>24</td><td>3.6</td><td>80</td><td>0.05</td></tr><tr><td>10475</td><td>31</td><td>10.0</td><td>35</td><td>0.15</td></tr><tr><td>10475</td><td>66</td><td>13.6</td><td>60</td><td>0.15</td></tr><tr><td>10475</td><td>76</td><td>14.4</td><td>42</td><td>0.15</td></tr><tr><td>10476</td><td>55</td><td>19.2</td><td>2</td><td>0.05</td></tr><tr><td>10477</td><td>21</td><td>8.0</td><td>21</td><td>0.25</td></tr><tr><td>10477</td><td>39</td><td>14.4</td><td>20</td><td>0.25</td></tr><tr><td>10478</td><td>10</td><td>24.8</td><td>20</td><td>0.05</td></tr><tr><td>10483</td><td>34</td><td>11.2</td><td>35</td><td>0.05</td></tr><tr><td>10483</td><td>77</td><td>10.4</td><td>30</td><td>0.05</td></tr><tr><td>10485</td><td>2</td><td>15.2</td><td>20</td><td>0.1</td></tr><tr><td>10485</td><td>3</td><td>8.0</td><td>20</td><td>0.1</td></tr><tr><td>10485</td><td>55</td><td>19.2</td><td>30</td><td>0.1</td></tr><tr><td>10485</td><td>70</td><td>12.0</td><td>60</td><td>0.1</td></tr><tr><td>10487</td><td>54</td><td>5.9</td><td>24</td><td>0.25</td></tr><tr><td>10488</td><td>73</td><td>12.0</td><td>20</td><td>0.2</td></tr><tr><td>10489</td><td>11</td><td>16.8</td><td>15</td><td>0.25</td></tr><tr><td>10491</td><td>44</td><td>15.5</td><td>15</td><td>0.15</td></tr><tr><td>10491</td><td>77</td><td>10.4</td><td>7</td><td>0.15</td></tr><tr><td>10492</td><td>25</td><td>11.2</td><td>60</td><td>0.05</td></tr><tr><td>10492</td><td>42</td><td>11.2</td><td>20</td><td>0.05</td></tr><tr><td>10493</td><td>65</td><td>16.8</td><td>15</td><td>0.1</td></tr><tr><td>10493</td><td>66</td><td>13.6</td><td>10</td><td>0.1</td></tr><tr><td>10493</td><td>69</td><td>28.8</td><td>10</td><td>0.1</td></tr><tr><td>10496</td><td>31</td><td>10.0</td><td>20</td><td>0.05</td></tr><tr><td>10500</td><td>15</td><td>15.5</td><td>12</td><td>0.05</td></tr><tr><td>10500</td><td>28</td><td>45.6</td><td>8</td><td>0.05</td></tr><tr><td>10506</td><td>25</td><td>14.0</td><td>18</td><td>0.1</td></tr><tr><td>10506</td><td>70</td><td>15.0</td><td>14</td><td>0.1</td></tr><tr><td>10507</td><td>43</td><td>46.0</td><td>15</td><td>0.15</td></tr><tr><td>10507</td><td>48</td><td>12.75</td><td>15</td><td>0.15</td></tr><tr><td>10510</td><td>75</td><td>7.75</td><td>36</td><td>0.1</td></tr><tr><td>10511</td><td>4</td><td>22.0</td><td>50</td><td>0.15</td></tr><tr><td>10511</td><td>7</td><td>30.0</td><td>50</td><td>0.15</td></tr><tr><td>10511</td><td>8</td><td>40.0</td><td>10</td><td>0.15</td></tr><tr><td>10512</td><td>24</td><td>4.5</td><td>10</td><td>0.15</td></tr><tr><td>10512</td><td>46</td><td>12.0</td><td>9</td><td>0.15</td></tr><tr><td>10512</td><td>47</td><td>9.5</td><td>6</td><td>0.15</td></tr><tr><td>10512</td><td>60</td><td>34.0</td><td>12</td><td>0.15</td></tr><tr><td>10513</td><td>21</td><td>10.0</td><td>40</td><td>0.2</td></tr><tr><td>10513</td><td>32</td><td>32.0</td><td>50</td><td>0.2</td></tr><tr><td>10513</td><td>61</td><td>28.5</td><td>15</td><td>0.2</td></tr><tr><td>10515</td><td>9</td><td>97.0</td><td>16</td><td>0.15</td></tr><tr><td>10515</td><td>33</td><td>2.5</td><td>16</td><td>0.15</td></tr><tr><td>10515</td><td>60</td><td>34.0</td><td>84</td><td>0.15</td></tr><tr><td>10516</td><td>18</td><td>62.5</td><td>25</td><td>0.1</td></tr><tr><td>10516</td><td>41</td><td>9.65</td><td>80</td><td>0.1</td></tr><tr><td>10519</td><td>10</td><td>31.0</td><td>16</td><td>0.05</td></tr><tr><td>10519</td><td>60</td><td>34.0</td><td>10</td><td>0.05</td></tr><tr><td>10522</td><td>1</td><td>18.0</td><td>40</td><td>0.2</td></tr><tr><td>10522</td><td>30</td><td>25.89</td><td>20</td><td>0.2</td></tr><tr><td>10522</td><td>40</td><td>18.4</td><td>25</td><td>0.2</td></tr><tr><td>10523</td><td>17</td><td>39.0</td><td>25</td><td>0.1</td></tr><tr><td>10523</td><td>20</td><td>81.0</td><td>15</td><td>0.1</td></tr><tr><td>10523</td><td>37</td><td>26.0</td><td>18</td><td>0.1</td></tr><tr><td>10523</td><td>41</td><td>9.65</td><td>6</td><td>0.1</td></tr><tr><td>10525</td><td>40</td><td>18.4</td><td>15</td><td>0.1</td></tr><tr><td>10526</td><td>1</td><td>18.0</td><td>8</td><td>0.15</td></tr><tr><td>10526</td><td>56</td><td>38.0</td><td>30</td><td>0.15</td></tr><tr><td>10527</td><td>4</td><td>22.0</td><td>50</td><td>0.1</td></tr><tr><td>10527</td><td>36</td><td>19.0</td><td>30</td><td>0.1</td></tr><tr><td>10528</td><td>33</td><td>2.5</td><td>8</td><td>0.2</td></tr><tr><td>10533</td><td>4</td><td>22.0</td><td>50</td><td>0.05</td></tr><tr><td>10533</td><td>73</td><td>15.0</td><td>24</td><td>0.05</td></tr><tr><td>10534</td><td>40</td><td>18.4</td><td>10</td><td>0.2</td></tr><tr><td>10534</td><td>54</td><td>7.45</td><td>10</td><td>0.2</td></tr><tr><td>10535</td><td>11</td><td>21.0</td><td>50</td><td>0.1</td></tr><tr><td>10535</td><td>40</td><td>18.4</td><td>10</td><td>0.1</td></tr><tr><td>10535</td><td>57</td><td>19.5</td><td>5</td><td>0.1</td></tr><tr><td>10535</td><td>59</td><td>55.0</td><td>15</td><td>0.1</td></tr><tr><td>10536</td><td>12</td><td>38.0</td><td>15</td><td>0.25</td></tr><tr><td>10536</td><td>60</td><td>34.0</td><td>35</td><td>0.25</td></tr><tr><td>10541</td><td>24</td><td>4.5</td><td>35</td><td>0.1</td></tr><tr><td>10541</td><td>38</td><td>263.5</td><td>4</td><td>0.1</td></tr><tr><td>10541</td><td>65</td><td>21.05</td><td>36</td><td>0.1</td></tr><tr><td>10541</td><td>71</td><td>21.5</td><td>9</td><td>0.1</td></tr><tr><td>10542</td><td>11</td><td>21.0</td><td>15</td><td>0.05</td></tr><tr><td>10542</td><td>54</td><td>7.45</td><td>24</td><td>0.05</td></tr><tr><td>10543</td><td>12</td><td>38.0</td><td>30</td><td>0.15</td></tr><tr><td>10543</td><td>23</td><td>9.0</td><td>70</td><td>0.15</td></tr><tr><td>10547</td><td>32</td><td>32.0</td><td>24</td><td>0.15</td></tr><tr><td>10548</td><td>34</td><td>14.0</td><td>10</td><td>0.25</td></tr><tr><td>10549</td><td>31</td><td>12.5</td><td>55</td><td>0.15</td></tr><tr><td>10549</td><td>45</td><td>9.5</td><td>100</td><td>0.15</td></tr><tr><td>10549</td><td>51</td><td>53.0</td><td>48</td><td>0.15</td></tr><tr><td>10550</td><td>17</td><td>39.0</td><td>8</td><td>0.1</td></tr><tr><td>10550</td><td>21</td><td>10.0</td><td>6</td><td>0.1</td></tr><tr><td>10550</td><td>61</td><td>28.5</td><td>10</td><td>0.1</td></tr><tr><td>10551</td><td>16</td><td>17.45</td><td>40</td><td>0.15</td></tr><tr><td>10551</td><td>35</td><td>18.0</td><td>20</td><td>0.15</td></tr><tr><td>10554</td><td>16</td><td>17.45</td><td>30</td><td>0.05</td></tr><tr><td>10554</td><td>23</td><td>9.0</td><td>20</td><td>0.05</td></tr><tr><td>10554</td><td>62</td><td>49.3</td><td>20</td><td>0.05</td></tr><tr><td>10554</td><td>77</td><td>13.0</td><td>10</td><td>0.05</td></tr><tr><td>10555</td><td>14</td><td>23.25</td><td>30</td><td>0.2</td></tr><tr><td>10555</td><td>19</td><td>9.2</td><td>35</td><td>0.2</td></tr><tr><td>10555</td><td>24</td><td>4.5</td><td>18</td><td>0.2</td></tr><tr><td>10555</td><td>51</td><td>53.0</td><td>20</td><td>0.2</td></tr><tr><td>10555</td><td>56</td><td>38.0</td><td>40</td><td>0.2</td></tr><tr><td>10559</td><td>41</td><td>9.65</td><td>12</td><td>0.05</td></tr><tr><td>10559</td><td>55</td><td>24.0</td><td>18</td><td>0.05</td></tr><tr><td>10560</td><td>62</td><td>49.3</td><td>15</td><td>0.25</td></tr><tr><td>10562</td><td>33</td><td>2.5</td><td>20</td><td>0.1</td></tr><tr><td>10562</td><td>62</td><td>49.3</td><td>10</td><td>0.1</td></tr><tr><td>10564</td><td>17</td><td>39.0</td><td>16</td><td>0.05</td></tr><tr><td>10564</td><td>31</td><td>12.5</td><td>6</td><td>0.05</td></tr><tr><td>10564</td><td>55</td><td>24.0</td><td>25</td><td>0.05</td></tr><tr><td>10565</td><td>24</td><td>4.5</td><td>25</td><td>0.1</td></tr><tr><td>10565</td><td>64</td><td>33.25</td><td>18</td><td>0.1</td></tr><tr><td>10566</td><td>11</td><td>21.0</td><td>35</td><td>0.15</td></tr><tr><td>10566</td><td>18</td><td>62.5</td><td>18</td><td>0.15</td></tr><tr><td>10567</td><td>31</td><td>12.5</td><td>60</td><td>0.2</td></tr><tr><td>10567</td><td>59</td><td>55.0</td><td>40</td><td>0.2</td></tr><tr><td>10569</td><td>31</td><td>12.5</td><td>35</td><td>0.2</td></tr><tr><td>10570</td><td>11</td><td>21.0</td><td>15</td><td>0.05</td></tr><tr><td>10570</td><td>56</td><td>38.0</td><td>60</td><td>0.05</td></tr><tr><td>10571</td><td>14</td><td>23.25</td><td>11</td><td>0.15</td></tr><tr><td>10571</td><td>42</td><td>14.0</td><td>28</td><td>0.15</td></tr><tr><td>10572</td><td>16</td><td>17.45</td><td>12</td><td>0.1</td></tr><tr><td>10572</td><td>32</td><td>32.0</td><td>10</td><td>0.1</td></tr><tr><td>10572</td><td>75</td><td>7.75</td><td>15</td><td>0.1</td></tr><tr><td>10580</td><td>14</td><td>23.25</td><td>15</td><td>0.05</td></tr><tr><td>10580</td><td>41</td><td>9.65</td><td>9</td><td>0.05</td></tr><tr><td>10580</td><td>65</td><td>21.05</td><td>30</td><td>0.05</td></tr><tr><td>10581</td><td>75</td><td>7.75</td><td>50</td><td>0.2</td></tr><tr><td>10583</td><td>60</td><td>34.0</td><td>24</td><td>0.15</td></tr><tr><td>10583</td><td>69</td><td>36.0</td><td>10</td><td>0.15</td></tr><tr><td>10584</td><td>31</td><td>12.5</td><td>50</td><td>0.05</td></tr><tr><td>10586</td><td>52</td><td>7.0</td><td>4</td><td>0.15</td></tr><tr><td>10588</td><td>18</td><td>62.5</td><td>40</td><td>0.2</td></tr><tr><td>10588</td><td>42</td><td>14.0</td><td>100</td><td>0.2</td></tr><tr><td>10590</td><td>77</td><td>13.0</td><td>60</td><td>0.05</td></tr><tr><td>10592</td><td>15</td><td>15.5</td><td>25</td><td>0.05</td></tr><tr><td>10592</td><td>26</td><td>31.23</td><td>5</td><td>0.05</td></tr><tr><td>10593</td><td>20</td><td>81.0</td><td>21</td><td>0.2</td></tr><tr><td>10593</td><td>69</td><td>36.0</td><td>20</td><td>0.2</td></tr><tr><td>10593</td><td>76</td><td>18.0</td><td>4</td><td>0.2</td></tr><tr><td>10595</td><td>35</td><td>18.0</td><td>30</td><td>0.25</td></tr><tr><td>10595</td><td>61</td><td>28.5</td><td>120</td><td>0.25</td></tr><tr><td>10595</td><td>69</td><td>36.0</td><td>65</td><td>0.25</td></tr><tr><td>10596</td><td>56</td><td>38.0</td><td>5</td><td>0.2</td></tr><tr><td>10596</td><td>63</td><td>43.9</td><td>24</td><td>0.2</td></tr><tr><td>10596</td><td>75</td><td>7.75</td><td>30</td><td>0.2</td></tr><tr><td>10597</td><td>24</td><td>4.5</td><td>35</td><td>0.2</td></tr><tr><td>10597</td><td>65</td><td>21.05</td><td>12</td><td>0.2</td></tr><tr><td>10602</td><td>77</td><td>13.0</td><td>5</td><td>0.25</td></tr><tr><td>10603</td><td>49</td><td>20.0</td><td>25</td><td>0.05</td></tr><tr><td>10604</td><td>48</td><td>12.75</td><td>6</td><td>0.1</td></tr><tr><td>10604</td><td>76</td><td>18.0</td><td>10</td><td>0.1</td></tr><tr><td>10605</td><td>16</td><td>17.45</td><td>30</td><td>0.05</td></tr><tr><td>10605</td><td>59</td><td>55.0</td><td>20</td><td>0.05</td></tr><tr><td>10605</td><td>60</td><td>34.0</td><td>70</td><td>0.05</td></tr><tr><td>10605</td><td>71</td><td>21.5</td><td>15</td><td>0.05</td></tr><tr><td>10606</td><td>4</td><td>22.0</td><td>20</td><td>0.2</td></tr><tr><td>10606</td><td>55</td><td>24.0</td><td>20</td><td>0.2</td></tr><tr><td>10606</td><td>62</td><td>49.3</td><td>10</td><td>0.2</td></tr><tr><td>10610</td><td>36</td><td>19.0</td><td>21</td><td>0.25</td></tr><tr><td>10613</td><td>13</td><td>6.0</td><td>8</td><td>0.1</td></tr><tr><td>10616</td><td>38</td><td>263.5</td><td>15</td><td>0.05</td></tr><tr><td>10616</td><td>70</td><td>15.0</td><td>15</td><td>0.05</td></tr><tr><td>10616</td><td>71</td><td>21.5</td><td>15</td><td>0.05</td></tr><tr><td>10617</td><td>59</td><td>55.0</td><td>30</td><td>0.15</td></tr><tr><td>10622</td><td>68</td><td>12.5</td><td>18</td><td>0.2</td></tr><tr><td>10623</td><td>19</td><td>9.2</td><td>15</td><td>0.1</td></tr><tr><td>10623</td><td>21</td><td>10.0</td><td>25</td><td>0.1</td></tr><tr><td>10623</td><td>35</td><td>18.0</td><td>30</td><td>0.1</td></tr><tr><td>10627</td><td>73</td><td>15.0</td><td>35</td><td>0.15</td></tr><tr><td>10630</td><td>55</td><td>24.0</td><td>12</td><td>0.05</td></tr><tr><td>10631</td><td>75</td><td>7.75</td><td>8</td><td>0.1</td></tr><tr><td>10632</td><td>2</td><td>19.0</td><td>30</td><td>0.05</td></tr><tr><td>10632</td><td>33</td><td>2.5</td><td>20</td><td>0.05</td></tr><tr><td>10633</td><td>12</td><td>38.0</td><td>36</td><td>0.15</td></tr><tr><td>10633</td><td>13</td><td>6.0</td><td>13</td><td>0.15</td></tr><tr><td>10633</td><td>26</td><td>31.23</td><td>35</td><td>0.15</td></tr><tr><td>10633</td><td>62</td><td>49.3</td><td>80</td><td>0.15</td></tr><tr><td>10635</td><td>4</td><td>22.0</td><td>10</td><td>0.1</td></tr><tr><td>10635</td><td>5</td><td>21.35</td><td>15</td><td>0.1</td></tr><tr><td>10637</td><td>50</td><td>16.25</td><td>25</td><td>0.05</td></tr><tr><td>10637</td><td>56</td><td>38.0</td><td>60</td><td>0.05</td></tr><tr><td>10640</td><td>69</td><td>36.0</td><td>20</td><td>0.25</td></tr><tr><td>10640</td><td>70</td><td>15.0</td><td>15</td><td>0.25</td></tr><tr><td>10642</td><td>21</td><td>10.0</td><td>30</td><td>0.2</td></tr><tr><td>10642</td><td>61</td><td>28.5</td><td>20</td><td>0.2</td></tr><tr><td>10643</td><td>28</td><td>45.6</td><td>15</td><td>0.25</td></tr><tr><td>10643</td><td>39</td><td>18.0</td><td>21</td><td>0.25</td></tr><tr><td>10643</td><td>46</td><td>12.0</td><td>2</td><td>0.25</td></tr><tr><td>10644</td><td>18</td><td>62.5</td><td>4</td><td>0.1</td></tr><tr><td>10644</td><td>46</td><td>12.0</td><td>21</td><td>0.1</td></tr><tr><td>10646</td><td>1</td><td>18.0</td><td>15</td><td>0.25</td></tr><tr><td>10646</td><td>10</td><td>31.0</td><td>18</td><td>0.25</td></tr><tr><td>10646</td><td>71</td><td>21.5</td><td>30</td><td>0.25</td></tr><tr><td>10646</td><td>77</td><td>13.0</td><td>35</td><td>0.25</td></tr><tr><td>10648</td><td>24</td><td>4.5</td><td>15</td><td>0.15</td></tr><tr><td>10650</td><td>53</td><td>32.8</td><td>25</td><td>0.05</td></tr><tr><td>10651</td><td>19</td><td>9.2</td><td>12</td><td>0.25</td></tr><tr><td>10651</td><td>22</td><td>21.0</td><td>20</td><td>0.25</td></tr><tr><td>10652</td><td>30</td><td>25.89</td><td>2</td><td>0.25</td></tr><tr><td>10653</td><td>16</td><td>17.45</td><td>30</td><td>0.1</td></tr><tr><td>10653</td><td>60</td><td>34.0</td><td>20</td><td>0.1</td></tr><tr><td>10654</td><td>4</td><td>22.0</td><td>12</td><td>0.1</td></tr><tr><td>10654</td><td>39</td><td>18.0</td><td>20</td><td>0.1</td></tr><tr><td>10654</td><td>54</td><td>7.45</td><td>6</td><td>0.1</td></tr><tr><td>10655</td><td>41</td><td>9.65</td><td>20</td><td>0.2</td></tr><tr><td>10656</td><td>14</td><td>23.25</td><td>3</td><td>0.1</td></tr><tr><td>10656</td><td>44</td><td>19.45</td><td>28</td><td>0.1</td></tr><tr><td>10656</td><td>47</td><td>9.5</td><td>6</td><td>0.1</td></tr><tr><td>10658</td><td>40</td><td>18.4</td><td>70</td><td>0.05</td></tr><tr><td>10658</td><td>60</td><td>34.0</td><td>55</td><td>0.05</td></tr><tr><td>10658</td><td>77</td><td>13.0</td><td>70</td><td>0.05</td></tr><tr><td>10659</td><td>31</td><td>12.5</td><td>20</td><td>0.05</td></tr><tr><td>10659</td><td>40</td><td>18.4</td><td>24</td><td>0.05</td></tr><tr><td>10659</td><td>70</td><td>15.0</td><td>40</td><td>0.05</td></tr><tr><td>10661</td><td>39</td><td>18.0</td><td>3</td><td>0.2</td></tr><tr><td>10661</td><td>58</td><td>13.25</td><td>49</td><td>0.2</td></tr><tr><td>10663</td><td>40</td><td>18.4</td><td>30</td><td>0.05</td></tr><tr><td>10663</td><td>42</td><td>14.0</td><td>30</td><td>0.05</td></tr><tr><td>10663</td><td>51</td><td>53.0</td><td>20</td><td>0.05</td></tr><tr><td>10664</td><td>10</td><td>31.0</td><td>24</td><td>0.15</td></tr><tr><td>10664</td><td>56</td><td>38.0</td><td>12</td><td>0.15</td></tr><tr><td>10664</td><td>65</td><td>21.05</td><td>15</td><td>0.15</td></tr><tr><td>10667</td><td>69</td><td>36.0</td><td>45</td><td>0.2</td></tr><tr><td>10667</td><td>71</td><td>21.5</td><td>14</td><td>0.2</td></tr><tr><td>10668</td><td>31</td><td>12.5</td><td>8</td><td>0.1</td></tr><tr><td>10668</td><td>55</td><td>24.0</td><td>4</td><td>0.1</td></tr><tr><td>10668</td><td>64</td><td>33.25</td><td>15</td><td>0.1</td></tr><tr><td>10672</td><td>38</td><td>263.5</td><td>15</td><td>0.1</td></tr><tr><td>10677</td><td>26</td><td>31.23</td><td>30</td><td>0.15</td></tr><tr><td>10677</td><td>33</td><td>2.5</td><td>8</td><td>0.15</td></tr><tr><td>10680</td><td>16</td><td>17.45</td><td>50</td><td>0.25</td></tr><tr><td>10680</td><td>31</td><td>12.5</td><td>20</td><td>0.25</td></tr><tr><td>10680</td><td>42</td><td>14.0</td><td>40</td><td>0.25</td></tr><tr><td>10681</td><td>19</td><td>9.2</td><td>30</td><td>0.1</td></tr><tr><td>10681</td><td>21</td><td>10.0</td><td>12</td><td>0.1</td></tr><tr><td>10686</td><td>17</td><td>39.0</td><td>30</td><td>0.2</td></tr><tr><td>10687</td><td>9</td><td>97.0</td><td>50</td><td>0.25</td></tr><tr><td>10687</td><td>36</td><td>19.0</td><td>6</td><td>0.25</td></tr><tr><td>10688</td><td>10</td><td>31.0</td><td>18</td><td>0.1</td></tr><tr><td>10688</td><td>28</td><td>45.6</td><td>60</td><td>0.1</td></tr><tr><td>10689</td><td>1</td><td>18.0</td><td>35</td><td>0.25</td></tr><tr><td>10690</td><td>56</td><td>38.0</td><td>20</td><td>0.25</td></tr><tr><td>10690</td><td>77</td><td>13.0</td><td>30</td><td>0.25</td></tr><tr><td>10693</td><td>54</td><td>7.45</td><td>60</td><td>0.15</td></tr><tr><td>10693</td><td>69</td><td>36.0</td><td>30</td><td>0.15</td></tr><tr><td>10693</td><td>73</td><td>15.0</td><td>15</td><td>0.15</td></tr><tr><td>10697</td><td>19</td><td>9.2</td><td>7</td><td>0.25</td></tr><tr><td>10697</td><td>35</td><td>18.0</td><td>9</td><td>0.25</td></tr><tr><td>10697</td><td>58</td><td>13.25</td><td>30</td><td>0.25</td></tr><tr><td>10697</td><td>70</td><td>15.0</td><td>30</td><td>0.25</td></tr><tr><td>10698</td><td>17</td><td>39.0</td><td>8</td><td>0.05</td></tr><tr><td>10698</td><td>29</td><td>123.79</td><td>12</td><td>0.05</td></tr><tr><td>10698</td><td>65</td><td>21.05</td><td>65</td><td>0.05</td></tr><tr><td>10698</td><td>70</td><td>15.0</td><td>8</td><td>0.05</td></tr><tr><td>10700</td><td>1</td><td>18.0</td><td>5</td><td>0.2</td></tr><tr><td>10700</td><td>34</td><td>14.0</td><td>12</td><td>0.2</td></tr><tr><td>10700</td><td>68</td><td>12.5</td><td>40</td><td>0.2</td></tr><tr><td>10700</td><td>71</td><td>21.5</td><td>60</td><td>0.2</td></tr><tr><td>10701</td><td>59</td><td>55.0</td><td>42</td><td>0.15</td></tr><tr><td>10701</td><td>71</td><td>21.5</td><td>20</td><td>0.15</td></tr><tr><td>10701</td><td>76</td><td>18.0</td><td>35</td><td>0.15</td></tr><tr><td>10707</td><td>70</td><td>15.0</td><td>28</td><td>0.15</td></tr><tr><td>10712</td><td>53</td><td>32.8</td><td>3</td><td>0.05</td></tr><tr><td>10714</td><td>2</td><td>19.0</td><td>30</td><td>0.25</td></tr><tr><td>10714</td><td>17</td><td>39.0</td><td>27</td><td>0.25</td></tr><tr><td>10714</td><td>47</td><td>9.5</td><td>50</td><td>0.25</td></tr><tr><td>10714</td><td>56</td><td>38.0</td><td>18</td><td>0.25</td></tr><tr><td>10714</td><td>58</td><td>13.25</td><td>12</td><td>0.25</td></tr><tr><td>10717</td><td>21</td><td>10.0</td><td>32</td><td>0.05</td></tr><tr><td>10717</td><td>69</td><td>36.0</td><td>25</td><td>0.05</td></tr><tr><td>10719</td><td>18</td><td>62.5</td><td>12</td><td>0.25</td></tr><tr><td>10719</td><td>30</td><td>25.89</td><td>3</td><td>0.25</td></tr><tr><td>10719</td><td>54</td><td>7.45</td><td>40</td><td>0.25</td></tr><tr><td>10721</td><td>44</td><td>19.45</td><td>50</td><td>0.05</td></tr><tr><td>10727</td><td>17</td><td>39.0</td><td>20</td><td>0.05</td></tr><tr><td>10727</td><td>56</td><td>38.0</td><td>10</td><td>0.05</td></tr><tr><td>10727</td><td>59</td><td>55.0</td><td>10</td><td>0.05</td></tr><tr><td>10730</td><td>16</td><td>17.45</td><td>15</td><td>0.05</td></tr><tr><td>10730</td><td>31</td><td>12.5</td><td>3</td><td>0.05</td></tr><tr><td>10730</td><td>65</td><td>21.05</td><td>10</td><td>0.05</td></tr><tr><td>10731</td><td>21</td><td>10.0</td><td>40</td><td>0.05</td></tr><tr><td>10731</td><td>51</td><td>53.0</td><td>30</td><td>0.05</td></tr><tr><td>10735</td><td>61</td><td>28.5</td><td>20</td><td>0.1</td></tr><tr><td>10735</td><td>77</td><td>13.0</td><td>2</td><td>0.1</td></tr><tr><td>10740</td><td>28</td><td>45.6</td><td>5</td><td>0.2</td></tr><tr><td>10740</td><td>35</td><td>18.0</td><td>35</td><td>0.2</td></tr><tr><td>10740</td><td>45</td><td>9.5</td><td>40</td><td>0.2</td></tr><tr><td>10740</td><td>56</td><td>38.0</td><td>14</td><td>0.2</td></tr><tr><td>10741</td><td>2</td><td>19.0</td><td>15</td><td>0.2</td></tr><tr><td>10743</td><td>46</td><td>12.0</td><td>28</td><td>0.05</td></tr><tr><td>10744</td><td>40</td><td>18.4</td><td>50</td><td>0.2</td></tr><tr><td>10750</td><td>14</td><td>23.25</td><td>5</td><td>0.15</td></tr><tr><td>10750</td><td>45</td><td>9.5</td><td>40</td><td>0.15</td></tr><tr><td>10750</td><td>59</td><td>55.0</td><td>25</td><td>0.15</td></tr><tr><td>10751</td><td>26</td><td>31.23</td><td>12</td><td>0.1</td></tr><tr><td>10751</td><td>50</td><td>16.25</td><td>20</td><td>0.1</td></tr><tr><td>10755</td><td>47</td><td>9.5</td><td>30</td><td>0.25</td></tr><tr><td>10755</td><td>56</td><td>38.0</td><td>30</td><td>0.25</td></tr><tr><td>10755</td><td>57</td><td>19.5</td><td>14</td><td>0.25</td></tr><tr><td>10755</td><td>69</td><td>36.0</td><td>25</td><td>0.25</td></tr><tr><td>10756</td><td>18</td><td>62.5</td><td>21</td><td>0.2</td></tr><tr><td>10756</td><td>36</td><td>19.0</td><td>20</td><td>0.2</td></tr><tr><td>10756</td><td>68</td><td>12.5</td><td>6</td><td>0.2</td></tr><tr><td>10756</td><td>69</td><td>36.0</td><td>20</td><td>0.2</td></tr><tr><td>10760</td><td>25</td><td>14.0</td><td>12</td><td>0.25</td></tr><tr><td>10760</td><td>43</td><td>46.0</td><td>30</td><td>0.25</td></tr><tr><td>10761</td><td>25</td><td>14.0</td><td>35</td><td>0.25</td></tr><tr><td>10764</td><td>3</td><td>10.0</td><td>20</td><td>0.1</td></tr><tr><td>10764</td><td>39</td><td>18.0</td><td>130</td><td>0.1</td></tr><tr><td>10765</td><td>65</td><td>21.05</td><td>80</td><td>0.1</td></tr><tr><td>10769</td><td>41</td><td>9.65</td><td>30</td><td>0.05</td></tr><tr><td>10769</td><td>52</td><td>7.0</td><td>15</td><td>0.05</td></tr><tr><td>10770</td><td>11</td><td>21.0</td><td>15</td><td>0.25</td></tr><tr><td>10773</td><td>31</td><td>12.5</td><td>70</td><td>0.2</td></tr><tr><td>10773</td><td>75</td><td>7.75</td><td>7</td><td>0.2</td></tr><tr><td>10774</td><td>31</td><td>12.5</td><td>2</td><td>0.25</td></tr><tr><td>10776</td><td>31</td><td>12.5</td><td>16</td><td>0.05</td></tr><tr><td>10776</td><td>42</td><td>14.0</td><td>12</td><td>0.05</td></tr><tr><td>10776</td><td>45</td><td>9.5</td><td>27</td><td>0.05</td></tr><tr><td>10776</td><td>51</td><td>53.0</td><td>120</td><td>0.05</td></tr><tr><td>10777</td><td>42</td><td>14.0</td><td>20</td><td>0.2</td></tr><tr><td>10781</td><td>54</td><td>7.45</td><td>3</td><td>0.2</td></tr><tr><td>10781</td><td>56</td><td>38.0</td><td>20</td><td>0.2</td></tr><tr><td>10784</td><td>39</td><td>18.0</td><td>2</td><td>0.15</td></tr><tr><td>10784</td><td>72</td><td>34.8</td><td>30</td><td>0.15</td></tr><tr><td>10786</td><td>8</td><td>40.0</td><td>30</td><td>0.2</td></tr><tr><td>10786</td><td>30</td><td>25.89</td><td>15</td><td>0.2</td></tr><tr><td>10786</td><td>75</td><td>7.75</td><td>42</td><td>0.2</td></tr><tr><td>10787</td><td>2</td><td>19.0</td><td>15</td><td>0.05</td></tr><tr><td>10787</td><td>29</td><td>123.79</td><td>20</td><td>0.05</td></tr><tr><td>10788</td><td>19</td><td>9.2</td><td>50</td><td>0.05</td></tr><tr><td>10788</td><td>75</td><td>7.75</td><td>40</td><td>0.05</td></tr><tr><td>10790</td><td>7</td><td>30.0</td><td>3</td><td>0.15</td></tr><tr><td>10790</td><td>56</td><td>38.0</td><td>20</td><td>0.15</td></tr><tr><td>10791</td><td>29</td><td>123.79</td><td>14</td><td>0.05</td></tr><tr><td>10791</td><td>41</td><td>9.65</td><td>20</td><td>0.05</td></tr><tr><td>10794</td><td>14</td><td>23.25</td><td>15</td><td>0.2</td></tr><tr><td>10794</td><td>54</td><td>7.45</td><td>6</td><td>0.2</td></tr><tr><td>10795</td><td>17</td><td>39.0</td><td>35</td><td>0.25</td></tr><tr><td>10796</td><td>26</td><td>31.23</td><td>21</td><td>0.2</td></tr><tr><td>10796</td><td>64</td><td>33.25</td><td>35</td><td>0.2</td></tr><tr><td>10796</td><td>69</td><td>36.0</td><td>24</td><td>0.2</td></tr><tr><td>10799</td><td>13</td><td>6.0</td><td>20</td><td>0.15</td></tr><tr><td>10799</td><td>24</td><td>4.5</td><td>20</td><td>0.15</td></tr><tr><td>10800</td><td>11</td><td>21.0</td><td>50</td><td>0.1</td></tr><tr><td>10800</td><td>51</td><td>53.0</td><td>10</td><td>0.1</td></tr><tr><td>10800</td><td>54</td><td>7.45</td><td>7</td><td>0.1</td></tr><tr><td>10801</td><td>17</td><td>39.0</td><td>40</td><td>0.25</td></tr><tr><td>10801</td><td>29</td><td>123.79</td><td>20</td><td>0.25</td></tr><tr><td>10802</td><td>30</td><td>25.89</td><td>25</td><td>0.25</td></tr><tr><td>10802</td><td>51</td><td>53.0</td><td>30</td><td>0.25</td></tr><tr><td>10802</td><td>55</td><td>24.0</td><td>60</td><td>0.25</td></tr><tr><td>10802</td><td>62</td><td>49.3</td><td>5</td><td>0.25</td></tr><tr><td>10803</td><td>19</td><td>9.2</td><td>24</td><td>0.05</td></tr><tr><td>10803</td><td>25</td><td>14.0</td><td>15</td><td>0.05</td></tr><tr><td>10803</td><td>59</td><td>55.0</td><td>15</td><td>0.05</td></tr><tr><td>10804</td><td>49</td><td>20.0</td><td>4</td><td>0.15</td></tr><tr><td>10806</td><td>2</td><td>19.0</td><td>20</td><td>0.25</td></tr><tr><td>10806</td><td>74</td><td>10.0</td><td>15</td><td>0.25</td></tr><tr><td>10808</td><td>56</td><td>38.0</td><td>20</td><td>0.15</td></tr><tr><td>10808</td><td>76</td><td>18.0</td><td>50</td><td>0.15</td></tr><tr><td>10812</td><td>31</td><td>12.5</td><td>16</td><td>0.1</td></tr><tr><td>10812</td><td>72</td><td>34.8</td><td>40</td><td>0.1</td></tr><tr><td>10813</td><td>2</td><td>19.0</td><td>12</td><td>0.2</td></tr><tr><td>10814</td><td>43</td><td>46.0</td><td>20</td><td>0.15</td></tr><tr><td>10814</td><td>48</td><td>12.75</td><td>8</td><td>0.15</td></tr><tr><td>10814</td><td>61</td><td>28.5</td><td>30</td><td>0.15</td></tr><tr><td>10816</td><td>38</td><td>263.5</td><td>30</td><td>0.05</td></tr><tr><td>10816</td><td>62</td><td>49.3</td><td>20</td><td>0.05</td></tr><tr><td>10817</td><td>26</td><td>31.23</td><td>40</td><td>0.15</td></tr><tr><td>10817</td><td>40</td><td>18.4</td><td>60</td><td>0.15</td></tr><tr><td>10817</td><td>62</td><td>49.3</td><td>25</td><td>0.15</td></tr><tr><td>10823</td><td>11</td><td>21.0</td><td>20</td><td>0.1</td></tr><tr><td>10823</td><td>59</td><td>55.0</td><td>40</td><td>0.1</td></tr><tr><td>10823</td><td>77</td><td>13.0</td><td>15</td><td>0.1</td></tr><tr><td>10832</td><td>13</td><td>6.0</td><td>3</td><td>0.2</td></tr><tr><td>10832</td><td>25</td><td>14.0</td><td>10</td><td>0.2</td></tr><tr><td>10832</td><td>44</td><td>19.45</td><td>16</td><td>0.2</td></tr><tr><td>10833</td><td>7</td><td>30.0</td><td>20</td><td>0.1</td></tr><tr><td>10833</td><td>31</td><td>12.5</td><td>9</td><td>0.1</td></tr><tr><td>10833</td><td>53</td><td>32.8</td><td>9</td><td>0.1</td></tr><tr><td>10834</td><td>29</td><td>123.79</td><td>8</td><td>0.05</td></tr><tr><td>10834</td><td>30</td><td>25.89</td><td>20</td><td>0.05</td></tr><tr><td>10835</td><td>77</td><td>13.0</td><td>2</td><td>0.2</td></tr><tr><td>10837</td><td>47</td><td>9.5</td><td>40</td><td>0.25</td></tr><tr><td>10837</td><td>76</td><td>18.0</td><td>21</td><td>0.25</td></tr><tr><td>10838</td><td>1</td><td>18.0</td><td>4</td><td>0.25</td></tr><tr><td>10838</td><td>18</td><td>62.5</td><td>25</td><td>0.25</td></tr><tr><td>10838</td><td>36</td><td>19.0</td><td>50</td><td>0.25</td></tr><tr><td>10839</td><td>58</td><td>13.25</td><td>30</td><td>0.1</td></tr><tr><td>10839</td><td>72</td><td>34.8</td><td>15</td><td>0.1</td></tr><tr><td>10840</td><td>25</td><td>14.0</td><td>6</td><td>0.2</td></tr><tr><td>10840</td><td>39</td><td>18.0</td><td>10</td><td>0.2</td></tr><tr><td>10843</td><td>51</td><td>53.0</td><td>4</td><td>0.25</td></tr><tr><td>10845</td><td>23</td><td>9.0</td><td>70</td><td>0.1</td></tr><tr><td>10845</td><td>35</td><td>18.0</td><td>25</td><td>0.1</td></tr><tr><td>10845</td><td>42</td><td>14.0</td><td>42</td><td>0.1</td></tr><tr><td>10845</td><td>58</td><td>13.25</td><td>60</td><td>0.1</td></tr><tr><td>10847</td><td>1</td><td>18.0</td><td>80</td><td>0.2</td></tr><tr><td>10847</td><td>19</td><td>9.2</td><td>12</td><td>0.2</td></tr><tr><td>10847</td><td>37</td><td>26.0</td><td>60</td><td>0.2</td></tr><tr><td>10847</td><td>45</td><td>9.5</td><td>36</td><td>0.2</td></tr><tr><td>10847</td><td>60</td><td>34.0</td><td>45</td><td>0.2</td></tr><tr><td>10847</td><td>71</td><td>21.5</td><td>55</td><td>0.2</td></tr><tr><td>10849</td><td>26</td><td>31.23</td><td>18</td><td>0.15</td></tr><tr><td>10850</td><td>25</td><td>14.0</td><td>20</td><td>0.15</td></tr><tr><td>10850</td><td>33</td><td>2.5</td><td>4</td><td>0.15</td></tr><tr><td>10850</td><td>70</td><td>15.0</td><td>30</td><td>0.15</td></tr><tr><td>10851</td><td>2</td><td>19.0</td><td>5</td><td>0.05</td></tr><tr><td>10851</td><td>25</td><td>14.0</td><td>10</td><td>0.05</td></tr><tr><td>10851</td><td>57</td><td>19.5</td><td>10</td><td>0.05</td></tr><tr><td>10851</td><td>59</td><td>55.0</td><td>42</td><td>0.05</td></tr><tr><td>10854</td><td>10</td><td>31.0</td><td>100</td><td>0.15</td></tr><tr><td>10854</td><td>13</td><td>6.0</td><td>65</td><td>0.15</td></tr><tr><td>10855</td><td>65</td><td>21.05</td><td>15</td><td>0.15</td></tr><tr><td>10857</td><td>26</td><td>31.23</td><td>35</td><td>0.25</td></tr><tr><td>10857</td><td>29</td><td>123.79</td><td>10</td><td>0.25</td></tr><tr><td>10859</td><td>24</td><td>4.5</td><td>40</td><td>0.25</td></tr><tr><td>10859</td><td>54</td><td>7.45</td><td>35</td><td>0.25</td></tr><tr><td>10859</td><td>64</td><td>33.25</td><td>30</td><td>0.25</td></tr><tr><td>10863</td><td>1</td><td>18.0</td><td>20</td><td>0.15</td></tr><tr><td>10863</td><td>58</td><td>13.25</td><td>12</td><td>0.15</td></tr><tr><td>10865</td><td>38</td><td>263.5</td><td>60</td><td>0.05</td></tr><tr><td>10865</td><td>39</td><td>18.0</td><td>80</td><td>0.05</td></tr><tr><td>10866</td><td>2</td><td>19.0</td><td>21</td><td>0.25</td></tr><tr><td>10866</td><td>24</td><td>4.5</td><td>6</td><td>0.25</td></tr><tr><td>10866</td><td>30</td><td>25.89</td><td>40</td><td>0.25</td></tr><tr><td>10868</td><td>49</td><td>20.0</td><td>42</td><td>0.1</td></tr><tr><td>10871</td><td>6</td><td>25.0</td><td>50</td><td>0.05</td></tr><tr><td>10871</td><td>16</td><td>17.45</td><td>12</td><td>0.05</td></tr><tr><td>10871</td><td>17</td><td>39.0</td><td>16</td><td>0.05</td></tr><tr><td>10872</td><td>55</td><td>24.0</td><td>10</td><td>0.05</td></tr><tr><td>10872</td><td>62</td><td>49.3</td><td>20</td><td>0.05</td></tr><tr><td>10872</td><td>64</td><td>33.25</td><td>15</td><td>0.05</td></tr><tr><td>10872</td><td>65</td><td>21.05</td><td>21</td><td>0.05</td></tr><tr><td>10875</td><td>47</td><td>9.5</td><td>21</td><td>0.1</td></tr><tr><td>10877</td><td>16</td><td>17.45</td><td>30</td><td>0.25</td></tr><tr><td>10878</td><td>20</td><td>81.0</td><td>20</td><td>0.05</td></tr><tr><td>10880</td><td>23</td><td>9.0</td><td>30</td><td>0.2</td></tr><tr><td>10880</td><td>61</td><td>28.5</td><td>30</td><td>0.2</td></tr><tr><td>10880</td><td>70</td><td>15.0</td><td>50</td><td>0.2</td></tr><tr><td>10882</td><td>49</td><td>20.0</td><td>20</td><td>0.15</td></tr><tr><td>10882</td><td>54</td><td>7.45</td><td>32</td><td>0.15</td></tr><tr><td>10884</td><td>21</td><td>10.0</td><td>40</td><td>0.05</td></tr><tr><td>10884</td><td>56</td><td>38.0</td><td>21</td><td>0.05</td></tr><tr><td>10884</td><td>65</td><td>21.05</td><td>12</td><td>0.05</td></tr><tr><td>10891</td><td>30</td><td>25.89</td><td>15</td><td>0.05</td></tr><tr><td>10892</td><td>59</td><td>55.0</td><td>40</td><td>0.05</td></tr><tr><td>10894</td><td>13</td><td>6.0</td><td>28</td><td>0.05</td></tr><tr><td>10894</td><td>69</td><td>36.0</td><td>50</td><td>0.05</td></tr><tr><td>10894</td><td>75</td><td>7.75</td><td>120</td><td>0.05</td></tr><tr><td>10899</td><td>39</td><td>18.0</td><td>8</td><td>0.15</td></tr><tr><td>10900</td><td>70</td><td>15.0</td><td>3</td><td>0.25</td></tr><tr><td>10902</td><td>55</td><td>24.0</td><td>30</td><td>0.15</td></tr><tr><td>10902</td><td>62</td><td>49.3</td><td>6</td><td>0.15</td></tr><tr><td>10905</td><td>1</td><td>18.0</td><td>20</td><td>0.05</td></tr><tr><td>10908</td><td>7</td><td>30.0</td><td>20</td><td>0.05</td></tr><tr><td>10908</td><td>52</td><td>7.0</td><td>14</td><td>0.05</td></tr><tr><td>10912</td><td>11</td><td>21.0</td><td>40</td><td>0.25</td></tr><tr><td>10912</td><td>29</td><td>123.79</td><td>60</td><td>0.25</td></tr><tr><td>10913</td><td>4</td><td>22.0</td><td>30</td><td>0.25</td></tr><tr><td>10913</td><td>33</td><td>2.5</td><td>40</td><td>0.25</td></tr><tr><td>10918</td><td>1</td><td>18.0</td><td>60</td><td>0.25</td></tr><tr><td>10918</td><td>60</td><td>34.0</td><td>25</td><td>0.25</td></tr><tr><td>10923</td><td>42</td><td>14.0</td><td>10</td><td>0.2</td></tr><tr><td>10923</td><td>43</td><td>46.0</td><td>10</td><td>0.2</td></tr><tr><td>10923</td><td>67</td><td>14.0</td><td>24</td><td>0.2</td></tr><tr><td>10924</td><td>10</td><td>31.0</td><td>20</td><td>0.1</td></tr><tr><td>10924</td><td>28</td><td>45.6</td><td>30</td><td>0.1</td></tr><tr><td>10925</td><td>36</td><td>19.0</td><td>25</td><td>0.15</td></tr><tr><td>10925</td><td>52</td><td>7.0</td><td>12</td><td>0.15</td></tr><tr><td>10930</td><td>55</td><td>24.0</td><td>25</td><td>0.2</td></tr><tr><td>10930</td><td>58</td><td>13.25</td><td>30</td><td>0.2</td></tr><tr><td>10931</td><td>13</td><td>6.0</td><td>42</td><td>0.15</td></tr><tr><td>10932</td><td>16</td><td>17.45</td><td>30</td><td>0.1</td></tr><tr><td>10932</td><td>62</td><td>49.3</td><td>14</td><td>0.1</td></tr><tr><td>10932</td><td>75</td><td>7.75</td><td>20</td><td>0.1</td></tr><tr><td>10935</td><td>18</td><td>62.5</td><td>4</td><td>0.25</td></tr><tr><td>10935</td><td>23</td><td>9.0</td><td>8</td><td>0.25</td></tr><tr><td>10936</td><td>36</td><td>19.0</td><td>30</td><td>0.2</td></tr><tr><td>10938</td><td>13</td><td>6.0</td><td>20</td><td>0.25</td></tr><tr><td>10938</td><td>43</td><td>46.0</td><td>24</td><td>0.25</td></tr><tr><td>10938</td><td>60</td><td>34.0</td><td>49</td><td>0.25</td></tr><tr><td>10938</td><td>71</td><td>21.5</td><td>35</td><td>0.25</td></tr><tr><td>10939</td><td>2</td><td>19.0</td><td>10</td><td>0.15</td></tr><tr><td>10939</td><td>67</td><td>14.0</td><td>40</td><td>0.15</td></tr><tr><td>10941</td><td>31</td><td>12.5</td><td>44</td><td>0.25</td></tr><tr><td>10941</td><td>62</td><td>49.3</td><td>30</td><td>0.25</td></tr><tr><td>10941</td><td>68</td><td>12.5</td><td>80</td><td>0.25</td></tr><tr><td>10944</td><td>11</td><td>21.0</td><td>5</td><td>0.25</td></tr><tr><td>10944</td><td>44</td><td>19.45</td><td>18</td><td>0.25</td></tr><tr><td>10951</td><td>33</td><td>2.5</td><td>15</td><td>0.05</td></tr><tr><td>10951</td><td>41</td><td>9.65</td><td>6</td><td>0.05</td></tr><tr><td>10951</td><td>75</td><td>7.75</td><td>50</td><td>0.05</td></tr><tr><td>10952</td><td>6</td><td>25.0</td><td>16</td><td>0.05</td></tr><tr><td>10953</td><td>20</td><td>81.0</td><td>50</td><td>0.05</td></tr><tr><td>10953</td><td>31</td><td>12.5</td><td>50</td><td>0.05</td></tr><tr><td>10954</td><td>16</td><td>17.45</td><td>28</td><td>0.15</td></tr><tr><td>10954</td><td>31</td><td>12.5</td><td>25</td><td>0.15</td></tr><tr><td>10954</td><td>60</td><td>34.0</td><td>24</td><td>0.15</td></tr><tr><td>10955</td><td>75</td><td>7.75</td><td>12</td><td>0.2</td></tr><tr><td>10959</td><td>75</td><td>7.75</td><td>20</td><td>0.15</td></tr><tr><td>10960</td><td>24</td><td>4.5</td><td>10</td><td>0.25</td></tr><tr><td>10961</td><td>52</td><td>7.0</td><td>6</td><td>0.05</td></tr><tr><td>10963</td><td>60</td><td>34.0</td><td>2</td><td>0.15</td></tr><tr><td>10966</td><td>56</td><td>38.0</td><td>12</td><td>0.15</td></tr><tr><td>10966</td><td>62</td><td>49.3</td><td>12</td><td>0.15</td></tr><tr><td>10970</td><td>52</td><td>7.0</td><td>40</td><td>0.2</td></tr><tr><td>10978</td><td>8</td><td>40.0</td><td>20</td><td>0.15</td></tr><tr><td>10978</td><td>21</td><td>10.0</td><td>40</td><td>0.15</td></tr><tr><td>10978</td><td>44</td><td>19.45</td><td>6</td><td>0.15</td></tr><tr><td>10980</td><td>75</td><td>7.75</td><td>40</td><td>0.2</td></tr><tr><td>10983</td><td>13</td><td>6.0</td><td>84</td><td>0.15</td></tr><tr><td>10985</td><td>16</td><td>17.45</td><td>36</td><td>0.1</td></tr><tr><td>10985</td><td>18</td><td>62.5</td><td>8</td><td>0.1</td></tr><tr><td>10985</td><td>32</td><td>32.0</td><td>35</td><td>0.1</td></tr><tr><td>10988</td><td>62</td><td>49.3</td><td>40</td><td>0.1</td></tr><tr><td>10990</td><td>34</td><td>14.0</td><td>60</td><td>0.15</td></tr><tr><td>10990</td><td>55</td><td>24.0</td><td>65</td><td>0.15</td></tr><tr><td>10990</td><td>61</td><td>28.5</td><td>66</td><td>0.15</td></tr><tr><td>10991</td><td>2</td><td>19.0</td><td>50</td><td>0.2</td></tr><tr><td>10991</td><td>70</td><td>15.0</td><td>20</td><td>0.2</td></tr><tr><td>10991</td><td>76</td><td>18.0</td><td>90</td><td>0.2</td></tr><tr><td>10993</td><td>29</td><td>123.79</td><td>50</td><td>0.25</td></tr><tr><td>10993</td><td>41</td><td>9.65</td><td>35</td><td>0.25</td></tr><tr><td>10994</td><td>59</td><td>55.0</td><td>18</td><td>0.05</td></tr><tr><td>10997</td><td>46</td><td>12.0</td><td>20</td><td>0.25</td></tr><tr><td>10997</td><td>52</td><td>7.0</td><td>20</td><td>0.25</td></tr><tr><td>10999</td><td>41</td><td>9.65</td><td>20</td><td>0.05</td></tr><tr><td>10999</td><td>51</td><td>53.0</td><td>15</td><td>0.05</td></tr><tr><td>10999</td><td>77</td><td>13.0</td><td>21</td><td>0.05</td></tr><tr><td>11000</td><td>4</td><td>22.0</td><td>25</td><td>0.25</td></tr><tr><td>11000</td><td>24</td><td>4.5</td><td>30</td><td>0.25</td></tr><tr><td>11002</td><td>35</td><td>18.0</td><td>15</td><td>0.15</td></tr><tr><td>11002</td><td>42</td><td>14.0</td><td>24</td><td>0.15</td></tr><tr><td>11006</td><td>29</td><td>123.79</td><td>2</td><td>0.25</td></tr><tr><td>11008</td><td>28</td><td>45.6</td><td>70</td><td>0.05</td></tr><tr><td>11008</td><td>34</td><td>14.0</td><td>90</td><td>0.05</td></tr><tr><td>11009</td><td>36</td><td>19.0</td><td>18</td><td>0.25</td></tr><tr><td>11011</td><td>58</td><td>13.25</td><td>40</td><td>0.05</td></tr><tr><td>11012</td><td>19</td><td>9.2</td><td>50</td><td>0.05</td></tr><tr><td>11012</td><td>60</td><td>34.0</td><td>36</td><td>0.05</td></tr><tr><td>11012</td><td>71</td><td>21.5</td><td>60</td><td>0.05</td></tr><tr><td>11014</td><td>41</td><td>9.65</td><td>28</td><td>0.1</td></tr><tr><td>11020</td><td>10</td><td>31.0</td><td>24</td><td>0.15</td></tr><tr><td>11021</td><td>2</td><td>19.0</td><td>11</td><td>0.25</td></tr><tr><td>11021</td><td>51</td><td>53.0</td><td>44</td><td>0.25</td></tr><tr><td>11025</td><td>1</td><td>18.0</td><td>10</td><td>0.1</td></tr><tr><td>11025</td><td>13</td><td>6.0</td><td>20</td><td>0.1</td></tr><tr><td>11027</td><td>24</td><td>4.5</td><td>30</td><td>0.25</td></tr><tr><td>11027</td><td>62</td><td>49.3</td><td>21</td><td>0.25</td></tr><tr><td>11030</td><td>2</td><td>19.0</td><td>100</td><td>0.25</td></tr><tr><td>11030</td><td>29</td><td>123.79</td><td>60</td><td>0.25</td></tr><tr><td>11030</td><td>59</td><td>55.0</td><td>100</td><td>0.25</td></tr><tr><td>11033</td><td>53</td><td>32.8</td><td>70</td><td>0.1</td></tr><tr><td>11033</td><td>69</td><td>36.0</td><td>36</td><td>0.1</td></tr><tr><td>11034</td><td>21</td><td>10.0</td><td>15</td><td>0.1</td></tr><tr><td>11038</td><td>40</td><td>18.4</td><td>5</td><td>0.2</td></tr><tr><td>11041</td><td>2</td><td>19.0</td><td>30</td><td>0.2</td></tr><tr><td>11046</td><td>12</td><td>38.0</td><td>20</td><td>0.05</td></tr><tr><td>11046</td><td>32</td><td>32.0</td><td>15</td><td>0.05</td></tr><tr><td>11046</td><td>35</td><td>18.0</td><td>18</td><td>0.05</td></tr><tr><td>11047</td><td>1</td><td>18.0</td><td>25</td><td>0.25</td></tr><tr><td>11047</td><td>5</td><td>21.35</td><td>30</td><td>0.25</td></tr><tr><td>11049</td><td>2</td><td>19.0</td><td>10</td><td>0.2</td></tr><tr><td>11049</td><td>12</td><td>38.0</td><td>4</td><td>0.2</td></tr><tr><td>11050</td><td>76</td><td>18.0</td><td>50</td><td>0.1</td></tr><tr><td>11051</td><td>24</td><td>4.5</td><td>10</td><td>0.2</td></tr><tr><td>11052</td><td>43</td><td>46.0</td><td>30</td><td>0.2</td></tr><tr><td>11052</td><td>61</td><td>28.5</td><td>10</td><td>0.2</td></tr><tr><td>11053</td><td>18</td><td>62.5</td><td>35</td><td>0.2</td></tr><tr><td>11053</td><td>64</td><td>33.25</td><td>25</td><td>0.2</td></tr><tr><td>11062</td><td>53</td><td>32.8</td><td>10</td><td>0.2</td></tr><tr><td>11062</td><td>70</td><td>15.0</td><td>12</td><td>0.2</td></tr><tr><td>11063</td><td>40</td><td>18.4</td><td>40</td><td>0.1</td></tr><tr><td>11063</td><td>41</td><td>9.65</td><td>30</td><td>0.1</td></tr><tr><td>11064</td><td>17</td><td>39.0</td><td>77</td><td>0.1</td></tr><tr><td>11064</td><td>53</td><td>32.8</td><td>25</td><td>0.1</td></tr><tr><td>11064</td><td>55</td><td>24.0</td><td>4</td><td>0.1</td></tr><tr><td>11065</td><td>30</td><td>25.89</td><td>4</td><td>0.25</td></tr><tr><td>11065</td><td>54</td><td>7.45</td><td>20</td><td>0.25</td></tr><tr><td>11068</td><td>28</td><td>45.6</td><td>8</td><td>0.15</td></tr><tr><td>11068</td><td>43</td><td>46.0</td><td>36</td><td>0.15</td></tr><tr><td>11068</td><td>77</td><td>13.0</td><td>28</td><td>0.15</td></tr><tr><td>11070</td><td>1</td><td>18.0</td><td>40</td><td>0.15</td></tr><tr><td>11070</td><td>2</td><td>19.0</td><td>20</td><td>0.15</td></tr><tr><td>11070</td><td>16</td><td>17.45</td><td>30</td><td>0.15</td></tr><tr><td>11071</td><td>7</td><td>30.0</td><td>15</td><td>0.05</td></tr><tr><td>11071</td><td>13</td><td>6.0</td><td>10</td><td>0.05</td></tr><tr><td>11074</td><td>16</td><td>17.45</td><td>14</td><td>0.05</td></tr><tr><td>11075</td><td>2</td><td>19.0</td><td>10</td><td>0.15</td></tr><tr><td>11075</td><td>46</td><td>12.0</td><td>30</td><td>0.15</td></tr><tr><td>11075</td><td>76</td><td>18.0</td><td>2</td><td>0.15</td></tr><tr><td>11076</td><td>6</td><td>25.0</td><td>20</td><td>0.25</td></tr><tr><td>11076</td><td>14</td><td>23.25</td><td>20</td><td>0.25</td></tr><tr><td>11076</td><td>19</td><td>9.2</td><td>10</td><td>0.25</td></tr><tr><td>11077</td><td>2</td><td>19.0</td><td>24</td><td>0.2</td></tr><tr><td>11077</td><td>6</td><td>25.0</td><td>1</td><td>0.02</td></tr><tr><td>11077</td><td>7</td><td>30.0</td><td>1</td><td>0.05</td></tr><tr><td>11077</td><td>8</td><td>40.0</td><td>2</td><td>0.1</td></tr><tr><td>11077</td><td>12</td><td>38.0</td><td>2</td><td>0.05</td></tr><tr><td>11077</td><td>14</td><td>23.25</td><td>1</td><td>0.03</td></tr><tr><td>11077</td><td>16</td><td>17.45</td><td>2</td><td>0.03</td></tr><tr><td>11077</td><td>20</td><td>81.0</td><td>1</td><td>0.04</td></tr><tr><td>11077</td><td>39</td><td>18.0</td><td>2</td><td>0.05</td></tr><tr><td>11077</td><td>46</td><td>12.0</td><td>3</td><td>0.02</td></tr><tr><td>11077</td><td>60</td><td>34.0</td><td>2</td><td>0.06</td></tr><tr><td>11077</td><td>64</td><td>33.25</td><td>2</td><td>0.03</td></tr><tr><td>11077</td><td>73</td><td>15.0</td><td>2</td><td>0.01</td></tr></tbody></table></div>"
      ]
     },
     "metadata": {
      "application/vnd.databricks.v1+output": {
       "addedWidgets": {},
       "aggData": [],
       "aggError": "",
       "aggOverflow": false,
       "aggSchema": [],
       "aggSeriesLimitReached": false,
       "aggType": "",
       "arguments": {},
       "columnCustomDisplayInfos": {},
       "data": [
        [
         10250,
         51,
         42.4,
         35,
         0.15
        ],
        [
         10250,
         65,
         16.8,
         15,
         0.15
        ],
        [
         10251,
         22,
         16.8,
         6,
         0.05
        ],
        [
         10251,
         57,
         15.6,
         15,
         0.05
        ],
        [
         10252,
         20,
         64.8,
         40,
         0.05
        ],
        [
         10252,
         33,
         2.0,
         25,
         0.05
        ],
        [
         10254,
         24,
         3.6,
         15,
         0.15
        ],
        [
         10254,
         55,
         19.2,
         21,
         0.15
        ],
        [
         10258,
         2,
         15.2,
         50,
         0.2
        ],
        [
         10258,
         5,
         17.0,
         65,
         0.2
        ],
        [
         10258,
         32,
         25.6,
         6,
         0.2
        ],
        [
         10260,
         41,
         7.7,
         16,
         0.25
        ],
        [
         10260,
         62,
         39.4,
         15,
         0.25
        ],
        [
         10260,
         70,
         12.0,
         21,
         0.25
        ],
        [
         10262,
         5,
         17.0,
         12,
         0.2
        ],
        [
         10263,
         16,
         13.9,
         60,
         0.25
        ],
        [
         10263,
         30,
         20.7,
         60,
         0.25
        ],
        [
         10263,
         74,
         8.0,
         36,
         0.25
        ],
        [
         10264,
         41,
         7.7,
         25,
         0.15
        ],
        [
         10266,
         12,
         30.4,
         12,
         0.05
        ],
        [
         10267,
         59,
         44.0,
         70,
         0.15
        ],
        [
         10267,
         76,
         14.4,
         15,
         0.15
        ],
        [
         10269,
         33,
         2.0,
         60,
         0.05
        ],
        [
         10269,
         72,
         27.8,
         20,
         0.05
        ],
        [
         10273,
         10,
         24.8,
         24,
         0.05
        ],
        [
         10273,
         31,
         10.0,
         15,
         0.05
        ],
        [
         10273,
         40,
         14.7,
         60,
         0.05
        ],
        [
         10273,
         76,
         14.4,
         33,
         0.05
        ],
        [
         10275,
         24,
         3.6,
         12,
         0.05
        ],
        [
         10275,
         59,
         44.0,
         6,
         0.05
        ],
        [
         10279,
         17,
         31.2,
         15,
         0.25
        ],
        [
         10284,
         27,
         35.1,
         15,
         0.25
        ],
        [
         10284,
         60,
         27.2,
         20,
         0.25
        ],
        [
         10284,
         67,
         11.2,
         5,
         0.25
        ],
        [
         10285,
         1,
         14.4,
         45,
         0.2
        ],
        [
         10285,
         40,
         14.7,
         40,
         0.2
        ],
        [
         10285,
         53,
         26.2,
         36,
         0.2
        ],
        [
         10287,
         16,
         13.9,
         40,
         0.15
        ],
        [
         10287,
         46,
         9.6,
         15,
         0.15
        ],
        [
         10288,
         54,
         5.9,
         10,
         0.1
        ],
        [
         10288,
         68,
         10.0,
         3,
         0.1
        ],
        [
         10291,
         13,
         4.8,
         20,
         0.1
        ],
        [
         10291,
         44,
         15.5,
         24,
         0.1
        ],
        [
         10291,
         51,
         42.4,
         2,
         0.1
        ],
        [
         10298,
         36,
         15.2,
         40,
         0.25
        ],
        [
         10298,
         59,
         44.0,
         30,
         0.25
        ],
        [
         10303,
         40,
         14.7,
         40,
         0.1
        ],
        [
         10303,
         65,
         16.8,
         30,
         0.1
        ],
        [
         10303,
         68,
         10.0,
         15,
         0.1
        ],
        [
         10305,
         18,
         50.0,
         25,
         0.1
        ],
        [
         10305,
         29,
         99.0,
         25,
         0.1
        ],
        [
         10305,
         39,
         14.4,
         30,
         0.1
        ],
        [
         10314,
         32,
         25.6,
         40,
         0.1
        ],
        [
         10314,
         58,
         10.6,
         30,
         0.1
        ],
        [
         10314,
         62,
         39.4,
         25,
         0.1
        ],
        [
         10324,
         16,
         13.9,
         21,
         0.15
        ],
        [
         10324,
         35,
         14.4,
         70,
         0.15
        ],
        [
         10324,
         59,
         44.0,
         40,
         0.15
        ],
        [
         10324,
         63,
         35.1,
         80,
         0.15
        ],
        [
         10327,
         2,
         15.2,
         25,
         0.2
        ],
        [
         10327,
         11,
         16.8,
         50,
         0.2
        ],
        [
         10327,
         30,
         20.7,
         35,
         0.2
        ],
        [
         10327,
         58,
         10.6,
         30,
         0.2
        ],
        [
         10329,
         19,
         7.3,
         10,
         0.05
        ],
        [
         10329,
         30,
         20.7,
         8,
         0.05
        ],
        [
         10329,
         38,
         210.8,
         20,
         0.05
        ],
        [
         10329,
         56,
         30.4,
         12,
         0.05
        ],
        [
         10330,
         26,
         24.9,
         50,
         0.15
        ],
        [
         10330,
         72,
         27.8,
         25,
         0.15
        ],
        [
         10332,
         18,
         50.0,
         40,
         0.2
        ],
        [
         10332,
         42,
         11.2,
         10,
         0.2
        ],
        [
         10332,
         47,
         7.6,
         16,
         0.2
        ],
        [
         10333,
         21,
         8.0,
         10,
         0.1
        ],
        [
         10333,
         71,
         17.2,
         40,
         0.1
        ],
        [
         10335,
         2,
         15.2,
         7,
         0.2
        ],
        [
         10335,
         31,
         10.0,
         25,
         0.2
        ],
        [
         10335,
         32,
         25.6,
         6,
         0.2
        ],
        [
         10335,
         51,
         42.4,
         48,
         0.2
        ],
        [
         10336,
         4,
         17.6,
         18,
         0.1
        ],
        [
         10339,
         17,
         31.2,
         70,
         0.05
        ],
        [
         10340,
         18,
         50.0,
         20,
         0.05
        ],
        [
         10340,
         41,
         7.7,
         12,
         0.05
        ],
        [
         10340,
         43,
         36.8,
         40,
         0.05
        ],
        [
         10341,
         59,
         44.0,
         9,
         0.15
        ],
        [
         10342,
         2,
         15.2,
         24,
         0.2
        ],
        [
         10342,
         31,
         10.0,
         56,
         0.2
        ],
        [
         10342,
         36,
         15.2,
         40,
         0.2
        ],
        [
         10342,
         55,
         19.2,
         40,
         0.2
        ],
        [
         10343,
         68,
         10.0,
         4,
         0.05
        ],
        [
         10344,
         8,
         32.0,
         70,
         0.25
        ],
        [
         10346,
         17,
         31.2,
         36,
         0.1
        ],
        [
         10347,
         39,
         14.4,
         50,
         0.15
        ],
        [
         10347,
         75,
         6.2,
         6,
         0.15
        ],
        [
         10348,
         1,
         14.4,
         15,
         0.15
        ],
        [
         10350,
         50,
         13.0,
         15,
         0.1
        ],
        [
         10350,
         69,
         28.8,
         18,
         0.1
        ],
        [
         10351,
         38,
         210.8,
         20,
         0.05
        ],
        [
         10351,
         44,
         15.5,
         77,
         0.05
        ],
        [
         10351,
         65,
         16.8,
         10,
         0.05
        ],
        [
         10352,
         54,
         5.9,
         20,
         0.15
        ],
        [
         10353,
         11,
         16.8,
         12,
         0.2
        ],
        [
         10353,
         38,
         210.8,
         50,
         0.2
        ],
        [
         10357,
         10,
         24.8,
         30,
         0.2
        ],
        [
         10357,
         60,
         27.2,
         8,
         0.2
        ],
        [
         10358,
         24,
         3.6,
         10,
         0.05
        ],
        [
         10358,
         34,
         11.2,
         10,
         0.05
        ],
        [
         10358,
         36,
         15.2,
         20,
         0.05
        ],
        [
         10359,
         16,
         13.9,
         56,
         0.05
        ],
        [
         10359,
         31,
         10.0,
         70,
         0.05
        ],
        [
         10359,
         60,
         27.2,
         80,
         0.05
        ],
        [
         10361,
         39,
         14.4,
         54,
         0.1
        ],
        [
         10361,
         60,
         27.2,
         55,
         0.1
        ],
        [
         10368,
         21,
         8.0,
         5,
         0.1
        ],
        [
         10368,
         28,
         36.4,
         13,
         0.1
        ],
        [
         10368,
         64,
         26.6,
         35,
         0.1
        ],
        [
         10369,
         56,
         30.4,
         18,
         0.25
        ],
        [
         10370,
         1,
         14.4,
         15,
         0.15
        ],
        [
         10370,
         74,
         8.0,
         20,
         0.15
        ],
        [
         10371,
         36,
         15.2,
         6,
         0.2
        ],
        [
         10372,
         20,
         64.8,
         12,
         0.25
        ],
        [
         10372,
         38,
         210.8,
         40,
         0.25
        ],
        [
         10372,
         60,
         27.2,
         70,
         0.25
        ],
        [
         10372,
         72,
         27.8,
         42,
         0.25
        ],
        [
         10373,
         58,
         10.6,
         80,
         0.2
        ],
        [
         10373,
         71,
         17.2,
         50,
         0.2
        ],
        [
         10376,
         31,
         10.0,
         42,
         0.05
        ],
        [
         10377,
         28,
         36.4,
         20,
         0.15
        ],
        [
         10377,
         39,
         14.4,
         20,
         0.15
        ],
        [
         10379,
         41,
         7.7,
         8,
         0.1
        ],
        [
         10379,
         63,
         35.1,
         16,
         0.1
        ],
        [
         10379,
         65,
         16.8,
         20,
         0.1
        ],
        [
         10380,
         30,
         20.7,
         18,
         0.1
        ],
        [
         10380,
         53,
         26.2,
         20,
         0.1
        ],
        [
         10380,
         60,
         27.2,
         6,
         0.1
        ],
        [
         10385,
         7,
         24.0,
         10,
         0.2
        ],
        [
         10385,
         60,
         27.2,
         20,
         0.2
        ],
        [
         10385,
         68,
         10.0,
         8,
         0.2
        ],
        [
         10388,
         45,
         7.6,
         15,
         0.2
        ],
        [
         10388,
         52,
         5.6,
         20,
         0.2
        ],
        [
         10390,
         31,
         10.0,
         60,
         0.1
        ],
        [
         10390,
         35,
         14.4,
         40,
         0.1
        ],
        [
         10390,
         72,
         27.8,
         24,
         0.1
        ],
        [
         10393,
         2,
         15.2,
         25,
         0.25
        ],
        [
         10393,
         14,
         18.6,
         42,
         0.25
        ],
        [
         10393,
         25,
         11.2,
         7,
         0.25
        ],
        [
         10393,
         26,
         24.9,
         70,
         0.25
        ],
        [
         10395,
         46,
         9.6,
         28,
         0.1
        ],
        [
         10395,
         53,
         26.2,
         70,
         0.1
        ],
        [
         10397,
         21,
         8.0,
         10,
         0.15
        ],
        [
         10397,
         51,
         42.4,
         18,
         0.15
        ],
        [
         10398,
         55,
         19.2,
         120,
         0.1
        ],
        [
         10403,
         16,
         13.9,
         21,
         0.15
        ],
        [
         10403,
         48,
         10.2,
         70,
         0.15
        ],
        [
         10404,
         26,
         24.9,
         30,
         0.05
        ],
        [
         10404,
         42,
         11.2,
         40,
         0.05
        ],
        [
         10404,
         49,
         16.0,
         30,
         0.05
        ],
        [
         10406,
         21,
         8.0,
         30,
         0.1
        ],
        [
         10406,
         28,
         36.4,
         42,
         0.1
        ],
        [
         10406,
         36,
         15.2,
         5,
         0.1
        ],
        [
         10406,
         40,
         14.7,
         2,
         0.1
        ],
        [
         10411,
         41,
         7.7,
         25,
         0.2
        ],
        [
         10411,
         44,
         15.5,
         40,
         0.2
        ],
        [
         10411,
         59,
         44.0,
         9,
         0.2
        ],
        [
         10412,
         14,
         18.6,
         20,
         0.1
        ],
        [
         10414,
         19,
         7.3,
         18,
         0.05
        ],
        [
         10417,
         46,
         9.6,
         2,
         0.25
        ],
        [
         10417,
         68,
         10.0,
         36,
         0.25
        ],
        [
         10419,
         60,
         27.2,
         60,
         0.05
        ],
        [
         10419,
         69,
         28.8,
         20,
         0.05
        ],
        [
         10420,
         9,
         77.6,
         20,
         0.1
        ],
        [
         10420,
         13,
         4.8,
         2,
         0.1
        ],
        [
         10420,
         70,
         12.0,
         8,
         0.1
        ],
        [
         10420,
         73,
         12.0,
         20,
         0.1
        ],
        [
         10421,
         19,
         7.3,
         4,
         0.15
        ],
        [
         10421,
         53,
         26.2,
         15,
         0.15
        ],
        [
         10421,
         77,
         10.4,
         10,
         0.15
        ],
        [
         10424,
         35,
         14.4,
         60,
         0.2
        ],
        [
         10424,
         38,
         210.8,
         49,
         0.2
        ],
        [
         10424,
         68,
         10.0,
         30,
         0.2
        ],
        [
         10425,
         55,
         19.2,
         10,
         0.25
        ],
        [
         10425,
         76,
         14.4,
         20,
         0.25
        ],
        [
         10429,
         63,
         35.1,
         35,
         0.25
        ],
        [
         10430,
         17,
         31.2,
         45,
         0.2
        ],
        [
         10430,
         59,
         44.0,
         70,
         0.2
        ],
        [
         10431,
         17,
         31.2,
         50,
         0.25
        ],
        [
         10431,
         40,
         14.7,
         50,
         0.25
        ],
        [
         10431,
         47,
         7.6,
         30,
         0.25
        ],
        [
         10434,
         76,
         14.4,
         18,
         0.15
        ],
        [
         10436,
         56,
         30.4,
         40,
         0.1
        ],
        [
         10436,
         64,
         26.6,
         30,
         0.1
        ],
        [
         10436,
         75,
         6.2,
         24,
         0.1
        ],
        [
         10438,
         19,
         7.3,
         15,
         0.2
        ],
        [
         10438,
         34,
         11.2,
         20,
         0.2
        ],
        [
         10438,
         57,
         15.6,
         15,
         0.2
        ],
        [
         10440,
         2,
         15.2,
         45,
         0.15
        ],
        [
         10440,
         16,
         13.9,
         49,
         0.15
        ],
        [
         10440,
         29,
         99.0,
         24,
         0.15
        ],
        [
         10440,
         61,
         22.8,
         90,
         0.15
        ],
        [
         10443,
         11,
         16.8,
         6,
         0.2
        ],
        [
         10446,
         19,
         7.3,
         12,
         0.1
        ],
        [
         10446,
         24,
         3.6,
         20,
         0.1
        ],
        [
         10446,
         31,
         10.0,
         3,
         0.1
        ],
        [
         10446,
         52,
         5.6,
         15,
         0.1
        ],
        [
         10450,
         10,
         24.8,
         20,
         0.2
        ],
        [
         10450,
         54,
         5.9,
         6,
         0.2
        ],
        [
         10451,
         55,
         19.2,
         120,
         0.1
        ],
        [
         10451,
         64,
         26.6,
         35,
         0.1
        ],
        [
         10451,
         65,
         16.8,
         28,
         0.1
        ],
        [
         10451,
         77,
         10.4,
         55,
         0.1
        ],
        [
         10452,
         44,
         15.5,
         100,
         0.05
        ],
        [
         10453,
         48,
         10.2,
         15,
         0.1
        ],
        [
         10453,
         70,
         12.0,
         25,
         0.1
        ],
        [
         10454,
         16,
         13.9,
         20,
         0.2
        ],
        [
         10454,
         33,
         2.0,
         20,
         0.2
        ],
        [
         10454,
         46,
         9.6,
         10,
         0.2
        ],
        [
         10456,
         21,
         8.0,
         40,
         0.15
        ],
        [
         10456,
         49,
         16.0,
         21,
         0.15
        ],
        [
         10459,
         7,
         24.0,
         16,
         0.05
        ],
        [
         10459,
         46,
         9.6,
         20,
         0.05
        ],
        [
         10460,
         68,
         10.0,
         21,
         0.25
        ],
        [
         10460,
         75,
         6.2,
         4,
         0.25
        ],
        [
         10461,
         21,
         8.0,
         40,
         0.25
        ],
        [
         10461,
         30,
         20.7,
         28,
         0.25
        ],
        [
         10461,
         55,
         19.2,
         60,
         0.25
        ],
        [
         10464,
         4,
         17.6,
         16,
         0.2
        ],
        [
         10464,
         56,
         30.4,
         30,
         0.2
        ],
        [
         10465,
         29,
         99.0,
         18,
         0.1
        ],
        [
         10465,
         45,
         7.6,
         30,
         0.1
        ],
        [
         10469,
         2,
         15.2,
         40,
         0.15
        ],
        [
         10469,
         16,
         13.9,
         35,
         0.15
        ],
        [
         10469,
         44,
         15.5,
         2,
         0.15
        ],
        [
         10472,
         24,
         3.6,
         80,
         0.05
        ],
        [
         10475,
         31,
         10.0,
         35,
         0.15
        ],
        [
         10475,
         66,
         13.6,
         60,
         0.15
        ],
        [
         10475,
         76,
         14.4,
         42,
         0.15
        ],
        [
         10476,
         55,
         19.2,
         2,
         0.05
        ],
        [
         10477,
         21,
         8.0,
         21,
         0.25
        ],
        [
         10477,
         39,
         14.4,
         20,
         0.25
        ],
        [
         10478,
         10,
         24.8,
         20,
         0.05
        ],
        [
         10483,
         34,
         11.2,
         35,
         0.05
        ],
        [
         10483,
         77,
         10.4,
         30,
         0.05
        ],
        [
         10485,
         2,
         15.2,
         20,
         0.1
        ],
        [
         10485,
         3,
         8.0,
         20,
         0.1
        ],
        [
         10485,
         55,
         19.2,
         30,
         0.1
        ],
        [
         10485,
         70,
         12.0,
         60,
         0.1
        ],
        [
         10487,
         54,
         5.9,
         24,
         0.25
        ],
        [
         10488,
         73,
         12.0,
         20,
         0.2
        ],
        [
         10489,
         11,
         16.8,
         15,
         0.25
        ],
        [
         10491,
         44,
         15.5,
         15,
         0.15
        ],
        [
         10491,
         77,
         10.4,
         7,
         0.15
        ],
        [
         10492,
         25,
         11.2,
         60,
         0.05
        ],
        [
         10492,
         42,
         11.2,
         20,
         0.05
        ],
        [
         10493,
         65,
         16.8,
         15,
         0.1
        ],
        [
         10493,
         66,
         13.6,
         10,
         0.1
        ],
        [
         10493,
         69,
         28.8,
         10,
         0.1
        ],
        [
         10496,
         31,
         10.0,
         20,
         0.05
        ],
        [
         10500,
         15,
         15.5,
         12,
         0.05
        ],
        [
         10500,
         28,
         45.6,
         8,
         0.05
        ],
        [
         10506,
         25,
         14.0,
         18,
         0.1
        ],
        [
         10506,
         70,
         15.0,
         14,
         0.1
        ],
        [
         10507,
         43,
         46.0,
         15,
         0.15
        ],
        [
         10507,
         48,
         12.75,
         15,
         0.15
        ],
        [
         10510,
         75,
         7.75,
         36,
         0.1
        ],
        [
         10511,
         4,
         22.0,
         50,
         0.15
        ],
        [
         10511,
         7,
         30.0,
         50,
         0.15
        ],
        [
         10511,
         8,
         40.0,
         10,
         0.15
        ],
        [
         10512,
         24,
         4.5,
         10,
         0.15
        ],
        [
         10512,
         46,
         12.0,
         9,
         0.15
        ],
        [
         10512,
         47,
         9.5,
         6,
         0.15
        ],
        [
         10512,
         60,
         34.0,
         12,
         0.15
        ],
        [
         10513,
         21,
         10.0,
         40,
         0.2
        ],
        [
         10513,
         32,
         32.0,
         50,
         0.2
        ],
        [
         10513,
         61,
         28.5,
         15,
         0.2
        ],
        [
         10515,
         9,
         97.0,
         16,
         0.15
        ],
        [
         10515,
         33,
         2.5,
         16,
         0.15
        ],
        [
         10515,
         60,
         34.0,
         84,
         0.15
        ],
        [
         10516,
         18,
         62.5,
         25,
         0.1
        ],
        [
         10516,
         41,
         9.65,
         80,
         0.1
        ],
        [
         10519,
         10,
         31.0,
         16,
         0.05
        ],
        [
         10519,
         60,
         34.0,
         10,
         0.05
        ],
        [
         10522,
         1,
         18.0,
         40,
         0.2
        ],
        [
         10522,
         30,
         25.89,
         20,
         0.2
        ],
        [
         10522,
         40,
         18.4,
         25,
         0.2
        ],
        [
         10523,
         17,
         39.0,
         25,
         0.1
        ],
        [
         10523,
         20,
         81.0,
         15,
         0.1
        ],
        [
         10523,
         37,
         26.0,
         18,
         0.1
        ],
        [
         10523,
         41,
         9.65,
         6,
         0.1
        ],
        [
         10525,
         40,
         18.4,
         15,
         0.1
        ],
        [
         10526,
         1,
         18.0,
         8,
         0.15
        ],
        [
         10526,
         56,
         38.0,
         30,
         0.15
        ],
        [
         10527,
         4,
         22.0,
         50,
         0.1
        ],
        [
         10527,
         36,
         19.0,
         30,
         0.1
        ],
        [
         10528,
         33,
         2.5,
         8,
         0.2
        ],
        [
         10533,
         4,
         22.0,
         50,
         0.05
        ],
        [
         10533,
         73,
         15.0,
         24,
         0.05
        ],
        [
         10534,
         40,
         18.4,
         10,
         0.2
        ],
        [
         10534,
         54,
         7.45,
         10,
         0.2
        ],
        [
         10535,
         11,
         21.0,
         50,
         0.1
        ],
        [
         10535,
         40,
         18.4,
         10,
         0.1
        ],
        [
         10535,
         57,
         19.5,
         5,
         0.1
        ],
        [
         10535,
         59,
         55.0,
         15,
         0.1
        ],
        [
         10536,
         12,
         38.0,
         15,
         0.25
        ],
        [
         10536,
         60,
         34.0,
         35,
         0.25
        ],
        [
         10541,
         24,
         4.5,
         35,
         0.1
        ],
        [
         10541,
         38,
         263.5,
         4,
         0.1
        ],
        [
         10541,
         65,
         21.05,
         36,
         0.1
        ],
        [
         10541,
         71,
         21.5,
         9,
         0.1
        ],
        [
         10542,
         11,
         21.0,
         15,
         0.05
        ],
        [
         10542,
         54,
         7.45,
         24,
         0.05
        ],
        [
         10543,
         12,
         38.0,
         30,
         0.15
        ],
        [
         10543,
         23,
         9.0,
         70,
         0.15
        ],
        [
         10547,
         32,
         32.0,
         24,
         0.15
        ],
        [
         10548,
         34,
         14.0,
         10,
         0.25
        ],
        [
         10549,
         31,
         12.5,
         55,
         0.15
        ],
        [
         10549,
         45,
         9.5,
         100,
         0.15
        ],
        [
         10549,
         51,
         53.0,
         48,
         0.15
        ],
        [
         10550,
         17,
         39.0,
         8,
         0.1
        ],
        [
         10550,
         21,
         10.0,
         6,
         0.1
        ],
        [
         10550,
         61,
         28.5,
         10,
         0.1
        ],
        [
         10551,
         16,
         17.45,
         40,
         0.15
        ],
        [
         10551,
         35,
         18.0,
         20,
         0.15
        ],
        [
         10554,
         16,
         17.45,
         30,
         0.05
        ],
        [
         10554,
         23,
         9.0,
         20,
         0.05
        ],
        [
         10554,
         62,
         49.3,
         20,
         0.05
        ],
        [
         10554,
         77,
         13.0,
         10,
         0.05
        ],
        [
         10555,
         14,
         23.25,
         30,
         0.2
        ],
        [
         10555,
         19,
         9.2,
         35,
         0.2
        ],
        [
         10555,
         24,
         4.5,
         18,
         0.2
        ],
        [
         10555,
         51,
         53.0,
         20,
         0.2
        ],
        [
         10555,
         56,
         38.0,
         40,
         0.2
        ],
        [
         10559,
         41,
         9.65,
         12,
         0.05
        ],
        [
         10559,
         55,
         24.0,
         18,
         0.05
        ],
        [
         10560,
         62,
         49.3,
         15,
         0.25
        ],
        [
         10562,
         33,
         2.5,
         20,
         0.1
        ],
        [
         10562,
         62,
         49.3,
         10,
         0.1
        ],
        [
         10564,
         17,
         39.0,
         16,
         0.05
        ],
        [
         10564,
         31,
         12.5,
         6,
         0.05
        ],
        [
         10564,
         55,
         24.0,
         25,
         0.05
        ],
        [
         10565,
         24,
         4.5,
         25,
         0.1
        ],
        [
         10565,
         64,
         33.25,
         18,
         0.1
        ],
        [
         10566,
         11,
         21.0,
         35,
         0.15
        ],
        [
         10566,
         18,
         62.5,
         18,
         0.15
        ],
        [
         10567,
         31,
         12.5,
         60,
         0.2
        ],
        [
         10567,
         59,
         55.0,
         40,
         0.2
        ],
        [
         10569,
         31,
         12.5,
         35,
         0.2
        ],
        [
         10570,
         11,
         21.0,
         15,
         0.05
        ],
        [
         10570,
         56,
         38.0,
         60,
         0.05
        ],
        [
         10571,
         14,
         23.25,
         11,
         0.15
        ],
        [
         10571,
         42,
         14.0,
         28,
         0.15
        ],
        [
         10572,
         16,
         17.45,
         12,
         0.1
        ],
        [
         10572,
         32,
         32.0,
         10,
         0.1
        ],
        [
         10572,
         75,
         7.75,
         15,
         0.1
        ],
        [
         10580,
         14,
         23.25,
         15,
         0.05
        ],
        [
         10580,
         41,
         9.65,
         9,
         0.05
        ],
        [
         10580,
         65,
         21.05,
         30,
         0.05
        ],
        [
         10581,
         75,
         7.75,
         50,
         0.2
        ],
        [
         10583,
         60,
         34.0,
         24,
         0.15
        ],
        [
         10583,
         69,
         36.0,
         10,
         0.15
        ],
        [
         10584,
         31,
         12.5,
         50,
         0.05
        ],
        [
         10586,
         52,
         7.0,
         4,
         0.15
        ],
        [
         10588,
         18,
         62.5,
         40,
         0.2
        ],
        [
         10588,
         42,
         14.0,
         100,
         0.2
        ],
        [
         10590,
         77,
         13.0,
         60,
         0.05
        ],
        [
         10592,
         15,
         15.5,
         25,
         0.05
        ],
        [
         10592,
         26,
         31.23,
         5,
         0.05
        ],
        [
         10593,
         20,
         81.0,
         21,
         0.2
        ],
        [
         10593,
         69,
         36.0,
         20,
         0.2
        ],
        [
         10593,
         76,
         18.0,
         4,
         0.2
        ],
        [
         10595,
         35,
         18.0,
         30,
         0.25
        ],
        [
         10595,
         61,
         28.5,
         120,
         0.25
        ],
        [
         10595,
         69,
         36.0,
         65,
         0.25
        ],
        [
         10596,
         56,
         38.0,
         5,
         0.2
        ],
        [
         10596,
         63,
         43.9,
         24,
         0.2
        ],
        [
         10596,
         75,
         7.75,
         30,
         0.2
        ],
        [
         10597,
         24,
         4.5,
         35,
         0.2
        ],
        [
         10597,
         65,
         21.05,
         12,
         0.2
        ],
        [
         10602,
         77,
         13.0,
         5,
         0.25
        ],
        [
         10603,
         49,
         20.0,
         25,
         0.05
        ],
        [
         10604,
         48,
         12.75,
         6,
         0.1
        ],
        [
         10604,
         76,
         18.0,
         10,
         0.1
        ],
        [
         10605,
         16,
         17.45,
         30,
         0.05
        ],
        [
         10605,
         59,
         55.0,
         20,
         0.05
        ],
        [
         10605,
         60,
         34.0,
         70,
         0.05
        ],
        [
         10605,
         71,
         21.5,
         15,
         0.05
        ],
        [
         10606,
         4,
         22.0,
         20,
         0.2
        ],
        [
         10606,
         55,
         24.0,
         20,
         0.2
        ],
        [
         10606,
         62,
         49.3,
         10,
         0.2
        ],
        [
         10610,
         36,
         19.0,
         21,
         0.25
        ],
        [
         10613,
         13,
         6.0,
         8,
         0.1
        ],
        [
         10616,
         38,
         263.5,
         15,
         0.05
        ],
        [
         10616,
         70,
         15.0,
         15,
         0.05
        ],
        [
         10616,
         71,
         21.5,
         15,
         0.05
        ],
        [
         10617,
         59,
         55.0,
         30,
         0.15
        ],
        [
         10622,
         68,
         12.5,
         18,
         0.2
        ],
        [
         10623,
         19,
         9.2,
         15,
         0.1
        ],
        [
         10623,
         21,
         10.0,
         25,
         0.1
        ],
        [
         10623,
         35,
         18.0,
         30,
         0.1
        ],
        [
         10627,
         73,
         15.0,
         35,
         0.15
        ],
        [
         10630,
         55,
         24.0,
         12,
         0.05
        ],
        [
         10631,
         75,
         7.75,
         8,
         0.1
        ],
        [
         10632,
         2,
         19.0,
         30,
         0.05
        ],
        [
         10632,
         33,
         2.5,
         20,
         0.05
        ],
        [
         10633,
         12,
         38.0,
         36,
         0.15
        ],
        [
         10633,
         13,
         6.0,
         13,
         0.15
        ],
        [
         10633,
         26,
         31.23,
         35,
         0.15
        ],
        [
         10633,
         62,
         49.3,
         80,
         0.15
        ],
        [
         10635,
         4,
         22.0,
         10,
         0.1
        ],
        [
         10635,
         5,
         21.35,
         15,
         0.1
        ],
        [
         10637,
         50,
         16.25,
         25,
         0.05
        ],
        [
         10637,
         56,
         38.0,
         60,
         0.05
        ],
        [
         10640,
         69,
         36.0,
         20,
         0.25
        ],
        [
         10640,
         70,
         15.0,
         15,
         0.25
        ],
        [
         10642,
         21,
         10.0,
         30,
         0.2
        ],
        [
         10642,
         61,
         28.5,
         20,
         0.2
        ],
        [
         10643,
         28,
         45.6,
         15,
         0.25
        ],
        [
         10643,
         39,
         18.0,
         21,
         0.25
        ],
        [
         10643,
         46,
         12.0,
         2,
         0.25
        ],
        [
         10644,
         18,
         62.5,
         4,
         0.1
        ],
        [
         10644,
         46,
         12.0,
         21,
         0.1
        ],
        [
         10646,
         1,
         18.0,
         15,
         0.25
        ],
        [
         10646,
         10,
         31.0,
         18,
         0.25
        ],
        [
         10646,
         71,
         21.5,
         30,
         0.25
        ],
        [
         10646,
         77,
         13.0,
         35,
         0.25
        ],
        [
         10648,
         24,
         4.5,
         15,
         0.15
        ],
        [
         10650,
         53,
         32.8,
         25,
         0.05
        ],
        [
         10651,
         19,
         9.2,
         12,
         0.25
        ],
        [
         10651,
         22,
         21.0,
         20,
         0.25
        ],
        [
         10652,
         30,
         25.89,
         2,
         0.25
        ],
        [
         10653,
         16,
         17.45,
         30,
         0.1
        ],
        [
         10653,
         60,
         34.0,
         20,
         0.1
        ],
        [
         10654,
         4,
         22.0,
         12,
         0.1
        ],
        [
         10654,
         39,
         18.0,
         20,
         0.1
        ],
        [
         10654,
         54,
         7.45,
         6,
         0.1
        ],
        [
         10655,
         41,
         9.65,
         20,
         0.2
        ],
        [
         10656,
         14,
         23.25,
         3,
         0.1
        ],
        [
         10656,
         44,
         19.45,
         28,
         0.1
        ],
        [
         10656,
         47,
         9.5,
         6,
         0.1
        ],
        [
         10658,
         40,
         18.4,
         70,
         0.05
        ],
        [
         10658,
         60,
         34.0,
         55,
         0.05
        ],
        [
         10658,
         77,
         13.0,
         70,
         0.05
        ],
        [
         10659,
         31,
         12.5,
         20,
         0.05
        ],
        [
         10659,
         40,
         18.4,
         24,
         0.05
        ],
        [
         10659,
         70,
         15.0,
         40,
         0.05
        ],
        [
         10661,
         39,
         18.0,
         3,
         0.2
        ],
        [
         10661,
         58,
         13.25,
         49,
         0.2
        ],
        [
         10663,
         40,
         18.4,
         30,
         0.05
        ],
        [
         10663,
         42,
         14.0,
         30,
         0.05
        ],
        [
         10663,
         51,
         53.0,
         20,
         0.05
        ],
        [
         10664,
         10,
         31.0,
         24,
         0.15
        ],
        [
         10664,
         56,
         38.0,
         12,
         0.15
        ],
        [
         10664,
         65,
         21.05,
         15,
         0.15
        ],
        [
         10667,
         69,
         36.0,
         45,
         0.2
        ],
        [
         10667,
         71,
         21.5,
         14,
         0.2
        ],
        [
         10668,
         31,
         12.5,
         8,
         0.1
        ],
        [
         10668,
         55,
         24.0,
         4,
         0.1
        ],
        [
         10668,
         64,
         33.25,
         15,
         0.1
        ],
        [
         10672,
         38,
         263.5,
         15,
         0.1
        ],
        [
         10677,
         26,
         31.23,
         30,
         0.15
        ],
        [
         10677,
         33,
         2.5,
         8,
         0.15
        ],
        [
         10680,
         16,
         17.45,
         50,
         0.25
        ],
        [
         10680,
         31,
         12.5,
         20,
         0.25
        ],
        [
         10680,
         42,
         14.0,
         40,
         0.25
        ],
        [
         10681,
         19,
         9.2,
         30,
         0.1
        ],
        [
         10681,
         21,
         10.0,
         12,
         0.1
        ],
        [
         10686,
         17,
         39.0,
         30,
         0.2
        ],
        [
         10687,
         9,
         97.0,
         50,
         0.25
        ],
        [
         10687,
         36,
         19.0,
         6,
         0.25
        ],
        [
         10688,
         10,
         31.0,
         18,
         0.1
        ],
        [
         10688,
         28,
         45.6,
         60,
         0.1
        ],
        [
         10689,
         1,
         18.0,
         35,
         0.25
        ],
        [
         10690,
         56,
         38.0,
         20,
         0.25
        ],
        [
         10690,
         77,
         13.0,
         30,
         0.25
        ],
        [
         10693,
         54,
         7.45,
         60,
         0.15
        ],
        [
         10693,
         69,
         36.0,
         30,
         0.15
        ],
        [
         10693,
         73,
         15.0,
         15,
         0.15
        ],
        [
         10697,
         19,
         9.2,
         7,
         0.25
        ],
        [
         10697,
         35,
         18.0,
         9,
         0.25
        ],
        [
         10697,
         58,
         13.25,
         30,
         0.25
        ],
        [
         10697,
         70,
         15.0,
         30,
         0.25
        ],
        [
         10698,
         17,
         39.0,
         8,
         0.05
        ],
        [
         10698,
         29,
         123.79,
         12,
         0.05
        ],
        [
         10698,
         65,
         21.05,
         65,
         0.05
        ],
        [
         10698,
         70,
         15.0,
         8,
         0.05
        ],
        [
         10700,
         1,
         18.0,
         5,
         0.2
        ],
        [
         10700,
         34,
         14.0,
         12,
         0.2
        ],
        [
         10700,
         68,
         12.5,
         40,
         0.2
        ],
        [
         10700,
         71,
         21.5,
         60,
         0.2
        ],
        [
         10701,
         59,
         55.0,
         42,
         0.15
        ],
        [
         10701,
         71,
         21.5,
         20,
         0.15
        ],
        [
         10701,
         76,
         18.0,
         35,
         0.15
        ],
        [
         10707,
         70,
         15.0,
         28,
         0.15
        ],
        [
         10712,
         53,
         32.8,
         3,
         0.05
        ],
        [
         10714,
         2,
         19.0,
         30,
         0.25
        ],
        [
         10714,
         17,
         39.0,
         27,
         0.25
        ],
        [
         10714,
         47,
         9.5,
         50,
         0.25
        ],
        [
         10714,
         56,
         38.0,
         18,
         0.25
        ],
        [
         10714,
         58,
         13.25,
         12,
         0.25
        ],
        [
         10717,
         21,
         10.0,
         32,
         0.05
        ],
        [
         10717,
         69,
         36.0,
         25,
         0.05
        ],
        [
         10719,
         18,
         62.5,
         12,
         0.25
        ],
        [
         10719,
         30,
         25.89,
         3,
         0.25
        ],
        [
         10719,
         54,
         7.45,
         40,
         0.25
        ],
        [
         10721,
         44,
         19.45,
         50,
         0.05
        ],
        [
         10727,
         17,
         39.0,
         20,
         0.05
        ],
        [
         10727,
         56,
         38.0,
         10,
         0.05
        ],
        [
         10727,
         59,
         55.0,
         10,
         0.05
        ],
        [
         10730,
         16,
         17.45,
         15,
         0.05
        ],
        [
         10730,
         31,
         12.5,
         3,
         0.05
        ],
        [
         10730,
         65,
         21.05,
         10,
         0.05
        ],
        [
         10731,
         21,
         10.0,
         40,
         0.05
        ],
        [
         10731,
         51,
         53.0,
         30,
         0.05
        ],
        [
         10735,
         61,
         28.5,
         20,
         0.1
        ],
        [
         10735,
         77,
         13.0,
         2,
         0.1
        ],
        [
         10740,
         28,
         45.6,
         5,
         0.2
        ],
        [
         10740,
         35,
         18.0,
         35,
         0.2
        ],
        [
         10740,
         45,
         9.5,
         40,
         0.2
        ],
        [
         10740,
         56,
         38.0,
         14,
         0.2
        ],
        [
         10741,
         2,
         19.0,
         15,
         0.2
        ],
        [
         10743,
         46,
         12.0,
         28,
         0.05
        ],
        [
         10744,
         40,
         18.4,
         50,
         0.2
        ],
        [
         10750,
         14,
         23.25,
         5,
         0.15
        ],
        [
         10750,
         45,
         9.5,
         40,
         0.15
        ],
        [
         10750,
         59,
         55.0,
         25,
         0.15
        ],
        [
         10751,
         26,
         31.23,
         12,
         0.1
        ],
        [
         10751,
         50,
         16.25,
         20,
         0.1
        ],
        [
         10755,
         47,
         9.5,
         30,
         0.25
        ],
        [
         10755,
         56,
         38.0,
         30,
         0.25
        ],
        [
         10755,
         57,
         19.5,
         14,
         0.25
        ],
        [
         10755,
         69,
         36.0,
         25,
         0.25
        ],
        [
         10756,
         18,
         62.5,
         21,
         0.2
        ],
        [
         10756,
         36,
         19.0,
         20,
         0.2
        ],
        [
         10756,
         68,
         12.5,
         6,
         0.2
        ],
        [
         10756,
         69,
         36.0,
         20,
         0.2
        ],
        [
         10760,
         25,
         14.0,
         12,
         0.25
        ],
        [
         10760,
         43,
         46.0,
         30,
         0.25
        ],
        [
         10761,
         25,
         14.0,
         35,
         0.25
        ],
        [
         10764,
         3,
         10.0,
         20,
         0.1
        ],
        [
         10764,
         39,
         18.0,
         130,
         0.1
        ],
        [
         10765,
         65,
         21.05,
         80,
         0.1
        ],
        [
         10769,
         41,
         9.65,
         30,
         0.05
        ],
        [
         10769,
         52,
         7.0,
         15,
         0.05
        ],
        [
         10770,
         11,
         21.0,
         15,
         0.25
        ],
        [
         10773,
         31,
         12.5,
         70,
         0.2
        ],
        [
         10773,
         75,
         7.75,
         7,
         0.2
        ],
        [
         10774,
         31,
         12.5,
         2,
         0.25
        ],
        [
         10776,
         31,
         12.5,
         16,
         0.05
        ],
        [
         10776,
         42,
         14.0,
         12,
         0.05
        ],
        [
         10776,
         45,
         9.5,
         27,
         0.05
        ],
        [
         10776,
         51,
         53.0,
         120,
         0.05
        ],
        [
         10777,
         42,
         14.0,
         20,
         0.2
        ],
        [
         10781,
         54,
         7.45,
         3,
         0.2
        ],
        [
         10781,
         56,
         38.0,
         20,
         0.2
        ],
        [
         10784,
         39,
         18.0,
         2,
         0.15
        ],
        [
         10784,
         72,
         34.8,
         30,
         0.15
        ],
        [
         10786,
         8,
         40.0,
         30,
         0.2
        ],
        [
         10786,
         30,
         25.89,
         15,
         0.2
        ],
        [
         10786,
         75,
         7.75,
         42,
         0.2
        ],
        [
         10787,
         2,
         19.0,
         15,
         0.05
        ],
        [
         10787,
         29,
         123.79,
         20,
         0.05
        ],
        [
         10788,
         19,
         9.2,
         50,
         0.05
        ],
        [
         10788,
         75,
         7.75,
         40,
         0.05
        ],
        [
         10790,
         7,
         30.0,
         3,
         0.15
        ],
        [
         10790,
         56,
         38.0,
         20,
         0.15
        ],
        [
         10791,
         29,
         123.79,
         14,
         0.05
        ],
        [
         10791,
         41,
         9.65,
         20,
         0.05
        ],
        [
         10794,
         14,
         23.25,
         15,
         0.2
        ],
        [
         10794,
         54,
         7.45,
         6,
         0.2
        ],
        [
         10795,
         17,
         39.0,
         35,
         0.25
        ],
        [
         10796,
         26,
         31.23,
         21,
         0.2
        ],
        [
         10796,
         64,
         33.25,
         35,
         0.2
        ],
        [
         10796,
         69,
         36.0,
         24,
         0.2
        ],
        [
         10799,
         13,
         6.0,
         20,
         0.15
        ],
        [
         10799,
         24,
         4.5,
         20,
         0.15
        ],
        [
         10800,
         11,
         21.0,
         50,
         0.1
        ],
        [
         10800,
         51,
         53.0,
         10,
         0.1
        ],
        [
         10800,
         54,
         7.45,
         7,
         0.1
        ],
        [
         10801,
         17,
         39.0,
         40,
         0.25
        ],
        [
         10801,
         29,
         123.79,
         20,
         0.25
        ],
        [
         10802,
         30,
         25.89,
         25,
         0.25
        ],
        [
         10802,
         51,
         53.0,
         30,
         0.25
        ],
        [
         10802,
         55,
         24.0,
         60,
         0.25
        ],
        [
         10802,
         62,
         49.3,
         5,
         0.25
        ],
        [
         10803,
         19,
         9.2,
         24,
         0.05
        ],
        [
         10803,
         25,
         14.0,
         15,
         0.05
        ],
        [
         10803,
         59,
         55.0,
         15,
         0.05
        ],
        [
         10804,
         49,
         20.0,
         4,
         0.15
        ],
        [
         10806,
         2,
         19.0,
         20,
         0.25
        ],
        [
         10806,
         74,
         10.0,
         15,
         0.25
        ],
        [
         10808,
         56,
         38.0,
         20,
         0.15
        ],
        [
         10808,
         76,
         18.0,
         50,
         0.15
        ],
        [
         10812,
         31,
         12.5,
         16,
         0.1
        ],
        [
         10812,
         72,
         34.8,
         40,
         0.1
        ],
        [
         10813,
         2,
         19.0,
         12,
         0.2
        ],
        [
         10814,
         43,
         46.0,
         20,
         0.15
        ],
        [
         10814,
         48,
         12.75,
         8,
         0.15
        ],
        [
         10814,
         61,
         28.5,
         30,
         0.15
        ],
        [
         10816,
         38,
         263.5,
         30,
         0.05
        ],
        [
         10816,
         62,
         49.3,
         20,
         0.05
        ],
        [
         10817,
         26,
         31.23,
         40,
         0.15
        ],
        [
         10817,
         40,
         18.4,
         60,
         0.15
        ],
        [
         10817,
         62,
         49.3,
         25,
         0.15
        ],
        [
         10823,
         11,
         21.0,
         20,
         0.1
        ],
        [
         10823,
         59,
         55.0,
         40,
         0.1
        ],
        [
         10823,
         77,
         13.0,
         15,
         0.1
        ],
        [
         10832,
         13,
         6.0,
         3,
         0.2
        ],
        [
         10832,
         25,
         14.0,
         10,
         0.2
        ],
        [
         10832,
         44,
         19.45,
         16,
         0.2
        ],
        [
         10833,
         7,
         30.0,
         20,
         0.1
        ],
        [
         10833,
         31,
         12.5,
         9,
         0.1
        ],
        [
         10833,
         53,
         32.8,
         9,
         0.1
        ],
        [
         10834,
         29,
         123.79,
         8,
         0.05
        ],
        [
         10834,
         30,
         25.89,
         20,
         0.05
        ],
        [
         10835,
         77,
         13.0,
         2,
         0.2
        ],
        [
         10837,
         47,
         9.5,
         40,
         0.25
        ],
        [
         10837,
         76,
         18.0,
         21,
         0.25
        ],
        [
         10838,
         1,
         18.0,
         4,
         0.25
        ],
        [
         10838,
         18,
         62.5,
         25,
         0.25
        ],
        [
         10838,
         36,
         19.0,
         50,
         0.25
        ],
        [
         10839,
         58,
         13.25,
         30,
         0.1
        ],
        [
         10839,
         72,
         34.8,
         15,
         0.1
        ],
        [
         10840,
         25,
         14.0,
         6,
         0.2
        ],
        [
         10840,
         39,
         18.0,
         10,
         0.2
        ],
        [
         10843,
         51,
         53.0,
         4,
         0.25
        ],
        [
         10845,
         23,
         9.0,
         70,
         0.1
        ],
        [
         10845,
         35,
         18.0,
         25,
         0.1
        ],
        [
         10845,
         42,
         14.0,
         42,
         0.1
        ],
        [
         10845,
         58,
         13.25,
         60,
         0.1
        ],
        [
         10847,
         1,
         18.0,
         80,
         0.2
        ],
        [
         10847,
         19,
         9.2,
         12,
         0.2
        ],
        [
         10847,
         37,
         26.0,
         60,
         0.2
        ],
        [
         10847,
         45,
         9.5,
         36,
         0.2
        ],
        [
         10847,
         60,
         34.0,
         45,
         0.2
        ],
        [
         10847,
         71,
         21.5,
         55,
         0.2
        ],
        [
         10849,
         26,
         31.23,
         18,
         0.15
        ],
        [
         10850,
         25,
         14.0,
         20,
         0.15
        ],
        [
         10850,
         33,
         2.5,
         4,
         0.15
        ],
        [
         10850,
         70,
         15.0,
         30,
         0.15
        ],
        [
         10851,
         2,
         19.0,
         5,
         0.05
        ],
        [
         10851,
         25,
         14.0,
         10,
         0.05
        ],
        [
         10851,
         57,
         19.5,
         10,
         0.05
        ],
        [
         10851,
         59,
         55.0,
         42,
         0.05
        ],
        [
         10854,
         10,
         31.0,
         100,
         0.15
        ],
        [
         10854,
         13,
         6.0,
         65,
         0.15
        ],
        [
         10855,
         65,
         21.05,
         15,
         0.15
        ],
        [
         10857,
         26,
         31.23,
         35,
         0.25
        ],
        [
         10857,
         29,
         123.79,
         10,
         0.25
        ],
        [
         10859,
         24,
         4.5,
         40,
         0.25
        ],
        [
         10859,
         54,
         7.45,
         35,
         0.25
        ],
        [
         10859,
         64,
         33.25,
         30,
         0.25
        ],
        [
         10863,
         1,
         18.0,
         20,
         0.15
        ],
        [
         10863,
         58,
         13.25,
         12,
         0.15
        ],
        [
         10865,
         38,
         263.5,
         60,
         0.05
        ],
        [
         10865,
         39,
         18.0,
         80,
         0.05
        ],
        [
         10866,
         2,
         19.0,
         21,
         0.25
        ],
        [
         10866,
         24,
         4.5,
         6,
         0.25
        ],
        [
         10866,
         30,
         25.89,
         40,
         0.25
        ],
        [
         10868,
         49,
         20.0,
         42,
         0.1
        ],
        [
         10871,
         6,
         25.0,
         50,
         0.05
        ],
        [
         10871,
         16,
         17.45,
         12,
         0.05
        ],
        [
         10871,
         17,
         39.0,
         16,
         0.05
        ],
        [
         10872,
         55,
         24.0,
         10,
         0.05
        ],
        [
         10872,
         62,
         49.3,
         20,
         0.05
        ],
        [
         10872,
         64,
         33.25,
         15,
         0.05
        ],
        [
         10872,
         65,
         21.05,
         21,
         0.05
        ],
        [
         10875,
         47,
         9.5,
         21,
         0.1
        ],
        [
         10877,
         16,
         17.45,
         30,
         0.25
        ],
        [
         10878,
         20,
         81.0,
         20,
         0.05
        ],
        [
         10880,
         23,
         9.0,
         30,
         0.2
        ],
        [
         10880,
         61,
         28.5,
         30,
         0.2
        ],
        [
         10880,
         70,
         15.0,
         50,
         0.2
        ],
        [
         10882,
         49,
         20.0,
         20,
         0.15
        ],
        [
         10882,
         54,
         7.45,
         32,
         0.15
        ],
        [
         10884,
         21,
         10.0,
         40,
         0.05
        ],
        [
         10884,
         56,
         38.0,
         21,
         0.05
        ],
        [
         10884,
         65,
         21.05,
         12,
         0.05
        ],
        [
         10891,
         30,
         25.89,
         15,
         0.05
        ],
        [
         10892,
         59,
         55.0,
         40,
         0.05
        ],
        [
         10894,
         13,
         6.0,
         28,
         0.05
        ],
        [
         10894,
         69,
         36.0,
         50,
         0.05
        ],
        [
         10894,
         75,
         7.75,
         120,
         0.05
        ],
        [
         10899,
         39,
         18.0,
         8,
         0.15
        ],
        [
         10900,
         70,
         15.0,
         3,
         0.25
        ],
        [
         10902,
         55,
         24.0,
         30,
         0.15
        ],
        [
         10902,
         62,
         49.3,
         6,
         0.15
        ],
        [
         10905,
         1,
         18.0,
         20,
         0.05
        ],
        [
         10908,
         7,
         30.0,
         20,
         0.05
        ],
        [
         10908,
         52,
         7.0,
         14,
         0.05
        ],
        [
         10912,
         11,
         21.0,
         40,
         0.25
        ],
        [
         10912,
         29,
         123.79,
         60,
         0.25
        ],
        [
         10913,
         4,
         22.0,
         30,
         0.25
        ],
        [
         10913,
         33,
         2.5,
         40,
         0.25
        ],
        [
         10918,
         1,
         18.0,
         60,
         0.25
        ],
        [
         10918,
         60,
         34.0,
         25,
         0.25
        ],
        [
         10923,
         42,
         14.0,
         10,
         0.2
        ],
        [
         10923,
         43,
         46.0,
         10,
         0.2
        ],
        [
         10923,
         67,
         14.0,
         24,
         0.2
        ],
        [
         10924,
         10,
         31.0,
         20,
         0.1
        ],
        [
         10924,
         28,
         45.6,
         30,
         0.1
        ],
        [
         10925,
         36,
         19.0,
         25,
         0.15
        ],
        [
         10925,
         52,
         7.0,
         12,
         0.15
        ],
        [
         10930,
         55,
         24.0,
         25,
         0.2
        ],
        [
         10930,
         58,
         13.25,
         30,
         0.2
        ],
        [
         10931,
         13,
         6.0,
         42,
         0.15
        ],
        [
         10932,
         16,
         17.45,
         30,
         0.1
        ],
        [
         10932,
         62,
         49.3,
         14,
         0.1
        ],
        [
         10932,
         75,
         7.75,
         20,
         0.1
        ],
        [
         10935,
         18,
         62.5,
         4,
         0.25
        ],
        [
         10935,
         23,
         9.0,
         8,
         0.25
        ],
        [
         10936,
         36,
         19.0,
         30,
         0.2
        ],
        [
         10938,
         13,
         6.0,
         20,
         0.25
        ],
        [
         10938,
         43,
         46.0,
         24,
         0.25
        ],
        [
         10938,
         60,
         34.0,
         49,
         0.25
        ],
        [
         10938,
         71,
         21.5,
         35,
         0.25
        ],
        [
         10939,
         2,
         19.0,
         10,
         0.15
        ],
        [
         10939,
         67,
         14.0,
         40,
         0.15
        ],
        [
         10941,
         31,
         12.5,
         44,
         0.25
        ],
        [
         10941,
         62,
         49.3,
         30,
         0.25
        ],
        [
         10941,
         68,
         12.5,
         80,
         0.25
        ],
        [
         10944,
         11,
         21.0,
         5,
         0.25
        ],
        [
         10944,
         44,
         19.45,
         18,
         0.25
        ],
        [
         10951,
         33,
         2.5,
         15,
         0.05
        ],
        [
         10951,
         41,
         9.65,
         6,
         0.05
        ],
        [
         10951,
         75,
         7.75,
         50,
         0.05
        ],
        [
         10952,
         6,
         25.0,
         16,
         0.05
        ],
        [
         10953,
         20,
         81.0,
         50,
         0.05
        ],
        [
         10953,
         31,
         12.5,
         50,
         0.05
        ],
        [
         10954,
         16,
         17.45,
         28,
         0.15
        ],
        [
         10954,
         31,
         12.5,
         25,
         0.15
        ],
        [
         10954,
         60,
         34.0,
         24,
         0.15
        ],
        [
         10955,
         75,
         7.75,
         12,
         0.2
        ],
        [
         10959,
         75,
         7.75,
         20,
         0.15
        ],
        [
         10960,
         24,
         4.5,
         10,
         0.25
        ],
        [
         10961,
         52,
         7.0,
         6,
         0.05
        ],
        [
         10963,
         60,
         34.0,
         2,
         0.15
        ],
        [
         10966,
         56,
         38.0,
         12,
         0.15
        ],
        [
         10966,
         62,
         49.3,
         12,
         0.15
        ],
        [
         10970,
         52,
         7.0,
         40,
         0.2
        ],
        [
         10978,
         8,
         40.0,
         20,
         0.15
        ],
        [
         10978,
         21,
         10.0,
         40,
         0.15
        ],
        [
         10978,
         44,
         19.45,
         6,
         0.15
        ],
        [
         10980,
         75,
         7.75,
         40,
         0.2
        ],
        [
         10983,
         13,
         6.0,
         84,
         0.15
        ],
        [
         10985,
         16,
         17.45,
         36,
         0.1
        ],
        [
         10985,
         18,
         62.5,
         8,
         0.1
        ],
        [
         10985,
         32,
         32.0,
         35,
         0.1
        ],
        [
         10988,
         62,
         49.3,
         40,
         0.1
        ],
        [
         10990,
         34,
         14.0,
         60,
         0.15
        ],
        [
         10990,
         55,
         24.0,
         65,
         0.15
        ],
        [
         10990,
         61,
         28.5,
         66,
         0.15
        ],
        [
         10991,
         2,
         19.0,
         50,
         0.2
        ],
        [
         10991,
         70,
         15.0,
         20,
         0.2
        ],
        [
         10991,
         76,
         18.0,
         90,
         0.2
        ],
        [
         10993,
         29,
         123.79,
         50,
         0.25
        ],
        [
         10993,
         41,
         9.65,
         35,
         0.25
        ],
        [
         10994,
         59,
         55.0,
         18,
         0.05
        ],
        [
         10997,
         46,
         12.0,
         20,
         0.25
        ],
        [
         10997,
         52,
         7.0,
         20,
         0.25
        ],
        [
         10999,
         41,
         9.65,
         20,
         0.05
        ],
        [
         10999,
         51,
         53.0,
         15,
         0.05
        ],
        [
         10999,
         77,
         13.0,
         21,
         0.05
        ],
        [
         11000,
         4,
         22.0,
         25,
         0.25
        ],
        [
         11000,
         24,
         4.5,
         30,
         0.25
        ],
        [
         11002,
         35,
         18.0,
         15,
         0.15
        ],
        [
         11002,
         42,
         14.0,
         24,
         0.15
        ],
        [
         11006,
         29,
         123.79,
         2,
         0.25
        ],
        [
         11008,
         28,
         45.6,
         70,
         0.05
        ],
        [
         11008,
         34,
         14.0,
         90,
         0.05
        ],
        [
         11009,
         36,
         19.0,
         18,
         0.25
        ],
        [
         11011,
         58,
         13.25,
         40,
         0.05
        ],
        [
         11012,
         19,
         9.2,
         50,
         0.05
        ],
        [
         11012,
         60,
         34.0,
         36,
         0.05
        ],
        [
         11012,
         71,
         21.5,
         60,
         0.05
        ],
        [
         11014,
         41,
         9.65,
         28,
         0.1
        ],
        [
         11020,
         10,
         31.0,
         24,
         0.15
        ],
        [
         11021,
         2,
         19.0,
         11,
         0.25
        ],
        [
         11021,
         51,
         53.0,
         44,
         0.25
        ],
        [
         11025,
         1,
         18.0,
         10,
         0.1
        ],
        [
         11025,
         13,
         6.0,
         20,
         0.1
        ],
        [
         11027,
         24,
         4.5,
         30,
         0.25
        ],
        [
         11027,
         62,
         49.3,
         21,
         0.25
        ],
        [
         11030,
         2,
         19.0,
         100,
         0.25
        ],
        [
         11030,
         29,
         123.79,
         60,
         0.25
        ],
        [
         11030,
         59,
         55.0,
         100,
         0.25
        ],
        [
         11033,
         53,
         32.8,
         70,
         0.1
        ],
        [
         11033,
         69,
         36.0,
         36,
         0.1
        ],
        [
         11034,
         21,
         10.0,
         15,
         0.1
        ],
        [
         11038,
         40,
         18.4,
         5,
         0.2
        ],
        [
         11041,
         2,
         19.0,
         30,
         0.2
        ],
        [
         11046,
         12,
         38.0,
         20,
         0.05
        ],
        [
         11046,
         32,
         32.0,
         15,
         0.05
        ],
        [
         11046,
         35,
         18.0,
         18,
         0.05
        ],
        [
         11047,
         1,
         18.0,
         25,
         0.25
        ],
        [
         11047,
         5,
         21.35,
         30,
         0.25
        ],
        [
         11049,
         2,
         19.0,
         10,
         0.2
        ],
        [
         11049,
         12,
         38.0,
         4,
         0.2
        ],
        [
         11050,
         76,
         18.0,
         50,
         0.1
        ],
        [
         11051,
         24,
         4.5,
         10,
         0.2
        ],
        [
         11052,
         43,
         46.0,
         30,
         0.2
        ],
        [
         11052,
         61,
         28.5,
         10,
         0.2
        ],
        [
         11053,
         18,
         62.5,
         35,
         0.2
        ],
        [
         11053,
         64,
         33.25,
         25,
         0.2
        ],
        [
         11062,
         53,
         32.8,
         10,
         0.2
        ],
        [
         11062,
         70,
         15.0,
         12,
         0.2
        ],
        [
         11063,
         40,
         18.4,
         40,
         0.1
        ],
        [
         11063,
         41,
         9.65,
         30,
         0.1
        ],
        [
         11064,
         17,
         39.0,
         77,
         0.1
        ],
        [
         11064,
         53,
         32.8,
         25,
         0.1
        ],
        [
         11064,
         55,
         24.0,
         4,
         0.1
        ],
        [
         11065,
         30,
         25.89,
         4,
         0.25
        ],
        [
         11065,
         54,
         7.45,
         20,
         0.25
        ],
        [
         11068,
         28,
         45.6,
         8,
         0.15
        ],
        [
         11068,
         43,
         46.0,
         36,
         0.15
        ],
        [
         11068,
         77,
         13.0,
         28,
         0.15
        ],
        [
         11070,
         1,
         18.0,
         40,
         0.15
        ],
        [
         11070,
         2,
         19.0,
         20,
         0.15
        ],
        [
         11070,
         16,
         17.45,
         30,
         0.15
        ],
        [
         11071,
         7,
         30.0,
         15,
         0.05
        ],
        [
         11071,
         13,
         6.0,
         10,
         0.05
        ],
        [
         11074,
         16,
         17.45,
         14,
         0.05
        ],
        [
         11075,
         2,
         19.0,
         10,
         0.15
        ],
        [
         11075,
         46,
         12.0,
         30,
         0.15
        ],
        [
         11075,
         76,
         18.0,
         2,
         0.15
        ],
        [
         11076,
         6,
         25.0,
         20,
         0.25
        ],
        [
         11076,
         14,
         23.25,
         20,
         0.25
        ],
        [
         11076,
         19,
         9.2,
         10,
         0.25
        ],
        [
         11077,
         2,
         19.0,
         24,
         0.2
        ],
        [
         11077,
         6,
         25.0,
         1,
         0.02
        ],
        [
         11077,
         7,
         30.0,
         1,
         0.05
        ],
        [
         11077,
         8,
         40.0,
         2,
         0.1
        ],
        [
         11077,
         12,
         38.0,
         2,
         0.05
        ],
        [
         11077,
         14,
         23.25,
         1,
         0.03
        ],
        [
         11077,
         16,
         17.45,
         2,
         0.03
        ],
        [
         11077,
         20,
         81.0,
         1,
         0.04
        ],
        [
         11077,
         39,
         18.0,
         2,
         0.05
        ],
        [
         11077,
         46,
         12.0,
         3,
         0.02
        ],
        [
         11077,
         60,
         34.0,
         2,
         0.06
        ],
        [
         11077,
         64,
         33.25,
         2,
         0.03
        ],
        [
         11077,
         73,
         15.0,
         2,
         0.01
        ]
       ],
       "datasetInfos": [],
       "dbfsResultPath": null,
       "isJsonSchema": true,
       "metadata": {},
       "overflow": false,
       "plotOptions": {
        "customPlotOptions": {},
        "displayType": "table",
        "pivotAggregation": null,
        "pivotColumns": null,
        "xColumns": null,
        "yColumns": null
       },
       "removedWidgets": [],
       "schema": [
        {
         "metadata": "{}",
         "name": "OrderID",
         "type": "\"integer\""
        },
        {
         "metadata": "{}",
         "name": "ProductID",
         "type": "\"integer\""
        },
        {
         "metadata": "{}",
         "name": "UnitPrice",
         "type": "\"double\""
        },
        {
         "metadata": "{}",
         "name": "Quantity",
         "type": "\"integer\""
        },
        {
         "metadata": "{}",
         "name": "Discount",
         "type": "\"double\""
        }
       ],
       "type": "table"
      }
     },
     "output_type": "display_data"
    }
   ],
   "source": [
    "%sql\n",
    "select * from order_details\n",
    "WHERE Discount !=0"
   ]
  },
  {
   "cell_type": "code",
   "execution_count": 0,
   "metadata": {
    "application/vnd.databricks.v1+cell": {
     "cellMetadata": {
      "byteLimit": 2048000,
      "implicitDf": true,
      "rowLimit": 10000
     },
     "inputWidgets": {},
     "nuid": "308cf96f-3b0e-4a96-aebc-5a9b0ca7588d",
     "showTitle": false,
     "title": ""
    }
   },
   "outputs": [
    {
     "output_type": "display_data",
     "data": {
      "text/html": [
       "<style scoped>\n",
       "  .table-result-container {\n",
       "    max-height: 300px;\n",
       "    overflow: auto;\n",
       "  }\n",
       "  table, th, td {\n",
       "    border: 1px solid black;\n",
       "    border-collapse: collapse;\n",
       "  }\n",
       "  th, td {\n",
       "    padding: 5px;\n",
       "  }\n",
       "  th {\n",
       "    text-align: left;\n",
       "  }\n",
       "</style><div class='table-result-container'><table class='table-result'><thead style='background-color: white'><tr><th>CompanyName</th><th>TotalSpending</th></tr></thead><tbody><tr><td>QUICK-Stop</td><td>117483.39000000001</td></tr><tr><td>Save-a-lot Markets</td><td>115673.39</td></tr><tr><td>Ernst Handel</td><td>113236.68</td></tr><tr><td>Hungry Owl All-Night Grocers</td><td>57317.39000000001</td></tr><tr><td>Rattlesnake Canyon Grocery</td><td>52245.9</td></tr><tr><td>Hanari Carnes</td><td>34101.15</td></tr><tr><td>Folk och fä HB</td><td>32555.55</td></tr><tr><td>Mère Paillarde</td><td>32203.9</td></tr><tr><td>Königlich Essen</td><td>31745.75</td></tr><tr><td>Queen Cozinha</td><td>30226.099999999995</td></tr><tr><td>White Clover Markets</td><td>29073.45</td></tr><tr><td>Frankenversand</td><td>28722.71</td></tr><tr><td>Berglunds snabbköp</td><td>26968.149999999998</td></tr><tr><td>Piccolo und mehr</td><td>26259.95</td></tr><tr><td>Suprêmes délices</td><td>24704.399999999998</td></tr><tr><td>Bon app'</td><td>23850.95</td></tr><tr><td>HILARION-Abastos</td><td>23611.58</td></tr><tr><td>Bottom-Dollar Markets</td><td>22607.7</td></tr><tr><td>Lehmanns Marktstand</td><td>21282.019999999997</td></tr><tr><td>Richter Supermarkt</td><td>20033.200000000004</td></tr><tr><td>Great Lakes Food Market</td><td>19711.13</td></tr><tr><td>Blondesddsl père et fils</td><td>19088.0</td></tr><tr><td>Simons bistro</td><td>18138.45</td></tr><tr><td>LINO-Delicateses</td><td>17889.550000000003</td></tr><tr><td>LILA-Supermercado</td><td>17825.06</td></tr><tr><td>Seven Seas Imports</td><td>17172.05</td></tr><tr><td>Vaffeljernet</td><td>16643.8</td></tr><tr><td>Wartian Herkku</td><td>16617.1</td></tr><tr><td>Old World Delicatessen</td><td>16325.15</td></tr><tr><td>Eastern Connection</td><td>15033.66</td></tr><tr><td>Around the Horn</td><td>13806.5</td></tr><tr><td>Ottilies Käseladen</td><td>13157.5</td></tr><tr><td>Ricardo Adocicados</td><td>12924.4</td></tr><tr><td>Chop-suey Chinese</td><td>12886.3</td></tr><tr><td>Split Rail Beer & Ale</td><td>12489.7</td></tr><tr><td>Godos Cocina Típica</td><td>11830.1</td></tr><tr><td>Folies gourmandes</td><td>11666.9</td></tr><tr><td>Tortuga Restaurante</td><td>10812.15</td></tr><tr><td>Die Wandernde Kuh</td><td>10653.85</td></tr><tr><td>Maison Dewey</td><td>10430.58</td></tr><tr><td>La maison d'Asie</td><td>10272.35</td></tr><tr><td>Victuailles en stock</td><td>9937.1</td></tr><tr><td>Gourmet Lanchonetes</td><td>8702.23</td></tr><tr><td>Magazzini Alimentari Riuniti</td><td>7603.849999999999</td></tr><tr><td>Reggiani Caseifici</td><td>7555.6</td></tr><tr><td>Antonio Moreno Taquería</td><td>7515.349999999999</td></tr><tr><td>Tradição Hipermercados</td><td>7310.62</td></tr><tr><td>Furia Bacalhau e Frutos do Mar</td><td>7151.55</td></tr><tr><td>Que Delícia</td><td>6973.63</td></tr><tr><td>Wellington Importadora</td><td>6480.7</td></tr><tr><td>Island Trading</td><td>6146.3</td></tr><tr><td>B's Beverages</td><td>6089.900000000001</td></tr><tr><td>Santé Gourmet</td><td>5735.15</td></tr><tr><td>Princesa Isabel Vinhos</td><td>5317.1</td></tr><tr><td>Bólido Comidas preparadas</td><td>5297.8</td></tr><tr><td>Morgenstern Gesundkost</td><td>5042.200000000001</td></tr><tr><td>Toms Spezialitäten</td><td>4954.0</td></tr><tr><td>Alfreds Futterkiste</td><td>4596.2</td></tr><tr><td>Familia Arquibaldo</td><td>4438.900000000001</td></tr><tr><td>Lonesome Pine Restaurant</td><td>4258.6</td></tr><tr><td>Pericles Comidas clásicas</td><td>4242.2</td></tr><tr><td>Comércio Mineiro</td><td>3810.75</td></tr><tr><td>Drachenblut Delikatessen</td><td>3763.2099999999996</td></tr><tr><td>Wolski  Zajazd</td><td>3531.95</td></tr><tr><td>Let's Stop N Shop</td><td>3490.02</td></tr><tr><td>Océano Atlántico Ltda.</td><td>3460.2</td></tr><tr><td>The Big Cheese</td><td>3361.0</td></tr><tr><td>Blauer See Delikatessen</td><td>3239.8</td></tr><tr><td>France restauration</td><td>3172.16</td></tr><tr><td>Wilman Kala</td><td>3161.35</td></tr><tr><td>Hungry Coyote Import Store</td><td>3063.2</td></tr><tr><td>Rancho grande</td><td>2844.1</td></tr><tr><td>Spécialités du monde</td><td>2423.35</td></tr><tr><td>La corne d'abondance</td><td>1992.0500000000002</td></tr><tr><td>The Cracker Box</td><td>1947.24</td></tr><tr><td>Cactus Comidas para llevar</td><td>1814.8</td></tr><tr><td>Consolidated Holdings</td><td>1719.1</td></tr><tr><td>Du monde entier</td><td>1615.9</td></tr><tr><td>Trail's Head Gourmet Provisioners</td><td>1571.1999999999998</td></tr><tr><td>Franchi S.p.A.</td><td>1545.7</td></tr><tr><td>GROSELLA-Restaurante</td><td>1488.7</td></tr><tr><td>Vins et alcools Chevalier</td><td>1480.0</td></tr><tr><td>Romero y tomillo</td><td>1467.2900000000002</td></tr><tr><td>Ana Trujillo Emparedados y helados</td><td>1402.95</td></tr><tr><td>Galería del gastrónomo</td><td>836.7</td></tr><tr><td>North/South</td><td>649.0</td></tr><tr><td>Laughing Bacchus Wine Cellars</td><td>522.5</td></tr><tr><td>Lazy K Kountry Store</td><td>357.0</td></tr><tr><td>Centro comercial Moctezuma</td><td>100.8</td></tr></tbody></table></div>"
      ]
     },
     "metadata": {
      "application/vnd.databricks.v1+output": {
       "addedWidgets": {},
       "aggData": [],
       "aggError": "",
       "aggOverflow": false,
       "aggSchema": [],
       "aggSeriesLimitReached": false,
       "aggType": "",
       "arguments": {},
       "columnCustomDisplayInfos": {},
       "data": [
        [
         "QUICK-Stop",
         117483.39000000001
        ],
        [
         "Save-a-lot Markets",
         115673.39
        ],
        [
         "Ernst Handel",
         113236.68
        ],
        [
         "Hungry Owl All-Night Grocers",
         57317.39000000001
        ],
        [
         "Rattlesnake Canyon Grocery",
         52245.9
        ],
        [
         "Hanari Carnes",
         34101.15
        ],
        [
         "Folk och fä HB",
         32555.55
        ],
        [
         "Mère Paillarde",
         32203.9
        ],
        [
         "Königlich Essen",
         31745.75
        ],
        [
         "Queen Cozinha",
         30226.099999999995
        ],
        [
         "White Clover Markets",
         29073.45
        ],
        [
         "Frankenversand",
         28722.71
        ],
        [
         "Berglunds snabbköp",
         26968.149999999998
        ],
        [
         "Piccolo und mehr",
         26259.95
        ],
        [
         "Suprêmes délices",
         24704.399999999998
        ],
        [
         "Bon app'",
         23850.95
        ],
        [
         "HILARION-Abastos",
         23611.58
        ],
        [
         "Bottom-Dollar Markets",
         22607.7
        ],
        [
         "Lehmanns Marktstand",
         21282.019999999997
        ],
        [
         "Richter Supermarkt",
         20033.200000000004
        ],
        [
         "Great Lakes Food Market",
         19711.13
        ],
        [
         "Blondesddsl père et fils",
         19088.0
        ],
        [
         "Simons bistro",
         18138.45
        ],
        [
         "LINO-Delicateses",
         17889.550000000003
        ],
        [
         "LILA-Supermercado",
         17825.06
        ],
        [
         "Seven Seas Imports",
         17172.05
        ],
        [
         "Vaffeljernet",
         16643.8
        ],
        [
         "Wartian Herkku",
         16617.1
        ],
        [
         "Old World Delicatessen",
         16325.15
        ],
        [
         "Eastern Connection",
         15033.66
        ],
        [
         "Around the Horn",
         13806.5
        ],
        [
         "Ottilies Käseladen",
         13157.5
        ],
        [
         "Ricardo Adocicados",
         12924.4
        ],
        [
         "Chop-suey Chinese",
         12886.3
        ],
        [
         "Split Rail Beer & Ale",
         12489.7
        ],
        [
         "Godos Cocina Típica",
         11830.1
        ],
        [
         "Folies gourmandes",
         11666.9
        ],
        [
         "Tortuga Restaurante",
         10812.15
        ],
        [
         "Die Wandernde Kuh",
         10653.85
        ],
        [
         "Maison Dewey",
         10430.58
        ],
        [
         "La maison d'Asie",
         10272.35
        ],
        [
         "Victuailles en stock",
         9937.1
        ],
        [
         "Gourmet Lanchonetes",
         8702.23
        ],
        [
         "Magazzini Alimentari Riuniti",
         7603.849999999999
        ],
        [
         "Reggiani Caseifici",
         7555.6
        ],
        [
         "Antonio Moreno Taquería",
         7515.349999999999
        ],
        [
         "Tradição Hipermercados",
         7310.62
        ],
        [
         "Furia Bacalhau e Frutos do Mar",
         7151.55
        ],
        [
         "Que Delícia",
         6973.63
        ],
        [
         "Wellington Importadora",
         6480.7
        ],
        [
         "Island Trading",
         6146.3
        ],
        [
         "B's Beverages",
         6089.900000000001
        ],
        [
         "Santé Gourmet",
         5735.15
        ],
        [
         "Princesa Isabel Vinhos",
         5317.1
        ],
        [
         "Bólido Comidas preparadas",
         5297.8
        ],
        [
         "Morgenstern Gesundkost",
         5042.200000000001
        ],
        [
         "Toms Spezialitäten",
         4954.0
        ],
        [
         "Alfreds Futterkiste",
         4596.2
        ],
        [
         "Familia Arquibaldo",
         4438.900000000001
        ],
        [
         "Lonesome Pine Restaurant",
         4258.6
        ],
        [
         "Pericles Comidas clásicas",
         4242.2
        ],
        [
         "Comércio Mineiro",
         3810.75
        ],
        [
         "Drachenblut Delikatessen",
         3763.2099999999996
        ],
        [
         "Wolski  Zajazd",
         3531.95
        ],
        [
         "Let's Stop N Shop",
         3490.02
        ],
        [
         "Océano Atlántico Ltda.",
         3460.2
        ],
        [
         "The Big Cheese",
         3361.0
        ],
        [
         "Blauer See Delikatessen",
         3239.8
        ],
        [
         "France restauration",
         3172.16
        ],
        [
         "Wilman Kala",
         3161.35
        ],
        [
         "Hungry Coyote Import Store",
         3063.2
        ],
        [
         "Rancho grande",
         2844.1
        ],
        [
         "Spécialités du monde",
         2423.35
        ],
        [
         "La corne d'abondance",
         1992.0500000000002
        ],
        [
         "The Cracker Box",
         1947.24
        ],
        [
         "Cactus Comidas para llevar",
         1814.8
        ],
        [
         "Consolidated Holdings",
         1719.1
        ],
        [
         "Du monde entier",
         1615.9
        ],
        [
         "Trail's Head Gourmet Provisioners",
         1571.1999999999998
        ],
        [
         "Franchi S.p.A.",
         1545.7
        ],
        [
         "GROSELLA-Restaurante",
         1488.7
        ],
        [
         "Vins et alcools Chevalier",
         1480.0
        ],
        [
         "Romero y tomillo",
         1467.2900000000002
        ],
        [
         "Ana Trujillo Emparedados y helados",
         1402.95
        ],
        [
         "Galería del gastrónomo",
         836.7
        ],
        [
         "North/South",
         649.0
        ],
        [
         "Laughing Bacchus Wine Cellars",
         522.5
        ],
        [
         "Lazy K Kountry Store",
         357.0
        ],
        [
         "Centro comercial Moctezuma",
         100.8
        ]
       ],
       "datasetInfos": [],
       "dbfsResultPath": null,
       "isJsonSchema": true,
       "metadata": {},
       "overflow": false,
       "plotOptions": {
        "customPlotOptions": {},
        "displayType": "table",
        "pivotAggregation": null,
        "pivotColumns": null,
        "xColumns": null,
        "yColumns": null
       },
       "removedWidgets": [],
       "schema": [
        {
         "metadata": "{}",
         "name": "CompanyName",
         "type": "\"string\""
        },
        {
         "metadata": "{}",
         "name": "TotalSpending",
         "type": "\"double\""
        }
       ],
       "type": "table"
      }
     },
     "output_type": "display_data"
    }
   ],
   "source": [
    "%sql\n",
    "select customers.CompanyName, sum(Quantity*UnitPrice) as TotalSpending from customers\n",
    "join orders\n",
    "on customers.CustomerID = orders.CustomerID\n",
    "join order_details\n",
    "on order_details.OrderID = orders.OrderID\n",
    "group by customers.CustomerID, customers.CompanyName\n",
    "order by TotalSpending desc"
   ]
  },
  {
   "cell_type": "code",
   "execution_count": 0,
   "metadata": {
    "application/vnd.databricks.v1+cell": {
     "cellMetadata": {
      "byteLimit": 2048000,
      "implicitDf": true,
      "rowLimit": 10000
     },
     "inputWidgets": {},
     "nuid": "b08379c3-861f-49e5-99ca-6a0fa25d9dd2",
     "showTitle": false,
     "title": ""
    }
   },
   "outputs": [
    {
     "output_type": "display_data",
     "data": {
      "text/html": [
       "<style scoped>\n",
       "  .table-result-container {\n",
       "    max-height: 300px;\n",
       "    overflow: auto;\n",
       "  }\n",
       "  table, th, td {\n",
       "    border: 1px solid black;\n",
       "    border-collapse: collapse;\n",
       "  }\n",
       "  th, td {\n",
       "    padding: 5px;\n",
       "  }\n",
       "  th {\n",
       "    text-align: left;\n",
       "  }\n",
       "</style><div class='table-result-container'><table class='table-result'><thead style='background-color: white'><tr><th>CompanyName</th><th>TotalSpending</th></tr></thead><tbody><tr><td>QUICK-Stop</td><td>117483.39000000001</td></tr><tr><td>Save-a-lot Markets</td><td>115673.39</td></tr><tr><td>Ernst Handel</td><td>113236.68</td></tr><tr><td>Hungry Owl All-Night Grocers</td><td>57317.39000000001</td></tr><tr><td>Rattlesnake Canyon Grocery</td><td>52245.9</td></tr><tr><td>Hanari Carnes</td><td>34101.15</td></tr><tr><td>Folk och fä HB</td><td>32555.55</td></tr><tr><td>Mère Paillarde</td><td>32203.9</td></tr><tr><td>Königlich Essen</td><td>31745.75</td></tr><tr><td>Queen Cozinha</td><td>30226.099999999995</td></tr><tr><td>White Clover Markets</td><td>29073.45</td></tr><tr><td>Frankenversand</td><td>28722.71</td></tr><tr><td>Berglunds snabbköp</td><td>26968.149999999998</td></tr><tr><td>Piccolo und mehr</td><td>26259.95</td></tr><tr><td>Suprêmes délices</td><td>24704.399999999998</td></tr><tr><td>Bon app'</td><td>23850.95</td></tr><tr><td>HILARION-Abastos</td><td>23611.58</td></tr><tr><td>Bottom-Dollar Markets</td><td>22607.7</td></tr><tr><td>Lehmanns Marktstand</td><td>21282.019999999997</td></tr><tr><td>Richter Supermarkt</td><td>20033.200000000004</td></tr></tbody></table></div>"
      ]
     },
     "metadata": {
      "application/vnd.databricks.v1+output": {
       "addedWidgets": {},
       "aggData": [],
       "aggError": "",
       "aggOverflow": false,
       "aggSchema": [],
       "aggSeriesLimitReached": false,
       "aggType": "",
       "arguments": {},
       "columnCustomDisplayInfos": {},
       "data": [
        [
         "QUICK-Stop",
         117483.39000000001
        ],
        [
         "Save-a-lot Markets",
         115673.39
        ],
        [
         "Ernst Handel",
         113236.68
        ],
        [
         "Hungry Owl All-Night Grocers",
         57317.39000000001
        ],
        [
         "Rattlesnake Canyon Grocery",
         52245.9
        ],
        [
         "Hanari Carnes",
         34101.15
        ],
        [
         "Folk och fä HB",
         32555.55
        ],
        [
         "Mère Paillarde",
         32203.9
        ],
        [
         "Königlich Essen",
         31745.75
        ],
        [
         "Queen Cozinha",
         30226.099999999995
        ],
        [
         "White Clover Markets",
         29073.45
        ],
        [
         "Frankenversand",
         28722.71
        ],
        [
         "Berglunds snabbköp",
         26968.149999999998
        ],
        [
         "Piccolo und mehr",
         26259.95
        ],
        [
         "Suprêmes délices",
         24704.399999999998
        ],
        [
         "Bon app'",
         23850.95
        ],
        [
         "HILARION-Abastos",
         23611.58
        ],
        [
         "Bottom-Dollar Markets",
         22607.7
        ],
        [
         "Lehmanns Marktstand",
         21282.019999999997
        ],
        [
         "Richter Supermarkt",
         20033.200000000004
        ]
       ],
       "datasetInfos": [],
       "dbfsResultPath": null,
       "isJsonSchema": true,
       "metadata": {},
       "overflow": false,
       "plotOptions": {
        "customPlotOptions": {},
        "displayType": "table",
        "pivotAggregation": null,
        "pivotColumns": null,
        "xColumns": null,
        "yColumns": null
       },
       "removedWidgets": [],
       "schema": [
        {
         "metadata": "{}",
         "name": "CompanyName",
         "type": "\"string\""
        },
        {
         "metadata": "{}",
         "name": "TotalSpending",
         "type": "\"double\""
        }
       ],
       "type": "table"
      }
     },
     "output_type": "display_data"
    }
   ],
   "source": [
    "%sql\n",
    "-- Which customers are the biggest spenders in terms of total amount spent on orders?\n",
    "-- List only companies with a total spending of greater than 20,000.\n",
    "\n",
    "select customers.CompanyName, sum(Quantity*UnitPrice) as TotalSpending from customers\n",
    "join orders\n",
    "on customers.CustomerID = orders.CustomerID\n",
    "join order_details\n",
    "on order_details.OrderID = orders.OrderID\n",
    "group by customers.CustomerID, customers.CompanyName\n",
    "having sum(Quantity*UnitPrice) > 20000.00\n",
    "order by TotalSpending desc"
   ]
  },
  {
   "cell_type": "code",
   "execution_count": 0,
   "metadata": {
    "application/vnd.databricks.v1+cell": {
     "cellMetadata": {
      "byteLimit": 2048000,
      "implicitDf": true,
      "rowLimit": 10000
     },
     "inputWidgets": {},
     "nuid": "07a198fc-7f87-4855-925f-528e04e0d8bd",
     "showTitle": false,
     "title": ""
    }
   },
   "outputs": [
    {
     "output_type": "display_data",
     "data": {
      "text/html": [
       "<style scoped>\n",
       "  .table-result-container {\n",
       "    max-height: 300px;\n",
       "    overflow: auto;\n",
       "  }\n",
       "  table, th, td {\n",
       "    border: 1px solid black;\n",
       "    border-collapse: collapse;\n",
       "  }\n",
       "  th, td {\n",
       "    padding: 5px;\n",
       "  }\n",
       "  th {\n",
       "    text-align: left;\n",
       "  }\n",
       "</style><div class='table-result-container'><table class='table-result'><thead style='background-color: white'><tr><th>FirstName, LastName</th><th>count(OrderId)</th></tr></thead><tbody><tr><td>Margaret, Peacock</td><td>156</td></tr><tr><td>Janet, Leverling</td><td>127</td></tr><tr><td>Nancy, Davolio</td><td>123</td></tr><tr><td>Laura, Callahan</td><td>104</td></tr><tr><td>Andrew, Fuller</td><td>96</td></tr><tr><td>Robert, King</td><td>72</td></tr><tr><td>Michael, Suyama</td><td>67</td></tr><tr><td>Anne, Dodsworth</td><td>43</td></tr><tr><td>Steven, Buchanan</td><td>42</td></tr></tbody></table></div>"
      ]
     },
     "metadata": {
      "application/vnd.databricks.v1+output": {
       "addedWidgets": {},
       "aggData": [],
       "aggError": "",
       "aggOverflow": false,
       "aggSchema": [],
       "aggSeriesLimitReached": false,
       "aggType": "",
       "arguments": {},
       "columnCustomDisplayInfos": {},
       "data": [
        [
         "Margaret, Peacock",
         156
        ],
        [
         "Janet, Leverling",
         127
        ],
        [
         "Nancy, Davolio",
         123
        ],
        [
         "Laura, Callahan",
         104
        ],
        [
         "Andrew, Fuller",
         96
        ],
        [
         "Robert, King",
         72
        ],
        [
         "Michael, Suyama",
         67
        ],
        [
         "Anne, Dodsworth",
         43
        ],
        [
         "Steven, Buchanan",
         42
        ]
       ],
       "datasetInfos": [],
       "dbfsResultPath": null,
       "isJsonSchema": true,
       "metadata": {},
       "overflow": false,
       "plotOptions": {
        "customPlotOptions": {},
        "displayType": "plotlyBar",
        "pivotAggregation": null,
        "pivotColumns": null,
        "xColumns": null,
        "yColumns": null
       },
       "removedWidgets": [],
       "schema": [
        {
         "metadata": "{}",
         "name": "FirstName, LastName",
         "type": "\"string\""
        },
        {
         "metadata": "{\"__autoGeneratedAlias\":\"true\"}",
         "name": "count(OrderId)",
         "type": "\"long\""
        }
       ],
       "type": "table"
      }
     },
     "output_type": "display_data"
    }
   ],
   "source": [
    "%sql\n",
    "-- Which employees have sold the most orders?\n",
    "select concat(FirstName,', ',LastName) as `FirstName,`, count(OrderId) from orders as o \n",
    "join employees as e on o.EmployeeId=e.EmployeeId\n",
    "group by 1\n",
    "order by 2 desc\n",
    "limit 9"
   ]
  },
  {
   "cell_type": "code",
   "execution_count": 0,
   "metadata": {
    "application/vnd.databricks.v1+cell": {
     "cellMetadata": {
      "byteLimit": 2048000,
      "implicitDf": true,
      "rowLimit": 10000
     },
     "inputWidgets": {},
     "nuid": "c4cab258-3b14-4472-ac86-87b6c8f4e881",
     "showTitle": false,
     "title": ""
    }
   },
   "outputs": [
    {
     "output_type": "display_data",
     "data": {
      "text/html": [
       "<style scoped>\n",
       "  .table-result-container {\n",
       "    max-height: 300px;\n",
       "    overflow: auto;\n",
       "  }\n",
       "  table, th, td {\n",
       "    border: 1px solid black;\n",
       "    border-collapse: collapse;\n",
       "  }\n",
       "  th, td {\n",
       "    padding: 5px;\n",
       "  }\n",
       "  th {\n",
       "    text-align: left;\n",
       "  }\n",
       "</style><div class='table-result-container'><table class='table-result'><thead style='background-color: white'><tr><th>CustomerId</th><th>CustomerId</th></tr></thead><tbody><tr><td>FISSA</td><td>null</td></tr><tr><td>PARIS</td><td>null</td></tr></tbody></table></div>"
      ]
     },
     "metadata": {
      "application/vnd.databricks.v1+output": {
       "addedWidgets": {},
       "aggData": [],
       "aggError": "",
       "aggOverflow": false,
       "aggSchema": [],
       "aggSeriesLimitReached": false,
       "aggType": "",
       "arguments": {},
       "columnCustomDisplayInfos": {},
       "data": [
        [
         "FISSA",
         null
        ],
        [
         "PARIS",
         null
        ]
       ],
       "datasetInfos": [],
       "dbfsResultPath": null,
       "isJsonSchema": true,
       "metadata": {},
       "overflow": false,
       "plotOptions": {
        "customPlotOptions": {},
        "displayType": "table",
        "pivotAggregation": null,
        "pivotColumns": null,
        "xColumns": null,
        "yColumns": null
       },
       "removedWidgets": [],
       "schema": [
        {
         "metadata": "{}",
         "name": "CustomerId",
         "type": "\"string\""
        },
        {
         "metadata": "{}",
         "name": "CustomerId",
         "type": "\"string\""
        }
       ],
       "type": "table"
      }
     },
     "output_type": "display_data"
    }
   ],
   "source": [
    "%sql\n",
    "-- List customer IDs of customers who have never placed an order.\n",
    "select c.CustomerId, o.CustomerId from customers as c\n",
    "full join orders as o on o.CustomerId=c.CustomerId\n",
    "WHERE o.CustomerId IS NULL "
   ]
  },
  {
   "cell_type": "code",
   "execution_count": 0,
   "metadata": {
    "application/vnd.databricks.v1+cell": {
     "cellMetadata": {
      "byteLimit": 2048000,
      "implicitDf": true,
      "rowLimit": 10000
     },
     "inputWidgets": {},
     "nuid": "83e4f400-28b8-4e51-8701-b9974e4eec70",
     "showTitle": false,
     "title": ""
    }
   },
   "outputs": [
    {
     "output_type": "display_data",
     "data": {
      "text/html": [
       "<style scoped>\n",
       "  .table-result-container {\n",
       "    max-height: 300px;\n",
       "    overflow: auto;\n",
       "  }\n",
       "  table, th, td {\n",
       "    border: 1px solid black;\n",
       "    border-collapse: collapse;\n",
       "  }\n",
       "  th, td {\n",
       "    padding: 5px;\n",
       "  }\n",
       "  th {\n",
       "    text-align: left;\n",
       "  }\n",
       "</style><div class='table-result-container'><table class='table-result'><thead style='background-color: white'><tr><th>OrderId</th><th>TotalOrders</th></tr></thead><tbody><tr><td>11077</td><td>25</td></tr><tr><td>10979</td><td>6</td></tr><tr><td>10847</td><td>6</td></tr><tr><td>10657</td><td>6</td></tr><tr><td>10514</td><td>5</td></tr><tr><td>10294</td><td>5</td></tr><tr><td>10962</td><td>5</td></tr><tr><td>10558</td><td>5</td></tr><tr><td>10845</td><td>5</td></tr><tr><td>10458</td><td>5</td></tr><tr><td>10607</td><td>5</td></tr><tr><td>10553</td><td>5</td></tr><tr><td>10393</td><td>5</td></tr><tr><td>10861</td><td>5</td></tr><tr><td>10612</td><td>5</td></tr></tbody></table></div>"
      ]
     },
     "metadata": {
      "application/vnd.databricks.v1+output": {
       "addedWidgets": {},
       "aggData": [],
       "aggError": "",
       "aggOverflow": false,
       "aggSchema": [],
       "aggSeriesLimitReached": false,
       "aggType": "",
       "arguments": {},
       "columnCustomDisplayInfos": {},
       "data": [
        [
         11077,
         25
        ],
        [
         10979,
         6
        ],
        [
         10847,
         6
        ],
        [
         10657,
         6
        ],
        [
         10514,
         5
        ],
        [
         10294,
         5
        ],
        [
         10962,
         5
        ],
        [
         10558,
         5
        ],
        [
         10845,
         5
        ],
        [
         10458,
         5
        ],
        [
         10607,
         5
        ],
        [
         10553,
         5
        ],
        [
         10393,
         5
        ],
        [
         10861,
         5
        ],
        [
         10612,
         5
        ]
       ],
       "datasetInfos": [],
       "dbfsResultPath": null,
       "isJsonSchema": true,
       "metadata": {},
       "overflow": false,
       "plotOptions": {
        "customPlotOptions": {},
        "displayType": "table",
        "pivotAggregation": null,
        "pivotColumns": null,
        "xColumns": null,
        "yColumns": null
       },
       "removedWidgets": [],
       "schema": [
        {
         "metadata": "{}",
         "name": "OrderId",
         "type": "\"integer\""
        },
        {
         "metadata": "{}",
         "name": "TotalOrders",
         "type": "\"long\""
        }
       ],
       "type": "table"
      }
     },
     "output_type": "display_data"
    }
   ],
   "source": [
    "%sql\n",
    "-- Show the top 15 order IDs\n",
    "\n",
    "select OrderId, Count(OrderId) as TotalOrders from order_details\n",
    "group by 1\n",
    "order by 2 desc\n",
    "limit 15"
   ]
  },
  {
   "cell_type": "code",
   "execution_count": 0,
   "metadata": {
    "application/vnd.databricks.v1+cell": {
     "cellMetadata": {
      "byteLimit": 2048000,
      "implicitDf": true,
      "rowLimit": 10000
     },
     "inputWidgets": {},
     "nuid": "455b778c-7947-48f5-b6ac-82e8f0c9d780",
     "showTitle": false,
     "title": ""
    }
   },
   "outputs": [
    {
     "output_type": "display_data",
     "data": {
      "text/html": [
       "<style scoped>\n",
       "  .table-result-container {\n",
       "    max-height: 300px;\n",
       "    overflow: auto;\n",
       "  }\n",
       "  table, th, td {\n",
       "    border: 1px solid black;\n",
       "    border-collapse: collapse;\n",
       "  }\n",
       "  th, td {\n",
       "    padding: 5px;\n",
       "  }\n",
       "  th {\n",
       "    text-align: left;\n",
       "  }\n",
       "</style><div class='table-result-container'><table class='table-result'><thead style='background-color: white'><tr><th>ProductName</th><th>Discount</th></tr></thead><tbody><tr><td>Jack's New England Clam Chowder</td><td>0.25</td></tr><tr><td>Tarte au sucre</td><td>0.25</td></tr><tr><td>Outback Lager</td><td>0.25</td></tr><tr><td>Pavlova</td><td>0.25</td></tr><tr><td>Nord-Ost Matjeshering</td><td>0.25</td></tr><tr><td>Longlife Tofu</td><td>0.25</td></tr><tr><td>Alice Mutton</td><td>0.25</td></tr><tr><td>Schoggi Schokolade</td><td>0.25</td></tr><tr><td>Camembert Pierrot</td><td>0.25</td></tr><tr><td>Laughing Lumberjack Lager</td><td>0.25</td></tr><tr><td>Inlagd Sill</td><td>0.25</td></tr><tr><td>Raclette Courdavault</td><td>0.25</td></tr><tr><td>Northwoods Cranberry Sauce</td><td>0.25</td></tr><tr><td>Gnocchi di nonna Alice</td><td>0.25</td></tr><tr><td>Sir Rodney's Marmalade</td><td>0.25</td></tr><tr><td>Côte de Blaye</td><td>0.25</td></tr><tr><td>Camembert Pierrot</td><td>0.25</td></tr><tr><td>Mozzarella di Giovanni</td><td>0.25</td></tr><tr><td>Chang</td><td>0.25</td></tr><tr><td>Tofu</td><td>0.25</td></tr><tr><td>NuNuCa Nuß-Nougat-Creme</td><td>0.25</td></tr><tr><td>Gumbär Gummibärchen</td><td>0.25</td></tr><tr><td>Spegesild</td><td>0.25</td></tr><tr><td>Scottish Longbreads</td><td>0.25</td></tr><tr><td>Pâté chinois</td><td>0.25</td></tr><tr><td>Lakkalikööri</td><td>0.25</td></tr><tr><td>Vegie-spread</td><td>0.25</td></tr><tr><td>Alice Mutton</td><td>0.25</td></tr><tr><td>Boston Crab Meat</td><td>0.25</td></tr><tr><td>Zaanse koeken</td><td>0.25</td></tr><tr><td>Scottish Longbreads</td><td>0.25</td></tr><tr><td>Rhönbräu Klosterbier</td><td>0.25</td></tr><tr><td>Sir Rodney's Scones</td><td>0.25</td></tr><tr><td>Nord-Ost Matjeshering</td><td>0.25</td></tr><tr><td>Pâté chinois</td><td>0.25</td></tr><tr><td>Sir Rodney's Scones</td><td>0.25</td></tr><tr><td>Chartreuse verte</td><td>0.25</td></tr><tr><td>Tourtière</td><td>0.25</td></tr><tr><td>Queso Cabrales</td><td>0.25</td></tr><tr><td>Queso Manchego La Pastora</td><td>0.25</td></tr><tr><td>Camembert Pierrot</td><td>0.25</td></tr><tr><td>Sasquatch Ale</td><td>0.25</td></tr><tr><td>Tarte au sucre</td><td>0.25</td></tr><tr><td>Steeleye Stout</td><td>0.25</td></tr><tr><td>Sirop d'érable</td><td>0.25</td></tr><tr><td>Gudbrandsdalsost</td><td>0.25</td></tr><tr><td>Original Frankfurter grüne Soße</td><td>0.25</td></tr><tr><td>Inlagd Sill</td><td>0.25</td></tr><tr><td>Gudbrandsdalsost</td><td>0.25</td></tr><tr><td>Outback Lager</td><td>0.25</td></tr><tr><td>Rössle Sauerkraut</td><td>0.25</td></tr><tr><td>Chartreuse verte</td><td>0.25</td></tr><tr><td>Spegesild</td><td>0.25</td></tr><tr><td>Chai</td><td>0.25</td></tr><tr><td>Ikura</td><td>0.25</td></tr><tr><td>Flotemysost</td><td>0.25</td></tr><tr><td>Original Frankfurter grüne Soße</td><td>0.25</td></tr><tr><td>Teatime Chocolate Biscuits</td><td>0.25</td></tr><tr><td>Gustaf's Knäckebröd</td><td>0.25</td></tr><tr><td>Nord-Ost Matjeshering</td><td>0.25</td></tr><tr><td>Pavlova</td><td>0.25</td></tr><tr><td>Gorgonzola Telino</td><td>0.25</td></tr><tr><td>Singaporean Hokkien Fried Mee</td><td>0.25</td></tr><tr><td>Mishi Kobe Niku</td><td>0.25</td></tr><tr><td>Inlagd Sill</td><td>0.25</td></tr><tr><td>Chai</td><td>0.25</td></tr><tr><td>Gnocchi di nonna Alice</td><td>0.25</td></tr><tr><td>Original Frankfurter grüne Soße</td><td>0.25</td></tr><tr><td>Teatime Chocolate Biscuits</td><td>0.25</td></tr><tr><td>Steeleye Stout</td><td>0.25</td></tr><tr><td>Escargots de Bourgogne</td><td>0.25</td></tr><tr><td>Outback Lager</td><td>0.25</td></tr><tr><td>Chang</td><td>0.25</td></tr><tr><td>Alice Mutton</td><td>0.25</td></tr><tr><td>Zaanse koeken</td><td>0.25</td></tr><tr><td>Gnocchi di nonna Alice</td><td>0.25</td></tr><tr><td>Escargots de Bourgogne</td><td>0.25</td></tr><tr><td>Carnarvon Tigers</td><td>0.25</td></tr><tr><td>Nord-Ost Matjeshering</td><td>0.25</td></tr><tr><td>Tourtière</td><td>0.25</td></tr><tr><td>Zaanse koeken</td><td>0.25</td></tr><tr><td>Gnocchi di nonna Alice</td><td>0.25</td></tr><tr><td>Ravioli Angelo</td><td>0.25</td></tr><tr><td>Gudbrandsdalsost</td><td>0.25</td></tr><tr><td>NuNuCa Nuß-Nougat-Creme</td><td>0.25</td></tr><tr><td>Ipoh Coffee</td><td>0.25</td></tr><tr><td>NuNuCa Nuß-Nougat-Creme</td><td>0.25</td></tr><tr><td>Queso Cabrales</td><td>0.25</td></tr><tr><td>Gorgonzola Telino</td><td>0.25</td></tr><tr><td>Alice Mutton</td><td>0.25</td></tr><tr><td>Alice Mutton</td><td>0.25</td></tr><tr><td>Thüringer Rostbratwurst</td><td>0.25</td></tr><tr><td>Nord-Ost Matjeshering</td><td>0.25</td></tr><tr><td>Manjimup Dried Apples</td><td>0.25</td></tr><tr><td>Pâté chinois</td><td>0.25</td></tr><tr><td>Tarte au sucre</td><td>0.25</td></tr><tr><td>Chang</td><td>0.25</td></tr><tr><td>Longlife Tofu</td><td>0.25</td></tr><tr><td>Zaanse koeken</td><td>0.25</td></tr><tr><td>Lakkalikööri</td><td>0.25</td></tr><tr><td>Chai</td><td>0.25</td></tr><tr><td>Carnarvon Tigers</td><td>0.25</td></tr><tr><td>Inlagd Sill</td><td>0.25</td></tr><tr><td>Manjimup Dried Apples</td><td>0.25</td></tr><tr><td>Gumbär Gummibärchen</td><td>0.25</td></tr><tr><td>Thüringer Rostbratwurst</td><td>0.25</td></tr><tr><td>Guaraná Fantástica</td><td>0.25</td></tr><tr><td>Tourtière</td><td>0.25</td></tr><tr><td>Wimmers gute Semmelknödel</td><td>0.25</td></tr><tr><td>Chang</td><td>0.25</td></tr><tr><td>Guaraná Fantástica</td><td>0.25</td></tr><tr><td>Nord-Ost Matjeshering</td><td>0.25</td></tr><tr><td>Pavlova</td><td>0.25</td></tr><tr><td>Outback Lager</td><td>0.25</td></tr><tr><td>Queso Cabrales</td><td>0.25</td></tr><tr><td>Thüringer Rostbratwurst</td><td>0.25</td></tr><tr><td>Chef Anton's Cajun Seasoning</td><td>0.25</td></tr><tr><td>Geitost</td><td>0.25</td></tr><tr><td>Chai</td><td>0.25</td></tr><tr><td>Camembert Pierrot</td><td>0.25</td></tr><tr><td>Carnarvon Tigers</td><td>0.25</td></tr><tr><td>Tunnbröd</td><td>0.25</td></tr><tr><td>Konbu</td><td>0.25</td></tr><tr><td>Ipoh Coffee</td><td>0.25</td></tr><tr><td>Camembert Pierrot</td><td>0.25</td></tr><tr><td>Flotemysost</td><td>0.25</td></tr><tr><td>Gorgonzola Telino</td><td>0.25</td></tr><tr><td>Tarte au sucre</td><td>0.25</td></tr><tr><td>Scottish Longbreads</td><td>0.25</td></tr><tr><td>Queso Cabrales</td><td>0.25</td></tr><tr><td>Gula Malacca</td><td>0.25</td></tr><tr><td>Guaraná Fantástica</td><td>0.25</td></tr><tr><td>Thüringer Rostbratwurst</td><td>0.25</td></tr><tr><td>Jack's New England Clam Chowder</td><td>0.25</td></tr><tr><td>Spegesild</td><td>0.25</td></tr><tr><td>Filo Mix</td><td>0.25</td></tr><tr><td>Chef Anton's Cajun Seasoning</td><td>0.25</td></tr><tr><td>Guaraná Fantástica</td><td>0.25</td></tr><tr><td>Thüringer Rostbratwurst</td><td>0.25</td></tr><tr><td>Inlagd Sill</td><td>0.25</td></tr><tr><td>Chang</td><td>0.25</td></tr><tr><td>Manjimup Dried Apples</td><td>0.25</td></tr><tr><td>Guaraná Fantástica</td><td>0.25</td></tr><tr><td>Tarte au sucre</td><td>0.25</td></tr><tr><td>Chang</td><td>0.25</td></tr><tr><td>Thüringer Rostbratwurst</td><td>0.25</td></tr><tr><td>Raclette Courdavault</td><td>0.25</td></tr><tr><td>Chai</td><td>0.25</td></tr><tr><td>Chef Anton's Gumbo Mix</td><td>0.25</td></tr><tr><td>Nord-Ost Matjeshering</td><td>0.25</td></tr><tr><td>Tourtière</td><td>0.25</td></tr><tr><td>Grandma's Boysenberry Spread</td><td>0.25</td></tr><tr><td>Tofu</td><td>0.25</td></tr><tr><td>Teatime Chocolate Biscuits</td><td>0.25</td></tr><tr><td>Chang</td><td>0.2</td></tr><tr><td>Chef Anton's Gumbo Mix</td><td>0.2</td></tr><tr><td>Mascarpone Fabioli</td><td>0.2</td></tr><tr><td>Chef Anton's Gumbo Mix</td><td>0.2</td></tr><tr><td>Chai</td><td>0.2</td></tr><tr><td>Boston Crab Meat</td><td>0.2</td></tr><tr><td>Perth Pasties</td><td>0.2</td></tr><tr><td>Chang</td><td>0.2</td></tr><tr><td>Queso Cabrales</td><td>0.2</td></tr><tr><td>Nord-Ost Matjeshering</td><td>0.2</td></tr><tr><td>Escargots de Bourgogne</td><td>0.2</td></tr><tr><td>Carnarvon Tigers</td><td>0.2</td></tr><tr><td>Singaporean Hokkien Fried Mee</td><td>0.2</td></tr><tr><td>Zaanse koeken</td><td>0.2</td></tr><tr><td>Chang</td><td>0.2</td></tr><tr><td>Gorgonzola Telino</td><td>0.2</td></tr><tr><td>Mascarpone Fabioli</td><td>0.2</td></tr><tr><td>Manjimup Dried Apples</td><td>0.2</td></tr><tr><td>Chang</td><td>0.2</td></tr><tr><td>Gorgonzola Telino</td><td>0.2</td></tr><tr><td>Inlagd Sill</td><td>0.2</td></tr><tr><td>Pâté chinois</td><td>0.2</td></tr><tr><td>Queso Cabrales</td><td>0.2</td></tr><tr><td>Côte de Blaye</td><td>0.2</td></tr><tr><td>Ikura</td><td>0.2</td></tr><tr><td>Camembert Pierrot</td><td>0.2</td></tr><tr><td>Inlagd Sill</td><td>0.2</td></tr><tr><td>Escargots de Bourgogne</td><td>0.2</td></tr><tr><td>Flotemysost</td><td>0.2</td></tr><tr><td>Uncle Bob's Organic Dried Pears</td><td>0.2</td></tr><tr><td>Camembert Pierrot</td><td>0.2</td></tr><tr><td>Scottish Longbreads</td><td>0.2</td></tr><tr><td>Rogede sild</td><td>0.2</td></tr><tr><td>Filo Mix</td><td>0.2</td></tr><tr><td>Jack's New England Clam Chowder</td><td>0.2</td></tr><tr><td>Gula Malacca</td><td>0.2</td></tr><tr><td>Raclette Courdavault</td><td>0.2</td></tr><tr><td>Steeleye Stout</td><td>0.2</td></tr><tr><td>Côte de Blaye</td><td>0.2</td></tr><tr><td>Scottish Longbreads</td><td>0.2</td></tr><tr><td>Alice Mutton</td><td>0.2</td></tr><tr><td>Raclette Courdavault</td><td>0.2</td></tr><tr><td>Teatime Chocolate Biscuits</td><td>0.2</td></tr><tr><td>Sasquatch Ale</td><td>0.2</td></tr><tr><td>Ravioli Angelo</td><td>0.2</td></tr><tr><td>Queso Cabrales</td><td>0.2</td></tr><tr><td>Ikura</td><td>0.2</td></tr><tr><td>Tourtière</td><td>0.2</td></tr><tr><td>Pavlova</td><td>0.2</td></tr><tr><td>Geitost</td><td>0.2</td></tr><tr><td>Spegesild</td><td>0.2</td></tr><tr><td>Chef Anton's Cajun Seasoning</td><td>0.2</td></tr><tr><td>Gnocchi di nonna Alice</td><td>0.2</td></tr><tr><td>Röd Kaviar</td><td>0.2</td></tr><tr><td>Sir Rodney's Scones</td><td>0.2</td></tr><tr><td>Mascarpone Fabioli</td><td>0.2</td></tr><tr><td>Sirop d'érable</td><td>0.2</td></tr><tr><td>Chai</td><td>0.2</td></tr><tr><td>Nord-Ost Matjeshering</td><td>0.2</td></tr><tr><td>Boston Crab Meat</td><td>0.2</td></tr><tr><td>Geitost</td><td>0.2</td></tr><tr><td>Boston Crab Meat</td><td>0.2</td></tr><tr><td>Tourtière</td><td>0.2</td></tr><tr><td>Tofu</td><td>0.2</td></tr><tr><td>Teatime Chocolate Biscuits</td><td>0.2</td></tr><tr><td>Guaraná Fantástica</td><td>0.2</td></tr><tr><td>Manjimup Dried Apples</td><td>0.2</td></tr><tr><td>Gnocchi di nonna Alice</td><td>0.2</td></tr><tr><td>Gorgonzola Telino</td><td>0.2</td></tr><tr><td>Raclette Courdavault</td><td>0.2</td></tr><tr><td>Gorgonzola Telino</td><td>0.2</td></tr><tr><td>Rhönbräu Klosterbier</td><td>0.2</td></tr><tr><td>Carnarvon Tigers</td><td>0.2</td></tr><tr><td>Singaporean Hokkien Fried Mee</td><td>0.2</td></tr><tr><td>Sir Rodney's Marmalade</td><td>0.2</td></tr><tr><td>Gudbrandsdalsost</td><td>0.2</td></tr><tr><td>Lakkalikööri</td><td>0.2</td></tr><tr><td>Gnocchi di nonna Alice</td><td>0.2</td></tr><tr><td>Vegie-spread</td><td>0.2</td></tr><tr><td>Rhönbräu Klosterbier</td><td>0.2</td></tr><tr><td>Guaraná Fantástica</td><td>0.2</td></tr><tr><td>Louisiana Fiery Hot Pepper Sauce</td><td>0.2</td></tr><tr><td>Chef Anton's Cajun Seasoning</td><td>0.2</td></tr><tr><td>Pâté chinois</td><td>0.2</td></tr><tr><td>Tarte au sucre</td><td>0.2</td></tr><tr><td>Scottish Longbreads</td><td>0.2</td></tr><tr><td>Sir Rodney's Scones</td><td>0.2</td></tr><tr><td>Sirop d'érable</td><td>0.2</td></tr><tr><td>Jack's New England Clam Chowder</td><td>0.2</td></tr><tr><td>Chartreuse verte</td><td>0.2</td></tr><tr><td>Escargots de Bourgogne</td><td>0.2</td></tr><tr><td>Gudbrandsdalsost</td><td>0.2</td></tr><tr><td>Flotemysost</td><td>0.2</td></tr><tr><td>Alice Mutton</td><td>0.2</td></tr><tr><td>Chai</td><td>0.2</td></tr><tr><td>Sasquatch Ale</td><td>0.2</td></tr><tr><td>Scottish Longbreads</td><td>0.2</td></tr><tr><td>Flotemysost</td><td>0.2</td></tr><tr><td>Rössle Sauerkraut</td><td>0.2</td></tr><tr><td>Steeleye Stout</td><td>0.2</td></tr><tr><td>Rogede sild</td><td>0.2</td></tr><tr><td>Gnocchi di nonna Alice</td><td>0.2</td></tr><tr><td>Chang</td><td>0.2</td></tr><tr><td>Boston Crab Meat</td><td>0.2</td></tr><tr><td>Carnarvon Tigers</td><td>0.2</td></tr><tr><td>Inlagd Sill</td><td>0.2</td></tr><tr><td>Scottish Longbreads</td><td>0.2</td></tr><tr><td>Gudbrandsdalsost</td><td>0.2</td></tr><tr><td>Gorgonzola Telino</td><td>0.2</td></tr><tr><td>Rhönbräu Klosterbier</td><td>0.2</td></tr><tr><td>Singaporean Hokkien Fried Mee</td><td>0.2</td></tr><tr><td>Tourtière</td><td>0.2</td></tr><tr><td>Gnocchi di nonna Alice</td><td>0.2</td></tr><tr><td>Northwoods Cranberry Sauce</td><td>0.2</td></tr><tr><td>Nord-Ost Matjeshering</td><td>0.2</td></tr><tr><td>Rhönbräu Klosterbier</td><td>0.2</td></tr><tr><td>Tofu</td><td>0.2</td></tr><tr><td>Tourtière</td><td>0.2</td></tr><tr><td>Gumbär Gummibärchen</td><td>0.2</td></tr><tr><td>Wimmers gute Semmelknödel</td><td>0.2</td></tr><tr><td>Gudbrandsdalsost</td><td>0.2</td></tr><tr><td>Chang</td><td>0.2</td></tr><tr><td>Konbu</td><td>0.2</td></tr><tr><td>NuNuCa Nuß-Nougat-Creme</td><td>0.2</td></tr><tr><td>Gula Malacca</td><td>0.2</td></tr><tr><td>Original Frankfurter grüne Soße</td><td>0.2</td></tr><tr><td>NuNuCa Nuß-Nougat-Creme</td><td>0.2</td></tr><tr><td>Chartreuse verte</td><td>0.2</td></tr><tr><td>Chai</td><td>0.2</td></tr><tr><td>Teatime Chocolate Biscuits</td><td>0.2</td></tr><tr><td>Gravad lax</td><td>0.2</td></tr><tr><td>Rogede sild</td><td>0.2</td></tr><tr><td>Camembert Pierrot</td><td>0.2</td></tr><tr><td>Flotemysost</td><td>0.2</td></tr><tr><td>Tunnbröd</td><td>0.2</td></tr><tr><td>Sirop d'érable</td><td>0.2</td></tr><tr><td>Outback Lager</td><td>0.2</td></tr><tr><td>Singaporean Hokkien Fried Mee</td><td>0.2</td></tr><tr><td>Ipoh Coffee</td><td>0.2</td></tr><tr><td>Laughing Lumberjack Lager</td><td>0.2</td></tr><tr><td>Pâté chinois</td><td>0.2</td></tr><tr><td>Escargots de Bourgogne</td><td>0.2</td></tr><tr><td>Inlagd Sill</td><td>0.2</td></tr><tr><td>Rhönbräu Klosterbier</td><td>0.2</td></tr><tr><td>Filo Mix</td><td>0.2</td></tr><tr><td>Rhönbräu Klosterbier</td><td>0.2</td></tr><tr><td>Chang</td><td>0.2</td></tr><tr><td>Outback Lager</td><td>0.2</td></tr><tr><td>Lakkalikööri</td><td>0.2</td></tr><tr><td>Boston Crab Meat</td><td>0.2</td></tr><tr><td>Chang</td><td>0.2</td></tr><tr><td>Chang</td><td>0.2</td></tr><tr><td>Queso Manchego La Pastora</td><td>0.2</td></tr><tr><td>Guaraná Fantástica</td><td>0.2</td></tr><tr><td>Ipoh Coffee</td><td>0.2</td></tr><tr><td>Sirop d'érable</td><td>0.2</td></tr><tr><td>Carnarvon Tigers</td><td>0.2</td></tr><tr><td>Wimmers gute Semmelknödel</td><td>0.2</td></tr><tr><td>Perth Pasties</td><td>0.2</td></tr><tr><td>Outback Lager</td><td>0.2</td></tr><tr><td>Chang</td><td>0.2</td></tr><tr><td>Manjimup Dried Apples</td><td>0.15</td></tr><tr><td>Louisiana Fiery Hot Pepper Sauce</td><td>0.15</td></tr><tr><td>Guaraná Fantástica</td><td>0.15</td></tr><tr><td>Pâté chinois</td><td>0.15</td></tr><tr><td>Jack's New England Clam Chowder</td><td>0.15</td></tr><tr><td>Raclette Courdavault</td><td>0.15</td></tr><tr><td>Lakkalikööri</td><td>0.15</td></tr><tr><td>Pavlova</td><td>0.15</td></tr><tr><td>Spegesild</td><td>0.15</td></tr><tr><td>Pavlova</td><td>0.15</td></tr><tr><td>Steeleye Stout</td><td>0.15</td></tr><tr><td>Raclette Courdavault</td><td>0.15</td></tr><tr><td>Vegie-spread</td><td>0.15</td></tr><tr><td>Gumbär Gummibärchen</td><td>0.15</td></tr><tr><td>Mozzarella di Giovanni</td><td>0.15</td></tr><tr><td>Raclette Courdavault</td><td>0.15</td></tr><tr><td>Chartreuse verte</td><td>0.15</td></tr><tr><td>Rhönbräu Klosterbier</td><td>0.15</td></tr><tr><td>Chai</td><td>0.15</td></tr><tr><td>Tourtière</td><td>0.15</td></tr><tr><td>Chai</td><td>0.15</td></tr><tr><td>Longlife Tofu</td><td>0.15</td></tr><tr><td>Rössle Sauerkraut</td><td>0.15</td></tr><tr><td>Chartreuse verte</td><td>0.15</td></tr><tr><td>Sir Rodney's Scones</td><td>0.15</td></tr><tr><td>Manjimup Dried Apples</td><td>0.15</td></tr><tr><td>Pavlova</td><td>0.15</td></tr><tr><td>Chocolade</td><td>0.15</td></tr><tr><td>Teatime Chocolate Biscuits</td><td>0.15</td></tr><tr><td>Perth Pasties</td><td>0.15</td></tr><tr><td>Original Frankfurter grüne Soße</td><td>0.15</td></tr><tr><td>Lakkalikööri</td><td>0.15</td></tr><tr><td>Chang</td><td>0.15</td></tr><tr><td>Pavlova</td><td>0.15</td></tr><tr><td>Thüringer Rostbratwurst</td><td>0.15</td></tr><tr><td>Sirop d'érable</td><td>0.15</td></tr><tr><td>Sir Rodney's Scones</td><td>0.15</td></tr><tr><td>Maxilaku</td><td>0.15</td></tr><tr><td>Chang</td><td>0.15</td></tr><tr><td>Pavlova</td><td>0.15</td></tr><tr><td>Gula Malacca</td><td>0.15</td></tr><tr><td>Gorgonzola Telino</td><td>0.15</td></tr><tr><td>Louisiana Hot Spiced Okra</td><td>0.15</td></tr><tr><td>Lakkalikööri</td><td>0.15</td></tr><tr><td>Gula Malacca</td><td>0.15</td></tr><tr><td>Original Frankfurter grüne Soße</td><td>0.15</td></tr><tr><td>Ipoh Coffee</td><td>0.15</td></tr><tr><td>Chocolade</td><td>0.15</td></tr><tr><td>Chef Anton's Cajun Seasoning</td><td>0.15</td></tr><tr><td>Uncle Bob's Organic Dried Pears</td><td>0.15</td></tr><tr><td>Northwoods Cranberry Sauce</td><td>0.15</td></tr><tr><td>Guaraná Fantástica</td><td>0.15</td></tr><tr><td>Spegesild</td><td>0.15</td></tr><tr><td>Zaanse koeken</td><td>0.15</td></tr><tr><td>Camembert Pierrot</td><td>0.15</td></tr><tr><td>Mishi Kobe Niku</td><td>0.15</td></tr><tr><td>Geitost</td><td>0.15</td></tr><tr><td>Camembert Pierrot</td><td>0.15</td></tr><tr><td>Chai</td><td>0.15</td></tr><tr><td>Gnocchi di nonna Alice</td><td>0.15</td></tr><tr><td>Queso Manchego La Pastora</td><td>0.15</td></tr><tr><td>Tunnbröd</td><td>0.15</td></tr><tr><td>Mascarpone Fabioli</td><td>0.15</td></tr><tr><td>Gorgonzola Telino</td><td>0.15</td></tr><tr><td>Rogede sild</td><td>0.15</td></tr><tr><td>Manjimup Dried Apples</td><td>0.15</td></tr><tr><td>Pavlova</td><td>0.15</td></tr><tr><td>Steeleye Stout</td><td>0.15</td></tr><tr><td>Queso Cabrales</td><td>0.15</td></tr><tr><td>Carnarvon Tigers</td><td>0.15</td></tr><tr><td>Tofu</td><td>0.15</td></tr><tr><td>Singaporean Hokkien Fried Mee</td><td>0.15</td></tr><tr><td>Camembert Pierrot</td><td>0.15</td></tr><tr><td>Gudbrandsdalsost</td><td>0.15</td></tr><tr><td>Filo Mix</td><td>0.15</td></tr><tr><td>Raclette Courdavault</td><td>0.15</td></tr><tr><td>Röd Kaviar</td><td>0.15</td></tr><tr><td>Queso Manchego La Pastora</td><td>0.15</td></tr><tr><td>Konbu</td><td>0.15</td></tr><tr><td>Gumbär Gummibärchen</td><td>0.15</td></tr><tr><td>Tarte au sucre</td><td>0.15</td></tr><tr><td>Guaraná Fantástica</td><td>0.15</td></tr><tr><td>Ikura</td><td>0.15</td></tr><tr><td>Gnocchi di nonna Alice</td><td>0.15</td></tr><tr><td>Louisiana Fiery Hot Pepper Sauce</td><td>0.15</td></tr><tr><td>Gumbär Gummibärchen</td><td>0.15</td></tr><tr><td>Geitost</td><td>0.15</td></tr><tr><td>Tourtière</td><td>0.15</td></tr><tr><td>Gudbrandsdalsost</td><td>0.15</td></tr><tr><td>Röd Kaviar</td><td>0.15</td></tr><tr><td>Raclette Courdavault</td><td>0.15</td></tr><tr><td>Flotemysost</td><td>0.15</td></tr><tr><td>Lakkalikööri</td><td>0.15</td></tr><tr><td>Outback Lager</td><td>0.15</td></tr><tr><td>Tofu</td><td>0.15</td></tr><tr><td>Rogede sild</td><td>0.15</td></tr><tr><td>Raclette Courdavault</td><td>0.15</td></tr><tr><td>Chartreuse verte</td><td>0.15</td></tr><tr><td>Mozzarella di Giovanni</td><td>0.15</td></tr><tr><td>Uncle Bob's Organic Dried Pears</td><td>0.15</td></tr><tr><td>Gnocchi di nonna Alice</td><td>0.15</td></tr><tr><td>Konbu</td><td>0.15</td></tr><tr><td>Guaraná Fantástica</td><td>0.15</td></tr><tr><td>Maxilaku</td><td>0.15</td></tr><tr><td>Gnocchi di nonna Alice</td><td>0.15</td></tr><tr><td>Lakkalikööri</td><td>0.15</td></tr><tr><td>Ipoh Coffee</td><td>0.15</td></tr><tr><td>Chocolade</td><td>0.15</td></tr><tr><td>Sirop d'érable</td><td>0.15</td></tr><tr><td>Gumbär Gummibärchen</td><td>0.15</td></tr><tr><td>Boston Crab Meat</td><td>0.15</td></tr><tr><td>Tarte au sucre</td><td>0.15</td></tr><tr><td>Gumbär Gummibärchen</td><td>0.15</td></tr><tr><td>NuNuCa Nuß-Nougat-Creme</td><td>0.15</td></tr><tr><td>Geitost</td><td>0.15</td></tr><tr><td>Outback Lager</td><td>0.15</td></tr><tr><td>Ikura</td><td>0.15</td></tr><tr><td>Konbu</td><td>0.15</td></tr><tr><td>Louisiana Fiery Hot Pepper Sauce</td><td>0.15</td></tr><tr><td>Chai</td><td>0.15</td></tr><tr><td>Escargots de Bourgogne</td><td>0.15</td></tr><tr><td>Maxilaku</td><td>0.15</td></tr><tr><td>Tourtière</td><td>0.15</td></tr><tr><td>Chartreuse verte</td><td>0.15</td></tr><tr><td>Pâté chinois</td><td>0.15</td></tr><tr><td>Tarte au sucre</td><td>0.15</td></tr><tr><td>Inlagd Sill</td><td>0.15</td></tr><tr><td>Filo Mix</td><td>0.15</td></tr><tr><td>Konbu</td><td>0.15</td></tr><tr><td>Chang</td><td>0.15</td></tr><tr><td>Laughing Lumberjack Lager</td><td>0.15</td></tr><tr><td>Pavlova</td><td>0.15</td></tr><tr><td>Gorgonzola Telino</td><td>0.15</td></tr><tr><td>Camembert Pierrot</td><td>0.15</td></tr><tr><td>Rhönbräu Klosterbier</td><td>0.15</td></tr><tr><td>Camembert Pierrot</td><td>0.15</td></tr><tr><td>Gnocchi di nonna Alice</td><td>0.15</td></tr><tr><td>Tarte au sucre</td><td>0.15</td></tr><tr><td>Northwoods Cranberry Sauce</td><td>0.15</td></tr><tr><td>Sir Rodney's Scones</td><td>0.15</td></tr><tr><td>Gula Malacca</td><td>0.15</td></tr><tr><td>Konbu</td><td>0.15</td></tr><tr><td>Sasquatch Ale</td><td>0.15</td></tr><tr><td>Pâté chinois</td><td>0.15</td></tr><tr><td>Sirop d'érable</td><td>0.15</td></tr><tr><td>Steeleye Stout</td><td>0.15</td></tr><tr><td>Singaporean Hokkien Fried Mee</td><td>0.15</td></tr><tr><td>Ikura</td><td>0.15</td></tr><tr><td>Rössle Sauerkraut</td><td>0.15</td></tr><tr><td>Ipoh Coffee</td><td>0.15</td></tr><tr><td>Original Frankfurter grüne Soße</td><td>0.15</td></tr><tr><td>Chai</td><td>0.15</td></tr><tr><td>Chang</td><td>0.15</td></tr><tr><td>Pavlova</td><td>0.15</td></tr><tr><td>Chang</td><td>0.15</td></tr><tr><td>Spegesild</td><td>0.15</td></tr><tr><td>Lakkalikööri</td><td>0.15</td></tr><tr><td>Tourtière</td><td>0.1</td></tr><tr><td>Scottish Longbreads</td><td>0.1</td></tr><tr><td>Konbu</td><td>0.1</td></tr><tr><td>Gula Malacca</td><td>0.1</td></tr><tr><td>Manjimup Dried Apples</td><td>0.1</td></tr><tr><td>Boston Crab Meat</td><td>0.1</td></tr><tr><td>Louisiana Fiery Hot Pepper Sauce</td><td>0.1</td></tr><tr><td>Scottish Longbreads</td><td>0.1</td></tr><tr><td>Carnarvon Tigers</td><td>0.1</td></tr><tr><td>Thüringer Rostbratwurst</td><td>0.1</td></tr><tr><td>Chartreuse verte</td><td>0.1</td></tr><tr><td>Mascarpone Fabioli</td><td>0.1</td></tr><tr><td>Escargots de Bourgogne</td><td>0.1</td></tr><tr><td>Tarte au sucre</td><td>0.1</td></tr><tr><td>Sir Rodney's Scones</td><td>0.1</td></tr><tr><td>Flotemysost</td><td>0.1</td></tr><tr><td>Chef Anton's Cajun Seasoning</td><td>0.1</td></tr><tr><td>Alice Mutton</td><td>0.1</td></tr><tr><td>Valkoinen suklaa</td><td>0.1</td></tr><tr><td>Gudbrandsdalsost</td><td>0.1</td></tr><tr><td>Chartreuse verte</td><td>0.1</td></tr><tr><td>Camembert Pierrot</td><td>0.1</td></tr><tr><td>Sir Rodney's Scones</td><td>0.1</td></tr><tr><td>Rössle Sauerkraut</td><td>0.1</td></tr><tr><td>Wimmers gute Semmelknödel</td><td>0.1</td></tr><tr><td>Jack's New England Clam Chowder</td><td>0.1</td></tr><tr><td>Vegie-spread</td><td>0.1</td></tr><tr><td>Louisiana Fiery Hot Pepper Sauce</td><td>0.1</td></tr><tr><td>Nord-Ost Matjeshering</td><td>0.1</td></tr><tr><td>Perth Pasties</td><td>0.1</td></tr><tr><td>Camembert Pierrot</td><td>0.1</td></tr><tr><td>Gorgonzola Telino</td><td>0.1</td></tr><tr><td>Steeleye Stout</td><td>0.1</td></tr><tr><td>Mozzarella di Giovanni</td><td>0.1</td></tr><tr><td>Spegesild</td><td>0.1</td></tr><tr><td>Perth Pasties</td><td>0.1</td></tr><tr><td>Pâté chinois</td><td>0.1</td></tr><tr><td>Sir Rodney's Scones</td><td>0.1</td></tr><tr><td>Rössle Sauerkraut</td><td>0.1</td></tr><tr><td>Inlagd Sill</td><td>0.1</td></tr><tr><td>Boston Crab Meat</td><td>0.1</td></tr><tr><td>Tofu</td><td>0.1</td></tr><tr><td>Mishi Kobe Niku</td><td>0.1</td></tr><tr><td>Konbu</td><td>0.1</td></tr><tr><td>Outback Lager</td><td>0.1</td></tr><tr><td>Röd Kaviar</td><td>0.1</td></tr><tr><td>Gnocchi di nonna Alice</td><td>0.1</td></tr><tr><td>Wimmers gute Semmelknödel</td><td>0.1</td></tr><tr><td>Rhönbräu Klosterbier</td><td>0.1</td></tr><tr><td>Teatime Chocolate Biscuits</td><td>0.1</td></tr><tr><td>Guaraná Fantástica</td><td>0.1</td></tr><tr><td>Gorgonzola Telino</td><td>0.1</td></tr><tr><td>Filo Mix</td><td>0.1</td></tr><tr><td>Pâté chinois</td><td>0.1</td></tr><tr><td>Wimmers gute Semmelknödel</td><td>0.1</td></tr><tr><td>Louisiana Fiery Hot Pepper Sauce</td><td>0.1</td></tr><tr><td>Original Frankfurter grüne Soße</td><td>0.1</td></tr><tr><td>Chocolade</td><td>0.1</td></tr><tr><td>Outback Lager</td><td>0.1</td></tr><tr><td>Thüringer Rostbratwurst</td><td>0.1</td></tr><tr><td>Rogede sild</td><td>0.1</td></tr><tr><td>Chang</td><td>0.1</td></tr><tr><td>Aniseed Syrup</td><td>0.1</td></tr><tr><td>Pâté chinois</td><td>0.1</td></tr><tr><td>Outback Lager</td><td>0.1</td></tr><tr><td>Louisiana Fiery Hot Pepper Sauce</td><td>0.1</td></tr><tr><td>Louisiana Hot Spiced Okra</td><td>0.1</td></tr><tr><td>Gudbrandsdalsost</td><td>0.1</td></tr><tr><td>NuNuCa Nuß-Nougat-Creme</td><td>0.1</td></tr><tr><td>Outback Lager</td><td>0.1</td></tr><tr><td>Rhönbräu Klosterbier</td><td>0.1</td></tr><tr><td>Carnarvon Tigers</td><td>0.1</td></tr><tr><td>Jack's New England Clam Chowder</td><td>0.1</td></tr><tr><td>Alice Mutton</td><td>0.1</td></tr><tr><td>Sir Rodney's Marmalade</td><td>0.1</td></tr><tr><td>Gravad lax</td><td>0.1</td></tr><tr><td>Jack's New England Clam Chowder</td><td>0.1</td></tr><tr><td>Boston Crab Meat</td><td>0.1</td></tr><tr><td>Chef Anton's Cajun Seasoning</td><td>0.1</td></tr><tr><td>Inlagd Sill</td><td>0.1</td></tr><tr><td>Queso Cabrales</td><td>0.1</td></tr><tr><td>Boston Crab Meat</td><td>0.1</td></tr><tr><td>Ravioli Angelo</td><td>0.1</td></tr><tr><td>Raclette Courdavault</td><td>0.1</td></tr><tr><td>Guaraná Fantástica</td><td>0.1</td></tr><tr><td>Côte de Blaye</td><td>0.1</td></tr><tr><td>Louisiana Fiery Hot Pepper Sauce</td><td>0.1</td></tr><tr><td>Flotemysost</td><td>0.1</td></tr><tr><td>Alice Mutton</td><td>0.1</td></tr><tr><td>Sir Rodney's Scones</td><td>0.1</td></tr><tr><td>Sirop d'érable</td><td>0.1</td></tr><tr><td>Geitost</td><td>0.1</td></tr><tr><td>Tarte au sucre</td><td>0.1</td></tr><tr><td>Guaraná Fantástica</td><td>0.1</td></tr><tr><td>Wimmers gute Semmelknödel</td><td>0.1</td></tr><tr><td>Pavlova</td><td>0.1</td></tr><tr><td>Mascarpone Fabioli</td><td>0.1</td></tr><tr><td>Rhönbräu Klosterbier</td><td>0.1</td></tr><tr><td>Chocolade</td><td>0.1</td></tr><tr><td>Lakkalikööri</td><td>0.1</td></tr><tr><td>Konbu</td><td>0.1</td></tr><tr><td>Teatime Chocolate Biscuits</td><td>0.1</td></tr><tr><td>Sir Rodney's Scones</td><td>0.1</td></tr><tr><td>Steeleye Stout</td><td>0.1</td></tr><tr><td>Rhönbräu Klosterbier</td><td>0.1</td></tr><tr><td>Chef Anton's Cajun Seasoning</td><td>0.1</td></tr><tr><td>Chef Anton's Gumbo Mix</td><td>0.1</td></tr><tr><td>Carnarvon Tigers</td><td>0.1</td></tr><tr><td>Spegesild</td><td>0.1</td></tr><tr><td>Pavlova</td><td>0.1</td></tr><tr><td>Camembert Pierrot</td><td>0.1</td></tr><tr><td>Chef Anton's Cajun Seasoning</td><td>0.1</td></tr><tr><td>Chartreuse verte</td><td>0.1</td></tr><tr><td>Tourtière</td><td>0.1</td></tr><tr><td>Tofu</td><td>0.1</td></tr><tr><td>Gula Malacca</td><td>0.1</td></tr><tr><td>Zaanse koeken</td><td>0.1</td></tr><tr><td>Gorgonzola Telino</td><td>0.1</td></tr><tr><td>Pâté chinois</td><td>0.1</td></tr><tr><td>Wimmers gute Semmelknödel</td><td>0.1</td></tr><tr><td>Côte de Blaye</td><td>0.1</td></tr><tr><td>Teatime Chocolate Biscuits</td><td>0.1</td></tr><tr><td>Sir Rodney's Scones</td><td>0.1</td></tr><tr><td>Ikura</td><td>0.1</td></tr><tr><td>Rössle Sauerkraut</td><td>0.1</td></tr><tr><td>Sirop d'érable</td><td>0.1</td></tr><tr><td>Original Frankfurter grüne Soße</td><td>0.1</td></tr><tr><td>Gumbär Gummibärchen</td><td>0.1</td></tr><tr><td>Valkoinen suklaa</td><td>0.1</td></tr><tr><td>Aniseed Syrup</td><td>0.1</td></tr><tr><td>Chartreuse verte</td><td>0.1</td></tr><tr><td>Louisiana Fiery Hot Pepper Sauce</td><td>0.1</td></tr><tr><td>Queso Cabrales</td><td>0.1</td></tr><tr><td>Manjimup Dried Apples</td><td>0.1</td></tr><tr><td>Tourtière</td><td>0.1</td></tr><tr><td>Gorgonzola Telino</td><td>0.1</td></tr><tr><td>Mozzarella di Giovanni</td><td>0.1</td></tr><tr><td>Queso Cabrales</td><td>0.1</td></tr><tr><td>Raclette Courdavault</td><td>0.1</td></tr><tr><td>Original Frankfurter grüne Soße</td><td>0.1</td></tr><tr><td>Uncle Bob's Organic Dried Pears</td><td>0.1</td></tr><tr><td>Gorgonzola Telino</td><td>0.1</td></tr><tr><td>Perth Pasties</td><td>0.1</td></tr><tr><td>Escargots de Bourgogne</td><td>0.1</td></tr><tr><td>Mozzarella di Giovanni</td><td>0.1</td></tr><tr><td>Tunnbröd</td><td>0.1</td></tr><tr><td>Steeleye Stout</td><td>0.1</td></tr><tr><td>Singaporean Hokkien Fried Mee</td><td>0.1</td></tr><tr><td>Escargots de Bourgogne</td><td>0.1</td></tr><tr><td>Maxilaku</td><td>0.1</td></tr><tr><td>Zaanse koeken</td><td>0.1</td></tr><tr><td>Ikura</td><td>0.1</td></tr><tr><td>Rössle Sauerkraut</td><td>0.1</td></tr><tr><td>Pavlova</td><td>0.1</td></tr><tr><td>Tarte au sucre</td><td>0.1</td></tr><tr><td>Rhönbräu Klosterbier</td><td>0.1</td></tr><tr><td>Pavlova</td><td>0.1</td></tr><tr><td>Carnarvon Tigers</td><td>0.1</td></tr><tr><td>Mascarpone Fabioli</td><td>0.1</td></tr><tr><td>Tarte au sucre</td><td>0.1</td></tr><tr><td>Jack's New England Clam Chowder</td><td>0.1</td></tr><tr><td>Chai</td><td>0.1</td></tr><tr><td>Konbu</td><td>0.1</td></tr><tr><td>Perth Pasties</td><td>0.1</td></tr><tr><td>Gudbrandsdalsost</td><td>0.1</td></tr><tr><td>Sir Rodney's Scones</td><td>0.1</td></tr><tr><td>Lakkalikööri</td><td>0.1</td></tr><tr><td>Boston Crab Meat</td><td>0.1</td></tr><tr><td>Jack's New England Clam Chowder</td><td>0.1</td></tr><tr><td>Alice Mutton</td><td>0.1</td></tr><tr><td>Perth Pasties</td><td>0.1</td></tr><tr><td>Pâté chinois</td><td>0.1</td></tr><tr><td>Northwoods Cranberry Sauce</td><td>0.1</td></tr><tr><td>Camembert Pierrot</td><td>0.06</td></tr><tr><td>Gustaf's Knäckebröd</td><td>0.05</td></tr><tr><td>Ravioli Angelo</td><td>0.05</td></tr><tr><td>Sir Rodney's Marmalade</td><td>0.05</td></tr><tr><td>Geitost</td><td>0.05</td></tr><tr><td>Queso Manchego La Pastora</td><td>0.05</td></tr><tr><td>Geitost</td><td>0.05</td></tr><tr><td>Mozzarella di Giovanni</td><td>0.05</td></tr><tr><td>Ikura</td><td>0.05</td></tr><tr><td>Gorgonzola Telino</td><td>0.05</td></tr><tr><td>Boston Crab Meat</td><td>0.05</td></tr><tr><td>Lakkalikööri</td><td>0.05</td></tr><tr><td>Guaraná Fantástica</td><td>0.05</td></tr><tr><td>Raclette Courdavault</td><td>0.05</td></tr><tr><td>Teatime Chocolate Biscuits</td><td>0.05</td></tr><tr><td>Nord-Ost Matjeshering</td><td>0.05</td></tr><tr><td>Côte de Blaye</td><td>0.05</td></tr><tr><td>Gnocchi di nonna Alice</td><td>0.05</td></tr><tr><td>Alice Mutton</td><td>0.05</td></tr><tr><td>Carnarvon Tigers</td><td>0.05</td></tr><tr><td>Jack's New England Clam Chowder</td><td>0.05</td></tr><tr><td>Ipoh Coffee</td><td>0.05</td></tr><tr><td>Scottish Longbreads</td><td>0.05</td></tr><tr><td>Côte de Blaye</td><td>0.05</td></tr><tr><td>Gula Malacca</td><td>0.05</td></tr><tr><td>Louisiana Fiery Hot Pepper Sauce</td><td>0.05</td></tr><tr><td>Guaraná Fantástica</td><td>0.05</td></tr><tr><td>Sasquatch Ale</td><td>0.05</td></tr><tr><td>Inlagd Sill</td><td>0.05</td></tr><tr><td>Pavlova</td><td>0.05</td></tr><tr><td>Gorgonzola Telino</td><td>0.05</td></tr><tr><td>Camembert Pierrot</td><td>0.05</td></tr><tr><td>Gorgonzola Telino</td><td>0.05</td></tr><tr><td>Gumbär Gummibärchen</td><td>0.05</td></tr><tr><td>Singaporean Hokkien Fried Mee</td><td>0.05</td></tr><tr><td>Maxilaku</td><td>0.05</td></tr><tr><td>Teatime Chocolate Biscuits</td><td>0.05</td></tr><tr><td>Camembert Pierrot</td><td>0.05</td></tr><tr><td>Gudbrandsdalsost</td><td>0.05</td></tr><tr><td>Gula Malacca</td><td>0.05</td></tr><tr><td>Uncle Bob's Organic Dried Pears</td><td>0.05</td></tr><tr><td>Spegesild</td><td>0.05</td></tr><tr><td>Guaraná Fantástica</td><td>0.05</td></tr><tr><td>Pâté chinois</td><td>0.05</td></tr><tr><td>Ikura</td><td>0.05</td></tr><tr><td>Sasquatch Ale</td><td>0.05</td></tr><tr><td>Original Frankfurter grüne Soße</td><td>0.05</td></tr><tr><td>NuNuCa Nuß-Nougat-Creme</td><td>0.05</td></tr><tr><td>Singaporean Hokkien Fried Mee</td><td>0.05</td></tr><tr><td>Gorgonzola Telino</td><td>0.05</td></tr><tr><td>Genen Shouyu</td><td>0.05</td></tr><tr><td>Rössle Sauerkraut</td><td>0.05</td></tr><tr><td>Ikura</td><td>0.05</td></tr><tr><td>Camembert Pierrot</td><td>0.05</td></tr><tr><td>Chef Anton's Cajun Seasoning</td><td>0.05</td></tr><tr><td>Röd Kaviar</td><td>0.05</td></tr><tr><td>Queso Cabrales</td><td>0.05</td></tr><tr><td>Tourtière</td><td>0.05</td></tr><tr><td>Pavlova</td><td>0.05</td></tr><tr><td>Tunnbröd</td><td>0.05</td></tr><tr><td>Tarte au sucre</td><td>0.05</td></tr><tr><td>Original Frankfurter grüne Soße</td><td>0.05</td></tr><tr><td>Jack's New England Clam Chowder</td><td>0.05</td></tr><tr><td>Pâté chinois</td><td>0.05</td></tr><tr><td>Alice Mutton</td><td>0.05</td></tr><tr><td>Gorgonzola Telino</td><td>0.05</td></tr><tr><td>Pâté chinois</td><td>0.05</td></tr><tr><td>Queso Cabrales</td><td>0.05</td></tr><tr><td>Gnocchi di nonna Alice</td><td>0.05</td></tr><tr><td>Tofu</td><td>0.05</td></tr><tr><td>Jack's New England Clam Chowder</td><td>0.05</td></tr><tr><td>Louisiana Fiery Hot Pepper Sauce</td><td>0.05</td></tr><tr><td>Gorgonzola Telino</td><td>0.05</td></tr><tr><td>Original Frankfurter grüne Soße</td><td>0.05</td></tr><tr><td>Genen Shouyu</td><td>0.05</td></tr><tr><td>Gumbär Gummibärchen</td><td>0.05</td></tr><tr><td>Maxilaku</td><td>0.05</td></tr><tr><td>Pavlova</td><td>0.05</td></tr><tr><td>Raclette Courdavault</td><td>0.05</td></tr><tr><td>Camembert Pierrot</td><td>0.05</td></tr><tr><td>Flotemysost</td><td>0.05</td></tr><tr><td>Côte de Blaye</td><td>0.05</td></tr><tr><td>Outback Lager</td><td>0.05</td></tr><tr><td>Flotemysost</td><td>0.05</td></tr><tr><td>Pâté chinois</td><td>0.05</td></tr><tr><td>Chang</td><td>0.05</td></tr><tr><td>Geitost</td><td>0.05</td></tr><tr><td>Valkoinen suklaa</td><td>0.05</td></tr><tr><td>Gnocchi di nonna Alice</td><td>0.05</td></tr><tr><td>Perth Pasties</td><td>0.05</td></tr><tr><td>Boston Crab Meat</td><td>0.05</td></tr><tr><td>Camembert Pierrot</td><td>0.05</td></tr><tr><td>Original Frankfurter grüne Soße</td><td>0.05</td></tr><tr><td>Gorgonzola Telino</td><td>0.05</td></tr><tr><td>Boston Crab Meat</td><td>0.05</td></tr><tr><td>Outback Lager</td><td>0.05</td></tr><tr><td>Boston Crab Meat</td><td>0.05</td></tr><tr><td>Singaporean Hokkien Fried Mee</td><td>0.05</td></tr><tr><td>Manjimup Dried Apples</td><td>0.05</td></tr><tr><td>Alice Mutton</td><td>0.05</td></tr><tr><td>Thüringer Rostbratwurst</td><td>0.05</td></tr><tr><td>Louisiana Fiery Hot Pepper Sauce</td><td>0.05</td></tr><tr><td>Outback Lager</td><td>0.05</td></tr><tr><td>Perth Pasties</td><td>0.05</td></tr><tr><td>Sir Rodney's Scones</td><td>0.05</td></tr><tr><td>Gudbrandsdalsost</td><td>0.05</td></tr><tr><td>Gula Malacca</td><td>0.05</td></tr><tr><td>Alice Mutton</td><td>0.05</td></tr><tr><td>Gnocchi di nonna Alice</td><td>0.05</td></tr><tr><td>Raclette Courdavault</td><td>0.05</td></tr><tr><td>Pavlova</td><td>0.05</td></tr><tr><td>Gorgonzola Telino</td><td>0.05</td></tr><tr><td>Louisiana Fiery Hot Pepper Sauce</td><td>0.05</td></tr><tr><td>Sir Rodney's Scones</td><td>0.05</td></tr><tr><td>Manjimup Dried Apples</td><td>0.05</td></tr><tr><td>Spegesild</td><td>0.05</td></tr><tr><td>Jack's New England Clam Chowder</td><td>0.05</td></tr><tr><td>Filo Mix</td><td>0.05</td></tr><tr><td>Gorgonzola Telino</td><td>0.05</td></tr><tr><td>Singaporean Hokkien Fried Mee</td><td>0.05</td></tr><tr><td>Rogede sild</td><td>0.05</td></tr><tr><td>Manjimup Dried Apples</td><td>0.05</td></tr><tr><td>Chang</td><td>0.05</td></tr><tr><td>Thüringer Rostbratwurst</td><td>0.05</td></tr><tr><td>Teatime Chocolate Biscuits</td><td>0.05</td></tr><tr><td>Rhönbräu Klosterbier</td><td>0.05</td></tr><tr><td>Thüringer Rostbratwurst</td><td>0.05</td></tr><tr><td>Jack's New England Clam Chowder</td><td>0.05</td></tr><tr><td>Teatime Chocolate Biscuits</td><td>0.05</td></tr><tr><td>NuNuCa Nuß-Nougat-Creme</td><td>0.05</td></tr><tr><td>Raclette Courdavault</td><td>0.05</td></tr><tr><td>Côte de Blaye</td><td>0.05</td></tr><tr><td>Tarte au sucre</td><td>0.05</td></tr><tr><td>Thüringer Rostbratwurst</td><td>0.05</td></tr><tr><td>Nord-Ost Matjeshering</td><td>0.05</td></tr><tr><td>Chang</td><td>0.05</td></tr><tr><td>NuNuCa Nuß-Nougat-Creme</td><td>0.05</td></tr><tr><td>Ravioli Angelo</td><td>0.05</td></tr><tr><td>Raclette Courdavault</td><td>0.05</td></tr><tr><td>Côte de Blaye</td><td>0.05</td></tr><tr><td>Chartreuse verte</td><td>0.05</td></tr><tr><td>Grandma's Boysenberry Spread</td><td>0.05</td></tr><tr><td>Pavlova</td><td>0.05</td></tr><tr><td>Alice Mutton</td><td>0.05</td></tr><tr><td>Pâté chinois</td><td>0.05</td></tr><tr><td>Tarte au sucre</td><td>0.05</td></tr><tr><td>Wimmers gute Semmelknödel</td><td>0.05</td></tr><tr><td>Louisiana Fiery Hot Pepper Sauce</td><td>0.05</td></tr><tr><td>Sir Rodney's Marmalade</td><td>0.05</td></tr><tr><td>Sir Rodney's Scones</td><td>0.05</td></tr><tr><td>Gnocchi di nonna Alice</td><td>0.05</td></tr><tr><td>Louisiana Fiery Hot Pepper Sauce</td><td>0.05</td></tr><tr><td>Nord-Ost Matjeshering</td><td>0.05</td></tr><tr><td>Raclette Courdavault</td><td>0.05</td></tr><tr><td>Konbu</td><td>0.05</td></tr><tr><td>Gudbrandsdalsost</td><td>0.05</td></tr><tr><td>Rhönbräu Klosterbier</td><td>0.05</td></tr><tr><td>Chai</td><td>0.05</td></tr><tr><td>Uncle Bob's Organic Dried Pears</td><td>0.05</td></tr><tr><td>Filo Mix</td><td>0.05</td></tr><tr><td>Geitost</td><td>0.05</td></tr><tr><td>Jack's New England Clam Chowder</td><td>0.05</td></tr><tr><td>Rhönbräu Klosterbier</td><td>0.05</td></tr><tr><td>Grandma's Boysenberry Spread</td><td>0.05</td></tr><tr><td>Sir Rodney's Marmalade</td><td>0.05</td></tr><tr><td>Gorgonzola Telino</td><td>0.05</td></tr><tr><td>Filo Mix</td><td>0.05</td></tr><tr><td>Raclette Courdavault</td><td>0.05</td></tr><tr><td>Jack's New England Clam Chowder</td><td>0.05</td></tr><tr><td>Manjimup Dried Apples</td><td>0.05</td></tr><tr><td>Original Frankfurter grüne Soße</td><td>0.05</td></tr><tr><td>Rössle Sauerkraut</td><td>0.05</td></tr><tr><td>Sasquatch Ale</td><td>0.05</td></tr><tr><td>Escargots de Bourgogne</td><td>0.05</td></tr><tr><td>Teatime Chocolate Biscuits</td><td>0.05</td></tr><tr><td>Camembert Pierrot</td><td>0.05</td></tr><tr><td>Flotemysost</td><td>0.05</td></tr><tr><td>Queso Manchego La Pastora</td><td>0.05</td></tr><tr><td>Mascarpone Fabioli</td><td>0.05</td></tr><tr><td>Steeleye Stout</td><td>0.05</td></tr><tr><td>Uncle Bob's Organic Dried Pears</td><td>0.05</td></tr><tr><td>Konbu</td><td>0.05</td></tr><tr><td>Pavlova</td><td>0.05</td></tr><tr><td>Uncle Bob's Organic Dried Pears</td><td>0.05</td></tr><tr><td>Queso Manchego La Pastora</td><td>0.05</td></tr><tr><td>Chartreuse verte</td><td>0.05</td></tr><tr><td>Sir Rodney's Marmalade</td><td>0.04</td></tr><tr><td>Tofu</td><td>0.03</td></tr><tr><td>Pavlova</td><td>0.03</td></tr><tr><td>Wimmers gute Semmelknödel</td><td>0.03</td></tr><tr><td>Grandma's Boysenberry Spread</td><td>0.02</td></tr><tr><td>Spegesild</td><td>0.02</td></tr><tr><td>Röd Kaviar</td><td>0.01</td></tr><tr><td>Queso Cabrales</td><td>0.0</td></tr><tr><td>Singaporean Hokkien Fried Mee</td><td>0.0</td></tr><tr><td>Mozzarella di Giovanni</td><td>0.0</td></tr><tr><td>Tofu</td><td>0.0</td></tr><tr><td>Manjimup Dried Apples</td><td>0.0</td></tr><tr><td>Jack's New England Clam Chowder</td><td>0.0</td></tr><tr><td>Louisiana Fiery Hot Pepper Sauce</td><td>0.0</td></tr><tr><td>Camembert Pierrot</td><td>0.0</td></tr><tr><td>Gorgonzola Telino</td><td>0.0</td></tr><tr><td>Chartreuse verte</td><td>0.0</td></tr><tr><td>Maxilaku</td><td>0.0</td></tr><tr><td>Longlife Tofu</td><td>0.0</td></tr><tr><td>Chang</td><td>0.0</td></tr><tr><td>Pavlova</td><td>0.0</td></tr><tr><td>Inlagd Sill</td><td>0.0</td></tr><tr><td>Raclette Courdavault</td><td>0.0</td></tr><tr><td>Perth Pasties</td><td>0.0</td></tr><tr><td>Original Frankfurter grüne Soße</td><td>0.0</td></tr><tr><td>Schoggi Schokolade</td><td>0.0</td></tr><tr><td>Chartreuse verte</td><td>0.0</td></tr><tr><td>Original Frankfurter grüne Soße</td><td>0.0</td></tr><tr><td>Sir Rodney's Scones</td><td>0.0</td></tr><tr><td>Gravad lax</td><td>0.0</td></tr><tr><td>Ravioli Angelo</td><td>0.0</td></tr><tr><td>Sir Rodney's Scones</td><td>0.0</td></tr><tr><td>Steeleye Stout</td><td>0.0</td></tr><tr><td>Uncle Bob's Organic Dried Pears</td><td>0.0</td></tr><tr><td>Gnocchi di nonna Alice</td><td>0.0</td></tr><tr><td>Guaraná Fantástica</td><td>0.0</td></tr><tr><td>Chang</td><td>0.0</td></tr><tr><td>Alice Mutton</td><td>0.0</td></tr><tr><td>Outback Lager</td><td>0.0</td></tr><tr><td>Boston Crab Meat</td><td>0.0</td></tr><tr><td>Thüringer Rostbratwurst</td><td>0.0</td></tr><tr><td>Mozzarella di Giovanni</td><td>0.0</td></tr><tr><td>Inlagd Sill</td><td>0.0</td></tr><tr><td>Ipoh Coffee</td><td>0.0</td></tr><tr><td>Geitost</td><td>0.0</td></tr><tr><td>Sir Rodney's Marmalade</td><td>0.0</td></tr><tr><td>Gorgonzola Telino</td><td>0.0</td></tr><tr><td>Mozzarella di Giovanni</td><td>0.0</td></tr><tr><td>Geitost</td><td>0.0</td></tr><tr><td>Flotemysost</td><td>0.0</td></tr><tr><td>Mozzarella di Giovanni</td><td>0.0</td></tr><tr><td>Ikura</td><td>0.0</td></tr><tr><td>Konbu</td><td>0.0</td></tr><tr><td>Rössle Sauerkraut</td><td>0.0</td></tr><tr><td>Tarte au sucre</td><td>0.0</td></tr><tr><td>Gula Malacca</td><td>0.0</td></tr><tr><td>Raclette Courdavault</td><td>0.0</td></tr><tr><td>Vegie-spread</td><td>0.0</td></tr><tr><td>Röd Kaviar</td><td>0.0</td></tr><tr><td>Guaraná Fantástica</td><td>0.0</td></tr><tr><td>Pâté chinois</td><td>0.0</td></tr><tr><td>Rhönbräu Klosterbier</td><td>0.0</td></tr><tr><td>Teatime Chocolate Biscuits</td><td>0.0</td></tr><tr><td>Guaraná Fantástica</td><td>0.0</td></tr><tr><td>Steeleye Stout</td><td>0.0</td></tr><tr><td>Nord-Ost Matjeshering</td><td>0.0</td></tr><tr><td>Ravioli Angelo</td><td>0.0</td></tr><tr><td>Genen Shouyu</td><td>0.0</td></tr><tr><td>Teatime Chocolate Biscuits</td><td>0.0</td></tr><tr><td>Camembert Pierrot</td><td>0.0</td></tr><tr><td>Mozzarella di Giovanni</td><td>0.0</td></tr><tr><td>Gula Malacca</td><td>0.0</td></tr><tr><td>Steeleye Stout</td><td>0.0</td></tr><tr><td>Tarte au sucre</td><td>0.0</td></tr><tr><td>Sasquatch Ale</td><td>0.0</td></tr><tr><td>Aniseed Syrup</td><td>0.0</td></tr><tr><td>Wimmers gute Semmelknödel</td><td>0.0</td></tr><tr><td>Chef Anton's Gumbo Mix</td><td>0.0</td></tr><tr><td>Thüringer Rostbratwurst</td><td>0.0</td></tr><tr><td>Maxilaku</td><td>0.0</td></tr><tr><td>Original Frankfurter grüne Soße</td><td>0.0</td></tr><tr><td>Sir Rodney's Marmalade</td><td>0.0</td></tr><tr><td>Carnarvon Tigers</td><td>0.0</td></tr><tr><td>Guaraná Fantástica</td><td>0.0</td></tr><tr><td>Vegie-spread</td><td>0.0</td></tr><tr><td>Rhönbräu Klosterbier</td><td>0.0</td></tr><tr><td>Chai</td><td>0.0</td></tr><tr><td>Alice Mutton</td><td>0.0</td></tr><tr><td>Ipoh Coffee</td><td>0.0</td></tr><tr><td>Camembert Pierrot</td><td>0.0</td></tr><tr><td>Rhönbräu Klosterbier</td><td>0.0</td></tr><tr><td>Gnocchi di nonna Alice</td><td>0.0</td></tr><tr><td>Queso Cabrales</td><td>0.0</td></tr><tr><td>Pavlova</td><td>0.0</td></tr><tr><td>Gudbrandsdalsost</td><td>0.0</td></tr><tr><td>Chartreuse verte</td><td>0.0</td></tr><tr><td>Mozzarella di Giovanni</td><td>0.0</td></tr><tr><td>Chang</td><td>0.0</td></tr><tr><td>Tarte au sucre</td><td>0.0</td></tr><tr><td>Teatime Chocolate Biscuits</td><td>0.0</td></tr><tr><td>Outback Lager</td><td>0.0</td></tr><tr><td>Louisiana Hot Spiced Okra</td><td>0.0</td></tr><tr><td>Scottish Longbreads</td><td>0.0</td></tr><tr><td>Boston Crab Meat</td><td>0.0</td></tr><tr><td>Gnocchi di nonna Alice</td><td>0.0</td></tr><tr><td>Alice Mutton</td><td>0.0</td></tr><tr><td>Rössle Sauerkraut</td><td>0.0</td></tr><tr><td>Ipoh Coffee</td><td>0.0</td></tr><tr><td>Maxilaku</td><td>0.0</td></tr><tr><td>Raclette Courdavault</td><td>0.0</td></tr><tr><td>Flotemysost</td><td>0.0</td></tr><tr><td>Nord-Ost Matjeshering</td><td>0.0</td></tr><tr><td>Perth Pasties</td><td>0.0</td></tr><tr><td>Tourtière</td><td>0.0</td></tr><tr><td>Tarte au sucre</td><td>0.0</td></tr><tr><td>Scottish Longbreads</td><td>0.0</td></tr><tr><td>Gudbrandsdalsost</td><td>0.0</td></tr><tr><td>Outback Lager</td><td>0.0</td></tr><tr><td>Chef Anton's Cajun Seasoning</td><td>0.0</td></tr><tr><td>Grandma's Boysenberry Spread</td><td>0.0</td></tr><tr><td>Singaporean Hokkien Fried Mee</td><td>0.0</td></tr><tr><td>Ipoh Coffee</td><td>0.0</td></tr><tr><td>Flotemysost</td><td>0.0</td></tr><tr><td>Pavlova</td><td>0.0</td></tr><tr><td>Tarte au sucre</td><td>0.0</td></tr><tr><td>Singaporean Hokkien Fried Mee</td><td>0.0</td></tr><tr><td>Gudbrandsdalsost</td><td>0.0</td></tr><tr><td>Rössle Sauerkraut</td><td>0.0</td></tr><tr><td>Ipoh Coffee</td><td>0.0</td></tr><tr><td>Perth Pasties</td><td>0.0</td></tr><tr><td>Rhönbräu Klosterbier</td><td>0.0</td></tr><tr><td>Inlagd Sill</td><td>0.0</td></tr><tr><td>Sasquatch Ale</td><td>0.0</td></tr><tr><td>Outback Lager</td><td>0.0</td></tr><tr><td>Jack's New England Clam Chowder</td><td>0.0</td></tr><tr><td>Tarte au sucre</td><td>0.0</td></tr><tr><td>Chai</td><td>0.0</td></tr><tr><td>Jack's New England Clam Chowder</td><td>0.0</td></tr><tr><td>Lakkalikööri</td><td>0.0</td></tr><tr><td>Alice Mutton</td><td>0.0</td></tr><tr><td>Rössle Sauerkraut</td><td>0.0</td></tr><tr><td>Lakkalikööri</td><td>0.0</td></tr><tr><td>Flotemysost</td><td>0.0</td></tr><tr><td>Steeleye Stout</td><td>0.0</td></tr><tr><td>Filo Mix</td><td>0.0</td></tr><tr><td>Genen Shouyu</td><td>0.0</td></tr><tr><td>NuNuCa Nuß-Nougat-Creme</td><td>0.0</td></tr><tr><td>Chartreuse verte</td><td>0.0</td></tr><tr><td>Spegesild</td><td>0.0</td></tr><tr><td>Grandma's Boysenberry Spread</td><td>0.0</td></tr><tr><td>Konbu</td><td>0.0</td></tr><tr><td>Tofu</td><td>0.0</td></tr><tr><td>Gorgonzola Telino</td><td>0.0</td></tr><tr><td>Mozzarella di Giovanni</td><td>0.0</td></tr><tr><td>Chef Anton's Cajun Seasoning</td><td>0.0</td></tr><tr><td>Ravioli Angelo</td><td>0.0</td></tr><tr><td>Rhönbräu Klosterbier</td><td>0.0</td></tr><tr><td>Raclette Courdavault</td><td>0.0</td></tr><tr><td>Louisiana Fiery Hot Pepper Sauce</td><td>0.0</td></tr><tr><td>Scottish Longbreads</td><td>0.0</td></tr><tr><td>Tourtière</td><td>0.0</td></tr><tr><td>Tofu</td><td>0.0</td></tr><tr><td>Filo Mix</td><td>0.0</td></tr><tr><td>Scottish Longbreads</td><td>0.0</td></tr><tr><td>Tunnbröd</td><td>0.0</td></tr><tr><td>Gumbär Gummibärchen</td><td>0.0</td></tr><tr><td>Inlagd Sill</td><td>0.0</td></tr><tr><td>Gravad lax</td><td>0.0</td></tr><tr><td>Mozzarella di Giovanni</td><td>0.0</td></tr><tr><td>Alice Mutton</td><td>0.0</td></tr><tr><td>Nord-Ost Matjeshering</td><td>0.0</td></tr><tr><td>Chef Anton's Cajun Seasoning</td><td>0.0</td></tr><tr><td>Tarte au sucre</td><td>0.0</td></tr><tr><td>Geitost</td><td>0.0</td></tr><tr><td>Wimmers gute Semmelknödel</td><td>0.0</td></tr><tr><td>Lakkalikööri</td><td>0.0</td></tr><tr><td>Chef Anton's Cajun Seasoning</td><td>0.0</td></tr><tr><td>Northwoods Cranberry Sauce</td><td>0.0</td></tr><tr><td>Teatime Chocolate Biscuits</td><td>0.0</td></tr><tr><td>Singaporean Hokkien Fried Mee</td><td>0.0</td></tr><tr><td>Gnocchi di nonna Alice</td><td>0.0</td></tr><tr><td>NuNuCa Nuß-Nougat-Creme</td><td>0.0</td></tr><tr><td>Boston Crab Meat</td><td>0.0</td></tr><tr><td>Tunnbröd</td><td>0.0</td></tr><tr><td>Tourtière</td><td>0.0</td></tr><tr><td>Jack's New England Clam Chowder</td><td>0.0</td></tr><tr><td>Guaraná Fantástica</td><td>0.0</td></tr><tr><td>Chai</td><td>0.0</td></tr><tr><td>Thüringer Rostbratwurst</td><td>0.0</td></tr><tr><td>Guaraná Fantástica</td><td>0.0</td></tr><tr><td>Ravioli Angelo</td><td>0.0</td></tr><tr><td>Gorgonzola Telino</td><td>0.0</td></tr><tr><td>Pâté chinois</td><td>0.0</td></tr><tr><td>Gudbrandsdalsost</td><td>0.0</td></tr><tr><td>Gumbär Gummibärchen</td><td>0.0</td></tr><tr><td>Rössle Sauerkraut</td><td>0.0</td></tr><tr><td>Thüringer Rostbratwurst</td><td>0.0</td></tr><tr><td>Côte de Blaye</td><td>0.0</td></tr><tr><td>Maxilaku</td><td>0.0</td></tr><tr><td>Tourtière</td><td>0.0</td></tr><tr><td>NuNuCa Nuß-Nougat-Creme</td><td>0.0</td></tr><tr><td>Manjimup Dried Apples</td><td>0.0</td></tr><tr><td>Tourtière</td><td>0.0</td></tr><tr><td>Gorgonzola Telino</td><td>0.0</td></tr><tr><td>Rhönbräu Klosterbier</td><td>0.0</td></tr><tr><td>Lakkalikööri</td><td>0.0</td></tr><tr><td>Gudbrandsdalsost</td><td>0.0</td></tr><tr><td>Flotemysost</td><td>0.0</td></tr><tr><td>Queso Cabrales</td><td>0.0</td></tr><tr><td>Louisiana Fiery Hot Pepper Sauce</td><td>0.0</td></tr><tr><td>Original Frankfurter grüne Soße</td><td>0.0</td></tr><tr><td>Sasquatch Ale</td><td>0.0</td></tr><tr><td>Tourtière</td><td>0.0</td></tr><tr><td>Louisiana Fiery Hot Pepper Sauce</td><td>0.0</td></tr><tr><td>Original Frankfurter grüne Soße</td><td>0.0</td></tr><tr><td>Ravioli Angelo</td><td>0.0</td></tr><tr><td>Thüringer Rostbratwurst</td><td>0.0</td></tr><tr><td>Wimmers gute Semmelknödel</td><td>0.0</td></tr><tr><td>Gorgonzola Telino</td><td>0.0</td></tr><tr><td>Escargots de Bourgogne</td><td>0.0</td></tr><tr><td>Tofu</td><td>0.0</td></tr><tr><td>Tourtière</td><td>0.0</td></tr><tr><td>Flotemysost</td><td>0.0</td></tr><tr><td>Outback Lager</td><td>0.0</td></tr><tr><td>Longlife Tofu</td><td>0.0</td></tr><tr><td>Chef Anton's Gumbo Mix</td><td>0.0</td></tr><tr><td>Carnarvon Tigers</td><td>0.0</td></tr><tr><td>Thüringer Rostbratwurst</td><td>0.0</td></tr><tr><td>Geitost</td><td>0.0</td></tr><tr><td>Longlife Tofu</td><td>0.0</td></tr><tr><td>Konbu</td><td>0.0</td></tr><tr><td>Valkoinen suklaa</td><td>0.0</td></tr><tr><td>Gnocchi di nonna Alice</td><td>0.0</td></tr><tr><td>Sir Rodney's Marmalade</td><td>0.0</td></tr><tr><td>Camembert Pierrot</td><td>0.0</td></tr><tr><td>Guaraná Fantástica</td><td>0.0</td></tr><tr><td>Sasquatch Ale</td><td>0.0</td></tr><tr><td>Guaraná Fantástica</td><td>0.0</td></tr><tr><td>Rössle Sauerkraut</td><td>0.0</td></tr><tr><td>Raclette Courdavault</td><td>0.0</td></tr><tr><td>Flotemysost</td><td>0.0</td></tr><tr><td>Perth Pasties</td><td>0.0</td></tr><tr><td>Ikura</td><td>0.0</td></tr><tr><td>Pâté chinois</td><td>0.0</td></tr><tr><td>Tarte au sucre</td><td>0.0</td></tr><tr><td>Outback Lager</td><td>0.0</td></tr><tr><td>Spegesild</td><td>0.0</td></tr><tr><td>Konbu</td><td>0.0</td></tr><tr><td>Gudbrandsdalsost</td><td>0.0</td></tr><tr><td>Gorgonzola Telino</td><td>0.0</td></tr><tr><td>Konbu</td><td>0.0</td></tr><tr><td>Tarte au sucre</td><td>0.0</td></tr><tr><td>Gudbrandsdalsost</td><td>0.0</td></tr><tr><td>Tunnbröd</td><td>0.0</td></tr><tr><td>Flotemysost</td><td>0.0</td></tr><tr><td>Mozzarella di Giovanni</td><td>0.0</td></tr><tr><td>Steeleye Stout</td><td>0.0</td></tr><tr><td>Scottish Longbreads</td><td>0.0</td></tr><tr><td>Flotemysost</td><td>0.0</td></tr><tr><td>Lakkalikööri</td><td>0.0</td></tr><tr><td>Original Frankfurter grüne Soße</td><td>0.0</td></tr><tr><td>Thüringer Rostbratwurst</td><td>0.0</td></tr><tr><td>Steeleye Stout</td><td>0.0</td></tr><tr><td>Maxilaku</td><td>0.0</td></tr><tr><td>Nord-Ost Matjeshering</td><td>0.0</td></tr><tr><td>Gnocchi di nonna Alice</td><td>0.0</td></tr><tr><td>Louisiana Fiery Hot Pepper Sauce</td><td>0.0</td></tr><tr><td>Flotemysost</td><td>0.0</td></tr><tr><td>Tunnbröd</td><td>0.0</td></tr><tr><td>Vegie-spread</td><td>0.0</td></tr><tr><td>Aniseed Syrup</td><td>0.0</td></tr><tr><td>Chai</td><td>0.0</td></tr><tr><td>Queso Cabrales</td><td>0.0</td></tr><tr><td>Gudbrandsdalsost</td><td>0.0</td></tr><tr><td>Flotemysost</td><td>0.0</td></tr><tr><td>Gravad lax</td><td>0.0</td></tr><tr><td>Tourtière</td><td>0.0</td></tr><tr><td>Tarte au sucre</td><td>0.0</td></tr><tr><td>Tofu</td><td>0.0</td></tr><tr><td>Sir Rodney's Scones</td><td>0.0</td></tr><tr><td>Geitost</td><td>0.0</td></tr><tr><td>Raclette Courdavault</td><td>0.0</td></tr><tr><td>Chai</td><td>0.0</td></tr><tr><td>Tarte au sucre</td><td>0.0</td></tr><tr><td>Lakkalikööri</td><td>0.0</td></tr><tr><td>Geitost</td><td>0.0</td></tr><tr><td>Alice Mutton</td><td>0.0</td></tr><tr><td>Geitost</td><td>0.0</td></tr><tr><td>Teatime Chocolate Biscuits</td><td>0.0</td></tr><tr><td>Perth Pasties</td><td>0.0</td></tr><tr><td>Ravioli Angelo</td><td>0.0</td></tr><tr><td>Côte de Blaye</td><td>0.0</td></tr><tr><td>Original Frankfurter grüne Soße</td><td>0.0</td></tr><tr><td>Chang</td><td>0.0</td></tr><tr><td>Zaanse koeken</td><td>0.0</td></tr><tr><td>Sirop d'érable</td><td>0.0</td></tr><tr><td>Longlife Tofu</td><td>0.0</td></tr><tr><td>Gumbär Gummibärchen</td><td>0.0</td></tr><tr><td>Gumbär Gummibärchen</td><td>0.0</td></tr><tr><td>Gorgonzola Telino</td><td>0.0</td></tr><tr><td>Raclette Courdavault</td><td>0.0</td></tr><tr><td>Gnocchi di nonna Alice</td><td>0.0</td></tr><tr><td>Wimmers gute Semmelknödel</td><td>0.0</td></tr><tr><td>Tofu</td><td>0.0</td></tr><tr><td>Spegesild</td><td>0.0</td></tr><tr><td>Valkoinen suklaa</td><td>0.0</td></tr><tr><td>Sir Rodney's Scones</td><td>0.0</td></tr><tr><td>Gnocchi di nonna Alice</td><td>0.0</td></tr><tr><td>Gumbär Gummibärchen</td><td>0.0</td></tr><tr><td>Tourtière</td><td>0.0</td></tr><tr><td>Gnocchi di nonna Alice</td><td>0.0</td></tr><tr><td>Queso Cabrales</td><td>0.0</td></tr><tr><td>Chang</td><td>0.0</td></tr><tr><td>Gustaf's Knäckebröd</td><td>0.0</td></tr><tr><td>Mozzarella di Giovanni</td><td>0.0</td></tr><tr><td>Spegesild</td><td>0.0</td></tr><tr><td>Perth Pasties</td><td>0.0</td></tr><tr><td>Queso Manchego La Pastora</td><td>0.0</td></tr><tr><td>Pavlova</td><td>0.0</td></tr><tr><td>Wimmers gute Semmelknödel</td><td>0.0</td></tr><tr><td>Longlife Tofu</td><td>0.0</td></tr><tr><td>Schoggi Schokolade</td><td>0.0</td></tr><tr><td>Queso Cabrales</td><td>0.0</td></tr><tr><td>Tourtière</td><td>0.0</td></tr><tr><td>Louisiana Hot Spiced Okra</td><td>0.0</td></tr><tr><td>Rössle Sauerkraut</td><td>0.0</td></tr><tr><td>Alice Mutton</td><td>0.0</td></tr><tr><td>Gumbär Gummibärchen</td><td>0.0</td></tr><tr><td>Steeleye Stout</td><td>0.0</td></tr><tr><td>Jack's New England Clam Chowder</td><td>0.0</td></tr><tr><td>Chartreuse verte</td><td>0.0</td></tr><tr><td>Tourtière</td><td>0.0</td></tr><tr><td>Teatime Chocolate Biscuits</td><td>0.0</td></tr><tr><td>Louisiana Fiery Hot Pepper Sauce</td><td>0.0</td></tr><tr><td>Flotemysost</td><td>0.0</td></tr><tr><td>Gumbär Gummibärchen</td><td>0.0</td></tr><tr><td>Boston Crab Meat</td><td>0.0</td></tr><tr><td>Ikura</td><td>0.0</td></tr><tr><td>Filo Mix</td><td>0.0</td></tr><tr><td>Tarte au sucre</td><td>0.0</td></tr><tr><td>Rössle Sauerkraut</td><td>0.0</td></tr><tr><td>Chartreuse verte</td><td>0.0</td></tr><tr><td>Perth Pasties</td><td>0.0</td></tr><tr><td>Sirop d'érable</td><td>0.0</td></tr><tr><td>Flotemysost</td><td>0.0</td></tr><tr><td>Raclette Courdavault</td><td>0.0</td></tr><tr><td>Gumbär Gummibärchen</td><td>0.0</td></tr><tr><td>Rössle Sauerkraut</td><td>0.0</td></tr><tr><td>Ipoh Coffee</td><td>0.0</td></tr><tr><td>Gnocchi di nonna Alice</td><td>0.0</td></tr><tr><td>Flotemysost</td><td>0.0</td></tr><tr><td>Mozzarella di Giovanni</td><td>0.0</td></tr><tr><td>Konbu</td><td>0.0</td></tr><tr><td>Tunnbröd</td><td>0.0</td></tr><tr><td>Teatime Chocolate Biscuits</td><td>0.0</td></tr><tr><td>Singaporean Hokkien Fried Mee</td><td>0.0</td></tr><tr><td>Ipoh Coffee</td><td>0.0</td></tr><tr><td>Camembert Pierrot</td><td>0.0</td></tr><tr><td>Guaraná Fantástica</td><td>0.0</td></tr><tr><td>Boston Crab Meat</td><td>0.0</td></tr><tr><td>Valkoinen suklaa</td><td>0.0</td></tr><tr><td>Queso Cabrales</td><td>0.0</td></tr><tr><td>Spegesild</td><td>0.0</td></tr><tr><td>Guaraná Fantástica</td><td>0.0</td></tr><tr><td>NuNuCa Nuß-Nougat-Creme</td><td>0.0</td></tr><tr><td>Nord-Ost Matjeshering</td><td>0.0</td></tr><tr><td>Ipoh Coffee</td><td>0.0</td></tr><tr><td>Carnarvon Tigers</td><td>0.0</td></tr><tr><td>Tunnbröd</td><td>0.0</td></tr><tr><td>Wimmers gute Semmelknödel</td><td>0.0</td></tr><tr><td>Uncle Bob's Organic Dried Pears</td><td>0.0</td></tr><tr><td>Gnocchi di nonna Alice</td><td>0.0</td></tr><tr><td>Manjimup Dried Apples</td><td>0.0</td></tr><tr><td>Geitost</td><td>0.0</td></tr><tr><td>Flotemysost</td><td>0.0</td></tr><tr><td>Tofu</td><td>0.0</td></tr><tr><td>Rössle Sauerkraut</td><td>0.0</td></tr><tr><td>Boston Crab Meat</td><td>0.0</td></tr><tr><td>Rhönbräu Klosterbier</td><td>0.0</td></tr><tr><td>Outback Lager</td><td>0.0</td></tr><tr><td>Chai</td><td>0.0</td></tr><tr><td>Côte de Blaye</td><td>0.0</td></tr><tr><td>Perth Pasties</td><td>0.0</td></tr><tr><td>Raclette Courdavault</td><td>0.0</td></tr><tr><td>Wimmers gute Semmelknödel</td><td>0.0</td></tr><tr><td>Zaanse koeken</td><td>0.0</td></tr><tr><td>Raclette Courdavault</td><td>0.0</td></tr><tr><td>Maxilaku</td><td>0.0</td></tr><tr><td>Camembert Pierrot</td><td>0.0</td></tr><tr><td>Boston Crab Meat</td><td>0.0</td></tr><tr><td>Sir Rodney's Scones</td><td>0.0</td></tr><tr><td>Boston Crab Meat</td><td>0.0</td></tr><tr><td>Manjimup Dried Apples</td><td>0.0</td></tr><tr><td>Queso Cabrales</td><td>0.0</td></tr><tr><td>Manjimup Dried Apples</td><td>0.0</td></tr><tr><td>Longlife Tofu</td><td>0.0</td></tr><tr><td>Teatime Chocolate Biscuits</td><td>0.0</td></tr><tr><td>Gumbär Gummibärchen</td><td>0.0</td></tr><tr><td>Raclette Courdavault</td><td>0.0</td></tr><tr><td>Pavlova</td><td>0.0</td></tr><tr><td>Raclette Courdavault</td><td>0.0</td></tr><tr><td>Scottish Longbreads</td><td>0.0</td></tr><tr><td>Rhönbräu Klosterbier</td><td>0.0</td></tr><tr><td>Gnocchi di nonna Alice</td><td>0.0</td></tr><tr><td>Tunnbröd</td><td>0.0</td></tr><tr><td>Jack's New England Clam Chowder</td><td>0.0</td></tr><tr><td>Original Frankfurter grüne Soße</td><td>0.0</td></tr><tr><td>Gnocchi di nonna Alice</td><td>0.0</td></tr><tr><td>Mozzarella di Giovanni</td><td>0.0</td></tr><tr><td>Original Frankfurter grüne Soße</td><td>0.0</td></tr><tr><td>Guaraná Fantástica</td><td>0.0</td></tr><tr><td>Boston Crab Meat</td><td>0.0</td></tr><tr><td>Singaporean Hokkien Fried Mee</td><td>0.0</td></tr><tr><td>Rössle Sauerkraut</td><td>0.0</td></tr><tr><td>Maxilaku</td><td>0.0</td></tr><tr><td>Tourtière</td><td>0.0</td></tr><tr><td>Rogede sild</td><td>0.0</td></tr><tr><td>Perth Pasties</td><td>0.0</td></tr><tr><td>Laughing Lumberjack Lager</td><td>0.0</td></tr><tr><td>Tofu</td><td>0.0</td></tr><tr><td>Louisiana Fiery Hot Pepper Sauce</td><td>0.0</td></tr><tr><td>Chang</td><td>0.0</td></tr><tr><td>Sir Rodney's Scones</td><td>0.0</td></tr><tr><td>Perth Pasties</td><td>0.0</td></tr><tr><td>Sirop d'érable</td><td>0.0</td></tr><tr><td>Tarte au sucre</td><td>0.0</td></tr><tr><td>Konbu</td><td>0.0</td></tr><tr><td>Chartreuse verte</td><td>0.0</td></tr><tr><td>Rössle Sauerkraut</td><td>0.0</td></tr><tr><td>Thüringer Rostbratwurst</td><td>0.0</td></tr><tr><td>Sir Rodney's Marmalade</td><td>0.0</td></tr><tr><td>Rössle Sauerkraut</td><td>0.0</td></tr><tr><td>Gnocchi di nonna Alice</td><td>0.0</td></tr><tr><td>Louisiana Fiery Hot Pepper Sauce</td><td>0.0</td></tr><tr><td>Rhönbräu Klosterbier</td><td>0.0</td></tr><tr><td>Pavlova</td><td>0.0</td></tr><tr><td>Schoggi Schokolade</td><td>0.0</td></tr><tr><td>Singaporean Hokkien Fried Mee</td><td>0.0</td></tr><tr><td>Filo Mix</td><td>0.0</td></tr><tr><td>Raclette Courdavault</td><td>0.0</td></tr><tr><td>Outback Lager</td><td>0.0</td></tr><tr><td>Guaraná Fantástica</td><td>0.0</td></tr><tr><td>Côte de Blaye</td><td>0.0</td></tr><tr><td>Gula Malacca</td><td>0.0</td></tr><tr><td>Gnocchi di nonna Alice</td><td>0.0</td></tr><tr><td>Guaraná Fantástica</td><td>0.0</td></tr><tr><td>Perth Pasties</td><td>0.0</td></tr><tr><td>Steeleye Stout</td><td>0.0</td></tr><tr><td>Jack's New England Clam Chowder</td><td>0.0</td></tr><tr><td>Scottish Longbreads</td><td>0.0</td></tr><tr><td>Northwoods Cranberry Sauce</td><td>0.0</td></tr><tr><td>Ikura</td><td>0.0</td></tr><tr><td>Nord-Ost Matjeshering</td><td>0.0</td></tr><tr><td>Ipoh Coffee</td><td>0.0</td></tr><tr><td>Tourtière</td><td>0.0</td></tr><tr><td>Inlagd Sill</td><td>0.0</td></tr><tr><td>Konbu</td><td>0.0</td></tr><tr><td>Queso Cabrales</td><td>0.0</td></tr><tr><td>Mozzarella di Giovanni</td><td>0.0</td></tr><tr><td>Pâté chinois</td><td>0.0</td></tr><tr><td>Scottish Longbreads</td><td>0.0</td></tr><tr><td>Gudbrandsdalsost</td><td>0.0</td></tr><tr><td>Alice Mutton</td><td>0.0</td></tr><tr><td>Ipoh Coffee</td><td>0.0</td></tr><tr><td>Sirop d'érable</td><td>0.0</td></tr><tr><td>Lakkalikööri</td><td>0.0</td></tr><tr><td>Raclette Courdavault</td><td>0.0</td></tr><tr><td>Nord-Ost Matjeshering</td><td>0.0</td></tr><tr><td>Louisiana Hot Spiced Okra</td><td>0.0</td></tr><tr><td>Mozzarella di Giovanni</td><td>0.0</td></tr><tr><td>Nord-Ost Matjeshering</td><td>0.0</td></tr><tr><td>Gorgonzola Telino</td><td>0.0</td></tr><tr><td>Geitost</td><td>0.0</td></tr><tr><td>Gorgonzola Telino</td><td>0.0</td></tr><tr><td>Manjimup Dried Apples</td><td>0.0</td></tr><tr><td>Escargots de Bourgogne</td><td>0.0</td></tr><tr><td>Mozzarella di Giovanni</td><td>0.0</td></tr><tr><td>Röd Kaviar</td><td>0.0</td></tr><tr><td>Outback Lager</td><td>0.0</td></tr><tr><td>Mozzarella di Giovanni</td><td>0.0</td></tr><tr><td>Konbu</td><td>0.0</td></tr><tr><td>Sir Rodney's Scones</td><td>0.0</td></tr><tr><td>Geitost</td><td>0.0</td></tr><tr><td>Maxilaku</td><td>0.0</td></tr><tr><td>Aniseed Syrup</td><td>0.0</td></tr><tr><td>Gumbär Gummibärchen</td><td>0.0</td></tr><tr><td>Côte de Blaye</td><td>0.0</td></tr><tr><td>Scottish Longbreads</td><td>0.0</td></tr><tr><td>Rössle Sauerkraut</td><td>0.0</td></tr><tr><td>Laughing Lumberjack Lager</td><td>0.0</td></tr><tr><td>Queso Cabrales</td><td>0.0</td></tr><tr><td>Uncle Bob's Organic Dried Pears</td><td>0.0</td></tr><tr><td>Steeleye Stout</td><td>0.0</td></tr><tr><td>Tarte au sucre</td><td>0.0</td></tr><tr><td>Inlagd Sill</td><td>0.0</td></tr><tr><td>Jack's New England Clam Chowder</td><td>0.0</td></tr><tr><td>Teatime Chocolate Biscuits</td><td>0.0</td></tr><tr><td>Gula Malacca</td><td>0.0</td></tr><tr><td>Gudbrandsdalsost</td><td>0.0</td></tr><tr><td>Rhönbräu Klosterbier</td><td>0.0</td></tr><tr><td>Queso Cabrales</td><td>0.0</td></tr><tr><td>Pavlova</td><td>0.0</td></tr><tr><td>Gustaf's Knäckebröd</td><td>0.0</td></tr><tr><td>Gorgonzola Telino</td><td>0.0</td></tr><tr><td>Steeleye Stout</td><td>0.0</td></tr><tr><td>Mozzarella di Giovanni</td><td>0.0</td></tr><tr><td>Wimmers gute Semmelknödel</td><td>0.0</td></tr><tr><td>Rhönbräu Klosterbier</td><td>0.0</td></tr><tr><td>Zaanse koeken</td><td>0.0</td></tr><tr><td>Manjimup Dried Apples</td><td>0.0</td></tr><tr><td>Filo Mix</td><td>0.0</td></tr><tr><td>Perth Pasties</td><td>0.0</td></tr><tr><td>Röd Kaviar</td><td>0.0</td></tr><tr><td>Nord-Ost Matjeshering</td><td>0.0</td></tr><tr><td>Gula Malacca</td><td>0.0</td></tr><tr><td>Manjimup Dried Apples</td><td>0.0</td></tr><tr><td>Inlagd Sill</td><td>0.0</td></tr><tr><td>Filo Mix</td><td>0.0</td></tr><tr><td>Lakkalikööri</td><td>0.0</td></tr><tr><td>Manjimup Dried Apples</td><td>0.0</td></tr><tr><td>Ikura</td><td>0.0</td></tr><tr><td>Lakkalikööri</td><td>0.0</td></tr><tr><td>Boston Crab Meat</td><td>0.0</td></tr><tr><td>Alice Mutton</td><td>0.0</td></tr><tr><td>Sasquatch Ale</td><td>0.0</td></tr><tr><td>Perth Pasties</td><td>0.0</td></tr><tr><td>Geitost</td><td>0.0</td></tr><tr><td>Boston Crab Meat</td><td>0.0</td></tr><tr><td>Tarte au sucre</td><td>0.0</td></tr><tr><td>Wimmers gute Semmelknödel</td><td>0.0</td></tr><tr><td>Raclette Courdavault</td><td>0.0</td></tr><tr><td>Vegie-spread</td><td>0.0</td></tr><tr><td>Mozzarella di Giovanni</td><td>0.0</td></tr><tr><td>Lakkalikööri</td><td>0.0</td></tr><tr><td>Chai</td><td>0.0</td></tr><tr><td>Gorgonzola Telino</td><td>0.0</td></tr><tr><td>Gula Malacca</td><td>0.0</td></tr><tr><td>Chartreuse verte</td><td>0.0</td></tr><tr><td>Rhönbräu Klosterbier</td><td>0.0</td></tr><tr><td>Original Frankfurter grüne Soße</td><td>0.0</td></tr><tr><td>Steeleye Stout</td><td>0.0</td></tr><tr><td>Ravioli Angelo</td><td>0.0</td></tr><tr><td>Genen Shouyu</td><td>0.0</td></tr><tr><td>Rhönbräu Klosterbier</td><td>0.0</td></tr><tr><td>Ravioli Angelo</td><td>0.0</td></tr><tr><td>Lakkalikööri</td><td>0.0</td></tr><tr><td>Thüringer Rostbratwurst</td><td>0.0</td></tr><tr><td>Zaanse koeken</td><td>0.0</td></tr><tr><td>Gumbär Gummibärchen</td><td>0.0</td></tr><tr><td>Steeleye Stout</td><td>0.0</td></tr><tr><td>Original Frankfurter grüne Soße</td><td>0.0</td></tr><tr><td>Steeleye Stout</td><td>0.0</td></tr><tr><td>Chai</td><td>0.0</td></tr><tr><td>Aniseed Syrup</td><td>0.0</td></tr><tr><td>Uncle Bob's Organic Dried Pears</td><td>0.0</td></tr><tr><td>Tourtière</td><td>0.0</td></tr><tr><td>Filo Mix</td><td>0.0</td></tr><tr><td>Escargots de Bourgogne</td><td>0.0</td></tr><tr><td>Ravioli Angelo</td><td>0.0</td></tr><tr><td>Schoggi Schokolade</td><td>0.0</td></tr><tr><td>Flotemysost</td><td>0.0</td></tr><tr><td>Tarte au sucre</td><td>0.0</td></tr><tr><td>Tourtière</td><td>0.0</td></tr><tr><td>Röd Kaviar</td><td>0.0</td></tr><tr><td>Konbu</td><td>0.0</td></tr><tr><td>Raclette Courdavault</td><td>0.0</td></tr><tr><td>Gustaf's Knäckebröd</td><td>0.0</td></tr><tr><td>Uncle Bob's Organic Dried Pears</td><td>0.0</td></tr><tr><td>Alice Mutton</td><td>0.0</td></tr><tr><td>Geitost</td><td>0.0</td></tr><tr><td>Boston Crab Meat</td><td>0.0</td></tr><tr><td>Mozzarella di Giovanni</td><td>0.0</td></tr><tr><td>Gnocchi di nonna Alice</td><td>0.0</td></tr><tr><td>Chai</td><td>0.0</td></tr><tr><td>Ikura</td><td>0.0</td></tr><tr><td>Sir Rodney's Scones</td><td>0.0</td></tr><tr><td>Chai</td><td>0.0</td></tr><tr><td>Chang</td><td>0.0</td></tr><tr><td>Camembert Pierrot</td><td>0.0</td></tr><tr><td>Ikura</td><td>0.0</td></tr><tr><td>Inlagd Sill</td><td>0.0</td></tr><tr><td>Maxilaku</td><td>0.0</td></tr><tr><td>Camembert Pierrot</td><td>0.0</td></tr><tr><td>Lakkalikööri</td><td>0.0</td></tr><tr><td>Rhönbräu Klosterbier</td><td>0.0</td></tr><tr><td>Queso Cabrales</td><td>0.0</td></tr><tr><td>Sir Rodney's Scones</td><td>0.0</td></tr><tr><td>Chartreuse verte</td><td>0.0</td></tr><tr><td>Pâté chinois</td><td>0.0</td></tr><tr><td>Gnocchi di nonna Alice</td><td>0.0</td></tr><tr><td>Grandma's Boysenberry Spread</td><td>0.0</td></tr><tr><td>Gnocchi di nonna Alice</td><td>0.0</td></tr><tr><td>Scottish Longbreads</td><td>0.0</td></tr><tr><td>Sir Rodney's Scones</td><td>0.0</td></tr><tr><td>Gustaf's Knäckebröd</td><td>0.0</td></tr><tr><td>Guaraná Fantástica</td><td>0.0</td></tr><tr><td>Filo Mix</td><td>0.0</td></tr><tr><td>Teatime Chocolate Biscuits</td><td>0.0</td></tr><tr><td>Tunnbröd</td><td>0.0</td></tr><tr><td>Outback Lager</td><td>0.0</td></tr><tr><td>Flotemysost</td><td>0.0</td></tr><tr><td>Chang</td><td>0.0</td></tr><tr><td>Tofu</td><td>0.0</td></tr><tr><td>Guaraná Fantástica</td><td>0.0</td></tr><tr><td>Rössle Sauerkraut</td><td>0.0</td></tr><tr><td>Thüringer Rostbratwurst</td><td>0.0</td></tr><tr><td>Gula Malacca</td><td>0.0</td></tr><tr><td>Tofu</td><td>0.0</td></tr><tr><td>Singaporean Hokkien Fried Mee</td><td>0.0</td></tr><tr><td>Camembert Pierrot</td><td>0.0</td></tr><tr><td>Perth Pasties</td><td>0.0</td></tr><tr><td>Camembert Pierrot</td><td>0.0</td></tr><tr><td>Flotemysost</td><td>0.0</td></tr><tr><td>Tarte au sucre</td><td>0.0</td></tr><tr><td>Chai</td><td>0.0</td></tr><tr><td>Thüringer Rostbratwurst</td><td>0.0</td></tr><tr><td>Wimmers gute Semmelknödel</td><td>0.0</td></tr><tr><td>Lakkalikööri</td><td>0.0</td></tr><tr><td>Uncle Bob's Organic Dried Pears</td><td>0.0</td></tr><tr><td>Carnarvon Tigers</td><td>0.0</td></tr><tr><td>Manjimup Dried Apples</td><td>0.0</td></tr><tr><td>Rhönbräu Klosterbier</td><td>0.0</td></tr><tr><td>Gustaf's Knäckebröd</td><td>0.0</td></tr><tr><td>Chef Anton's Cajun Seasoning</td><td>0.0</td></tr><tr><td>Escargots de Bourgogne</td><td>0.0</td></tr><tr><td>Queso Cabrales</td><td>0.0</td></tr><tr><td>Rogede sild</td><td>0.0</td></tr><tr><td>Louisiana Fiery Hot Pepper Sauce</td><td>0.0</td></tr><tr><td>Mozzarella di Giovanni</td><td>0.0</td></tr><tr><td>Carnarvon Tigers</td><td>0.0</td></tr><tr><td>Chang</td><td>0.0</td></tr><tr><td>Boston Crab Meat</td><td>0.0</td></tr><tr><td>Ipoh Coffee</td><td>0.0</td></tr><tr><td>Carnarvon Tigers</td><td>0.0</td></tr><tr><td>Inlagd Sill</td><td>0.0</td></tr><tr><td>Teatime Chocolate Biscuits</td><td>0.0</td></tr><tr><td>Chartreuse verte</td><td>0.0</td></tr><tr><td>Gustaf's Knäckebröd</td><td>0.0</td></tr><tr><td>Rössle Sauerkraut</td><td>0.0</td></tr><tr><td>Mozzarella di Giovanni</td><td>0.0</td></tr><tr><td>Nord-Ost Matjeshering</td><td>0.0</td></tr><tr><td>Tourtière</td><td>0.0</td></tr><tr><td>Singaporean Hokkien Fried Mee</td><td>0.0</td></tr><tr><td>Genen Shouyu</td><td>0.0</td></tr><tr><td>Jack's New England Clam Chowder</td><td>0.0</td></tr><tr><td>Spegesild</td><td>0.0</td></tr><tr><td>Zaanse koeken</td><td>0.0</td></tr><tr><td>Gnocchi di nonna Alice</td><td>0.0</td></tr><tr><td>Camembert Pierrot</td><td>0.0</td></tr><tr><td>Sir Rodney's Scones</td><td>0.0</td></tr><tr><td>Sir Rodney's Marmalade</td><td>0.0</td></tr><tr><td>Scottish Longbreads</td><td>0.0</td></tr><tr><td>Manjimup Dried Apples</td><td>0.0</td></tr><tr><td>Raclette Courdavault</td><td>0.0</td></tr><tr><td>Lakkalikööri</td><td>0.0</td></tr><tr><td>Thüringer Rostbratwurst</td><td>0.0</td></tr><tr><td>Louisiana Fiery Hot Pepper Sauce</td><td>0.0</td></tr><tr><td>Inlagd Sill</td><td>0.0</td></tr><tr><td>Tunnbröd</td><td>0.0</td></tr><tr><td>Spegesild</td><td>0.0</td></tr><tr><td>Laughing Lumberjack Lager</td><td>0.0</td></tr><tr><td>Röd Kaviar</td><td>0.0</td></tr><tr><td>Rhönbräu Klosterbier</td><td>0.0</td></tr><tr><td>Pavlova</td><td>0.0</td></tr><tr><td>Tarte au sucre</td><td>0.0</td></tr><tr><td>Louisiana Fiery Hot Pepper Sauce</td><td>0.0</td></tr><tr><td>Flotemysost</td><td>0.0</td></tr><tr><td>Pavlova</td><td>0.0</td></tr><tr><td>Singaporean Hokkien Fried Mee</td><td>0.0</td></tr><tr><td>Ipoh Coffee</td><td>0.0</td></tr><tr><td>Tunnbröd</td><td>0.0</td></tr><tr><td>Tofu</td><td>0.0</td></tr><tr><td>Perth Pasties</td><td>0.0</td></tr><tr><td>Escargots de Bourgogne</td><td>0.0</td></tr><tr><td>Ikura</td><td>0.0</td></tr><tr><td>Teatime Chocolate Biscuits</td><td>0.0</td></tr><tr><td>Gula Malacca</td><td>0.0</td></tr><tr><td>Queso Manchego La Pastora</td><td>0.0</td></tr><tr><td>Geitost</td><td>0.0</td></tr><tr><td>Jack's New England Clam Chowder</td><td>0.0</td></tr><tr><td>Tourtière</td><td>0.0</td></tr><tr><td>Raclette Courdavault</td><td>0.0</td></tr><tr><td>Wimmers gute Semmelknödel</td><td>0.0</td></tr><tr><td>Geitost</td><td>0.0</td></tr><tr><td>Louisiana Hot Spiced Okra</td><td>0.0</td></tr><tr><td>Rhönbräu Klosterbier</td><td>0.0</td></tr><tr><td>Filo Mix</td><td>0.0</td></tr><tr><td>Boston Crab Meat</td><td>0.0</td></tr><tr><td>Zaanse koeken</td><td>0.0</td></tr><tr><td>Camembert Pierrot</td><td>0.0</td></tr><tr><td>Ikura</td><td>0.0</td></tr><tr><td>Jack's New England Clam Chowder</td><td>0.0</td></tr><tr><td>Zaanse koeken</td><td>0.0</td></tr><tr><td>Gumbär Gummibärchen</td><td>0.0</td></tr><tr><td>Thüringer Rostbratwurst</td><td>0.0</td></tr><tr><td>Sasquatch Ale</td><td>0.0</td></tr><tr><td>Chai</td><td>0.0</td></tr><tr><td>Thüringer Rostbratwurst</td><td>0.0</td></tr><tr><td>Ipoh Coffee</td><td>0.0</td></tr><tr><td>Gula Malacca</td><td>0.0</td></tr><tr><td>Tarte au sucre</td><td>0.0</td></tr><tr><td>Vegie-spread</td><td>0.0</td></tr><tr><td>Mishi Kobe Niku</td><td>0.0</td></tr><tr><td>Uncle Bob's Organic Dried Pears</td><td>0.0</td></tr><tr><td>Raclette Courdavault</td><td>0.0</td></tr><tr><td>Outback Lager</td><td>0.0</td></tr><tr><td>Northwoods Cranberry Sauce</td><td>0.0</td></tr><tr><td>Queso Manchego La Pastora</td><td>0.0</td></tr><tr><td>Guaraná Fantástica</td><td>0.0</td></tr><tr><td>Alice Mutton</td><td>0.0</td></tr><tr><td>Spegesild</td><td>0.0</td></tr><tr><td>Queso Cabrales</td><td>0.0</td></tr><tr><td>Zaanse koeken</td><td>0.0</td></tr><tr><td>Aniseed Syrup</td><td>0.0</td></tr><tr><td>Lakkalikööri</td><td>0.0</td></tr><tr><td>Chang</td><td>0.0</td></tr><tr><td>Raclette Courdavault</td><td>0.0</td></tr><tr><td>Röd Kaviar</td><td>0.0</td></tr><tr><td>Chef Anton's Cajun Seasoning</td><td>0.0</td></tr><tr><td>Guaraná Fantástica</td><td>0.0</td></tr><tr><td>Chocolade</td><td>0.0</td></tr><tr><td>Gorgonzola Telino</td><td>0.0</td></tr><tr><td>Mascarpone Fabioli</td><td>0.0</td></tr><tr><td>Pavlova</td><td>0.0</td></tr><tr><td>Ipoh Coffee</td><td>0.0</td></tr><tr><td>Raclette Courdavault</td><td>0.0</td></tr><tr><td>Pâté chinois</td><td>0.0</td></tr><tr><td>Ravioli Angelo</td><td>0.0</td></tr><tr><td>Chef Anton's Gumbo Mix</td><td>0.0</td></tr><tr><td>Inlagd Sill</td><td>0.0</td></tr><tr><td>Northwoods Cranberry Sauce</td><td>0.0</td></tr><tr><td>Manjimup Dried Apples</td><td>0.0</td></tr><tr><td>Camembert Pierrot</td><td>0.0</td></tr><tr><td>Teatime Chocolate Biscuits</td><td>0.0</td></tr><tr><td>Zaanse koeken</td><td>0.0</td></tr><tr><td>Teatime Chocolate Biscuits</td><td>0.0</td></tr><tr><td>Jack's New England Clam Chowder</td><td>0.0</td></tr><tr><td>Perth Pasties</td><td>0.0</td></tr><tr><td>Gnocchi di nonna Alice</td><td>0.0</td></tr><tr><td>Ikura</td><td>0.0</td></tr><tr><td>Gumbär Gummibärchen</td><td>0.0</td></tr><tr><td>Rogede sild</td><td>0.0</td></tr><tr><td>Spegesild</td><td>0.0</td></tr><tr><td>Ikura</td><td>0.0</td></tr><tr><td>Flotemysost</td><td>0.0</td></tr><tr><td>Sir Rodney's Scones</td><td>0.0</td></tr><tr><td>Manjimup Dried Apples</td><td>0.0</td></tr><tr><td>Sirop d'érable</td><td>0.0</td></tr><tr><td>Tourtière</td><td>0.0</td></tr><tr><td>Queso Manchego La Pastora</td><td>0.0</td></tr><tr><td>Pavlova</td><td>0.0</td></tr><tr><td>Inlagd Sill</td><td>0.0</td></tr><tr><td>Tarte au sucre</td><td>0.0</td></tr><tr><td>Steeleye Stout</td><td>0.0</td></tr><tr><td>Flotemysost</td><td>0.0</td></tr><tr><td>Chang</td><td>0.0</td></tr><tr><td>Gorgonzola Telino</td><td>0.0</td></tr><tr><td>Scottish Longbreads</td><td>0.0</td></tr><tr><td>Rhönbräu Klosterbier</td><td>0.0</td></tr><tr><td>Gumbär Gummibärchen</td><td>0.0</td></tr><tr><td>Ikura</td><td>0.0</td></tr><tr><td>Sirop d'érable</td><td>0.0</td></tr><tr><td>Jack's New England Clam Chowder</td><td>0.0</td></tr><tr><td>Filo Mix</td><td>0.0</td></tr><tr><td>Pâté chinois</td><td>0.0</td></tr><tr><td>Chef Anton's Cajun Seasoning</td><td>0.0</td></tr><tr><td>Queso Cabrales</td><td>0.0</td></tr><tr><td>Nord-Ost Matjeshering</td><td>0.0</td></tr><tr><td>Boston Crab Meat</td><td>0.0</td></tr><tr><td>Pâté chinois</td><td>0.0</td></tr><tr><td>Camembert Pierrot</td><td>0.0</td></tr><tr><td>Chai</td><td>0.0</td></tr><tr><td>Sir Rodney's Scones</td><td>0.0</td></tr><tr><td>Valkoinen suklaa</td><td>0.0</td></tr><tr><td>Lakkalikööri</td><td>0.0</td></tr><tr><td>Tofu</td><td>0.0</td></tr><tr><td>Rössle Sauerkraut</td><td>0.0</td></tr><tr><td>Filo Mix</td><td>0.0</td></tr><tr><td>Grandma's Boysenberry Spread</td><td>0.0</td></tr><tr><td>Nord-Ost Matjeshering</td><td>0.0</td></tr><tr><td>Lakkalikööri</td><td>0.0</td></tr><tr><td>Louisiana Fiery Hot Pepper Sauce</td><td>0.0</td></tr><tr><td>Rhönbräu Klosterbier</td><td>0.0</td></tr><tr><td>Konbu</td><td>0.0</td></tr><tr><td>Jack's New England Clam Chowder</td><td>0.0</td></tr><tr><td>Pavlova</td><td>0.0</td></tr><tr><td>Inlagd Sill</td><td>0.0</td></tr><tr><td>Filo Mix</td><td>0.0</td></tr><tr><td>Aniseed Syrup</td><td>0.0</td></tr><tr><td>Camembert Pierrot</td><td>0.0</td></tr><tr><td>Mozzarella di Giovanni</td><td>0.0</td></tr><tr><td>Carnarvon Tigers</td><td>0.0</td></tr><tr><td>Gula Malacca</td><td>0.0</td></tr><tr><td>Raclette Courdavault</td><td>0.0</td></tr><tr><td>Mozzarella di Giovanni</td><td>0.0</td></tr><tr><td>Konbu</td><td>0.0</td></tr><tr><td>Singaporean Hokkien Fried Mee</td><td>0.0</td></tr><tr><td>Tarte au sucre</td><td>0.0</td></tr><tr><td>Gudbrandsdalsost</td><td>0.0</td></tr><tr><td>Gorgonzola Telino</td><td>0.0</td></tr><tr><td>Jack's New England Clam Chowder</td><td>0.0</td></tr><tr><td>Vegie-spread</td><td>0.0</td></tr><tr><td>Gudbrandsdalsost</td><td>0.0</td></tr><tr><td>Tunnbröd</td><td>0.0</td></tr><tr><td>Boston Crab Meat</td><td>0.0</td></tr><tr><td>Gnocchi di nonna Alice</td><td>0.0</td></tr><tr><td>Gnocchi di nonna Alice</td><td>0.0</td></tr><tr><td>Raclette Courdavault</td><td>0.0</td></tr><tr><td>Lakkalikööri</td><td>0.0</td></tr><tr><td>Nord-Ost Matjeshering</td><td>0.0</td></tr><tr><td>Röd Kaviar</td><td>0.0</td></tr><tr><td>Chai</td><td>0.0</td></tr><tr><td>Gudbrandsdalsost</td><td>0.0</td></tr><tr><td>Rogede sild</td><td>0.0</td></tr><tr><td>Longlife Tofu</td><td>0.0</td></tr><tr><td>Boston Crab Meat</td><td>0.0</td></tr><tr><td>Sasquatch Ale</td><td>0.0</td></tr><tr><td>Raclette Courdavault</td><td>0.0</td></tr><tr><td>Tarte au sucre</td><td>0.0</td></tr><tr><td>Wimmers gute Semmelknödel</td><td>0.0</td></tr><tr><td>Gumbär Gummibärchen</td><td>0.0</td></tr><tr><td>Filo Mix</td><td>0.0</td></tr><tr><td>Outback Lager</td><td>0.0</td></tr><tr><td>Mascarpone Fabioli</td><td>0.0</td></tr><tr><td>Schoggi Schokolade</td><td>0.0</td></tr><tr><td>Rhönbräu Klosterbier</td><td>0.0</td></tr><tr><td>Chartreuse verte</td><td>0.0</td></tr><tr><td>Zaanse koeken</td><td>0.0</td></tr><tr><td>Manjimup Dried Apples</td><td>0.0</td></tr><tr><td>Gnocchi di nonna Alice</td><td>0.0</td></tr><tr><td>Sir Rodney's Scones</td><td>0.0</td></tr><tr><td>Gustaf's Knäckebröd</td><td>0.0</td></tr><tr><td>Guaraná Fantástica</td><td>0.0</td></tr><tr><td>Chang</td><td>0.0</td></tr><tr><td>Uncle Bob's Organic Dried Pears</td><td>0.0</td></tr><tr><td>Scottish Longbreads</td><td>0.0</td></tr><tr><td>Singaporean Hokkien Fried Mee</td><td>0.0</td></tr><tr><td>Gustaf's Knäckebröd</td><td>0.0</td></tr><tr><td>Gorgonzola Telino</td><td>0.0</td></tr><tr><td>Camembert Pierrot</td><td>0.0</td></tr><tr><td>Flotemysost</td><td>0.0</td></tr><tr><td>Sirop d'érable</td><td>0.0</td></tr><tr><td>Tarte au sucre</td><td>0.0</td></tr><tr><td>Flotemysost</td><td>0.0</td></tr><tr><td>Thüringer Rostbratwurst</td><td>0.0</td></tr><tr><td>Raclette Courdavault</td><td>0.0</td></tr><tr><td>Alice Mutton</td><td>0.0</td></tr><tr><td>Louisiana Hot Spiced Okra</td><td>0.0</td></tr><tr><td>Ikura</td><td>0.0</td></tr><tr><td>Laughing Lumberjack Lager</td><td>0.0</td></tr><tr><td>Jack's New England Clam Chowder</td><td>0.0</td></tr><tr><td>Pavlova</td><td>0.0</td></tr><tr><td>Tarte au sucre</td><td>0.0</td></tr><tr><td>Outback Lager</td><td>0.0</td></tr><tr><td>Original Frankfurter grüne Soße</td><td>0.0</td></tr><tr><td>Longlife Tofu</td><td>0.0</td></tr><tr><td>Gorgonzola Telino</td><td>0.0</td></tr><tr><td>Gorgonzola Telino</td><td>0.0</td></tr><tr><td>Côte de Blaye</td><td>0.0</td></tr><tr><td>Inlagd Sill</td><td>0.0</td></tr><tr><td>Ikura</td><td>0.0</td></tr><tr><td>Rhönbräu Klosterbier</td><td>0.0</td></tr><tr><td>Carnarvon Tigers</td><td>0.0</td></tr><tr><td>Steeleye Stout</td><td>0.0</td></tr><tr><td>Vegie-spread</td><td>0.0</td></tr><tr><td>Scottish Longbreads</td><td>0.0</td></tr><tr><td>Chang</td><td>0.0</td></tr><tr><td>Tourtière</td><td>0.0</td></tr><tr><td>Scottish Longbreads</td><td>0.0</td></tr><tr><td>Jack's New England Clam Chowder</td><td>0.0</td></tr><tr><td>Filo Mix</td><td>0.0</td></tr><tr><td>Pavlova</td><td>0.0</td></tr><tr><td>Gula Malacca</td><td>0.0</td></tr><tr><td>Queso Cabrales</td><td>0.0</td></tr><tr><td>Tarte au sucre</td><td>0.0</td></tr><tr><td>Mozzarella di Giovanni</td><td>0.0</td></tr><tr><td>Raclette Courdavault</td><td>0.0</td></tr><tr><td>Ikura</td><td>0.0</td></tr><tr><td>Rössle Sauerkraut</td><td>0.0</td></tr><tr><td>Sasquatch Ale</td><td>0.0</td></tr><tr><td>Côte de Blaye</td><td>0.0</td></tr><tr><td>Louisiana Fiery Hot Pepper Sauce</td><td>0.0</td></tr><tr><td>Boston Crab Meat</td><td>0.0</td></tr><tr><td>Filo Mix</td><td>0.0</td></tr><tr><td>Konbu</td><td>0.0</td></tr><tr><td>NuNuCa Nuß-Nougat-Creme</td><td>0.0</td></tr><tr><td>Outback Lager</td><td>0.0</td></tr><tr><td>Teatime Chocolate Biscuits</td><td>0.0</td></tr><tr><td>Tunnbröd</td><td>0.0</td></tr><tr><td>Boston Crab Meat</td><td>0.0</td></tr><tr><td>Original Frankfurter grüne Soße</td><td>0.0</td></tr><tr><td>Spegesild</td><td>0.0</td></tr><tr><td>Jack's New England Clam Chowder</td><td>0.0</td></tr><tr><td>Geitost</td><td>0.0</td></tr><tr><td>Côte de Blaye</td><td>0.0</td></tr><tr><td>Mascarpone Fabioli</td><td>0.0</td></tr><tr><td>Jack's New England Clam Chowder</td><td>0.0</td></tr><tr><td>Ipoh Coffee</td><td>0.0</td></tr><tr><td>Rhönbräu Klosterbier</td><td>0.0</td></tr><tr><td>Gnocchi di nonna Alice</td><td>0.0</td></tr><tr><td>Steeleye Stout</td><td>0.0</td></tr><tr><td>Manjimup Dried Apples</td><td>0.0</td></tr><tr><td>Tarte au sucre</td><td>0.0</td></tr><tr><td>Outback Lager</td><td>0.0</td></tr><tr><td>Ravioli Angelo</td><td>0.0</td></tr><tr><td>Jack's New England Clam Chowder</td><td>0.0</td></tr><tr><td>Outback Lager</td><td>0.0</td></tr><tr><td>Gumbär Gummibärchen</td><td>0.0</td></tr><tr><td>Perth Pasties</td><td>0.0</td></tr><tr><td>Gorgonzola Telino</td><td>0.0</td></tr><tr><td>Ravioli Angelo</td><td>0.0</td></tr><tr><td>Ikura</td><td>0.0</td></tr><tr><td>Chartreuse verte</td><td>0.0</td></tr><tr><td>Sir Rodney's Marmalade</td><td>0.0</td></tr><tr><td>Côte de Blaye</td><td>0.0</td></tr><tr><td>Chang</td><td>0.0</td></tr><tr><td>Northwoods Cranberry Sauce</td><td>0.0</td></tr><tr><td>Konbu</td><td>0.0</td></tr><tr><td>Camembert Pierrot</td><td>0.0</td></tr><tr><td>Grandma's Boysenberry Spread</td><td>0.0</td></tr><tr><td>Chartreuse verte</td><td>0.0</td></tr><tr><td>Camembert Pierrot</td><td>0.0</td></tr><tr><td>Scottish Longbreads</td><td>0.0</td></tr><tr><td>Teatime Chocolate Biscuits</td><td>0.0</td></tr><tr><td>Steeleye Stout</td><td>0.0</td></tr><tr><td>Côte de Blaye</td><td>0.0</td></tr><tr><td>Ipoh Coffee</td><td>0.0</td></tr><tr><td>Wimmers gute Semmelknödel</td><td>0.0</td></tr><tr><td>Raclette Courdavault</td><td>0.0</td></tr><tr><td>Gustaf's Knäckebröd</td><td>0.0</td></tr><tr><td>Steeleye Stout</td><td>0.0</td></tr><tr><td>Ravioli Angelo</td><td>0.0</td></tr><tr><td>Camembert Pierrot</td><td>0.0</td></tr><tr><td>Wimmers gute Semmelknödel</td><td>0.0</td></tr><tr><td>Konbu</td><td>0.0</td></tr><tr><td>Boston Crab Meat</td><td>0.0</td></tr><tr><td>Ikura</td><td>0.0</td></tr><tr><td>Gnocchi di nonna Alice</td><td>0.0</td></tr><tr><td>Raclette Courdavault</td><td>0.0</td></tr><tr><td>Original Frankfurter grüne Soße</td><td>0.0</td></tr><tr><td>Queso Cabrales</td><td>0.0</td></tr><tr><td>Ipoh Coffee</td><td>0.0</td></tr><tr><td>Scottish Longbreads</td><td>0.0</td></tr><tr><td>Outback Lager</td><td>0.0</td></tr><tr><td>Gustaf's Knäckebröd</td><td>0.0</td></tr><tr><td>Wimmers gute Semmelknödel</td><td>0.0</td></tr><tr><td>Chef Anton's Cajun Seasoning</td><td>0.0</td></tr><tr><td>Outback Lager</td><td>0.0</td></tr><tr><td>Longlife Tofu</td><td>0.0</td></tr><tr><td>Chef Anton's Gumbo Mix</td><td>0.0</td></tr><tr><td>Mishi Kobe Niku</td><td>0.0</td></tr><tr><td>Aniseed Syrup</td><td>0.0</td></tr><tr><td>Chang</td><td>0.0</td></tr><tr><td>Alice Mutton</td><td>0.0</td></tr><tr><td>Tarte au sucre</td><td>0.0</td></tr><tr><td>Carnarvon Tigers</td><td>0.0</td></tr><tr><td>Pavlova</td><td>0.0</td></tr><tr><td>Gorgonzola Telino</td><td>0.0</td></tr><tr><td>Gnocchi di nonna Alice</td><td>0.0</td></tr><tr><td>Chang</td><td>0.0</td></tr><tr><td>Singaporean Hokkien Fried Mee</td><td>0.0</td></tr><tr><td>Aniseed Syrup</td><td>0.0</td></tr><tr><td>Uncle Bob's Organic Dried Pears</td><td>0.0</td></tr><tr><td>Schoggi Schokolade</td><td>0.0</td></tr><tr><td>Outback Lager</td><td>0.0</td></tr><tr><td>Manjimup Dried Apples</td><td>0.0</td></tr><tr><td>Lakkalikööri</td><td>0.0</td></tr><tr><td>Alice Mutton</td><td>0.0</td></tr><tr><td>Carnarvon Tigers</td><td>0.0</td></tr><tr><td>Sir Rodney's Scones</td><td>0.0</td></tr><tr><td>Geitost</td><td>0.0</td></tr><tr><td>Tarte au sucre</td><td>0.0</td></tr><tr><td>Queso Cabrales</td><td>0.0</td></tr><tr><td>Filo Mix</td><td>0.0</td></tr><tr><td>Steeleye Stout</td><td>0.0</td></tr><tr><td>Laughing Lumberjack Lager</td><td>0.0</td></tr><tr><td>Perth Pasties</td><td>0.0</td></tr><tr><td>Gumbär Gummibärchen</td><td>0.0</td></tr><tr><td>Steeleye Stout</td><td>0.0</td></tr><tr><td>Chai</td><td>0.0</td></tr><tr><td>Queso Cabrales</td><td>0.0</td></tr><tr><td>Tunnbröd</td><td>0.0</td></tr><tr><td>Scottish Longbreads</td><td>0.0</td></tr><tr><td>Steeleye Stout</td><td>0.0</td></tr><tr><td>Manjimup Dried Apples</td><td>0.0</td></tr><tr><td>Sir Rodney's Scones</td><td>0.0</td></tr><tr><td>Rössle Sauerkraut</td><td>0.0</td></tr><tr><td>Ikura</td><td>0.0</td></tr><tr><td>Teatime Chocolate Biscuits</td><td>0.0</td></tr><tr><td>Maxilaku</td><td>0.0</td></tr><tr><td>Spegesild</td><td>0.0</td></tr><tr><td>Wimmers gute Semmelknödel</td><td>0.0</td></tr><tr><td>Carnarvon Tigers</td><td>0.0</td></tr><tr><td>Boston Crab Meat</td><td>0.0</td></tr><tr><td>Louisiana Fiery Hot Pepper Sauce</td><td>0.0</td></tr><tr><td>Lakkalikööri</td><td>0.0</td></tr><tr><td>Röd Kaviar</td><td>0.0</td></tr><tr><td>Singaporean Hokkien Fried Mee</td><td>0.0</td></tr><tr><td>Guaraná Fantástica</td><td>0.0</td></tr><tr><td>Chang</td><td>0.0</td></tr><tr><td>Guaraná Fantástica</td><td>0.0</td></tr><tr><td>Outback Lager</td><td>0.0</td></tr><tr><td>Original Frankfurter grüne Soße</td><td>0.0</td></tr><tr><td>Ikura</td><td>0.0</td></tr><tr><td>Gorgonzola Telino</td><td>0.0</td></tr><tr><td>Original Frankfurter grüne Soße</td><td>0.0</td></tr><tr><td>NuNuCa Nuß-Nougat-Creme</td><td>0.0</td></tr><tr><td>Chang</td><td>0.0</td></tr><tr><td>Scottish Longbreads</td><td>0.0</td></tr><tr><td>Queso Cabrales</td><td>0.0</td></tr><tr><td>Côte de Blaye</td><td>0.0</td></tr><tr><td>Alice Mutton</td><td>0.0</td></tr><tr><td>Sasquatch Ale</td><td>0.0</td></tr><tr><td>Jack's New England Clam Chowder</td><td>0.0</td></tr><tr><td>Northwoods Cranberry Sauce</td><td>0.0</td></tr><tr><td>Guaraná Fantástica</td><td>0.0</td></tr><tr><td>Thüringer Rostbratwurst</td><td>0.0</td></tr><tr><td>Nord-Ost Matjeshering</td><td>0.0</td></tr><tr><td>Inlagd Sill</td><td>0.0</td></tr><tr><td>Guaraná Fantástica</td><td>0.0</td></tr><tr><td>Chartreuse verte</td><td>0.0</td></tr><tr><td>Boston Crab Meat</td><td>0.0</td></tr><tr><td>Camembert Pierrot</td><td>0.0</td></tr><tr><td>Rogede sild</td><td>0.0</td></tr><tr><td>Gnocchi di nonna Alice</td><td>0.0</td></tr><tr><td>Thüringer Rostbratwurst</td><td>0.0</td></tr><tr><td>Nord-Ost Matjeshering</td><td>0.0</td></tr><tr><td>Konbu</td><td>0.0</td></tr><tr><td>Jack's New England Clam Chowder</td><td>0.0</td></tr><tr><td>Flotemysost</td><td>0.0</td></tr><tr><td>Konbu</td><td>0.0</td></tr><tr><td>Louisiana Fiery Hot Pepper Sauce</td><td>0.0</td></tr><tr><td>Scottish Longbreads</td><td>0.0</td></tr><tr><td>Escargots de Bourgogne</td><td>0.0</td></tr><tr><td>Tarte au sucre</td><td>0.0</td></tr><tr><td>Sirop d'érable</td><td>0.0</td></tr><tr><td>Rhönbräu Klosterbier</td><td>0.0</td></tr><tr><td>Uncle Bob's Organic Dried Pears</td><td>0.0</td></tr><tr><td>Pavlova</td><td>0.0</td></tr><tr><td>Jack's New England Clam Chowder</td><td>0.0</td></tr><tr><td>Teatime Chocolate Biscuits</td><td>0.0</td></tr><tr><td>Maxilaku</td><td>0.0</td></tr><tr><td>Sirop d'érable</td><td>0.0</td></tr><tr><td>Chai</td><td>0.0</td></tr><tr><td>Alice Mutton</td><td>0.0</td></tr><tr><td>Laughing Lumberjack Lager</td><td>0.0</td></tr><tr><td>Escargots de Bourgogne</td><td>0.0</td></tr><tr><td>Flotemysost</td><td>0.0</td></tr><tr><td>Alice Mutton</td><td>0.0</td></tr><tr><td>Geitost</td><td>0.0</td></tr><tr><td>Tourtière</td><td>0.0</td></tr><tr><td>Pavlova</td><td>0.0</td></tr><tr><td>Mascarpone Fabioli</td><td>0.0</td></tr><tr><td>Ravioli Angelo</td><td>0.0</td></tr><tr><td>Nord-Ost Matjeshering</td><td>0.0</td></tr><tr><td>Camembert Pierrot</td><td>0.0</td></tr><tr><td>Pavlova</td><td>0.0</td></tr><tr><td>NuNuCa Nuß-Nougat-Creme</td><td>0.0</td></tr><tr><td>Boston Crab Meat</td><td>0.0</td></tr><tr><td>Valkoinen suklaa</td><td>0.0</td></tr><tr><td>Steeleye Stout</td><td>0.0</td></tr><tr><td>Vegie-spread</td><td>0.0</td></tr><tr><td>Alice Mutton</td><td>0.0</td></tr><tr><td>Guaraná Fantástica</td><td>0.0</td></tr><tr><td>Rhönbräu Klosterbier</td><td>0.0</td></tr><tr><td>Queso Cabrales</td><td>0.0</td></tr><tr><td>Konbu</td><td>0.0</td></tr><tr><td>Teatime Chocolate Biscuits</td><td>0.0</td></tr><tr><td>Mozzarella di Giovanni</td><td>0.0</td></tr><tr><td>Sir Rodney's Marmalade</td><td>0.0</td></tr><tr><td>Filo Mix</td><td>0.0</td></tr><tr><td>Lakkalikööri</td><td>0.0</td></tr><tr><td>Zaanse koeken</td><td>0.0</td></tr><tr><td>Lakkalikööri</td><td>0.0</td></tr><tr><td>Sir Rodney's Scones</td><td>0.0</td></tr><tr><td>Rhönbräu Klosterbier</td><td>0.0</td></tr><tr><td>Original Frankfurter grüne Soße</td><td>0.0</td></tr><tr><td>Sir Rodney's Scones</td><td>0.0</td></tr><tr><td>Schoggi Schokolade</td><td>0.0</td></tr><tr><td>Ravioli Angelo</td><td>0.0</td></tr><tr><td>Mozzarella di Giovanni</td><td>0.0</td></tr><tr><td>Perth Pasties</td><td>0.0</td></tr><tr><td>Sirop d'érable</td><td>0.0</td></tr><tr><td>Grandma's Boysenberry Spread</td><td>0.0</td></tr><tr><td>Chai</td><td>0.0</td></tr><tr><td>Rössle Sauerkraut</td><td>0.0</td></tr><tr><td>Sasquatch Ale</td><td>0.0</td></tr><tr><td>Uncle Bob's Organic Dried Pears</td><td>0.0</td></tr><tr><td>Konbu</td><td>0.0</td></tr><tr><td>Mozzarella di Giovanni</td><td>0.0</td></tr><tr><td>Maxilaku</td><td>0.0</td></tr><tr><td>Konbu</td><td>0.0</td></tr><tr><td>Gustaf's Knäckebröd</td><td>0.0</td></tr><tr><td>Spegesild</td><td>0.0</td></tr><tr><td>Gnocchi di nonna Alice</td><td>0.0</td></tr><tr><td>Konbu</td><td>0.0</td></tr><tr><td>Gorgonzola Telino</td><td>0.0</td></tr><tr><td>Ikura</td><td>0.0</td></tr><tr><td>Guaraná Fantástica</td><td>0.0</td></tr><tr><td>Original Frankfurter grüne Soße</td><td>0.0</td></tr><tr><td>Raclette Courdavault</td><td>0.0</td></tr><tr><td>Valkoinen suklaa</td><td>0.0</td></tr><tr><td>Manjimup Dried Apples</td><td>0.0</td></tr><tr><td>Pâté chinois</td><td>0.0</td></tr><tr><td>Grandma's Boysenberry Spread</td><td>0.0</td></tr><tr><td>Ikura</td><td>0.0</td></tr><tr><td>Alice Mutton</td><td>0.0</td></tr><tr><td>Tarte au sucre</td><td>0.0</td></tr><tr><td>Chef Anton's Cajun Seasoning</td><td>0.0</td></tr><tr><td>Rössle Sauerkraut</td><td>0.0</td></tr><tr><td>Rogede sild</td><td>0.0</td></tr><tr><td>Sir Rodney's Scones</td><td>0.0</td></tr><tr><td>Zaanse koeken</td><td>0.0</td></tr><tr><td>Manjimup Dried Apples</td><td>0.0</td></tr><tr><td>Nord-Ost Matjeshering</td><td>0.0</td></tr><tr><td>Steeleye Stout</td><td>0.0</td></tr><tr><td>Wimmers gute Semmelknödel</td><td>0.0</td></tr><tr><td>Chef Anton's Gumbo Mix</td><td>0.0</td></tr><tr><td>Uncle Bob's Organic Dried Pears</td><td>0.0</td></tr><tr><td>Mozzarella di Giovanni</td><td>0.0</td></tr><tr><td>Jack's New England Clam Chowder</td><td>0.0</td></tr><tr><td>Lakkalikööri</td><td>0.0</td></tr><tr><td>Uncle Bob's Organic Dried Pears</td><td>0.0</td></tr><tr><td>Konbu</td><td>0.0</td></tr><tr><td>Perth Pasties</td><td>0.0</td></tr><tr><td>Gudbrandsdalsost</td><td>0.0</td></tr><tr><td>Lakkalikööri</td><td>0.0</td></tr><tr><td>Carnarvon Tigers</td><td>0.0</td></tr><tr><td>Côte de Blaye</td><td>0.0</td></tr><tr><td>Gudbrandsdalsost</td><td>0.0</td></tr><tr><td>Manjimup Dried Apples</td><td>0.0</td></tr><tr><td>Gravad lax</td><td>0.0</td></tr><tr><td>Teatime Chocolate Biscuits</td><td>0.0</td></tr><tr><td>Maxilaku</td><td>0.0</td></tr><tr><td>Queso Manchego La Pastora</td><td>0.0</td></tr><tr><td>Guaraná Fantástica</td><td>0.0</td></tr><tr><td>Wimmers gute Semmelknödel</td><td>0.0</td></tr><tr><td>Spegesild</td><td>0.0</td></tr><tr><td>Thüringer Rostbratwurst</td><td>0.0</td></tr><tr><td>Alice Mutton</td><td>0.0</td></tr><tr><td>Geitost</td><td>0.0</td></tr><tr><td>Gumbär Gummibärchen</td><td>0.0</td></tr><tr><td>Jack's New England Clam Chowder</td><td>0.0</td></tr><tr><td>Rhönbräu Klosterbier</td><td>0.0</td></tr><tr><td>Vegie-spread</td><td>0.0</td></tr><tr><td>Northwoods Cranberry Sauce</td><td>0.0</td></tr><tr><td>Rhönbräu Klosterbier</td><td>0.0</td></tr><tr><td>Rössle Sauerkraut</td><td>0.0</td></tr><tr><td>Chartreuse verte</td><td>0.0</td></tr><tr><td>Zaanse koeken</td><td>0.0</td></tr><tr><td>Manjimup Dried Apples</td><td>0.0</td></tr><tr><td>Vegie-spread</td><td>0.0</td></tr><tr><td>Boston Crab Meat</td><td>0.0</td></tr><tr><td>Uncle Bob's Organic Dried Pears</td><td>0.0</td></tr><tr><td>Queso Manchego La Pastora</td><td>0.0</td></tr><tr><td>Guaraná Fantástica</td><td>0.0</td></tr><tr><td>Schoggi Schokolade</td><td>0.0</td></tr><tr><td>Gorgonzola Telino</td><td>0.0</td></tr><tr><td>Vegie-spread</td><td>0.0</td></tr><tr><td>Côte de Blaye</td><td>0.0</td></tr><tr><td>Uncle Bob's Organic Dried Pears</td><td>0.0</td></tr><tr><td>Ipoh Coffee</td><td>0.0</td></tr><tr><td>Ravioli Angelo</td><td>0.0</td></tr><tr><td>Pavlova</td><td>0.0</td></tr><tr><td>Guaraná Fantástica</td><td>0.0</td></tr><tr><td>Inlagd Sill</td><td>0.0</td></tr><tr><td>Queso Cabrales</td><td>0.0</td></tr><tr><td>Sir Rodney's Marmalade</td><td>0.0</td></tr><tr><td>Lakkalikööri</td><td>0.0</td></tr><tr><td>Original Frankfurter grüne Soße</td><td>0.0</td></tr><tr><td>Uncle Bob's Organic Dried Pears</td><td>0.0</td></tr><tr><td>Ipoh Coffee</td><td>0.0</td></tr><tr><td>Mozzarella di Giovanni</td><td>0.0</td></tr><tr><td>Uncle Bob's Organic Dried Pears</td><td>0.0</td></tr><tr><td>Grandma's Boysenberry Spread</td><td>0.0</td></tr><tr><td>Queso Cabrales</td><td>0.0</td></tr><tr><td>Jack's New England Clam Chowder</td><td>0.0</td></tr><tr><td>Sir Rodney's Scones</td><td>0.0</td></tr><tr><td>Mozzarella di Giovanni</td><td>0.0</td></tr><tr><td>Manjimup Dried Apples</td><td>0.0</td></tr><tr><td>Camembert Pierrot</td><td>0.0</td></tr><tr><td>Singaporean Hokkien Fried Mee</td><td>0.0</td></tr><tr><td>Mascarpone Fabioli</td><td>0.0</td></tr><tr><td>Guaraná Fantástica</td><td>0.0</td></tr><tr><td>Sirop d'érable</td><td>0.0</td></tr><tr><td>Longlife Tofu</td><td>0.0</td></tr><tr><td>Rhönbräu Klosterbier</td><td>0.0</td></tr><tr><td>Original Frankfurter grüne Soße</td><td>0.0</td></tr><tr><td>Uncle Bob's Organic Dried Pears</td><td>0.0</td></tr><tr><td>Gustaf's Knäckebröd</td><td>0.0</td></tr><tr><td>Spegesild</td><td>0.0</td></tr><tr><td>Pâté chinois</td><td>0.0</td></tr><tr><td>Konbu</td><td>0.0</td></tr><tr><td>Pâté chinois</td><td>0.0</td></tr><tr><td>Chai</td><td>0.0</td></tr><tr><td>Boston Crab Meat</td><td>0.0</td></tr><tr><td>Filo Mix</td><td>0.0</td></tr><tr><td>Gumbär Gummibärchen</td><td>0.0</td></tr><tr><td>Lakkalikööri</td><td>0.0</td></tr><tr><td>Chai</td><td>0.0</td></tr><tr><td>Raclette Courdavault</td><td>0.0</td></tr><tr><td>Chai</td><td>0.0</td></tr><tr><td>Northwoods Cranberry Sauce</td><td>0.0</td></tr><tr><td>Thüringer Rostbratwurst</td><td>0.0</td></tr><tr><td>Singaporean Hokkien Fried Mee</td><td>0.0</td></tr><tr><td>Flotemysost</td><td>0.0</td></tr><tr><td>Guaraná Fantástica</td><td>0.0</td></tr><tr><td>Camembert Pierrot</td><td>0.0</td></tr><tr><td>Uncle Bob's Organic Dried Pears</td><td>0.0</td></tr><tr><td>Guaraná Fantástica</td><td>0.0</td></tr><tr><td>Flotemysost</td><td>0.0</td></tr><tr><td>Tunnbröd</td><td>0.0</td></tr><tr><td>Singaporean Hokkien Fried Mee</td><td>0.0</td></tr><tr><td>Rogede sild</td><td>0.0</td></tr><tr><td>Scottish Longbreads</td><td>0.0</td></tr><tr><td>Nord-Ost Matjeshering</td><td>0.0</td></tr><tr><td>Original Frankfurter grüne Soße</td><td>0.0</td></tr><tr><td>Gorgonzola Telino</td><td>0.0</td></tr><tr><td>Inlagd Sill</td><td>0.0</td></tr><tr><td>Aniseed Syrup</td><td>0.0</td></tr><tr><td>Raclette Courdavault</td><td>0.0</td></tr><tr><td>Outback Lager</td><td>0.0</td></tr><tr><td>Queso Manchego La Pastora</td><td>0.0</td></tr><tr><td>Carnarvon Tigers</td><td>0.0</td></tr><tr><td>Gnocchi di nonna Alice</td><td>0.0</td></tr><tr><td>Spegesild</td><td>0.0</td></tr><tr><td>Maxilaku</td><td>0.0</td></tr><tr><td>Sir Rodney's Marmalade</td><td>0.0</td></tr><tr><td>Gumbär Gummibärchen</td><td>0.0</td></tr><tr><td>Mozzarella di Giovanni</td><td>0.0</td></tr><tr><td>Teatime Chocolate Biscuits</td><td>0.0</td></tr><tr><td>Gudbrandsdalsost</td><td>0.0</td></tr><tr><td>Uncle Bob's Organic Dried Pears</td><td>0.0</td></tr><tr><td>Ipoh Coffee</td><td>0.0</td></tr><tr><td>Gumbär Gummibärchen</td><td>0.0</td></tr><tr><td>Geitost</td><td>0.0</td></tr><tr><td>Louisiana Fiery Hot Pepper Sauce</td><td>0.0</td></tr><tr><td>Flotemysost</td><td>0.0</td></tr><tr><td>Carnarvon Tigers</td><td>0.0</td></tr><tr><td>Manjimup Dried Apples</td><td>0.0</td></tr><tr><td>Pâté chinois</td><td>0.0</td></tr><tr><td>Raclette Courdavault</td><td>0.0</td></tr><tr><td>Gnocchi di nonna Alice</td><td>0.0</td></tr><tr><td>Vegie-spread</td><td>0.0</td></tr><tr><td>Chef Anton's Gumbo Mix</td><td>0.0</td></tr><tr><td>Chai</td><td>0.0</td></tr><tr><td>Konbu</td><td>0.0</td></tr><tr><td>Guaraná Fantástica</td><td>0.0</td></tr><tr><td>Wimmers gute Semmelknödel</td><td>0.0</td></tr><tr><td>Flotemysost</td><td>0.0</td></tr><tr><td>Inlagd Sill</td><td>0.0</td></tr><tr><td>Côte de Blaye</td><td>0.0</td></tr><tr><td>Raclette Courdavault</td><td>0.0</td></tr><tr><td>Gula Malacca</td><td>0.0</td></tr><tr><td>Sirop d'érable</td><td>0.0</td></tr><tr><td>Chai</td><td>0.0</td></tr><tr><td>Steeleye Stout</td><td>0.0</td></tr><tr><td>Singaporean Hokkien Fried Mee</td><td>0.0</td></tr><tr><td>Tourtière</td><td>0.0</td></tr><tr><td>Konbu</td><td>0.0</td></tr><tr><td>Raclette Courdavault</td><td>0.0</td></tr><tr><td>Outback Lager</td><td>0.0</td></tr><tr><td>Filo Mix</td><td>0.0</td></tr><tr><td>Flotemysost</td><td>0.0</td></tr><tr><td>Rössle Sauerkraut</td><td>0.0</td></tr><tr><td>Steeleye Stout</td><td>0.0</td></tr><tr><td>Maxilaku</td><td>0.0</td></tr><tr><td>Ravioli Angelo</td><td>0.0</td></tr><tr><td>Sir Rodney's Scones</td><td>0.0</td></tr><tr><td>Vegie-spread</td><td>0.0</td></tr><tr><td>Gula Malacca</td><td>0.0</td></tr><tr><td>Sirop d'érable</td><td>0.0</td></tr><tr><td>Queso Cabrales</td><td>0.0</td></tr><tr><td>Tarte au sucre</td><td>0.0</td></tr><tr><td>Geitost</td><td>0.0</td></tr><tr><td>Manjimup Dried Apples</td><td>0.0</td></tr><tr><td>Scottish Longbreads</td><td>0.0</td></tr><tr><td>Mascarpone Fabioli</td><td>0.0</td></tr><tr><td>Geitost</td><td>0.0</td></tr><tr><td>Laughing Lumberjack Lager</td><td>0.0</td></tr><tr><td>Guaraná Fantástica</td><td>0.0</td></tr><tr><td>NuNuCa Nuß-Nougat-Creme</td><td>0.0</td></tr><tr><td>Manjimup Dried Apples</td><td>0.0</td></tr><tr><td>Ravioli Angelo</td><td>0.0</td></tr><tr><td>Uncle Bob's Organic Dried Pears</td><td>0.0</td></tr><tr><td>Pâté chinois</td><td>0.0</td></tr><tr><td>Camembert Pierrot</td><td>0.0</td></tr><tr><td>Outback Lager</td><td>0.0</td></tr><tr><td>Sir Rodney's Scones</td><td>0.0</td></tr><tr><td>Camembert Pierrot</td><td>0.0</td></tr><tr><td>Sirop d'érable</td><td>0.0</td></tr><tr><td>Konbu</td><td>0.0</td></tr><tr><td>Alice Mutton</td><td>0.0</td></tr><tr><td>Camembert Pierrot</td><td>0.0</td></tr><tr><td>Camembert Pierrot</td><td>0.0</td></tr><tr><td>Original Frankfurter grüne Soße</td><td>0.0</td></tr><tr><td>Camembert Pierrot</td><td>0.0</td></tr><tr><td>Sasquatch Ale</td><td>0.0</td></tr><tr><td>Jack's New England Clam Chowder</td><td>0.0</td></tr><tr><td>Scottish Longbreads</td><td>0.0</td></tr><tr><td>Pavlova</td><td>0.0</td></tr><tr><td>Teatime Chocolate Biscuits</td><td>0.0</td></tr><tr><td>Sasquatch Ale</td><td>0.0</td></tr><tr><td>Jack's New England Clam Chowder</td><td>0.0</td></tr><tr><td>Chartreuse verte</td><td>0.0</td></tr><tr><td>Gorgonzola Telino</td><td>0.0</td></tr><tr><td>Chang</td><td>0.0</td></tr><tr><td>Jack's New England Clam Chowder</td><td>0.0</td></tr><tr><td>Valkoinen suklaa</td><td>0.0</td></tr><tr><td>Wimmers gute Semmelknödel</td><td>0.0</td></tr><tr><td>Queso Cabrales</td><td>0.0</td></tr><tr><td>Guaraná Fantástica</td><td>0.0</td></tr><tr><td>Aniseed Syrup</td><td>0.0</td></tr><tr><td>Chef Anton's Cajun Seasoning</td><td>0.0</td></tr><tr><td>Ikura</td><td>0.0</td></tr><tr><td>Konbu</td><td>0.0</td></tr><tr><td>Tunnbröd</td><td>0.0</td></tr><tr><td>Mascarpone Fabioli</td><td>0.0</td></tr><tr><td>Jack's New England Clam Chowder</td><td>0.0</td></tr><tr><td>Filo Mix</td><td>0.0</td></tr><tr><td>Pâté chinois</td><td>0.0</td></tr><tr><td>Louisiana Hot Spiced Okra</td><td>0.0</td></tr><tr><td>Rhönbräu Klosterbier</td><td>0.0</td></tr><tr><td>Original Frankfurter grüne Soße</td><td>0.0</td></tr></tbody></table></div>"
      ]
     },
     "metadata": {
      "application/vnd.databricks.v1+output": {
       "addedWidgets": {},
       "aggData": [],
       "aggError": "",
       "aggOverflow": false,
       "aggSchema": [],
       "aggSeriesLimitReached": false,
       "aggType": "",
       "arguments": {},
       "columnCustomDisplayInfos": {},
       "data": [
        [
         "Jack's New England Clam Chowder",
         0.25
        ],
        [
         "Tarte au sucre",
         0.25
        ],
        [
         "Outback Lager",
         0.25
        ],
        [
         "Pavlova",
         0.25
        ],
        [
         "Nord-Ost Matjeshering",
         0.25
        ],
        [
         "Longlife Tofu",
         0.25
        ],
        [
         "Alice Mutton",
         0.25
        ],
        [
         "Schoggi Schokolade",
         0.25
        ],
        [
         "Camembert Pierrot",
         0.25
        ],
        [
         "Laughing Lumberjack Lager",
         0.25
        ],
        [
         "Inlagd Sill",
         0.25
        ],
        [
         "Raclette Courdavault",
         0.25
        ],
        [
         "Northwoods Cranberry Sauce",
         0.25
        ],
        [
         "Gnocchi di nonna Alice",
         0.25
        ],
        [
         "Sir Rodney's Marmalade",
         0.25
        ],
        [
         "Côte de Blaye",
         0.25
        ],
        [
         "Camembert Pierrot",
         0.25
        ],
        [
         "Mozzarella di Giovanni",
         0.25
        ],
        [
         "Chang",
         0.25
        ],
        [
         "Tofu",
         0.25
        ],
        [
         "NuNuCa Nuß-Nougat-Creme",
         0.25
        ],
        [
         "Gumbär Gummibärchen",
         0.25
        ],
        [
         "Spegesild",
         0.25
        ],
        [
         "Scottish Longbreads",
         0.25
        ],
        [
         "Pâté chinois",
         0.25
        ],
        [
         "Lakkalikööri",
         0.25
        ],
        [
         "Vegie-spread",
         0.25
        ],
        [
         "Alice Mutton",
         0.25
        ],
        [
         "Boston Crab Meat",
         0.25
        ],
        [
         "Zaanse koeken",
         0.25
        ],
        [
         "Scottish Longbreads",
         0.25
        ],
        [
         "Rhönbräu Klosterbier",
         0.25
        ],
        [
         "Sir Rodney's Scones",
         0.25
        ],
        [
         "Nord-Ost Matjeshering",
         0.25
        ],
        [
         "Pâté chinois",
         0.25
        ],
        [
         "Sir Rodney's Scones",
         0.25
        ],
        [
         "Chartreuse verte",
         0.25
        ],
        [
         "Tourtière",
         0.25
        ],
        [
         "Queso Cabrales",
         0.25
        ],
        [
         "Queso Manchego La Pastora",
         0.25
        ],
        [
         "Camembert Pierrot",
         0.25
        ],
        [
         "Sasquatch Ale",
         0.25
        ],
        [
         "Tarte au sucre",
         0.25
        ],
        [
         "Steeleye Stout",
         0.25
        ],
        [
         "Sirop d'érable",
         0.25
        ],
        [
         "Gudbrandsdalsost",
         0.25
        ],
        [
         "Original Frankfurter grüne Soße",
         0.25
        ],
        [
         "Inlagd Sill",
         0.25
        ],
        [
         "Gudbrandsdalsost",
         0.25
        ],
        [
         "Outback Lager",
         0.25
        ],
        [
         "Rössle Sauerkraut",
         0.25
        ],
        [
         "Chartreuse verte",
         0.25
        ],
        [
         "Spegesild",
         0.25
        ],
        [
         "Chai",
         0.25
        ],
        [
         "Ikura",
         0.25
        ],
        [
         "Flotemysost",
         0.25
        ],
        [
         "Original Frankfurter grüne Soße",
         0.25
        ],
        [
         "Teatime Chocolate Biscuits",
         0.25
        ],
        [
         "Gustaf's Knäckebröd",
         0.25
        ],
        [
         "Nord-Ost Matjeshering",
         0.25
        ],
        [
         "Pavlova",
         0.25
        ],
        [
         "Gorgonzola Telino",
         0.25
        ],
        [
         "Singaporean Hokkien Fried Mee",
         0.25
        ],
        [
         "Mishi Kobe Niku",
         0.25
        ],
        [
         "Inlagd Sill",
         0.25
        ],
        [
         "Chai",
         0.25
        ],
        [
         "Gnocchi di nonna Alice",
         0.25
        ],
        [
         "Original Frankfurter grüne Soße",
         0.25
        ],
        [
         "Teatime Chocolate Biscuits",
         0.25
        ],
        [
         "Steeleye Stout",
         0.25
        ],
        [
         "Escargots de Bourgogne",
         0.25
        ],
        [
         "Outback Lager",
         0.25
        ],
        [
         "Chang",
         0.25
        ],
        [
         "Alice Mutton",
         0.25
        ],
        [
         "Zaanse koeken",
         0.25
        ],
        [
         "Gnocchi di nonna Alice",
         0.25
        ],
        [
         "Escargots de Bourgogne",
         0.25
        ],
        [
         "Carnarvon Tigers",
         0.25
        ],
        [
         "Nord-Ost Matjeshering",
         0.25
        ],
        [
         "Tourtière",
         0.25
        ],
        [
         "Zaanse koeken",
         0.25
        ],
        [
         "Gnocchi di nonna Alice",
         0.25
        ],
        [
         "Ravioli Angelo",
         0.25
        ],
        [
         "Gudbrandsdalsost",
         0.25
        ],
        [
         "NuNuCa Nuß-Nougat-Creme",
         0.25
        ],
        [
         "Ipoh Coffee",
         0.25
        ],
        [
         "NuNuCa Nuß-Nougat-Creme",
         0.25
        ],
        [
         "Queso Cabrales",
         0.25
        ],
        [
         "Gorgonzola Telino",
         0.25
        ],
        [
         "Alice Mutton",
         0.25
        ],
        [
         "Alice Mutton",
         0.25
        ],
        [
         "Thüringer Rostbratwurst",
         0.25
        ],
        [
         "Nord-Ost Matjeshering",
         0.25
        ],
        [
         "Manjimup Dried Apples",
         0.25
        ],
        [
         "Pâté chinois",
         0.25
        ],
        [
         "Tarte au sucre",
         0.25
        ],
        [
         "Chang",
         0.25
        ],
        [
         "Longlife Tofu",
         0.25
        ],
        [
         "Zaanse koeken",
         0.25
        ],
        [
         "Lakkalikööri",
         0.25
        ],
        [
         "Chai",
         0.25
        ],
        [
         "Carnarvon Tigers",
         0.25
        ],
        [
         "Inlagd Sill",
         0.25
        ],
        [
         "Manjimup Dried Apples",
         0.25
        ],
        [
         "Gumbär Gummibärchen",
         0.25
        ],
        [
         "Thüringer Rostbratwurst",
         0.25
        ],
        [
         "Guaraná Fantástica",
         0.25
        ],
        [
         "Tourtière",
         0.25
        ],
        [
         "Wimmers gute Semmelknödel",
         0.25
        ],
        [
         "Chang",
         0.25
        ],
        [
         "Guaraná Fantástica",
         0.25
        ],
        [
         "Nord-Ost Matjeshering",
         0.25
        ],
        [
         "Pavlova",
         0.25
        ],
        [
         "Outback Lager",
         0.25
        ],
        [
         "Queso Cabrales",
         0.25
        ],
        [
         "Thüringer Rostbratwurst",
         0.25
        ],
        [
         "Chef Anton's Cajun Seasoning",
         0.25
        ],
        [
         "Geitost",
         0.25
        ],
        [
         "Chai",
         0.25
        ],
        [
         "Camembert Pierrot",
         0.25
        ],
        [
         "Carnarvon Tigers",
         0.25
        ],
        [
         "Tunnbröd",
         0.25
        ],
        [
         "Konbu",
         0.25
        ],
        [
         "Ipoh Coffee",
         0.25
        ],
        [
         "Camembert Pierrot",
         0.25
        ],
        [
         "Flotemysost",
         0.25
        ],
        [
         "Gorgonzola Telino",
         0.25
        ],
        [
         "Tarte au sucre",
         0.25
        ],
        [
         "Scottish Longbreads",
         0.25
        ],
        [
         "Queso Cabrales",
         0.25
        ],
        [
         "Gula Malacca",
         0.25
        ],
        [
         "Guaraná Fantástica",
         0.25
        ],
        [
         "Thüringer Rostbratwurst",
         0.25
        ],
        [
         "Jack's New England Clam Chowder",
         0.25
        ],
        [
         "Spegesild",
         0.25
        ],
        [
         "Filo Mix",
         0.25
        ],
        [
         "Chef Anton's Cajun Seasoning",
         0.25
        ],
        [
         "Guaraná Fantástica",
         0.25
        ],
        [
         "Thüringer Rostbratwurst",
         0.25
        ],
        [
         "Inlagd Sill",
         0.25
        ],
        [
         "Chang",
         0.25
        ],
        [
         "Manjimup Dried Apples",
         0.25
        ],
        [
         "Guaraná Fantástica",
         0.25
        ],
        [
         "Tarte au sucre",
         0.25
        ],
        [
         "Chang",
         0.25
        ],
        [
         "Thüringer Rostbratwurst",
         0.25
        ],
        [
         "Raclette Courdavault",
         0.25
        ],
        [
         "Chai",
         0.25
        ],
        [
         "Chef Anton's Gumbo Mix",
         0.25
        ],
        [
         "Nord-Ost Matjeshering",
         0.25
        ],
        [
         "Tourtière",
         0.25
        ],
        [
         "Grandma's Boysenberry Spread",
         0.25
        ],
        [
         "Tofu",
         0.25
        ],
        [
         "Teatime Chocolate Biscuits",
         0.25
        ],
        [
         "Chang",
         0.2
        ],
        [
         "Chef Anton's Gumbo Mix",
         0.2
        ],
        [
         "Mascarpone Fabioli",
         0.2
        ],
        [
         "Chef Anton's Gumbo Mix",
         0.2
        ],
        [
         "Chai",
         0.2
        ],
        [
         "Boston Crab Meat",
         0.2
        ],
        [
         "Perth Pasties",
         0.2
        ],
        [
         "Chang",
         0.2
        ],
        [
         "Queso Cabrales",
         0.2
        ],
        [
         "Nord-Ost Matjeshering",
         0.2
        ],
        [
         "Escargots de Bourgogne",
         0.2
        ],
        [
         "Carnarvon Tigers",
         0.2
        ],
        [
         "Singaporean Hokkien Fried Mee",
         0.2
        ],
        [
         "Zaanse koeken",
         0.2
        ],
        [
         "Chang",
         0.2
        ],
        [
         "Gorgonzola Telino",
         0.2
        ],
        [
         "Mascarpone Fabioli",
         0.2
        ],
        [
         "Manjimup Dried Apples",
         0.2
        ],
        [
         "Chang",
         0.2
        ],
        [
         "Gorgonzola Telino",
         0.2
        ],
        [
         "Inlagd Sill",
         0.2
        ],
        [
         "Pâté chinois",
         0.2
        ],
        [
         "Queso Cabrales",
         0.2
        ],
        [
         "Côte de Blaye",
         0.2
        ],
        [
         "Ikura",
         0.2
        ],
        [
         "Camembert Pierrot",
         0.2
        ],
        [
         "Inlagd Sill",
         0.2
        ],
        [
         "Escargots de Bourgogne",
         0.2
        ],
        [
         "Flotemysost",
         0.2
        ],
        [
         "Uncle Bob's Organic Dried Pears",
         0.2
        ],
        [
         "Camembert Pierrot",
         0.2
        ],
        [
         "Scottish Longbreads",
         0.2
        ],
        [
         "Rogede sild",
         0.2
        ],
        [
         "Filo Mix",
         0.2
        ],
        [
         "Jack's New England Clam Chowder",
         0.2
        ],
        [
         "Gula Malacca",
         0.2
        ],
        [
         "Raclette Courdavault",
         0.2
        ],
        [
         "Steeleye Stout",
         0.2
        ],
        [
         "Côte de Blaye",
         0.2
        ],
        [
         "Scottish Longbreads",
         0.2
        ],
        [
         "Alice Mutton",
         0.2
        ],
        [
         "Raclette Courdavault",
         0.2
        ],
        [
         "Teatime Chocolate Biscuits",
         0.2
        ],
        [
         "Sasquatch Ale",
         0.2
        ],
        [
         "Ravioli Angelo",
         0.2
        ],
        [
         "Queso Cabrales",
         0.2
        ],
        [
         "Ikura",
         0.2
        ],
        [
         "Tourtière",
         0.2
        ],
        [
         "Pavlova",
         0.2
        ],
        [
         "Geitost",
         0.2
        ],
        [
         "Spegesild",
         0.2
        ],
        [
         "Chef Anton's Cajun Seasoning",
         0.2
        ],
        [
         "Gnocchi di nonna Alice",
         0.2
        ],
        [
         "Röd Kaviar",
         0.2
        ],
        [
         "Sir Rodney's Scones",
         0.2
        ],
        [
         "Mascarpone Fabioli",
         0.2
        ],
        [
         "Sirop d'érable",
         0.2
        ],
        [
         "Chai",
         0.2
        ],
        [
         "Nord-Ost Matjeshering",
         0.2
        ],
        [
         "Boston Crab Meat",
         0.2
        ],
        [
         "Geitost",
         0.2
        ],
        [
         "Boston Crab Meat",
         0.2
        ],
        [
         "Tourtière",
         0.2
        ],
        [
         "Tofu",
         0.2
        ],
        [
         "Teatime Chocolate Biscuits",
         0.2
        ],
        [
         "Guaraná Fantástica",
         0.2
        ],
        [
         "Manjimup Dried Apples",
         0.2
        ],
        [
         "Gnocchi di nonna Alice",
         0.2
        ],
        [
         "Gorgonzola Telino",
         0.2
        ],
        [
         "Raclette Courdavault",
         0.2
        ],
        [
         "Gorgonzola Telino",
         0.2
        ],
        [
         "Rhönbräu Klosterbier",
         0.2
        ],
        [
         "Carnarvon Tigers",
         0.2
        ],
        [
         "Singaporean Hokkien Fried Mee",
         0.2
        ],
        [
         "Sir Rodney's Marmalade",
         0.2
        ],
        [
         "Gudbrandsdalsost",
         0.2
        ],
        [
         "Lakkalikööri",
         0.2
        ],
        [
         "Gnocchi di nonna Alice",
         0.2
        ],
        [
         "Vegie-spread",
         0.2
        ],
        [
         "Rhönbräu Klosterbier",
         0.2
        ],
        [
         "Guaraná Fantástica",
         0.2
        ],
        [
         "Louisiana Fiery Hot Pepper Sauce",
         0.2
        ],
        [
         "Chef Anton's Cajun Seasoning",
         0.2
        ],
        [
         "Pâté chinois",
         0.2
        ],
        [
         "Tarte au sucre",
         0.2
        ],
        [
         "Scottish Longbreads",
         0.2
        ],
        [
         "Sir Rodney's Scones",
         0.2
        ],
        [
         "Sirop d'érable",
         0.2
        ],
        [
         "Jack's New England Clam Chowder",
         0.2
        ],
        [
         "Chartreuse verte",
         0.2
        ],
        [
         "Escargots de Bourgogne",
         0.2
        ],
        [
         "Gudbrandsdalsost",
         0.2
        ],
        [
         "Flotemysost",
         0.2
        ],
        [
         "Alice Mutton",
         0.2
        ],
        [
         "Chai",
         0.2
        ],
        [
         "Sasquatch Ale",
         0.2
        ],
        [
         "Scottish Longbreads",
         0.2
        ],
        [
         "Flotemysost",
         0.2
        ],
        [
         "Rössle Sauerkraut",
         0.2
        ],
        [
         "Steeleye Stout",
         0.2
        ],
        [
         "Rogede sild",
         0.2
        ],
        [
         "Gnocchi di nonna Alice",
         0.2
        ],
        [
         "Chang",
         0.2
        ],
        [
         "Boston Crab Meat",
         0.2
        ],
        [
         "Carnarvon Tigers",
         0.2
        ],
        [
         "Inlagd Sill",
         0.2
        ],
        [
         "Scottish Longbreads",
         0.2
        ],
        [
         "Gudbrandsdalsost",
         0.2
        ],
        [
         "Gorgonzola Telino",
         0.2
        ],
        [
         "Rhönbräu Klosterbier",
         0.2
        ],
        [
         "Singaporean Hokkien Fried Mee",
         0.2
        ],
        [
         "Tourtière",
         0.2
        ],
        [
         "Gnocchi di nonna Alice",
         0.2
        ],
        [
         "Northwoods Cranberry Sauce",
         0.2
        ],
        [
         "Nord-Ost Matjeshering",
         0.2
        ],
        [
         "Rhönbräu Klosterbier",
         0.2
        ],
        [
         "Tofu",
         0.2
        ],
        [
         "Tourtière",
         0.2
        ],
        [
         "Gumbär Gummibärchen",
         0.2
        ],
        [
         "Wimmers gute Semmelknödel",
         0.2
        ],
        [
         "Gudbrandsdalsost",
         0.2
        ],
        [
         "Chang",
         0.2
        ],
        [
         "Konbu",
         0.2
        ],
        [
         "NuNuCa Nuß-Nougat-Creme",
         0.2
        ],
        [
         "Gula Malacca",
         0.2
        ],
        [
         "Original Frankfurter grüne Soße",
         0.2
        ],
        [
         "NuNuCa Nuß-Nougat-Creme",
         0.2
        ],
        [
         "Chartreuse verte",
         0.2
        ],
        [
         "Chai",
         0.2
        ],
        [
         "Teatime Chocolate Biscuits",
         0.2
        ],
        [
         "Gravad lax",
         0.2
        ],
        [
         "Rogede sild",
         0.2
        ],
        [
         "Camembert Pierrot",
         0.2
        ],
        [
         "Flotemysost",
         0.2
        ],
        [
         "Tunnbröd",
         0.2
        ],
        [
         "Sirop d'érable",
         0.2
        ],
        [
         "Outback Lager",
         0.2
        ],
        [
         "Singaporean Hokkien Fried Mee",
         0.2
        ],
        [
         "Ipoh Coffee",
         0.2
        ],
        [
         "Laughing Lumberjack Lager",
         0.2
        ],
        [
         "Pâté chinois",
         0.2
        ],
        [
         "Escargots de Bourgogne",
         0.2
        ],
        [
         "Inlagd Sill",
         0.2
        ],
        [
         "Rhönbräu Klosterbier",
         0.2
        ],
        [
         "Filo Mix",
         0.2
        ],
        [
         "Rhönbräu Klosterbier",
         0.2
        ],
        [
         "Chang",
         0.2
        ],
        [
         "Outback Lager",
         0.2
        ],
        [
         "Lakkalikööri",
         0.2
        ],
        [
         "Boston Crab Meat",
         0.2
        ],
        [
         "Chang",
         0.2
        ],
        [
         "Chang",
         0.2
        ],
        [
         "Queso Manchego La Pastora",
         0.2
        ],
        [
         "Guaraná Fantástica",
         0.2
        ],
        [
         "Ipoh Coffee",
         0.2
        ],
        [
         "Sirop d'érable",
         0.2
        ],
        [
         "Carnarvon Tigers",
         0.2
        ],
        [
         "Wimmers gute Semmelknödel",
         0.2
        ],
        [
         "Perth Pasties",
         0.2
        ],
        [
         "Outback Lager",
         0.2
        ],
        [
         "Chang",
         0.2
        ],
        [
         "Manjimup Dried Apples",
         0.15
        ],
        [
         "Louisiana Fiery Hot Pepper Sauce",
         0.15
        ],
        [
         "Guaraná Fantástica",
         0.15
        ],
        [
         "Pâté chinois",
         0.15
        ],
        [
         "Jack's New England Clam Chowder",
         0.15
        ],
        [
         "Raclette Courdavault",
         0.15
        ],
        [
         "Lakkalikööri",
         0.15
        ],
        [
         "Pavlova",
         0.15
        ],
        [
         "Spegesild",
         0.15
        ],
        [
         "Pavlova",
         0.15
        ],
        [
         "Steeleye Stout",
         0.15
        ],
        [
         "Raclette Courdavault",
         0.15
        ],
        [
         "Vegie-spread",
         0.15
        ],
        [
         "Gumbär Gummibärchen",
         0.15
        ],
        [
         "Mozzarella di Giovanni",
         0.15
        ],
        [
         "Raclette Courdavault",
         0.15
        ],
        [
         "Chartreuse verte",
         0.15
        ],
        [
         "Rhönbräu Klosterbier",
         0.15
        ],
        [
         "Chai",
         0.15
        ],
        [
         "Tourtière",
         0.15
        ],
        [
         "Chai",
         0.15
        ],
        [
         "Longlife Tofu",
         0.15
        ],
        [
         "Rössle Sauerkraut",
         0.15
        ],
        [
         "Chartreuse verte",
         0.15
        ],
        [
         "Sir Rodney's Scones",
         0.15
        ],
        [
         "Manjimup Dried Apples",
         0.15
        ],
        [
         "Pavlova",
         0.15
        ],
        [
         "Chocolade",
         0.15
        ],
        [
         "Teatime Chocolate Biscuits",
         0.15
        ],
        [
         "Perth Pasties",
         0.15
        ],
        [
         "Original Frankfurter grüne Soße",
         0.15
        ],
        [
         "Lakkalikööri",
         0.15
        ],
        [
         "Chang",
         0.15
        ],
        [
         "Pavlova",
         0.15
        ],
        [
         "Thüringer Rostbratwurst",
         0.15
        ],
        [
         "Sirop d'érable",
         0.15
        ],
        [
         "Sir Rodney's Scones",
         0.15
        ],
        [
         "Maxilaku",
         0.15
        ],
        [
         "Chang",
         0.15
        ],
        [
         "Pavlova",
         0.15
        ],
        [
         "Gula Malacca",
         0.15
        ],
        [
         "Gorgonzola Telino",
         0.15
        ],
        [
         "Louisiana Hot Spiced Okra",
         0.15
        ],
        [
         "Lakkalikööri",
         0.15
        ],
        [
         "Gula Malacca",
         0.15
        ],
        [
         "Original Frankfurter grüne Soße",
         0.15
        ],
        [
         "Ipoh Coffee",
         0.15
        ],
        [
         "Chocolade",
         0.15
        ],
        [
         "Chef Anton's Cajun Seasoning",
         0.15
        ],
        [
         "Uncle Bob's Organic Dried Pears",
         0.15
        ],
        [
         "Northwoods Cranberry Sauce",
         0.15
        ],
        [
         "Guaraná Fantástica",
         0.15
        ],
        [
         "Spegesild",
         0.15
        ],
        [
         "Zaanse koeken",
         0.15
        ],
        [
         "Camembert Pierrot",
         0.15
        ],
        [
         "Mishi Kobe Niku",
         0.15
        ],
        [
         "Geitost",
         0.15
        ],
        [
         "Camembert Pierrot",
         0.15
        ],
        [
         "Chai",
         0.15
        ],
        [
         "Gnocchi di nonna Alice",
         0.15
        ],
        [
         "Queso Manchego La Pastora",
         0.15
        ],
        [
         "Tunnbröd",
         0.15
        ],
        [
         "Mascarpone Fabioli",
         0.15
        ],
        [
         "Gorgonzola Telino",
         0.15
        ],
        [
         "Rogede sild",
         0.15
        ],
        [
         "Manjimup Dried Apples",
         0.15
        ],
        [
         "Pavlova",
         0.15
        ],
        [
         "Steeleye Stout",
         0.15
        ],
        [
         "Queso Cabrales",
         0.15
        ],
        [
         "Carnarvon Tigers",
         0.15
        ],
        [
         "Tofu",
         0.15
        ],
        [
         "Singaporean Hokkien Fried Mee",
         0.15
        ],
        [
         "Camembert Pierrot",
         0.15
        ],
        [
         "Gudbrandsdalsost",
         0.15
        ],
        [
         "Filo Mix",
         0.15
        ],
        [
         "Raclette Courdavault",
         0.15
        ],
        [
         "Röd Kaviar",
         0.15
        ],
        [
         "Queso Manchego La Pastora",
         0.15
        ],
        [
         "Konbu",
         0.15
        ],
        [
         "Gumbär Gummibärchen",
         0.15
        ],
        [
         "Tarte au sucre",
         0.15
        ],
        [
         "Guaraná Fantástica",
         0.15
        ],
        [
         "Ikura",
         0.15
        ],
        [
         "Gnocchi di nonna Alice",
         0.15
        ],
        [
         "Louisiana Fiery Hot Pepper Sauce",
         0.15
        ],
        [
         "Gumbär Gummibärchen",
         0.15
        ],
        [
         "Geitost",
         0.15
        ],
        [
         "Tourtière",
         0.15
        ],
        [
         "Gudbrandsdalsost",
         0.15
        ],
        [
         "Röd Kaviar",
         0.15
        ],
        [
         "Raclette Courdavault",
         0.15
        ],
        [
         "Flotemysost",
         0.15
        ],
        [
         "Lakkalikööri",
         0.15
        ],
        [
         "Outback Lager",
         0.15
        ],
        [
         "Tofu",
         0.15
        ],
        [
         "Rogede sild",
         0.15
        ],
        [
         "Raclette Courdavault",
         0.15
        ],
        [
         "Chartreuse verte",
         0.15
        ],
        [
         "Mozzarella di Giovanni",
         0.15
        ],
        [
         "Uncle Bob's Organic Dried Pears",
         0.15
        ],
        [
         "Gnocchi di nonna Alice",
         0.15
        ],
        [
         "Konbu",
         0.15
        ],
        [
         "Guaraná Fantástica",
         0.15
        ],
        [
         "Maxilaku",
         0.15
        ],
        [
         "Gnocchi di nonna Alice",
         0.15
        ],
        [
         "Lakkalikööri",
         0.15
        ],
        [
         "Ipoh Coffee",
         0.15
        ],
        [
         "Chocolade",
         0.15
        ],
        [
         "Sirop d'érable",
         0.15
        ],
        [
         "Gumbär Gummibärchen",
         0.15
        ],
        [
         "Boston Crab Meat",
         0.15
        ],
        [
         "Tarte au sucre",
         0.15
        ],
        [
         "Gumbär Gummibärchen",
         0.15
        ],
        [
         "NuNuCa Nuß-Nougat-Creme",
         0.15
        ],
        [
         "Geitost",
         0.15
        ],
        [
         "Outback Lager",
         0.15
        ],
        [
         "Ikura",
         0.15
        ],
        [
         "Konbu",
         0.15
        ],
        [
         "Louisiana Fiery Hot Pepper Sauce",
         0.15
        ],
        [
         "Chai",
         0.15
        ],
        [
         "Escargots de Bourgogne",
         0.15
        ],
        [
         "Maxilaku",
         0.15
        ],
        [
         "Tourtière",
         0.15
        ],
        [
         "Chartreuse verte",
         0.15
        ],
        [
         "Pâté chinois",
         0.15
        ],
        [
         "Tarte au sucre",
         0.15
        ],
        [
         "Inlagd Sill",
         0.15
        ],
        [
         "Filo Mix",
         0.15
        ],
        [
         "Konbu",
         0.15
        ],
        [
         "Chang",
         0.15
        ],
        [
         "Laughing Lumberjack Lager",
         0.15
        ],
        [
         "Pavlova",
         0.15
        ],
        [
         "Gorgonzola Telino",
         0.15
        ],
        [
         "Camembert Pierrot",
         0.15
        ],
        [
         "Rhönbräu Klosterbier",
         0.15
        ],
        [
         "Camembert Pierrot",
         0.15
        ],
        [
         "Gnocchi di nonna Alice",
         0.15
        ],
        [
         "Tarte au sucre",
         0.15
        ],
        [
         "Northwoods Cranberry Sauce",
         0.15
        ],
        [
         "Sir Rodney's Scones",
         0.15
        ],
        [
         "Gula Malacca",
         0.15
        ],
        [
         "Konbu",
         0.15
        ],
        [
         "Sasquatch Ale",
         0.15
        ],
        [
         "Pâté chinois",
         0.15
        ],
        [
         "Sirop d'érable",
         0.15
        ],
        [
         "Steeleye Stout",
         0.15
        ],
        [
         "Singaporean Hokkien Fried Mee",
         0.15
        ],
        [
         "Ikura",
         0.15
        ],
        [
         "Rössle Sauerkraut",
         0.15
        ],
        [
         "Ipoh Coffee",
         0.15
        ],
        [
         "Original Frankfurter grüne Soße",
         0.15
        ],
        [
         "Chai",
         0.15
        ],
        [
         "Chang",
         0.15
        ],
        [
         "Pavlova",
         0.15
        ],
        [
         "Chang",
         0.15
        ],
        [
         "Spegesild",
         0.15
        ],
        [
         "Lakkalikööri",
         0.15
        ],
        [
         "Tourtière",
         0.1
        ],
        [
         "Scottish Longbreads",
         0.1
        ],
        [
         "Konbu",
         0.1
        ],
        [
         "Gula Malacca",
         0.1
        ],
        [
         "Manjimup Dried Apples",
         0.1
        ],
        [
         "Boston Crab Meat",
         0.1
        ],
        [
         "Louisiana Fiery Hot Pepper Sauce",
         0.1
        ],
        [
         "Scottish Longbreads",
         0.1
        ],
        [
         "Carnarvon Tigers",
         0.1
        ],
        [
         "Thüringer Rostbratwurst",
         0.1
        ],
        [
         "Chartreuse verte",
         0.1
        ],
        [
         "Mascarpone Fabioli",
         0.1
        ],
        [
         "Escargots de Bourgogne",
         0.1
        ],
        [
         "Tarte au sucre",
         0.1
        ],
        [
         "Sir Rodney's Scones",
         0.1
        ],
        [
         "Flotemysost",
         0.1
        ],
        [
         "Chef Anton's Cajun Seasoning",
         0.1
        ],
        [
         "Alice Mutton",
         0.1
        ],
        [
         "Valkoinen suklaa",
         0.1
        ],
        [
         "Gudbrandsdalsost",
         0.1
        ],
        [
         "Chartreuse verte",
         0.1
        ],
        [
         "Camembert Pierrot",
         0.1
        ],
        [
         "Sir Rodney's Scones",
         0.1
        ],
        [
         "Rössle Sauerkraut",
         0.1
        ],
        [
         "Wimmers gute Semmelknödel",
         0.1
        ],
        [
         "Jack's New England Clam Chowder",
         0.1
        ],
        [
         "Vegie-spread",
         0.1
        ],
        [
         "Louisiana Fiery Hot Pepper Sauce",
         0.1
        ],
        [
         "Nord-Ost Matjeshering",
         0.1
        ],
        [
         "Perth Pasties",
         0.1
        ],
        [
         "Camembert Pierrot",
         0.1
        ],
        [
         "Gorgonzola Telino",
         0.1
        ],
        [
         "Steeleye Stout",
         0.1
        ],
        [
         "Mozzarella di Giovanni",
         0.1
        ],
        [
         "Spegesild",
         0.1
        ],
        [
         "Perth Pasties",
         0.1
        ],
        [
         "Pâté chinois",
         0.1
        ],
        [
         "Sir Rodney's Scones",
         0.1
        ],
        [
         "Rössle Sauerkraut",
         0.1
        ],
        [
         "Inlagd Sill",
         0.1
        ],
        [
         "Boston Crab Meat",
         0.1
        ],
        [
         "Tofu",
         0.1
        ],
        [
         "Mishi Kobe Niku",
         0.1
        ],
        [
         "Konbu",
         0.1
        ],
        [
         "Outback Lager",
         0.1
        ],
        [
         "Röd Kaviar",
         0.1
        ],
        [
         "Gnocchi di nonna Alice",
         0.1
        ],
        [
         "Wimmers gute Semmelknödel",
         0.1
        ],
        [
         "Rhönbräu Klosterbier",
         0.1
        ],
        [
         "Teatime Chocolate Biscuits",
         0.1
        ],
        [
         "Guaraná Fantástica",
         0.1
        ],
        [
         "Gorgonzola Telino",
         0.1
        ],
        [
         "Filo Mix",
         0.1
        ],
        [
         "Pâté chinois",
         0.1
        ],
        [
         "Wimmers gute Semmelknödel",
         0.1
        ],
        [
         "Louisiana Fiery Hot Pepper Sauce",
         0.1
        ],
        [
         "Original Frankfurter grüne Soße",
         0.1
        ],
        [
         "Chocolade",
         0.1
        ],
        [
         "Outback Lager",
         0.1
        ],
        [
         "Thüringer Rostbratwurst",
         0.1
        ],
        [
         "Rogede sild",
         0.1
        ],
        [
         "Chang",
         0.1
        ],
        [
         "Aniseed Syrup",
         0.1
        ],
        [
         "Pâté chinois",
         0.1
        ],
        [
         "Outback Lager",
         0.1
        ],
        [
         "Louisiana Fiery Hot Pepper Sauce",
         0.1
        ],
        [
         "Louisiana Hot Spiced Okra",
         0.1
        ],
        [
         "Gudbrandsdalsost",
         0.1
        ],
        [
         "NuNuCa Nuß-Nougat-Creme",
         0.1
        ],
        [
         "Outback Lager",
         0.1
        ],
        [
         "Rhönbräu Klosterbier",
         0.1
        ],
        [
         "Carnarvon Tigers",
         0.1
        ],
        [
         "Jack's New England Clam Chowder",
         0.1
        ],
        [
         "Alice Mutton",
         0.1
        ],
        [
         "Sir Rodney's Marmalade",
         0.1
        ],
        [
         "Gravad lax",
         0.1
        ],
        [
         "Jack's New England Clam Chowder",
         0.1
        ],
        [
         "Boston Crab Meat",
         0.1
        ],
        [
         "Chef Anton's Cajun Seasoning",
         0.1
        ],
        [
         "Inlagd Sill",
         0.1
        ],
        [
         "Queso Cabrales",
         0.1
        ],
        [
         "Boston Crab Meat",
         0.1
        ],
        [
         "Ravioli Angelo",
         0.1
        ],
        [
         "Raclette Courdavault",
         0.1
        ],
        [
         "Guaraná Fantástica",
         0.1
        ],
        [
         "Côte de Blaye",
         0.1
        ],
        [
         "Louisiana Fiery Hot Pepper Sauce",
         0.1
        ],
        [
         "Flotemysost",
         0.1
        ],
        [
         "Alice Mutton",
         0.1
        ],
        [
         "Sir Rodney's Scones",
         0.1
        ],
        [
         "Sirop d'érable",
         0.1
        ],
        [
         "Geitost",
         0.1
        ],
        [
         "Tarte au sucre",
         0.1
        ],
        [
         "Guaraná Fantástica",
         0.1
        ],
        [
         "Wimmers gute Semmelknödel",
         0.1
        ],
        [
         "Pavlova",
         0.1
        ],
        [
         "Mascarpone Fabioli",
         0.1
        ],
        [
         "Rhönbräu Klosterbier",
         0.1
        ],
        [
         "Chocolade",
         0.1
        ],
        [
         "Lakkalikööri",
         0.1
        ],
        [
         "Konbu",
         0.1
        ],
        [
         "Teatime Chocolate Biscuits",
         0.1
        ],
        [
         "Sir Rodney's Scones",
         0.1
        ],
        [
         "Steeleye Stout",
         0.1
        ],
        [
         "Rhönbräu Klosterbier",
         0.1
        ],
        [
         "Chef Anton's Cajun Seasoning",
         0.1
        ],
        [
         "Chef Anton's Gumbo Mix",
         0.1
        ],
        [
         "Carnarvon Tigers",
         0.1
        ],
        [
         "Spegesild",
         0.1
        ],
        [
         "Pavlova",
         0.1
        ],
        [
         "Camembert Pierrot",
         0.1
        ],
        [
         "Chef Anton's Cajun Seasoning",
         0.1
        ],
        [
         "Chartreuse verte",
         0.1
        ],
        [
         "Tourtière",
         0.1
        ],
        [
         "Tofu",
         0.1
        ],
        [
         "Gula Malacca",
         0.1
        ],
        [
         "Zaanse koeken",
         0.1
        ],
        [
         "Gorgonzola Telino",
         0.1
        ],
        [
         "Pâté chinois",
         0.1
        ],
        [
         "Wimmers gute Semmelknödel",
         0.1
        ],
        [
         "Côte de Blaye",
         0.1
        ],
        [
         "Teatime Chocolate Biscuits",
         0.1
        ],
        [
         "Sir Rodney's Scones",
         0.1
        ],
        [
         "Ikura",
         0.1
        ],
        [
         "Rössle Sauerkraut",
         0.1
        ],
        [
         "Sirop d'érable",
         0.1
        ],
        [
         "Original Frankfurter grüne Soße",
         0.1
        ],
        [
         "Gumbär Gummibärchen",
         0.1
        ],
        [
         "Valkoinen suklaa",
         0.1
        ],
        [
         "Aniseed Syrup",
         0.1
        ],
        [
         "Chartreuse verte",
         0.1
        ],
        [
         "Louisiana Fiery Hot Pepper Sauce",
         0.1
        ],
        [
         "Queso Cabrales",
         0.1
        ],
        [
         "Manjimup Dried Apples",
         0.1
        ],
        [
         "Tourtière",
         0.1
        ],
        [
         "Gorgonzola Telino",
         0.1
        ],
        [
         "Mozzarella di Giovanni",
         0.1
        ],
        [
         "Queso Cabrales",
         0.1
        ],
        [
         "Raclette Courdavault",
         0.1
        ],
        [
         "Original Frankfurter grüne Soße",
         0.1
        ],
        [
         "Uncle Bob's Organic Dried Pears",
         0.1
        ],
        [
         "Gorgonzola Telino",
         0.1
        ],
        [
         "Perth Pasties",
         0.1
        ],
        [
         "Escargots de Bourgogne",
         0.1
        ],
        [
         "Mozzarella di Giovanni",
         0.1
        ],
        [
         "Tunnbröd",
         0.1
        ],
        [
         "Steeleye Stout",
         0.1
        ],
        [
         "Singaporean Hokkien Fried Mee",
         0.1
        ],
        [
         "Escargots de Bourgogne",
         0.1
        ],
        [
         "Maxilaku",
         0.1
        ],
        [
         "Zaanse koeken",
         0.1
        ],
        [
         "Ikura",
         0.1
        ],
        [
         "Rössle Sauerkraut",
         0.1
        ],
        [
         "Pavlova",
         0.1
        ],
        [
         "Tarte au sucre",
         0.1
        ],
        [
         "Rhönbräu Klosterbier",
         0.1
        ],
        [
         "Pavlova",
         0.1
        ],
        [
         "Carnarvon Tigers",
         0.1
        ],
        [
         "Mascarpone Fabioli",
         0.1
        ],
        [
         "Tarte au sucre",
         0.1
        ],
        [
         "Jack's New England Clam Chowder",
         0.1
        ],
        [
         "Chai",
         0.1
        ],
        [
         "Konbu",
         0.1
        ],
        [
         "Perth Pasties",
         0.1
        ],
        [
         "Gudbrandsdalsost",
         0.1
        ],
        [
         "Sir Rodney's Scones",
         0.1
        ],
        [
         "Lakkalikööri",
         0.1
        ],
        [
         "Boston Crab Meat",
         0.1
        ],
        [
         "Jack's New England Clam Chowder",
         0.1
        ],
        [
         "Alice Mutton",
         0.1
        ],
        [
         "Perth Pasties",
         0.1
        ],
        [
         "Pâté chinois",
         0.1
        ],
        [
         "Northwoods Cranberry Sauce",
         0.1
        ],
        [
         "Camembert Pierrot",
         0.06
        ],
        [
         "Gustaf's Knäckebröd",
         0.05
        ],
        [
         "Ravioli Angelo",
         0.05
        ],
        [
         "Sir Rodney's Marmalade",
         0.05
        ],
        [
         "Geitost",
         0.05
        ],
        [
         "Queso Manchego La Pastora",
         0.05
        ],
        [
         "Geitost",
         0.05
        ],
        [
         "Mozzarella di Giovanni",
         0.05
        ],
        [
         "Ikura",
         0.05
        ],
        [
         "Gorgonzola Telino",
         0.05
        ],
        [
         "Boston Crab Meat",
         0.05
        ],
        [
         "Lakkalikööri",
         0.05
        ],
        [
         "Guaraná Fantástica",
         0.05
        ],
        [
         "Raclette Courdavault",
         0.05
        ],
        [
         "Teatime Chocolate Biscuits",
         0.05
        ],
        [
         "Nord-Ost Matjeshering",
         0.05
        ],
        [
         "Côte de Blaye",
         0.05
        ],
        [
         "Gnocchi di nonna Alice",
         0.05
        ],
        [
         "Alice Mutton",
         0.05
        ],
        [
         "Carnarvon Tigers",
         0.05
        ],
        [
         "Jack's New England Clam Chowder",
         0.05
        ],
        [
         "Ipoh Coffee",
         0.05
        ],
        [
         "Scottish Longbreads",
         0.05
        ],
        [
         "Côte de Blaye",
         0.05
        ],
        [
         "Gula Malacca",
         0.05
        ],
        [
         "Louisiana Fiery Hot Pepper Sauce",
         0.05
        ],
        [
         "Guaraná Fantástica",
         0.05
        ],
        [
         "Sasquatch Ale",
         0.05
        ],
        [
         "Inlagd Sill",
         0.05
        ],
        [
         "Pavlova",
         0.05
        ],
        [
         "Gorgonzola Telino",
         0.05
        ],
        [
         "Camembert Pierrot",
         0.05
        ],
        [
         "Gorgonzola Telino",
         0.05
        ],
        [
         "Gumbär Gummibärchen",
         0.05
        ],
        [
         "Singaporean Hokkien Fried Mee",
         0.05
        ],
        [
         "Maxilaku",
         0.05
        ],
        [
         "Teatime Chocolate Biscuits",
         0.05
        ],
        [
         "Camembert Pierrot",
         0.05
        ],
        [
         "Gudbrandsdalsost",
         0.05
        ],
        [
         "Gula Malacca",
         0.05
        ],
        [
         "Uncle Bob's Organic Dried Pears",
         0.05
        ],
        [
         "Spegesild",
         0.05
        ],
        [
         "Guaraná Fantástica",
         0.05
        ],
        [
         "Pâté chinois",
         0.05
        ],
        [
         "Ikura",
         0.05
        ],
        [
         "Sasquatch Ale",
         0.05
        ],
        [
         "Original Frankfurter grüne Soße",
         0.05
        ],
        [
         "NuNuCa Nuß-Nougat-Creme",
         0.05
        ],
        [
         "Singaporean Hokkien Fried Mee",
         0.05
        ],
        [
         "Gorgonzola Telino",
         0.05
        ],
        [
         "Genen Shouyu",
         0.05
        ],
        [
         "Rössle Sauerkraut",
         0.05
        ],
        [
         "Ikura",
         0.05
        ],
        [
         "Camembert Pierrot",
         0.05
        ],
        [
         "Chef Anton's Cajun Seasoning",
         0.05
        ],
        [
         "Röd Kaviar",
         0.05
        ],
        [
         "Queso Cabrales",
         0.05
        ],
        [
         "Tourtière",
         0.05
        ],
        [
         "Pavlova",
         0.05
        ],
        [
         "Tunnbröd",
         0.05
        ],
        [
         "Tarte au sucre",
         0.05
        ],
        [
         "Original Frankfurter grüne Soße",
         0.05
        ],
        [
         "Jack's New England Clam Chowder",
         0.05
        ],
        [
         "Pâté chinois",
         0.05
        ],
        [
         "Alice Mutton",
         0.05
        ],
        [
         "Gorgonzola Telino",
         0.05
        ],
        [
         "Pâté chinois",
         0.05
        ],
        [
         "Queso Cabrales",
         0.05
        ],
        [
         "Gnocchi di nonna Alice",
         0.05
        ],
        [
         "Tofu",
         0.05
        ],
        [
         "Jack's New England Clam Chowder",
         0.05
        ],
        [
         "Louisiana Fiery Hot Pepper Sauce",
         0.05
        ],
        [
         "Gorgonzola Telino",
         0.05
        ],
        [
         "Original Frankfurter grüne Soße",
         0.05
        ],
        [
         "Genen Shouyu",
         0.05
        ],
        [
         "Gumbär Gummibärchen",
         0.05
        ],
        [
         "Maxilaku",
         0.05
        ],
        [
         "Pavlova",
         0.05
        ],
        [
         "Raclette Courdavault",
         0.05
        ],
        [
         "Camembert Pierrot",
         0.05
        ],
        [
         "Flotemysost",
         0.05
        ],
        [
         "Côte de Blaye",
         0.05
        ],
        [
         "Outback Lager",
         0.05
        ],
        [
         "Flotemysost",
         0.05
        ],
        [
         "Pâté chinois",
         0.05
        ],
        [
         "Chang",
         0.05
        ],
        [
         "Geitost",
         0.05
        ],
        [
         "Valkoinen suklaa",
         0.05
        ],
        [
         "Gnocchi di nonna Alice",
         0.05
        ],
        [
         "Perth Pasties",
         0.05
        ],
        [
         "Boston Crab Meat",
         0.05
        ],
        [
         "Camembert Pierrot",
         0.05
        ],
        [
         "Original Frankfurter grüne Soße",
         0.05
        ],
        [
         "Gorgonzola Telino",
         0.05
        ],
        [
         "Boston Crab Meat",
         0.05
        ],
        [
         "Outback Lager",
         0.05
        ],
        [
         "Boston Crab Meat",
         0.05
        ],
        [
         "Singaporean Hokkien Fried Mee",
         0.05
        ],
        [
         "Manjimup Dried Apples",
         0.05
        ],
        [
         "Alice Mutton",
         0.05
        ],
        [
         "Thüringer Rostbratwurst",
         0.05
        ],
        [
         "Louisiana Fiery Hot Pepper Sauce",
         0.05
        ],
        [
         "Outback Lager",
         0.05
        ],
        [
         "Perth Pasties",
         0.05
        ],
        [
         "Sir Rodney's Scones",
         0.05
        ],
        [
         "Gudbrandsdalsost",
         0.05
        ],
        [
         "Gula Malacca",
         0.05
        ],
        [
         "Alice Mutton",
         0.05
        ],
        [
         "Gnocchi di nonna Alice",
         0.05
        ],
        [
         "Raclette Courdavault",
         0.05
        ],
        [
         "Pavlova",
         0.05
        ],
        [
         "Gorgonzola Telino",
         0.05
        ],
        [
         "Louisiana Fiery Hot Pepper Sauce",
         0.05
        ],
        [
         "Sir Rodney's Scones",
         0.05
        ],
        [
         "Manjimup Dried Apples",
         0.05
        ],
        [
         "Spegesild",
         0.05
        ],
        [
         "Jack's New England Clam Chowder",
         0.05
        ],
        [
         "Filo Mix",
         0.05
        ],
        [
         "Gorgonzola Telino",
         0.05
        ],
        [
         "Singaporean Hokkien Fried Mee",
         0.05
        ],
        [
         "Rogede sild",
         0.05
        ],
        [
         "Manjimup Dried Apples",
         0.05
        ],
        [
         "Chang",
         0.05
        ],
        [
         "Thüringer Rostbratwurst",
         0.05
        ],
        [
         "Teatime Chocolate Biscuits",
         0.05
        ],
        [
         "Rhönbräu Klosterbier",
         0.05
        ],
        [
         "Thüringer Rostbratwurst",
         0.05
        ],
        [
         "Jack's New England Clam Chowder",
         0.05
        ],
        [
         "Teatime Chocolate Biscuits",
         0.05
        ],
        [
         "NuNuCa Nuß-Nougat-Creme",
         0.05
        ],
        [
         "Raclette Courdavault",
         0.05
        ],
        [
         "Côte de Blaye",
         0.05
        ],
        [
         "Tarte au sucre",
         0.05
        ],
        [
         "Thüringer Rostbratwurst",
         0.05
        ],
        [
         "Nord-Ost Matjeshering",
         0.05
        ],
        [
         "Chang",
         0.05
        ],
        [
         "NuNuCa Nuß-Nougat-Creme",
         0.05
        ],
        [
         "Ravioli Angelo",
         0.05
        ],
        [
         "Raclette Courdavault",
         0.05
        ],
        [
         "Côte de Blaye",
         0.05
        ],
        [
         "Chartreuse verte",
         0.05
        ],
        [
         "Grandma's Boysenberry Spread",
         0.05
        ],
        [
         "Pavlova",
         0.05
        ],
        [
         "Alice Mutton",
         0.05
        ],
        [
         "Pâté chinois",
         0.05
        ],
        [
         "Tarte au sucre",
         0.05
        ],
        [
         "Wimmers gute Semmelknödel",
         0.05
        ],
        [
         "Louisiana Fiery Hot Pepper Sauce",
         0.05
        ],
        [
         "Sir Rodney's Marmalade",
         0.05
        ],
        [
         "Sir Rodney's Scones",
         0.05
        ],
        [
         "Gnocchi di nonna Alice",
         0.05
        ],
        [
         "Louisiana Fiery Hot Pepper Sauce",
         0.05
        ],
        [
         "Nord-Ost Matjeshering",
         0.05
        ],
        [
         "Raclette Courdavault",
         0.05
        ],
        [
         "Konbu",
         0.05
        ],
        [
         "Gudbrandsdalsost",
         0.05
        ],
        [
         "Rhönbräu Klosterbier",
         0.05
        ],
        [
         "Chai",
         0.05
        ],
        [
         "Uncle Bob's Organic Dried Pears",
         0.05
        ],
        [
         "Filo Mix",
         0.05
        ],
        [
         "Geitost",
         0.05
        ],
        [
         "Jack's New England Clam Chowder",
         0.05
        ],
        [
         "Rhönbräu Klosterbier",
         0.05
        ],
        [
         "Grandma's Boysenberry Spread",
         0.05
        ],
        [
         "Sir Rodney's Marmalade",
         0.05
        ],
        [
         "Gorgonzola Telino",
         0.05
        ],
        [
         "Filo Mix",
         0.05
        ],
        [
         "Raclette Courdavault",
         0.05
        ],
        [
         "Jack's New England Clam Chowder",
         0.05
        ],
        [
         "Manjimup Dried Apples",
         0.05
        ],
        [
         "Original Frankfurter grüne Soße",
         0.05
        ],
        [
         "Rössle Sauerkraut",
         0.05
        ],
        [
         "Sasquatch Ale",
         0.05
        ],
        [
         "Escargots de Bourgogne",
         0.05
        ],
        [
         "Teatime Chocolate Biscuits",
         0.05
        ],
        [
         "Camembert Pierrot",
         0.05
        ],
        [
         "Flotemysost",
         0.05
        ],
        [
         "Queso Manchego La Pastora",
         0.05
        ],
        [
         "Mascarpone Fabioli",
         0.05
        ],
        [
         "Steeleye Stout",
         0.05
        ],
        [
         "Uncle Bob's Organic Dried Pears",
         0.05
        ],
        [
         "Konbu",
         0.05
        ],
        [
         "Pavlova",
         0.05
        ],
        [
         "Uncle Bob's Organic Dried Pears",
         0.05
        ],
        [
         "Queso Manchego La Pastora",
         0.05
        ],
        [
         "Chartreuse verte",
         0.05
        ],
        [
         "Sir Rodney's Marmalade",
         0.04
        ],
        [
         "Tofu",
         0.03
        ],
        [
         "Pavlova",
         0.03
        ],
        [
         "Wimmers gute Semmelknödel",
         0.03
        ],
        [
         "Grandma's Boysenberry Spread",
         0.02
        ],
        [
         "Spegesild",
         0.02
        ],
        [
         "Röd Kaviar",
         0.01
        ],
        [
         "Queso Cabrales",
         0.0
        ],
        [
         "Singaporean Hokkien Fried Mee",
         0.0
        ],
        [
         "Mozzarella di Giovanni",
         0.0
        ],
        [
         "Tofu",
         0.0
        ],
        [
         "Manjimup Dried Apples",
         0.0
        ],
        [
         "Jack's New England Clam Chowder",
         0.0
        ],
        [
         "Louisiana Fiery Hot Pepper Sauce",
         0.0
        ],
        [
         "Camembert Pierrot",
         0.0
        ],
        [
         "Gorgonzola Telino",
         0.0
        ],
        [
         "Chartreuse verte",
         0.0
        ],
        [
         "Maxilaku",
         0.0
        ],
        [
         "Longlife Tofu",
         0.0
        ],
        [
         "Chang",
         0.0
        ],
        [
         "Pavlova",
         0.0
        ],
        [
         "Inlagd Sill",
         0.0
        ],
        [
         "Raclette Courdavault",
         0.0
        ],
        [
         "Perth Pasties",
         0.0
        ],
        [
         "Original Frankfurter grüne Soße",
         0.0
        ],
        [
         "Schoggi Schokolade",
         0.0
        ],
        [
         "Chartreuse verte",
         0.0
        ],
        [
         "Original Frankfurter grüne Soße",
         0.0
        ],
        [
         "Sir Rodney's Scones",
         0.0
        ],
        [
         "Gravad lax",
         0.0
        ],
        [
         "Ravioli Angelo",
         0.0
        ],
        [
         "Sir Rodney's Scones",
         0.0
        ],
        [
         "Steeleye Stout",
         0.0
        ],
        [
         "Uncle Bob's Organic Dried Pears",
         0.0
        ],
        [
         "Gnocchi di nonna Alice",
         0.0
        ],
        [
         "Guaraná Fantástica",
         0.0
        ],
        [
         "Chang",
         0.0
        ],
        [
         "Alice Mutton",
         0.0
        ],
        [
         "Outback Lager",
         0.0
        ],
        [
         "Boston Crab Meat",
         0.0
        ],
        [
         "Thüringer Rostbratwurst",
         0.0
        ],
        [
         "Mozzarella di Giovanni",
         0.0
        ],
        [
         "Inlagd Sill",
         0.0
        ],
        [
         "Ipoh Coffee",
         0.0
        ],
        [
         "Geitost",
         0.0
        ],
        [
         "Sir Rodney's Marmalade",
         0.0
        ],
        [
         "Gorgonzola Telino",
         0.0
        ],
        [
         "Mozzarella di Giovanni",
         0.0
        ],
        [
         "Geitost",
         0.0
        ],
        [
         "Flotemysost",
         0.0
        ],
        [
         "Mozzarella di Giovanni",
         0.0
        ],
        [
         "Ikura",
         0.0
        ],
        [
         "Konbu",
         0.0
        ],
        [
         "Rössle Sauerkraut",
         0.0
        ],
        [
         "Tarte au sucre",
         0.0
        ],
        [
         "Gula Malacca",
         0.0
        ],
        [
         "Raclette Courdavault",
         0.0
        ],
        [
         "Vegie-spread",
         0.0
        ],
        [
         "Röd Kaviar",
         0.0
        ],
        [
         "Guaraná Fantástica",
         0.0
        ],
        [
         "Pâté chinois",
         0.0
        ],
        [
         "Rhönbräu Klosterbier",
         0.0
        ],
        [
         "Teatime Chocolate Biscuits",
         0.0
        ],
        [
         "Guaraná Fantástica",
         0.0
        ],
        [
         "Steeleye Stout",
         0.0
        ],
        [
         "Nord-Ost Matjeshering",
         0.0
        ],
        [
         "Ravioli Angelo",
         0.0
        ],
        [
         "Genen Shouyu",
         0.0
        ],
        [
         "Teatime Chocolate Biscuits",
         0.0
        ],
        [
         "Camembert Pierrot",
         0.0
        ],
        [
         "Mozzarella di Giovanni",
         0.0
        ],
        [
         "Gula Malacca",
         0.0
        ],
        [
         "Steeleye Stout",
         0.0
        ],
        [
         "Tarte au sucre",
         0.0
        ],
        [
         "Sasquatch Ale",
         0.0
        ],
        [
         "Aniseed Syrup",
         0.0
        ],
        [
         "Wimmers gute Semmelknödel",
         0.0
        ],
        [
         "Chef Anton's Gumbo Mix",
         0.0
        ],
        [
         "Thüringer Rostbratwurst",
         0.0
        ],
        [
         "Maxilaku",
         0.0
        ],
        [
         "Original Frankfurter grüne Soße",
         0.0
        ],
        [
         "Sir Rodney's Marmalade",
         0.0
        ],
        [
         "Carnarvon Tigers",
         0.0
        ],
        [
         "Guaraná Fantástica",
         0.0
        ],
        [
         "Vegie-spread",
         0.0
        ],
        [
         "Rhönbräu Klosterbier",
         0.0
        ],
        [
         "Chai",
         0.0
        ],
        [
         "Alice Mutton",
         0.0
        ],
        [
         "Ipoh Coffee",
         0.0
        ],
        [
         "Camembert Pierrot",
         0.0
        ],
        [
         "Rhönbräu Klosterbier",
         0.0
        ],
        [
         "Gnocchi di nonna Alice",
         0.0
        ],
        [
         "Queso Cabrales",
         0.0
        ],
        [
         "Pavlova",
         0.0
        ],
        [
         "Gudbrandsdalsost",
         0.0
        ],
        [
         "Chartreuse verte",
         0.0
        ],
        [
         "Mozzarella di Giovanni",
         0.0
        ],
        [
         "Chang",
         0.0
        ],
        [
         "Tarte au sucre",
         0.0
        ],
        [
         "Teatime Chocolate Biscuits",
         0.0
        ],
        [
         "Outback Lager",
         0.0
        ],
        [
         "Louisiana Hot Spiced Okra",
         0.0
        ],
        [
         "Scottish Longbreads",
         0.0
        ],
        [
         "Boston Crab Meat",
         0.0
        ],
        [
         "Gnocchi di nonna Alice",
         0.0
        ],
        [
         "Alice Mutton",
         0.0
        ],
        [
         "Rössle Sauerkraut",
         0.0
        ],
        [
         "Ipoh Coffee",
         0.0
        ],
        [
         "Maxilaku",
         0.0
        ],
        [
         "Raclette Courdavault",
         0.0
        ],
        [
         "Flotemysost",
         0.0
        ],
        [
         "Nord-Ost Matjeshering",
         0.0
        ],
        [
         "Perth Pasties",
         0.0
        ],
        [
         "Tourtière",
         0.0
        ],
        [
         "Tarte au sucre",
         0.0
        ],
        [
         "Scottish Longbreads",
         0.0
        ],
        [
         "Gudbrandsdalsost",
         0.0
        ],
        [
         "Outback Lager",
         0.0
        ],
        [
         "Chef Anton's Cajun Seasoning",
         0.0
        ],
        [
         "Grandma's Boysenberry Spread",
         0.0
        ],
        [
         "Singaporean Hokkien Fried Mee",
         0.0
        ],
        [
         "Ipoh Coffee",
         0.0
        ],
        [
         "Flotemysost",
         0.0
        ],
        [
         "Pavlova",
         0.0
        ],
        [
         "Tarte au sucre",
         0.0
        ],
        [
         "Singaporean Hokkien Fried Mee",
         0.0
        ],
        [
         "Gudbrandsdalsost",
         0.0
        ],
        [
         "Rössle Sauerkraut",
         0.0
        ],
        [
         "Ipoh Coffee",
         0.0
        ],
        [
         "Perth Pasties",
         0.0
        ],
        [
         "Rhönbräu Klosterbier",
         0.0
        ],
        [
         "Inlagd Sill",
         0.0
        ],
        [
         "Sasquatch Ale",
         0.0
        ],
        [
         "Outback Lager",
         0.0
        ],
        [
         "Jack's New England Clam Chowder",
         0.0
        ],
        [
         "Tarte au sucre",
         0.0
        ],
        [
         "Chai",
         0.0
        ],
        [
         "Jack's New England Clam Chowder",
         0.0
        ],
        [
         "Lakkalikööri",
         0.0
        ],
        [
         "Alice Mutton",
         0.0
        ],
        [
         "Rössle Sauerkraut",
         0.0
        ],
        [
         "Lakkalikööri",
         0.0
        ],
        [
         "Flotemysost",
         0.0
        ],
        [
         "Steeleye Stout",
         0.0
        ],
        [
         "Filo Mix",
         0.0
        ],
        [
         "Genen Shouyu",
         0.0
        ],
        [
         "NuNuCa Nuß-Nougat-Creme",
         0.0
        ],
        [
         "Chartreuse verte",
         0.0
        ],
        [
         "Spegesild",
         0.0
        ],
        [
         "Grandma's Boysenberry Spread",
         0.0
        ],
        [
         "Konbu",
         0.0
        ],
        [
         "Tofu",
         0.0
        ],
        [
         "Gorgonzola Telino",
         0.0
        ],
        [
         "Mozzarella di Giovanni",
         0.0
        ],
        [
         "Chef Anton's Cajun Seasoning",
         0.0
        ],
        [
         "Ravioli Angelo",
         0.0
        ],
        [
         "Rhönbräu Klosterbier",
         0.0
        ],
        [
         "Raclette Courdavault",
         0.0
        ],
        [
         "Louisiana Fiery Hot Pepper Sauce",
         0.0
        ],
        [
         "Scottish Longbreads",
         0.0
        ],
        [
         "Tourtière",
         0.0
        ],
        [
         "Tofu",
         0.0
        ],
        [
         "Filo Mix",
         0.0
        ],
        [
         "Scottish Longbreads",
         0.0
        ],
        [
         "Tunnbröd",
         0.0
        ],
        [
         "Gumbär Gummibärchen",
         0.0
        ],
        [
         "Inlagd Sill",
         0.0
        ],
        [
         "Gravad lax",
         0.0
        ],
        [
         "Mozzarella di Giovanni",
         0.0
        ],
        [
         "Alice Mutton",
         0.0
        ],
        [
         "Nord-Ost Matjeshering",
         0.0
        ],
        [
         "Chef Anton's Cajun Seasoning",
         0.0
        ],
        [
         "Tarte au sucre",
         0.0
        ],
        [
         "Geitost",
         0.0
        ],
        [
         "Wimmers gute Semmelknödel",
         0.0
        ],
        [
         "Lakkalikööri",
         0.0
        ],
        [
         "Chef Anton's Cajun Seasoning",
         0.0
        ],
        [
         "Northwoods Cranberry Sauce",
         0.0
        ],
        [
         "Teatime Chocolate Biscuits",
         0.0
        ],
        [
         "Singaporean Hokkien Fried Mee",
         0.0
        ],
        [
         "Gnocchi di nonna Alice",
         0.0
        ],
        [
         "NuNuCa Nuß-Nougat-Creme",
         0.0
        ],
        [
         "Boston Crab Meat",
         0.0
        ],
        [
         "Tunnbröd",
         0.0
        ],
        [
         "Tourtière",
         0.0
        ],
        [
         "Jack's New England Clam Chowder",
         0.0
        ],
        [
         "Guaraná Fantástica",
         0.0
        ],
        [
         "Chai",
         0.0
        ],
        [
         "Thüringer Rostbratwurst",
         0.0
        ],
        [
         "Guaraná Fantástica",
         0.0
        ],
        [
         "Ravioli Angelo",
         0.0
        ],
        [
         "Gorgonzola Telino",
         0.0
        ],
        [
         "Pâté chinois",
         0.0
        ],
        [
         "Gudbrandsdalsost",
         0.0
        ],
        [
         "Gumbär Gummibärchen",
         0.0
        ],
        [
         "Rössle Sauerkraut",
         0.0
        ],
        [
         "Thüringer Rostbratwurst",
         0.0
        ],
        [
         "Côte de Blaye",
         0.0
        ],
        [
         "Maxilaku",
         0.0
        ],
        [
         "Tourtière",
         0.0
        ],
        [
         "NuNuCa Nuß-Nougat-Creme",
         0.0
        ],
        [
         "Manjimup Dried Apples",
         0.0
        ],
        [
         "Tourtière",
         0.0
        ],
        [
         "Gorgonzola Telino",
         0.0
        ],
        [
         "Rhönbräu Klosterbier",
         0.0
        ],
        [
         "Lakkalikööri",
         0.0
        ],
        [
         "Gudbrandsdalsost",
         0.0
        ],
        [
         "Flotemysost",
         0.0
        ],
        [
         "Queso Cabrales",
         0.0
        ],
        [
         "Louisiana Fiery Hot Pepper Sauce",
         0.0
        ],
        [
         "Original Frankfurter grüne Soße",
         0.0
        ],
        [
         "Sasquatch Ale",
         0.0
        ],
        [
         "Tourtière",
         0.0
        ],
        [
         "Louisiana Fiery Hot Pepper Sauce",
         0.0
        ],
        [
         "Original Frankfurter grüne Soße",
         0.0
        ],
        [
         "Ravioli Angelo",
         0.0
        ],
        [
         "Thüringer Rostbratwurst",
         0.0
        ],
        [
         "Wimmers gute Semmelknödel",
         0.0
        ],
        [
         "Gorgonzola Telino",
         0.0
        ],
        [
         "Escargots de Bourgogne",
         0.0
        ],
        [
         "Tofu",
         0.0
        ],
        [
         "Tourtière",
         0.0
        ],
        [
         "Flotemysost",
         0.0
        ],
        [
         "Outback Lager",
         0.0
        ],
        [
         "Longlife Tofu",
         0.0
        ],
        [
         "Chef Anton's Gumbo Mix",
         0.0
        ],
        [
         "Carnarvon Tigers",
         0.0
        ],
        [
         "Thüringer Rostbratwurst",
         0.0
        ],
        [
         "Geitost",
         0.0
        ],
        [
         "Longlife Tofu",
         0.0
        ],
        [
         "Konbu",
         0.0
        ],
        [
         "Valkoinen suklaa",
         0.0
        ],
        [
         "Gnocchi di nonna Alice",
         0.0
        ],
        [
         "Sir Rodney's Marmalade",
         0.0
        ],
        [
         "Camembert Pierrot",
         0.0
        ],
        [
         "Guaraná Fantástica",
         0.0
        ],
        [
         "Sasquatch Ale",
         0.0
        ],
        [
         "Guaraná Fantástica",
         0.0
        ],
        [
         "Rössle Sauerkraut",
         0.0
        ],
        [
         "Raclette Courdavault",
         0.0
        ],
        [
         "Flotemysost",
         0.0
        ],
        [
         "Perth Pasties",
         0.0
        ],
        [
         "Ikura",
         0.0
        ],
        [
         "Pâté chinois",
         0.0
        ],
        [
         "Tarte au sucre",
         0.0
        ],
        [
         "Outback Lager",
         0.0
        ],
        [
         "Spegesild",
         0.0
        ],
        [
         "Konbu",
         0.0
        ],
        [
         "Gudbrandsdalsost",
         0.0
        ],
        [
         "Gorgonzola Telino",
         0.0
        ],
        [
         "Konbu",
         0.0
        ],
        [
         "Tarte au sucre",
         0.0
        ],
        [
         "Gudbrandsdalsost",
         0.0
        ],
        [
         "Tunnbröd",
         0.0
        ],
        [
         "Flotemysost",
         0.0
        ],
        [
         "Mozzarella di Giovanni",
         0.0
        ],
        [
         "Steeleye Stout",
         0.0
        ],
        [
         "Scottish Longbreads",
         0.0
        ],
        [
         "Flotemysost",
         0.0
        ],
        [
         "Lakkalikööri",
         0.0
        ],
        [
         "Original Frankfurter grüne Soße",
         0.0
        ],
        [
         "Thüringer Rostbratwurst",
         0.0
        ],
        [
         "Steeleye Stout",
         0.0
        ],
        [
         "Maxilaku",
         0.0
        ],
        [
         "Nord-Ost Matjeshering",
         0.0
        ],
        [
         "Gnocchi di nonna Alice",
         0.0
        ],
        [
         "Louisiana Fiery Hot Pepper Sauce",
         0.0
        ],
        [
         "Flotemysost",
         0.0
        ],
        [
         "Tunnbröd",
         0.0
        ],
        [
         "Vegie-spread",
         0.0
        ],
        [
         "Aniseed Syrup",
         0.0
        ],
        [
         "Chai",
         0.0
        ],
        [
         "Queso Cabrales",
         0.0
        ],
        [
         "Gudbrandsdalsost",
         0.0
        ],
        [
         "Flotemysost",
         0.0
        ],
        [
         "Gravad lax",
         0.0
        ],
        [
         "Tourtière",
         0.0
        ],
        [
         "Tarte au sucre",
         0.0
        ],
        [
         "Tofu",
         0.0
        ],
        [
         "Sir Rodney's Scones",
         0.0
        ],
        [
         "Geitost",
         0.0
        ],
        [
         "Raclette Courdavault",
         0.0
        ],
        [
         "Chai",
         0.0
        ],
        [
         "Tarte au sucre",
         0.0
        ],
        [
         "Lakkalikööri",
         0.0
        ],
        [
         "Geitost",
         0.0
        ],
        [
         "Alice Mutton",
         0.0
        ],
        [
         "Geitost",
         0.0
        ],
        [
         "Teatime Chocolate Biscuits",
         0.0
        ],
        [
         "Perth Pasties",
         0.0
        ],
        [
         "Ravioli Angelo",
         0.0
        ],
        [
         "Côte de Blaye",
         0.0
        ],
        [
         "Original Frankfurter grüne Soße",
         0.0
        ],
        [
         "Chang",
         0.0
        ],
        [
         "Zaanse koeken",
         0.0
        ],
        [
         "Sirop d'érable",
         0.0
        ],
        [
         "Longlife Tofu",
         0.0
        ],
        [
         "Gumbär Gummibärchen",
         0.0
        ],
        [
         "Gumbär Gummibärchen",
         0.0
        ],
        [
         "Gorgonzola Telino",
         0.0
        ],
        [
         "Raclette Courdavault",
         0.0
        ],
        [
         "Gnocchi di nonna Alice",
         0.0
        ],
        [
         "Wimmers gute Semmelknödel",
         0.0
        ],
        [
         "Tofu",
         0.0
        ],
        [
         "Spegesild",
         0.0
        ],
        [
         "Valkoinen suklaa",
         0.0
        ],
        [
         "Sir Rodney's Scones",
         0.0
        ],
        [
         "Gnocchi di nonna Alice",
         0.0
        ],
        [
         "Gumbär Gummibärchen",
         0.0
        ],
        [
         "Tourtière",
         0.0
        ],
        [
         "Gnocchi di nonna Alice",
         0.0
        ],
        [
         "Queso Cabrales",
         0.0
        ],
        [
         "Chang",
         0.0
        ],
        [
         "Gustaf's Knäckebröd",
         0.0
        ],
        [
         "Mozzarella di Giovanni",
         0.0
        ],
        [
         "Spegesild",
         0.0
        ],
        [
         "Perth Pasties",
         0.0
        ],
        [
         "Queso Manchego La Pastora",
         0.0
        ],
        [
         "Pavlova",
         0.0
        ],
        [
         "Wimmers gute Semmelknödel",
         0.0
        ],
        [
         "Longlife Tofu",
         0.0
        ],
        [
         "Schoggi Schokolade",
         0.0
        ],
        [
         "Queso Cabrales",
         0.0
        ],
        [
         "Tourtière",
         0.0
        ],
        [
         "Louisiana Hot Spiced Okra",
         0.0
        ],
        [
         "Rössle Sauerkraut",
         0.0
        ],
        [
         "Alice Mutton",
         0.0
        ],
        [
         "Gumbär Gummibärchen",
         0.0
        ],
        [
         "Steeleye Stout",
         0.0
        ],
        [
         "Jack's New England Clam Chowder",
         0.0
        ],
        [
         "Chartreuse verte",
         0.0
        ],
        [
         "Tourtière",
         0.0
        ],
        [
         "Teatime Chocolate Biscuits",
         0.0
        ],
        [
         "Louisiana Fiery Hot Pepper Sauce",
         0.0
        ],
        [
         "Flotemysost",
         0.0
        ],
        [
         "Gumbär Gummibärchen",
         0.0
        ],
        [
         "Boston Crab Meat",
         0.0
        ],
        [
         "Ikura",
         0.0
        ],
        [
         "Filo Mix",
         0.0
        ],
        [
         "Tarte au sucre",
         0.0
        ],
        [
         "Rössle Sauerkraut",
         0.0
        ],
        [
         "Chartreuse verte",
         0.0
        ],
        [
         "Perth Pasties",
         0.0
        ],
        [
         "Sirop d'érable",
         0.0
        ],
        [
         "Flotemysost",
         0.0
        ],
        [
         "Raclette Courdavault",
         0.0
        ],
        [
         "Gumbär Gummibärchen",
         0.0
        ],
        [
         "Rössle Sauerkraut",
         0.0
        ],
        [
         "Ipoh Coffee",
         0.0
        ],
        [
         "Gnocchi di nonna Alice",
         0.0
        ],
        [
         "Flotemysost",
         0.0
        ],
        [
         "Mozzarella di Giovanni",
         0.0
        ],
        [
         "Konbu",
         0.0
        ],
        [
         "Tunnbröd",
         0.0
        ],
        [
         "Teatime Chocolate Biscuits",
         0.0
        ],
        [
         "Singaporean Hokkien Fried Mee",
         0.0
        ],
        [
         "Ipoh Coffee",
         0.0
        ],
        [
         "Camembert Pierrot",
         0.0
        ],
        [
         "Guaraná Fantástica",
         0.0
        ],
        [
         "Boston Crab Meat",
         0.0
        ],
        [
         "Valkoinen suklaa",
         0.0
        ],
        [
         "Queso Cabrales",
         0.0
        ],
        [
         "Spegesild",
         0.0
        ],
        [
         "Guaraná Fantástica",
         0.0
        ],
        [
         "NuNuCa Nuß-Nougat-Creme",
         0.0
        ],
        [
         "Nord-Ost Matjeshering",
         0.0
        ],
        [
         "Ipoh Coffee",
         0.0
        ],
        [
         "Carnarvon Tigers",
         0.0
        ],
        [
         "Tunnbröd",
         0.0
        ],
        [
         "Wimmers gute Semmelknödel",
         0.0
        ],
        [
         "Uncle Bob's Organic Dried Pears",
         0.0
        ],
        [
         "Gnocchi di nonna Alice",
         0.0
        ],
        [
         "Manjimup Dried Apples",
         0.0
        ],
        [
         "Geitost",
         0.0
        ],
        [
         "Flotemysost",
         0.0
        ],
        [
         "Tofu",
         0.0
        ],
        [
         "Rössle Sauerkraut",
         0.0
        ],
        [
         "Boston Crab Meat",
         0.0
        ],
        [
         "Rhönbräu Klosterbier",
         0.0
        ],
        [
         "Outback Lager",
         0.0
        ],
        [
         "Chai",
         0.0
        ],
        [
         "Côte de Blaye",
         0.0
        ],
        [
         "Perth Pasties",
         0.0
        ],
        [
         "Raclette Courdavault",
         0.0
        ],
        [
         "Wimmers gute Semmelknödel",
         0.0
        ],
        [
         "Zaanse koeken",
         0.0
        ],
        [
         "Raclette Courdavault",
         0.0
        ],
        [
         "Maxilaku",
         0.0
        ],
        [
         "Camembert Pierrot",
         0.0
        ],
        [
         "Boston Crab Meat",
         0.0
        ],
        [
         "Sir Rodney's Scones",
         0.0
        ],
        [
         "Boston Crab Meat",
         0.0
        ],
        [
         "Manjimup Dried Apples",
         0.0
        ],
        [
         "Queso Cabrales",
         0.0
        ],
        [
         "Manjimup Dried Apples",
         0.0
        ],
        [
         "Longlife Tofu",
         0.0
        ],
        [
         "Teatime Chocolate Biscuits",
         0.0
        ],
        [
         "Gumbär Gummibärchen",
         0.0
        ],
        [
         "Raclette Courdavault",
         0.0
        ],
        [
         "Pavlova",
         0.0
        ],
        [
         "Raclette Courdavault",
         0.0
        ],
        [
         "Scottish Longbreads",
         0.0
        ],
        [
         "Rhönbräu Klosterbier",
         0.0
        ],
        [
         "Gnocchi di nonna Alice",
         0.0
        ],
        [
         "Tunnbröd",
         0.0
        ],
        [
         "Jack's New England Clam Chowder",
         0.0
        ],
        [
         "Original Frankfurter grüne Soße",
         0.0
        ],
        [
         "Gnocchi di nonna Alice",
         0.0
        ],
        [
         "Mozzarella di Giovanni",
         0.0
        ],
        [
         "Original Frankfurter grüne Soße",
         0.0
        ],
        [
         "Guaraná Fantástica",
         0.0
        ],
        [
         "Boston Crab Meat",
         0.0
        ],
        [
         "Singaporean Hokkien Fried Mee",
         0.0
        ],
        [
         "Rössle Sauerkraut",
         0.0
        ],
        [
         "Maxilaku",
         0.0
        ],
        [
         "Tourtière",
         0.0
        ],
        [
         "Rogede sild",
         0.0
        ],
        [
         "Perth Pasties",
         0.0
        ],
        [
         "Laughing Lumberjack Lager",
         0.0
        ],
        [
         "Tofu",
         0.0
        ],
        [
         "Louisiana Fiery Hot Pepper Sauce",
         0.0
        ],
        [
         "Chang",
         0.0
        ],
        [
         "Sir Rodney's Scones",
         0.0
        ],
        [
         "Perth Pasties",
         0.0
        ],
        [
         "Sirop d'érable",
         0.0
        ],
        [
         "Tarte au sucre",
         0.0
        ],
        [
         "Konbu",
         0.0
        ],
        [
         "Chartreuse verte",
         0.0
        ],
        [
         "Rössle Sauerkraut",
         0.0
        ],
        [
         "Thüringer Rostbratwurst",
         0.0
        ],
        [
         "Sir Rodney's Marmalade",
         0.0
        ],
        [
         "Rössle Sauerkraut",
         0.0
        ],
        [
         "Gnocchi di nonna Alice",
         0.0
        ],
        [
         "Louisiana Fiery Hot Pepper Sauce",
         0.0
        ],
        [
         "Rhönbräu Klosterbier",
         0.0
        ],
        [
         "Pavlova",
         0.0
        ],
        [
         "Schoggi Schokolade",
         0.0
        ],
        [
         "Singaporean Hokkien Fried Mee",
         0.0
        ],
        [
         "Filo Mix",
         0.0
        ],
        [
         "Raclette Courdavault",
         0.0
        ],
        [
         "Outback Lager",
         0.0
        ],
        [
         "Guaraná Fantástica",
         0.0
        ],
        [
         "Côte de Blaye",
         0.0
        ],
        [
         "Gula Malacca",
         0.0
        ],
        [
         "Gnocchi di nonna Alice",
         0.0
        ],
        [
         "Guaraná Fantástica",
         0.0
        ],
        [
         "Perth Pasties",
         0.0
        ],
        [
         "Steeleye Stout",
         0.0
        ],
        [
         "Jack's New England Clam Chowder",
         0.0
        ],
        [
         "Scottish Longbreads",
         0.0
        ],
        [
         "Northwoods Cranberry Sauce",
         0.0
        ],
        [
         "Ikura",
         0.0
        ],
        [
         "Nord-Ost Matjeshering",
         0.0
        ],
        [
         "Ipoh Coffee",
         0.0
        ],
        [
         "Tourtière",
         0.0
        ],
        [
         "Inlagd Sill",
         0.0
        ],
        [
         "Konbu",
         0.0
        ],
        [
         "Queso Cabrales",
         0.0
        ],
        [
         "Mozzarella di Giovanni",
         0.0
        ],
        [
         "Pâté chinois",
         0.0
        ],
        [
         "Scottish Longbreads",
         0.0
        ],
        [
         "Gudbrandsdalsost",
         0.0
        ],
        [
         "Alice Mutton",
         0.0
        ],
        [
         "Ipoh Coffee",
         0.0
        ],
        [
         "Sirop d'érable",
         0.0
        ],
        [
         "Lakkalikööri",
         0.0
        ],
        [
         "Raclette Courdavault",
         0.0
        ],
        [
         "Nord-Ost Matjeshering",
         0.0
        ],
        [
         "Louisiana Hot Spiced Okra",
         0.0
        ],
        [
         "Mozzarella di Giovanni",
         0.0
        ],
        [
         "Nord-Ost Matjeshering",
         0.0
        ],
        [
         "Gorgonzola Telino",
         0.0
        ],
        [
         "Geitost",
         0.0
        ],
        [
         "Gorgonzola Telino",
         0.0
        ],
        [
         "Manjimup Dried Apples",
         0.0
        ],
        [
         "Escargots de Bourgogne",
         0.0
        ],
        [
         "Mozzarella di Giovanni",
         0.0
        ],
        [
         "Röd Kaviar",
         0.0
        ],
        [
         "Outback Lager",
         0.0
        ],
        [
         "Mozzarella di Giovanni",
         0.0
        ],
        [
         "Konbu",
         0.0
        ],
        [
         "Sir Rodney's Scones",
         0.0
        ],
        [
         "Geitost",
         0.0
        ],
        [
         "Maxilaku",
         0.0
        ],
        [
         "Aniseed Syrup",
         0.0
        ],
        [
         "Gumbär Gummibärchen",
         0.0
        ],
        [
         "Côte de Blaye",
         0.0
        ],
        [
         "Scottish Longbreads",
         0.0
        ],
        [
         "Rössle Sauerkraut",
         0.0
        ],
        [
         "Laughing Lumberjack Lager",
         0.0
        ],
        [
         "Queso Cabrales",
         0.0
        ],
        [
         "Uncle Bob's Organic Dried Pears",
         0.0
        ],
        [
         "Steeleye Stout",
         0.0
        ],
        [
         "Tarte au sucre",
         0.0
        ],
        [
         "Inlagd Sill",
         0.0
        ],
        [
         "Jack's New England Clam Chowder",
         0.0
        ],
        [
         "Teatime Chocolate Biscuits",
         0.0
        ],
        [
         "Gula Malacca",
         0.0
        ],
        [
         "Gudbrandsdalsost",
         0.0
        ],
        [
         "Rhönbräu Klosterbier",
         0.0
        ],
        [
         "Queso Cabrales",
         0.0
        ],
        [
         "Pavlova",
         0.0
        ],
        [
         "Gustaf's Knäckebröd",
         0.0
        ],
        [
         "Gorgonzola Telino",
         0.0
        ],
        [
         "Steeleye Stout",
         0.0
        ],
        [
         "Mozzarella di Giovanni",
         0.0
        ],
        [
         "Wimmers gute Semmelknödel",
         0.0
        ],
        [
         "Rhönbräu Klosterbier",
         0.0
        ],
        [
         "Zaanse koeken",
         0.0
        ],
        [
         "Manjimup Dried Apples",
         0.0
        ],
        [
         "Filo Mix",
         0.0
        ],
        [
         "Perth Pasties",
         0.0
        ],
        [
         "Röd Kaviar",
         0.0
        ],
        [
         "Nord-Ost Matjeshering",
         0.0
        ],
        [
         "Gula Malacca",
         0.0
        ],
        [
         "Manjimup Dried Apples",
         0.0
        ],
        [
         "Inlagd Sill",
         0.0
        ],
        [
         "Filo Mix",
         0.0
        ],
        [
         "Lakkalikööri",
         0.0
        ],
        [
         "Manjimup Dried Apples",
         0.0
        ],
        [
         "Ikura",
         0.0
        ],
        [
         "Lakkalikööri",
         0.0
        ],
        [
         "Boston Crab Meat",
         0.0
        ],
        [
         "Alice Mutton",
         0.0
        ],
        [
         "Sasquatch Ale",
         0.0
        ],
        [
         "Perth Pasties",
         0.0
        ],
        [
         "Geitost",
         0.0
        ],
        [
         "Boston Crab Meat",
         0.0
        ],
        [
         "Tarte au sucre",
         0.0
        ],
        [
         "Wimmers gute Semmelknödel",
         0.0
        ],
        [
         "Raclette Courdavault",
         0.0
        ],
        [
         "Vegie-spread",
         0.0
        ],
        [
         "Mozzarella di Giovanni",
         0.0
        ],
        [
         "Lakkalikööri",
         0.0
        ],
        [
         "Chai",
         0.0
        ],
        [
         "Gorgonzola Telino",
         0.0
        ],
        [
         "Gula Malacca",
         0.0
        ],
        [
         "Chartreuse verte",
         0.0
        ],
        [
         "Rhönbräu Klosterbier",
         0.0
        ],
        [
         "Original Frankfurter grüne Soße",
         0.0
        ],
        [
         "Steeleye Stout",
         0.0
        ],
        [
         "Ravioli Angelo",
         0.0
        ],
        [
         "Genen Shouyu",
         0.0
        ],
        [
         "Rhönbräu Klosterbier",
         0.0
        ],
        [
         "Ravioli Angelo",
         0.0
        ],
        [
         "Lakkalikööri",
         0.0
        ],
        [
         "Thüringer Rostbratwurst",
         0.0
        ],
        [
         "Zaanse koeken",
         0.0
        ],
        [
         "Gumbär Gummibärchen",
         0.0
        ],
        [
         "Steeleye Stout",
         0.0
        ],
        [
         "Original Frankfurter grüne Soße",
         0.0
        ],
        [
         "Steeleye Stout",
         0.0
        ],
        [
         "Chai",
         0.0
        ],
        [
         "Aniseed Syrup",
         0.0
        ],
        [
         "Uncle Bob's Organic Dried Pears",
         0.0
        ],
        [
         "Tourtière",
         0.0
        ],
        [
         "Filo Mix",
         0.0
        ],
        [
         "Escargots de Bourgogne",
         0.0
        ],
        [
         "Ravioli Angelo",
         0.0
        ],
        [
         "Schoggi Schokolade",
         0.0
        ],
        [
         "Flotemysost",
         0.0
        ],
        [
         "Tarte au sucre",
         0.0
        ],
        [
         "Tourtière",
         0.0
        ],
        [
         "Röd Kaviar",
         0.0
        ],
        [
         "Konbu",
         0.0
        ],
        [
         "Raclette Courdavault",
         0.0
        ],
        [
         "Gustaf's Knäckebröd",
         0.0
        ],
        [
         "Uncle Bob's Organic Dried Pears",
         0.0
        ],
        [
         "Alice Mutton",
         0.0
        ],
        [
         "Geitost",
         0.0
        ],
        [
         "Boston Crab Meat",
         0.0
        ],
        [
         "Mozzarella di Giovanni",
         0.0
        ],
        [
         "Gnocchi di nonna Alice",
         0.0
        ],
        [
         "Chai",
         0.0
        ],
        [
         "Ikura",
         0.0
        ],
        [
         "Sir Rodney's Scones",
         0.0
        ],
        [
         "Chai",
         0.0
        ],
        [
         "Chang",
         0.0
        ],
        [
         "Camembert Pierrot",
         0.0
        ],
        [
         "Ikura",
         0.0
        ],
        [
         "Inlagd Sill",
         0.0
        ],
        [
         "Maxilaku",
         0.0
        ],
        [
         "Camembert Pierrot",
         0.0
        ],
        [
         "Lakkalikööri",
         0.0
        ],
        [
         "Rhönbräu Klosterbier",
         0.0
        ],
        [
         "Queso Cabrales",
         0.0
        ],
        [
         "Sir Rodney's Scones",
         0.0
        ],
        [
         "Chartreuse verte",
         0.0
        ],
        [
         "Pâté chinois",
         0.0
        ],
        [
         "Gnocchi di nonna Alice",
         0.0
        ],
        [
         "Grandma's Boysenberry Spread",
         0.0
        ],
        [
         "Gnocchi di nonna Alice",
         0.0
        ],
        [
         "Scottish Longbreads",
         0.0
        ],
        [
         "Sir Rodney's Scones",
         0.0
        ],
        [
         "Gustaf's Knäckebröd",
         0.0
        ],
        [
         "Guaraná Fantástica",
         0.0
        ],
        [
         "Filo Mix",
         0.0
        ],
        [
         "Teatime Chocolate Biscuits",
         0.0
        ],
        [
         "Tunnbröd",
         0.0
        ],
        [
         "Outback Lager",
         0.0
        ],
        [
         "Flotemysost",
         0.0
        ],
        [
         "Chang",
         0.0
        ],
        [
         "Tofu",
         0.0
        ],
        [
         "Guaraná Fantástica",
         0.0
        ],
        [
         "Rössle Sauerkraut",
         0.0
        ],
        [
         "Thüringer Rostbratwurst",
         0.0
        ],
        [
         "Gula Malacca",
         0.0
        ],
        [
         "Tofu",
         0.0
        ],
        [
         "Singaporean Hokkien Fried Mee",
         0.0
        ],
        [
         "Camembert Pierrot",
         0.0
        ],
        [
         "Perth Pasties",
         0.0
        ],
        [
         "Camembert Pierrot",
         0.0
        ],
        [
         "Flotemysost",
         0.0
        ],
        [
         "Tarte au sucre",
         0.0
        ],
        [
         "Chai",
         0.0
        ],
        [
         "Thüringer Rostbratwurst",
         0.0
        ],
        [
         "Wimmers gute Semmelknödel",
         0.0
        ],
        [
         "Lakkalikööri",
         0.0
        ],
        [
         "Uncle Bob's Organic Dried Pears",
         0.0
        ],
        [
         "Carnarvon Tigers",
         0.0
        ],
        [
         "Manjimup Dried Apples",
         0.0
        ],
        [
         "Rhönbräu Klosterbier",
         0.0
        ],
        [
         "Gustaf's Knäckebröd",
         0.0
        ],
        [
         "Chef Anton's Cajun Seasoning",
         0.0
        ],
        [
         "Escargots de Bourgogne",
         0.0
        ],
        [
         "Queso Cabrales",
         0.0
        ],
        [
         "Rogede sild",
         0.0
        ],
        [
         "Louisiana Fiery Hot Pepper Sauce",
         0.0
        ],
        [
         "Mozzarella di Giovanni",
         0.0
        ],
        [
         "Carnarvon Tigers",
         0.0
        ],
        [
         "Chang",
         0.0
        ],
        [
         "Boston Crab Meat",
         0.0
        ],
        [
         "Ipoh Coffee",
         0.0
        ],
        [
         "Carnarvon Tigers",
         0.0
        ],
        [
         "Inlagd Sill",
         0.0
        ],
        [
         "Teatime Chocolate Biscuits",
         0.0
        ],
        [
         "Chartreuse verte",
         0.0
        ],
        [
         "Gustaf's Knäckebröd",
         0.0
        ],
        [
         "Rössle Sauerkraut",
         0.0
        ],
        [
         "Mozzarella di Giovanni",
         0.0
        ],
        [
         "Nord-Ost Matjeshering",
         0.0
        ],
        [
         "Tourtière",
         0.0
        ],
        [
         "Singaporean Hokkien Fried Mee",
         0.0
        ],
        [
         "Genen Shouyu",
         0.0
        ],
        [
         "Jack's New England Clam Chowder",
         0.0
        ],
        [
         "Spegesild",
         0.0
        ],
        [
         "Zaanse koeken",
         0.0
        ],
        [
         "Gnocchi di nonna Alice",
         0.0
        ],
        [
         "Camembert Pierrot",
         0.0
        ],
        [
         "Sir Rodney's Scones",
         0.0
        ],
        [
         "Sir Rodney's Marmalade",
         0.0
        ],
        [
         "Scottish Longbreads",
         0.0
        ],
        [
         "Manjimup Dried Apples",
         0.0
        ],
        [
         "Raclette Courdavault",
         0.0
        ],
        [
         "Lakkalikööri",
         0.0
        ],
        [
         "Thüringer Rostbratwurst",
         0.0
        ],
        [
         "Louisiana Fiery Hot Pepper Sauce",
         0.0
        ],
        [
         "Inlagd Sill",
         0.0
        ],
        [
         "Tunnbröd",
         0.0
        ],
        [
         "Spegesild",
         0.0
        ],
        [
         "Laughing Lumberjack Lager",
         0.0
        ],
        [
         "Röd Kaviar",
         0.0
        ],
        [
         "Rhönbräu Klosterbier",
         0.0
        ],
        [
         "Pavlova",
         0.0
        ],
        [
         "Tarte au sucre",
         0.0
        ],
        [
         "Louisiana Fiery Hot Pepper Sauce",
         0.0
        ],
        [
         "Flotemysost",
         0.0
        ],
        [
         "Pavlova",
         0.0
        ],
        [
         "Singaporean Hokkien Fried Mee",
         0.0
        ],
        [
         "Ipoh Coffee",
         0.0
        ],
        [
         "Tunnbröd",
         0.0
        ],
        [
         "Tofu",
         0.0
        ],
        [
         "Perth Pasties",
         0.0
        ],
        [
         "Escargots de Bourgogne",
         0.0
        ],
        [
         "Ikura",
         0.0
        ],
        [
         "Teatime Chocolate Biscuits",
         0.0
        ],
        [
         "Gula Malacca",
         0.0
        ],
        [
         "Queso Manchego La Pastora",
         0.0
        ],
        [
         "Geitost",
         0.0
        ],
        [
         "Jack's New England Clam Chowder",
         0.0
        ],
        [
         "Tourtière",
         0.0
        ],
        [
         "Raclette Courdavault",
         0.0
        ],
        [
         "Wimmers gute Semmelknödel",
         0.0
        ],
        [
         "Geitost",
         0.0
        ],
        [
         "Louisiana Hot Spiced Okra",
         0.0
        ],
        [
         "Rhönbräu Klosterbier",
         0.0
        ],
        [
         "Filo Mix",
         0.0
        ],
        [
         "Boston Crab Meat",
         0.0
        ],
        [
         "Zaanse koeken",
         0.0
        ],
        [
         "Camembert Pierrot",
         0.0
        ],
        [
         "Ikura",
         0.0
        ],
        [
         "Jack's New England Clam Chowder",
         0.0
        ],
        [
         "Zaanse koeken",
         0.0
        ],
        [
         "Gumbär Gummibärchen",
         0.0
        ],
        [
         "Thüringer Rostbratwurst",
         0.0
        ],
        [
         "Sasquatch Ale",
         0.0
        ],
        [
         "Chai",
         0.0
        ],
        [
         "Thüringer Rostbratwurst",
         0.0
        ],
        [
         "Ipoh Coffee",
         0.0
        ],
        [
         "Gula Malacca",
         0.0
        ],
        [
         "Tarte au sucre",
         0.0
        ],
        [
         "Vegie-spread",
         0.0
        ],
        [
         "Mishi Kobe Niku",
         0.0
        ],
        [
         "Uncle Bob's Organic Dried Pears",
         0.0
        ],
        [
         "Raclette Courdavault",
         0.0
        ],
        [
         "Outback Lager",
         0.0
        ],
        [
         "Northwoods Cranberry Sauce",
         0.0
        ],
        [
         "Queso Manchego La Pastora",
         0.0
        ],
        [
         "Guaraná Fantástica",
         0.0
        ],
        [
         "Alice Mutton",
         0.0
        ],
        [
         "Spegesild",
         0.0
        ],
        [
         "Queso Cabrales",
         0.0
        ],
        [
         "Zaanse koeken",
         0.0
        ],
        [
         "Aniseed Syrup",
         0.0
        ],
        [
         "Lakkalikööri",
         0.0
        ],
        [
         "Chang",
         0.0
        ],
        [
         "Raclette Courdavault",
         0.0
        ],
        [
         "Röd Kaviar",
         0.0
        ],
        [
         "Chef Anton's Cajun Seasoning",
         0.0
        ],
        [
         "Guaraná Fantástica",
         0.0
        ],
        [
         "Chocolade",
         0.0
        ],
        [
         "Gorgonzola Telino",
         0.0
        ],
        [
         "Mascarpone Fabioli",
         0.0
        ],
        [
         "Pavlova",
         0.0
        ],
        [
         "Ipoh Coffee",
         0.0
        ],
        [
         "Raclette Courdavault",
         0.0
        ],
        [
         "Pâté chinois",
         0.0
        ],
        [
         "Ravioli Angelo",
         0.0
        ],
        [
         "Chef Anton's Gumbo Mix",
         0.0
        ],
        [
         "Inlagd Sill",
         0.0
        ],
        [
         "Northwoods Cranberry Sauce",
         0.0
        ],
        [
         "Manjimup Dried Apples",
         0.0
        ],
        [
         "Camembert Pierrot",
         0.0
        ],
        [
         "Teatime Chocolate Biscuits",
         0.0
        ],
        [
         "Zaanse koeken",
         0.0
        ],
        [
         "Teatime Chocolate Biscuits",
         0.0
        ],
        [
         "Jack's New England Clam Chowder",
         0.0
        ],
        [
         "Perth Pasties",
         0.0
        ],
        [
         "Gnocchi di nonna Alice",
         0.0
        ],
        [
         "Ikura",
         0.0
        ],
        [
         "Gumbär Gummibärchen",
         0.0
        ],
        [
         "Rogede sild",
         0.0
        ],
        [
         "Spegesild",
         0.0
        ],
        [
         "Ikura",
         0.0
        ],
        [
         "Flotemysost",
         0.0
        ],
        [
         "Sir Rodney's Scones",
         0.0
        ],
        [
         "Manjimup Dried Apples",
         0.0
        ],
        [
         "Sirop d'érable",
         0.0
        ],
        [
         "Tourtière",
         0.0
        ],
        [
         "Queso Manchego La Pastora",
         0.0
        ],
        [
         "Pavlova",
         0.0
        ],
        [
         "Inlagd Sill",
         0.0
        ],
        [
         "Tarte au sucre",
         0.0
        ],
        [
         "Steeleye Stout",
         0.0
        ],
        [
         "Flotemysost",
         0.0
        ],
        [
         "Chang",
         0.0
        ],
        [
         "Gorgonzola Telino",
         0.0
        ],
        [
         "Scottish Longbreads",
         0.0
        ],
        [
         "Rhönbräu Klosterbier",
         0.0
        ],
        [
         "Gumbär Gummibärchen",
         0.0
        ],
        [
         "Ikura",
         0.0
        ],
        [
         "Sirop d'érable",
         0.0
        ],
        [
         "Jack's New England Clam Chowder",
         0.0
        ],
        [
         "Filo Mix",
         0.0
        ],
        [
         "Pâté chinois",
         0.0
        ],
        [
         "Chef Anton's Cajun Seasoning",
         0.0
        ],
        [
         "Queso Cabrales",
         0.0
        ],
        [
         "Nord-Ost Matjeshering",
         0.0
        ],
        [
         "Boston Crab Meat",
         0.0
        ],
        [
         "Pâté chinois",
         0.0
        ],
        [
         "Camembert Pierrot",
         0.0
        ],
        [
         "Chai",
         0.0
        ],
        [
         "Sir Rodney's Scones",
         0.0
        ],
        [
         "Valkoinen suklaa",
         0.0
        ],
        [
         "Lakkalikööri",
         0.0
        ],
        [
         "Tofu",
         0.0
        ],
        [
         "Rössle Sauerkraut",
         0.0
        ],
        [
         "Filo Mix",
         0.0
        ],
        [
         "Grandma's Boysenberry Spread",
         0.0
        ],
        [
         "Nord-Ost Matjeshering",
         0.0
        ],
        [
         "Lakkalikööri",
         0.0
        ],
        [
         "Louisiana Fiery Hot Pepper Sauce",
         0.0
        ],
        [
         "Rhönbräu Klosterbier",
         0.0
        ],
        [
         "Konbu",
         0.0
        ],
        [
         "Jack's New England Clam Chowder",
         0.0
        ],
        [
         "Pavlova",
         0.0
        ],
        [
         "Inlagd Sill",
         0.0
        ],
        [
         "Filo Mix",
         0.0
        ],
        [
         "Aniseed Syrup",
         0.0
        ],
        [
         "Camembert Pierrot",
         0.0
        ],
        [
         "Mozzarella di Giovanni",
         0.0
        ],
        [
         "Carnarvon Tigers",
         0.0
        ],
        [
         "Gula Malacca",
         0.0
        ],
        [
         "Raclette Courdavault",
         0.0
        ],
        [
         "Mozzarella di Giovanni",
         0.0
        ],
        [
         "Konbu",
         0.0
        ],
        [
         "Singaporean Hokkien Fried Mee",
         0.0
        ],
        [
         "Tarte au sucre",
         0.0
        ],
        [
         "Gudbrandsdalsost",
         0.0
        ],
        [
         "Gorgonzola Telino",
         0.0
        ],
        [
         "Jack's New England Clam Chowder",
         0.0
        ],
        [
         "Vegie-spread",
         0.0
        ],
        [
         "Gudbrandsdalsost",
         0.0
        ],
        [
         "Tunnbröd",
         0.0
        ],
        [
         "Boston Crab Meat",
         0.0
        ],
        [
         "Gnocchi di nonna Alice",
         0.0
        ],
        [
         "Gnocchi di nonna Alice",
         0.0
        ],
        [
         "Raclette Courdavault",
         0.0
        ],
        [
         "Lakkalikööri",
         0.0
        ],
        [
         "Nord-Ost Matjeshering",
         0.0
        ],
        [
         "Röd Kaviar",
         0.0
        ],
        [
         "Chai",
         0.0
        ],
        [
         "Gudbrandsdalsost",
         0.0
        ],
        [
         "Rogede sild",
         0.0
        ],
        [
         "Longlife Tofu",
         0.0
        ],
        [
         "Boston Crab Meat",
         0.0
        ],
        [
         "Sasquatch Ale",
         0.0
        ],
        [
         "Raclette Courdavault",
         0.0
        ],
        [
         "Tarte au sucre",
         0.0
        ],
        [
         "Wimmers gute Semmelknödel",
         0.0
        ],
        [
         "Gumbär Gummibärchen",
         0.0
        ],
        [
         "Filo Mix",
         0.0
        ],
        [
         "Outback Lager",
         0.0
        ],
        [
         "Mascarpone Fabioli",
         0.0
        ],
        [
         "Schoggi Schokolade",
         0.0
        ],
        [
         "Rhönbräu Klosterbier",
         0.0
        ],
        [
         "Chartreuse verte",
         0.0
        ],
        [
         "Zaanse koeken",
         0.0
        ],
        [
         "Manjimup Dried Apples",
         0.0
        ],
        [
         "Gnocchi di nonna Alice",
         0.0
        ],
        [
         "Sir Rodney's Scones",
         0.0
        ],
        [
         "Gustaf's Knäckebröd",
         0.0
        ],
        [
         "Guaraná Fantástica",
         0.0
        ],
        [
         "Chang",
         0.0
        ],
        [
         "Uncle Bob's Organic Dried Pears",
         0.0
        ],
        [
         "Scottish Longbreads",
         0.0
        ],
        [
         "Singaporean Hokkien Fried Mee",
         0.0
        ],
        [
         "Gustaf's Knäckebröd",
         0.0
        ],
        [
         "Gorgonzola Telino",
         0.0
        ],
        [
         "Camembert Pierrot",
         0.0
        ],
        [
         "Flotemysost",
         0.0
        ],
        [
         "Sirop d'érable",
         0.0
        ],
        [
         "Tarte au sucre",
         0.0
        ],
        [
         "Flotemysost",
         0.0
        ],
        [
         "Thüringer Rostbratwurst",
         0.0
        ],
        [
         "Raclette Courdavault",
         0.0
        ],
        [
         "Alice Mutton",
         0.0
        ],
        [
         "Louisiana Hot Spiced Okra",
         0.0
        ],
        [
         "Ikura",
         0.0
        ],
        [
         "Laughing Lumberjack Lager",
         0.0
        ],
        [
         "Jack's New England Clam Chowder",
         0.0
        ],
        [
         "Pavlova",
         0.0
        ],
        [
         "Tarte au sucre",
         0.0
        ],
        [
         "Outback Lager",
         0.0
        ],
        [
         "Original Frankfurter grüne Soße",
         0.0
        ],
        [
         "Longlife Tofu",
         0.0
        ],
        [
         "Gorgonzola Telino",
         0.0
        ],
        [
         "Gorgonzola Telino",
         0.0
        ],
        [
         "Côte de Blaye",
         0.0
        ],
        [
         "Inlagd Sill",
         0.0
        ],
        [
         "Ikura",
         0.0
        ],
        [
         "Rhönbräu Klosterbier",
         0.0
        ],
        [
         "Carnarvon Tigers",
         0.0
        ],
        [
         "Steeleye Stout",
         0.0
        ],
        [
         "Vegie-spread",
         0.0
        ],
        [
         "Scottish Longbreads",
         0.0
        ],
        [
         "Chang",
         0.0
        ],
        [
         "Tourtière",
         0.0
        ],
        [
         "Scottish Longbreads",
         0.0
        ],
        [
         "Jack's New England Clam Chowder",
         0.0
        ],
        [
         "Filo Mix",
         0.0
        ],
        [
         "Pavlova",
         0.0
        ],
        [
         "Gula Malacca",
         0.0
        ],
        [
         "Queso Cabrales",
         0.0
        ],
        [
         "Tarte au sucre",
         0.0
        ],
        [
         "Mozzarella di Giovanni",
         0.0
        ],
        [
         "Raclette Courdavault",
         0.0
        ],
        [
         "Ikura",
         0.0
        ],
        [
         "Rössle Sauerkraut",
         0.0
        ],
        [
         "Sasquatch Ale",
         0.0
        ],
        [
         "Côte de Blaye",
         0.0
        ],
        [
         "Louisiana Fiery Hot Pepper Sauce",
         0.0
        ],
        [
         "Boston Crab Meat",
         0.0
        ],
        [
         "Filo Mix",
         0.0
        ],
        [
         "Konbu",
         0.0
        ],
        [
         "NuNuCa Nuß-Nougat-Creme",
         0.0
        ],
        [
         "Outback Lager",
         0.0
        ],
        [
         "Teatime Chocolate Biscuits",
         0.0
        ],
        [
         "Tunnbröd",
         0.0
        ],
        [
         "Boston Crab Meat",
         0.0
        ],
        [
         "Original Frankfurter grüne Soße",
         0.0
        ],
        [
         "Spegesild",
         0.0
        ],
        [
         "Jack's New England Clam Chowder",
         0.0
        ],
        [
         "Geitost",
         0.0
        ],
        [
         "Côte de Blaye",
         0.0
        ],
        [
         "Mascarpone Fabioli",
         0.0
        ],
        [
         "Jack's New England Clam Chowder",
         0.0
        ],
        [
         "Ipoh Coffee",
         0.0
        ],
        [
         "Rhönbräu Klosterbier",
         0.0
        ],
        [
         "Gnocchi di nonna Alice",
         0.0
        ],
        [
         "Steeleye Stout",
         0.0
        ],
        [
         "Manjimup Dried Apples",
         0.0
        ],
        [
         "Tarte au sucre",
         0.0
        ],
        [
         "Outback Lager",
         0.0
        ],
        [
         "Ravioli Angelo",
         0.0
        ],
        [
         "Jack's New England Clam Chowder",
         0.0
        ],
        [
         "Outback Lager",
         0.0
        ],
        [
         "Gumbär Gummibärchen",
         0.0
        ],
        [
         "Perth Pasties",
         0.0
        ],
        [
         "Gorgonzola Telino",
         0.0
        ],
        [
         "Ravioli Angelo",
         0.0
        ],
        [
         "Ikura",
         0.0
        ],
        [
         "Chartreuse verte",
         0.0
        ],
        [
         "Sir Rodney's Marmalade",
         0.0
        ],
        [
         "Côte de Blaye",
         0.0
        ],
        [
         "Chang",
         0.0
        ],
        [
         "Northwoods Cranberry Sauce",
         0.0
        ],
        [
         "Konbu",
         0.0
        ],
        [
         "Camembert Pierrot",
         0.0
        ],
        [
         "Grandma's Boysenberry Spread",
         0.0
        ],
        [
         "Chartreuse verte",
         0.0
        ],
        [
         "Camembert Pierrot",
         0.0
        ],
        [
         "Scottish Longbreads",
         0.0
        ],
        [
         "Teatime Chocolate Biscuits",
         0.0
        ],
        [
         "Steeleye Stout",
         0.0
        ],
        [
         "Côte de Blaye",
         0.0
        ],
        [
         "Ipoh Coffee",
         0.0
        ],
        [
         "Wimmers gute Semmelknödel",
         0.0
        ],
        [
         "Raclette Courdavault",
         0.0
        ],
        [
         "Gustaf's Knäckebröd",
         0.0
        ],
        [
         "Steeleye Stout",
         0.0
        ],
        [
         "Ravioli Angelo",
         0.0
        ],
        [
         "Camembert Pierrot",
         0.0
        ],
        [
         "Wimmers gute Semmelknödel",
         0.0
        ],
        [
         "Konbu",
         0.0
        ],
        [
         "Boston Crab Meat",
         0.0
        ],
        [
         "Ikura",
         0.0
        ],
        [
         "Gnocchi di nonna Alice",
         0.0
        ],
        [
         "Raclette Courdavault",
         0.0
        ],
        [
         "Original Frankfurter grüne Soße",
         0.0
        ],
        [
         "Queso Cabrales",
         0.0
        ],
        [
         "Ipoh Coffee",
         0.0
        ],
        [
         "Scottish Longbreads",
         0.0
        ],
        [
         "Outback Lager",
         0.0
        ],
        [
         "Gustaf's Knäckebröd",
         0.0
        ],
        [
         "Wimmers gute Semmelknödel",
         0.0
        ],
        [
         "Chef Anton's Cajun Seasoning",
         0.0
        ],
        [
         "Outback Lager",
         0.0
        ],
        [
         "Longlife Tofu",
         0.0
        ],
        [
         "Chef Anton's Gumbo Mix",
         0.0
        ],
        [
         "Mishi Kobe Niku",
         0.0
        ],
        [
         "Aniseed Syrup",
         0.0
        ],
        [
         "Chang",
         0.0
        ],
        [
         "Alice Mutton",
         0.0
        ],
        [
         "Tarte au sucre",
         0.0
        ],
        [
         "Carnarvon Tigers",
         0.0
        ],
        [
         "Pavlova",
         0.0
        ],
        [
         "Gorgonzola Telino",
         0.0
        ],
        [
         "Gnocchi di nonna Alice",
         0.0
        ],
        [
         "Chang",
         0.0
        ],
        [
         "Singaporean Hokkien Fried Mee",
         0.0
        ],
        [
         "Aniseed Syrup",
         0.0
        ],
        [
         "Uncle Bob's Organic Dried Pears",
         0.0
        ],
        [
         "Schoggi Schokolade",
         0.0
        ],
        [
         "Outback Lager",
         0.0
        ],
        [
         "Manjimup Dried Apples",
         0.0
        ],
        [
         "Lakkalikööri",
         0.0
        ],
        [
         "Alice Mutton",
         0.0
        ],
        [
         "Carnarvon Tigers",
         0.0
        ],
        [
         "Sir Rodney's Scones",
         0.0
        ],
        [
         "Geitost",
         0.0
        ],
        [
         "Tarte au sucre",
         0.0
        ],
        [
         "Queso Cabrales",
         0.0
        ],
        [
         "Filo Mix",
         0.0
        ],
        [
         "Steeleye Stout",
         0.0
        ],
        [
         "Laughing Lumberjack Lager",
         0.0
        ],
        [
         "Perth Pasties",
         0.0
        ],
        [
         "Gumbär Gummibärchen",
         0.0
        ],
        [
         "Steeleye Stout",
         0.0
        ],
        [
         "Chai",
         0.0
        ],
        [
         "Queso Cabrales",
         0.0
        ],
        [
         "Tunnbröd",
         0.0
        ],
        [
         "Scottish Longbreads",
         0.0
        ],
        [
         "Steeleye Stout",
         0.0
        ],
        [
         "Manjimup Dried Apples",
         0.0
        ],
        [
         "Sir Rodney's Scones",
         0.0
        ],
        [
         "Rössle Sauerkraut",
         0.0
        ],
        [
         "Ikura",
         0.0
        ],
        [
         "Teatime Chocolate Biscuits",
         0.0
        ],
        [
         "Maxilaku",
         0.0
        ],
        [
         "Spegesild",
         0.0
        ],
        [
         "Wimmers gute Semmelknödel",
         0.0
        ],
        [
         "Carnarvon Tigers",
         0.0
        ],
        [
         "Boston Crab Meat",
         0.0
        ],
        [
         "Louisiana Fiery Hot Pepper Sauce",
         0.0
        ],
        [
         "Lakkalikööri",
         0.0
        ],
        [
         "Röd Kaviar",
         0.0
        ],
        [
         "Singaporean Hokkien Fried Mee",
         0.0
        ],
        [
         "Guaraná Fantástica",
         0.0
        ],
        [
         "Chang",
         0.0
        ],
        [
         "Guaraná Fantástica",
         0.0
        ],
        [
         "Outback Lager",
         0.0
        ],
        [
         "Original Frankfurter grüne Soße",
         0.0
        ],
        [
         "Ikura",
         0.0
        ],
        [
         "Gorgonzola Telino",
         0.0
        ],
        [
         "Original Frankfurter grüne Soße",
         0.0
        ],
        [
         "NuNuCa Nuß-Nougat-Creme",
         0.0
        ],
        [
         "Chang",
         0.0
        ],
        [
         "Scottish Longbreads",
         0.0
        ],
        [
         "Queso Cabrales",
         0.0
        ],
        [
         "Côte de Blaye",
         0.0
        ],
        [
         "Alice Mutton",
         0.0
        ],
        [
         "Sasquatch Ale",
         0.0
        ],
        [
         "Jack's New England Clam Chowder",
         0.0
        ],
        [
         "Northwoods Cranberry Sauce",
         0.0
        ],
        [
         "Guaraná Fantástica",
         0.0
        ],
        [
         "Thüringer Rostbratwurst",
         0.0
        ],
        [
         "Nord-Ost Matjeshering",
         0.0
        ],
        [
         "Inlagd Sill",
         0.0
        ],
        [
         "Guaraná Fantástica",
         0.0
        ],
        [
         "Chartreuse verte",
         0.0
        ],
        [
         "Boston Crab Meat",
         0.0
        ],
        [
         "Camembert Pierrot",
         0.0
        ],
        [
         "Rogede sild",
         0.0
        ],
        [
         "Gnocchi di nonna Alice",
         0.0
        ],
        [
         "Thüringer Rostbratwurst",
         0.0
        ],
        [
         "Nord-Ost Matjeshering",
         0.0
        ],
        [
         "Konbu",
         0.0
        ],
        [
         "Jack's New England Clam Chowder",
         0.0
        ],
        [
         "Flotemysost",
         0.0
        ],
        [
         "Konbu",
         0.0
        ],
        [
         "Louisiana Fiery Hot Pepper Sauce",
         0.0
        ],
        [
         "Scottish Longbreads",
         0.0
        ],
        [
         "Escargots de Bourgogne",
         0.0
        ],
        [
         "Tarte au sucre",
         0.0
        ],
        [
         "Sirop d'érable",
         0.0
        ],
        [
         "Rhönbräu Klosterbier",
         0.0
        ],
        [
         "Uncle Bob's Organic Dried Pears",
         0.0
        ],
        [
         "Pavlova",
         0.0
        ],
        [
         "Jack's New England Clam Chowder",
         0.0
        ],
        [
         "Teatime Chocolate Biscuits",
         0.0
        ],
        [
         "Maxilaku",
         0.0
        ],
        [
         "Sirop d'érable",
         0.0
        ],
        [
         "Chai",
         0.0
        ],
        [
         "Alice Mutton",
         0.0
        ],
        [
         "Laughing Lumberjack Lager",
         0.0
        ],
        [
         "Escargots de Bourgogne",
         0.0
        ],
        [
         "Flotemysost",
         0.0
        ],
        [
         "Alice Mutton",
         0.0
        ],
        [
         "Geitost",
         0.0
        ],
        [
         "Tourtière",
         0.0
        ],
        [
         "Pavlova",
         0.0
        ],
        [
         "Mascarpone Fabioli",
         0.0
        ],
        [
         "Ravioli Angelo",
         0.0
        ],
        [
         "Nord-Ost Matjeshering",
         0.0
        ],
        [
         "Camembert Pierrot",
         0.0
        ],
        [
         "Pavlova",
         0.0
        ],
        [
         "NuNuCa Nuß-Nougat-Creme",
         0.0
        ],
        [
         "Boston Crab Meat",
         0.0
        ],
        [
         "Valkoinen suklaa",
         0.0
        ],
        [
         "Steeleye Stout",
         0.0
        ],
        [
         "Vegie-spread",
         0.0
        ],
        [
         "Alice Mutton",
         0.0
        ],
        [
         "Guaraná Fantástica",
         0.0
        ],
        [
         "Rhönbräu Klosterbier",
         0.0
        ],
        [
         "Queso Cabrales",
         0.0
        ],
        [
         "Konbu",
         0.0
        ],
        [
         "Teatime Chocolate Biscuits",
         0.0
        ],
        [
         "Mozzarella di Giovanni",
         0.0
        ],
        [
         "Sir Rodney's Marmalade",
         0.0
        ],
        [
         "Filo Mix",
         0.0
        ],
        [
         "Lakkalikööri",
         0.0
        ],
        [
         "Zaanse koeken",
         0.0
        ],
        [
         "Lakkalikööri",
         0.0
        ],
        [
         "Sir Rodney's Scones",
         0.0
        ],
        [
         "Rhönbräu Klosterbier",
         0.0
        ],
        [
         "Original Frankfurter grüne Soße",
         0.0
        ],
        [
         "Sir Rodney's Scones",
         0.0
        ],
        [
         "Schoggi Schokolade",
         0.0
        ],
        [
         "Ravioli Angelo",
         0.0
        ],
        [
         "Mozzarella di Giovanni",
         0.0
        ],
        [
         "Perth Pasties",
         0.0
        ],
        [
         "Sirop d'érable",
         0.0
        ],
        [
         "Grandma's Boysenberry Spread",
         0.0
        ],
        [
         "Chai",
         0.0
        ],
        [
         "Rössle Sauerkraut",
         0.0
        ],
        [
         "Sasquatch Ale",
         0.0
        ],
        [
         "Uncle Bob's Organic Dried Pears",
         0.0
        ],
        [
         "Konbu",
         0.0
        ],
        [
         "Mozzarella di Giovanni",
         0.0
        ],
        [
         "Maxilaku",
         0.0
        ],
        [
         "Konbu",
         0.0
        ],
        [
         "Gustaf's Knäckebröd",
         0.0
        ],
        [
         "Spegesild",
         0.0
        ],
        [
         "Gnocchi di nonna Alice",
         0.0
        ],
        [
         "Konbu",
         0.0
        ],
        [
         "Gorgonzola Telino",
         0.0
        ],
        [
         "Ikura",
         0.0
        ],
        [
         "Guaraná Fantástica",
         0.0
        ],
        [
         "Original Frankfurter grüne Soße",
         0.0
        ],
        [
         "Raclette Courdavault",
         0.0
        ],
        [
         "Valkoinen suklaa",
         0.0
        ],
        [
         "Manjimup Dried Apples",
         0.0
        ],
        [
         "Pâté chinois",
         0.0
        ],
        [
         "Grandma's Boysenberry Spread",
         0.0
        ],
        [
         "Ikura",
         0.0
        ],
        [
         "Alice Mutton",
         0.0
        ],
        [
         "Tarte au sucre",
         0.0
        ],
        [
         "Chef Anton's Cajun Seasoning",
         0.0
        ],
        [
         "Rössle Sauerkraut",
         0.0
        ],
        [
         "Rogede sild",
         0.0
        ],
        [
         "Sir Rodney's Scones",
         0.0
        ],
        [
         "Zaanse koeken",
         0.0
        ],
        [
         "Manjimup Dried Apples",
         0.0
        ],
        [
         "Nord-Ost Matjeshering",
         0.0
        ],
        [
         "Steeleye Stout",
         0.0
        ],
        [
         "Wimmers gute Semmelknödel",
         0.0
        ],
        [
         "Chef Anton's Gumbo Mix",
         0.0
        ],
        [
         "Uncle Bob's Organic Dried Pears",
         0.0
        ],
        [
         "Mozzarella di Giovanni",
         0.0
        ],
        [
         "Jack's New England Clam Chowder",
         0.0
        ],
        [
         "Lakkalikööri",
         0.0
        ],
        [
         "Uncle Bob's Organic Dried Pears",
         0.0
        ],
        [
         "Konbu",
         0.0
        ],
        [
         "Perth Pasties",
         0.0
        ],
        [
         "Gudbrandsdalsost",
         0.0
        ],
        [
         "Lakkalikööri",
         0.0
        ],
        [
         "Carnarvon Tigers",
         0.0
        ],
        [
         "Côte de Blaye",
         0.0
        ],
        [
         "Gudbrandsdalsost",
         0.0
        ],
        [
         "Manjimup Dried Apples",
         0.0
        ],
        [
         "Gravad lax",
         0.0
        ],
        [
         "Teatime Chocolate Biscuits",
         0.0
        ],
        [
         "Maxilaku",
         0.0
        ],
        [
         "Queso Manchego La Pastora",
         0.0
        ],
        [
         "Guaraná Fantástica",
         0.0
        ],
        [
         "Wimmers gute Semmelknödel",
         0.0
        ],
        [
         "Spegesild",
         0.0
        ],
        [
         "Thüringer Rostbratwurst",
         0.0
        ],
        [
         "Alice Mutton",
         0.0
        ],
        [
         "Geitost",
         0.0
        ],
        [
         "Gumbär Gummibärchen",
         0.0
        ],
        [
         "Jack's New England Clam Chowder",
         0.0
        ],
        [
         "Rhönbräu Klosterbier",
         0.0
        ],
        [
         "Vegie-spread",
         0.0
        ],
        [
         "Northwoods Cranberry Sauce",
         0.0
        ],
        [
         "Rhönbräu Klosterbier",
         0.0
        ],
        [
         "Rössle Sauerkraut",
         0.0
        ],
        [
         "Chartreuse verte",
         0.0
        ],
        [
         "Zaanse koeken",
         0.0
        ],
        [
         "Manjimup Dried Apples",
         0.0
        ],
        [
         "Vegie-spread",
         0.0
        ],
        [
         "Boston Crab Meat",
         0.0
        ],
        [
         "Uncle Bob's Organic Dried Pears",
         0.0
        ],
        [
         "Queso Manchego La Pastora",
         0.0
        ],
        [
         "Guaraná Fantástica",
         0.0
        ],
        [
         "Schoggi Schokolade",
         0.0
        ],
        [
         "Gorgonzola Telino",
         0.0
        ],
        [
         "Vegie-spread",
         0.0
        ],
        [
         "Côte de Blaye",
         0.0
        ],
        [
         "Uncle Bob's Organic Dried Pears",
         0.0
        ],
        [
         "Ipoh Coffee",
         0.0
        ],
        [
         "Ravioli Angelo",
         0.0
        ],
        [
         "Pavlova",
         0.0
        ],
        [
         "Guaraná Fantástica",
         0.0
        ],
        [
         "Inlagd Sill",
         0.0
        ],
        [
         "Queso Cabrales",
         0.0
        ],
        [
         "Sir Rodney's Marmalade",
         0.0
        ],
        [
         "Lakkalikööri",
         0.0
        ],
        [
         "Original Frankfurter grüne Soße",
         0.0
        ],
        [
         "Uncle Bob's Organic Dried Pears",
         0.0
        ],
        [
         "Ipoh Coffee",
         0.0
        ],
        [
         "Mozzarella di Giovanni",
         0.0
        ],
        [
         "Uncle Bob's Organic Dried Pears",
         0.0
        ],
        [
         "Grandma's Boysenberry Spread",
         0.0
        ],
        [
         "Queso Cabrales",
         0.0
        ],
        [
         "Jack's New England Clam Chowder",
         0.0
        ],
        [
         "Sir Rodney's Scones",
         0.0
        ],
        [
         "Mozzarella di Giovanni",
         0.0
        ],
        [
         "Manjimup Dried Apples",
         0.0
        ],
        [
         "Camembert Pierrot",
         0.0
        ],
        [
         "Singaporean Hokkien Fried Mee",
         0.0
        ],
        [
         "Mascarpone Fabioli",
         0.0
        ],
        [
         "Guaraná Fantástica",
         0.0
        ],
        [
         "Sirop d'érable",
         0.0
        ],
        [
         "Longlife Tofu",
         0.0
        ],
        [
         "Rhönbräu Klosterbier",
         0.0
        ],
        [
         "Original Frankfurter grüne Soße",
         0.0
        ],
        [
         "Uncle Bob's Organic Dried Pears",
         0.0
        ],
        [
         "Gustaf's Knäckebröd",
         0.0
        ],
        [
         "Spegesild",
         0.0
        ],
        [
         "Pâté chinois",
         0.0
        ],
        [
         "Konbu",
         0.0
        ],
        [
         "Pâté chinois",
         0.0
        ],
        [
         "Chai",
         0.0
        ],
        [
         "Boston Crab Meat",
         0.0
        ],
        [
         "Filo Mix",
         0.0
        ],
        [
         "Gumbär Gummibärchen",
         0.0
        ],
        [
         "Lakkalikööri",
         0.0
        ],
        [
         "Chai",
         0.0
        ],
        [
         "Raclette Courdavault",
         0.0
        ],
        [
         "Chai",
         0.0
        ],
        [
         "Northwoods Cranberry Sauce",
         0.0
        ],
        [
         "Thüringer Rostbratwurst",
         0.0
        ],
        [
         "Singaporean Hokkien Fried Mee",
         0.0
        ],
        [
         "Flotemysost",
         0.0
        ],
        [
         "Guaraná Fantástica",
         0.0
        ],
        [
         "Camembert Pierrot",
         0.0
        ],
        [
         "Uncle Bob's Organic Dried Pears",
         0.0
        ],
        [
         "Guaraná Fantástica",
         0.0
        ],
        [
         "Flotemysost",
         0.0
        ],
        [
         "Tunnbröd",
         0.0
        ],
        [
         "Singaporean Hokkien Fried Mee",
         0.0
        ],
        [
         "Rogede sild",
         0.0
        ],
        [
         "Scottish Longbreads",
         0.0
        ],
        [
         "Nord-Ost Matjeshering",
         0.0
        ],
        [
         "Original Frankfurter grüne Soße",
         0.0
        ],
        [
         "Gorgonzola Telino",
         0.0
        ],
        [
         "Inlagd Sill",
         0.0
        ],
        [
         "Aniseed Syrup",
         0.0
        ],
        [
         "Raclette Courdavault",
         0.0
        ],
        [
         "Outback Lager",
         0.0
        ],
        [
         "Queso Manchego La Pastora",
         0.0
        ],
        [
         "Carnarvon Tigers",
         0.0
        ],
        [
         "Gnocchi di nonna Alice",
         0.0
        ],
        [
         "Spegesild",
         0.0
        ],
        [
         "Maxilaku",
         0.0
        ],
        [
         "Sir Rodney's Marmalade",
         0.0
        ],
        [
         "Gumbär Gummibärchen",
         0.0
        ],
        [
         "Mozzarella di Giovanni",
         0.0
        ],
        [
         "Teatime Chocolate Biscuits",
         0.0
        ],
        [
         "Gudbrandsdalsost",
         0.0
        ],
        [
         "Uncle Bob's Organic Dried Pears",
         0.0
        ],
        [
         "Ipoh Coffee",
         0.0
        ],
        [
         "Gumbär Gummibärchen",
         0.0
        ],
        [
         "Geitost",
         0.0
        ],
        [
         "Louisiana Fiery Hot Pepper Sauce",
         0.0
        ],
        [
         "Flotemysost",
         0.0
        ],
        [
         "Carnarvon Tigers",
         0.0
        ],
        [
         "Manjimup Dried Apples",
         0.0
        ],
        [
         "Pâté chinois",
         0.0
        ],
        [
         "Raclette Courdavault",
         0.0
        ],
        [
         "Gnocchi di nonna Alice",
         0.0
        ],
        [
         "Vegie-spread",
         0.0
        ],
        [
         "Chef Anton's Gumbo Mix",
         0.0
        ],
        [
         "Chai",
         0.0
        ],
        [
         "Konbu",
         0.0
        ],
        [
         "Guaraná Fantástica",
         0.0
        ],
        [
         "Wimmers gute Semmelknödel",
         0.0
        ],
        [
         "Flotemysost",
         0.0
        ],
        [
         "Inlagd Sill",
         0.0
        ],
        [
         "Côte de Blaye",
         0.0
        ],
        [
         "Raclette Courdavault",
         0.0
        ],
        [
         "Gula Malacca",
         0.0
        ],
        [
         "Sirop d'érable",
         0.0
        ],
        [
         "Chai",
         0.0
        ],
        [
         "Steeleye Stout",
         0.0
        ],
        [
         "Singaporean Hokkien Fried Mee",
         0.0
        ],
        [
         "Tourtière",
         0.0
        ],
        [
         "Konbu",
         0.0
        ],
        [
         "Raclette Courdavault",
         0.0
        ],
        [
         "Outback Lager",
         0.0
        ],
        [
         "Filo Mix",
         0.0
        ],
        [
         "Flotemysost",
         0.0
        ],
        [
         "Rössle Sauerkraut",
         0.0
        ],
        [
         "Steeleye Stout",
         0.0
        ],
        [
         "Maxilaku",
         0.0
        ],
        [
         "Ravioli Angelo",
         0.0
        ],
        [
         "Sir Rodney's Scones",
         0.0
        ],
        [
         "Vegie-spread",
         0.0
        ],
        [
         "Gula Malacca",
         0.0
        ],
        [
         "Sirop d'érable",
         0.0
        ],
        [
         "Queso Cabrales",
         0.0
        ],
        [
         "Tarte au sucre",
         0.0
        ],
        [
         "Geitost",
         0.0
        ],
        [
         "Manjimup Dried Apples",
         0.0
        ],
        [
         "Scottish Longbreads",
         0.0
        ],
        [
         "Mascarpone Fabioli",
         0.0
        ],
        [
         "Geitost",
         0.0
        ],
        [
         "Laughing Lumberjack Lager",
         0.0
        ],
        [
         "Guaraná Fantástica",
         0.0
        ],
        [
         "NuNuCa Nuß-Nougat-Creme",
         0.0
        ],
        [
         "Manjimup Dried Apples",
         0.0
        ],
        [
         "Ravioli Angelo",
         0.0
        ],
        [
         "Uncle Bob's Organic Dried Pears",
         0.0
        ],
        [
         "Pâté chinois",
         0.0
        ],
        [
         "Camembert Pierrot",
         0.0
        ],
        [
         "Outback Lager",
         0.0
        ],
        [
         "Sir Rodney's Scones",
         0.0
        ],
        [
         "Camembert Pierrot",
         0.0
        ],
        [
         "Sirop d'érable",
         0.0
        ],
        [
         "Konbu",
         0.0
        ],
        [
         "Alice Mutton",
         0.0
        ],
        [
         "Camembert Pierrot",
         0.0
        ],
        [
         "Camembert Pierrot",
         0.0
        ],
        [
         "Original Frankfurter grüne Soße",
         0.0
        ],
        [
         "Camembert Pierrot",
         0.0
        ],
        [
         "Sasquatch Ale",
         0.0
        ],
        [
         "Jack's New England Clam Chowder",
         0.0
        ],
        [
         "Scottish Longbreads",
         0.0
        ],
        [
         "Pavlova",
         0.0
        ],
        [
         "Teatime Chocolate Biscuits",
         0.0
        ],
        [
         "Sasquatch Ale",
         0.0
        ],
        [
         "Jack's New England Clam Chowder",
         0.0
        ],
        [
         "Chartreuse verte",
         0.0
        ],
        [
         "Gorgonzola Telino",
         0.0
        ],
        [
         "Chang",
         0.0
        ],
        [
         "Jack's New England Clam Chowder",
         0.0
        ],
        [
         "Valkoinen suklaa",
         0.0
        ],
        [
         "Wimmers gute Semmelknödel",
         0.0
        ],
        [
         "Queso Cabrales",
         0.0
        ],
        [
         "Guaraná Fantástica",
         0.0
        ],
        [
         "Aniseed Syrup",
         0.0
        ],
        [
         "Chef Anton's Cajun Seasoning",
         0.0
        ],
        [
         "Ikura",
         0.0
        ],
        [
         "Konbu",
         0.0
        ],
        [
         "Tunnbröd",
         0.0
        ],
        [
         "Mascarpone Fabioli",
         0.0
        ],
        [
         "Jack's New England Clam Chowder",
         0.0
        ],
        [
         "Filo Mix",
         0.0
        ],
        [
         "Pâté chinois",
         0.0
        ],
        [
         "Louisiana Hot Spiced Okra",
         0.0
        ],
        [
         "Rhönbräu Klosterbier",
         0.0
        ],
        [
         "Original Frankfurter grüne Soße",
         0.0
        ]
       ],
       "datasetInfos": [],
       "dbfsResultPath": null,
       "isJsonSchema": true,
       "metadata": {},
       "overflow": false,
       "plotOptions": {
        "customPlotOptions": {},
        "displayType": "table",
        "pivotAggregation": null,
        "pivotColumns": null,
        "xColumns": null,
        "yColumns": null
       },
       "removedWidgets": [],
       "schema": [
        {
         "metadata": "{}",
         "name": "ProductName",
         "type": "\"string\""
        },
        {
         "metadata": "{}",
         "name": "Discount",
         "type": "\"double\""
        }
       ],
       "type": "table"
      }
     },
     "output_type": "display_data"
    }
   ],
   "source": [
    "%sql\n",
    "-- List the most heavily discounted products in descending order\n",
    "\n",
    "select ProductName, Discount from products as p\n",
    "join order_details as o on o.ProductId=p.ProductId\n",
    "order by 2 DESC"
   ]
  },
  {
   "cell_type": "code",
   "execution_count": 0,
   "metadata": {
    "application/vnd.databricks.v1+cell": {
     "cellMetadata": {},
     "inputWidgets": {},
     "nuid": "bee622b9-b3fa-4413-8047-1f9e16c62f69",
     "showTitle": false,
     "title": ""
    }
   },
   "outputs": [],
   "source": []
  }
 ],
 "metadata": {
  "application/vnd.databricks.v1+notebook": {
   "dashboards": [],
   "language": "python",
   "notebookMetadata": {
    "mostRecentlyExecutedCommandWithImplicitDF": {
     "commandId": 4220469635683137,
     "dataframes": [
      "_sqldf"
     ]
    },
    "pythonIndentUnit": 2
   },
   "notebookName": "Northwind_Group_Project_Group_3",
   "widgets": {}
  }
 },
 "nbformat": 4,
 "nbformat_minor": 0
}
